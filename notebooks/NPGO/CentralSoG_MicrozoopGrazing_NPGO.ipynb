{
 "cells": [
  {
   "cell_type": "code",
   "execution_count": 1,
   "metadata": {},
   "outputs": [],
   "source": [
    "import numpy as np\n",
    "import xarray as xr\n",
    "import pandas as pd\n",
    "from salishsea_tools import viz_tools, places, visualisations\n",
    "from matplotlib import pyplot as plt, dates\n",
    "from datetime import datetime, timedelta\n",
    "from calendar import month_name\n",
    "from scipy.io import loadmat\n",
    "from tqdm.notebook import tqdm\n",
    "from salishsea_tools import nc_tools\n",
    "from dask.diagnostics import ProgressBar\n",
    "import cmocean\n",
    "\n",
    "%matplotlib inline"
   ]
  },
  {
   "cell_type": "code",
   "execution_count": 2,
   "metadata": {},
   "outputs": [
    {
     "data": {
      "text/html": [
       "<script>\n",
       "code_show=true; \n",
       "function code_toggle() {\n",
       " if (code_show){\n",
       " $('div.input').hide();\n",
       " } else {\n",
       " $('div.input').show();\n",
       " }\n",
       " code_show = !code_show\n",
       "} \n",
       "$( document ).ready(code_toggle);\n",
       "</script>\n",
       "\n",
       "<form action=\"javascript:code_toggle()\"><input type=\"submit\" value=\"Click here to toggle on/off the raw code.\"></form>"
      ],
      "text/plain": [
       "<IPython.core.display.HTML object>"
      ]
     },
     "execution_count": 2,
     "metadata": {},
     "output_type": "execute_result"
    }
   ],
   "source": [
    "from IPython.display import HTML\n",
    "\n",
    "HTML('''<script>\n",
    "code_show=true; \n",
    "function code_toggle() {\n",
    " if (code_show){\n",
    " $('div.input').hide();\n",
    " } else {\n",
    " $('div.input').show();\n",
    " }\n",
    " code_show = !code_show\n",
    "} \n",
    "$( document ).ready(code_toggle);\n",
    "</script>\n",
    "\n",
    "<form action=\"javascript:code_toggle()\"><input type=\"submit\" value=\"Click here to toggle on/off the raw code.\"></form>''')"
   ]
  },
  {
   "cell_type": "code",
   "execution_count": 3,
   "metadata": {},
   "outputs": [],
   "source": [
    "plt.rcParams.update({'font.size': 12, 'axes.titlesize': 'medium'})"
   ]
  },
  {
   "cell_type": "markdown",
   "metadata": {},
   "source": [
    "##### Load files from monthly averages"
   ]
  },
  {
   "cell_type": "code",
   "execution_count": null,
   "metadata": {},
   "outputs": [
    {
     "data": {
      "application/vnd.jupyter.widget-view+json": {
       "model_id": "5f007fc29b6b40189c458eabd1fb032b",
       "version_major": 2,
       "version_minor": 0
      },
      "text/plain": [
       "HBox(children=(HTML(value=''), FloatProgress(value=0.0, max=14.0), HTML(value='')))"
      ]
     },
     "metadata": {},
     "output_type": "display_data"
    }
   ],
   "source": [
    "# Load monthly averages\n",
    "mask = xr.open_dataset('/data/eolson/results/MEOPAR/NEMO-forcing-new/grid/mesh_mask201702.nc')\n",
    "slc = {'y': slice(450,500), 'x': slice(250,300)} \n",
    "e3t, tmask = [mask[var].isel(z=slice(None, 27),**slc).values for var in ('e3t_0', 'tmask')]\n",
    "years, variables = range(2007, 2021), ['GRMICZDIAT', 'GRMICZMRUB', 'GRMICZPHY', 'GRMICZPON', 'GRMICZMICZ']\n",
    "\n",
    "# Temporary list dict\n",
    "data = {}\n",
    "\n",
    "# Permanent aggregate dict\n",
    "aggregates = {var: {} for var in variables}\n",
    "\n",
    "# Loop through years\n",
    "for year in tqdm(years):\n",
    "    \n",
    "    # Initialize lists\n",
    "    for var in variables: data[var] = []\n",
    "    \n",
    "    # Load monthly averages\n",
    "    for month in range(1, 13):\n",
    "        datestr = f'{year}{month:02d}'\n",
    "        prefix = f'/results/SalishSea/month-avg.201905/SalishSea_1m_{datestr}_{datestr}'\n",
    "        \n",
    "        \n",
    "        # Load grazing variables\n",
    "        with xr.open_dataset(prefix + '_dia2_T.nc') as ds:\n",
    "            for var in ['GRMICZDIAT', 'GRMICZMRUB', 'GRMICZPHY', 'GRMICZPON', 'GRMICZMICZ']:\n",
    "                data[var].append(np.ma.masked_where(tmask == 0,\\\n",
    "                            ds[var].isel(deptht=slice(None, 27), **slc).values * e3t).sum(axis=1).data)\n",
    "    \n",
    "    # Concatenate months\n",
    "    for var in variables: aggregates[var][year] = np.concatenate(data[var]).mean(axis=0)\n",
    "   \n",
    "# Add total grazing fields\n",
    "aggregates['TotalGrazing'] = {}\n",
    "variables.append('TotalGrazing')\n",
    "for year in years:\n",
    "    aggregates['TotalGrazing'][year] = sum(aggregates[var][year] for var in ['GRMICZDIAT', 'GRMICZMRUB', 'GRMICZPHY', 'GRMICZPON', 'GRMICZMICZ'])\n",
    "\n",
    "# Calculate 5 year mean and anomalies\n",
    "for var in variables:\n",
    "    aggregates[var]['mean'] = np.concatenate([aggregates[var][year][None, ...] for year in years]).mean(axis=0)\n",
    "    for year in years: aggregates[var][year] = aggregates[var][year] - aggregates[var]['mean']"
   ]
  },
  {
   "cell_type": "code",
   "execution_count": null,
   "metadata": {},
   "outputs": [],
   "source": [
    "print(np.shape(aggregates['TotalGrazing'][2015][:]))"
   ]
  },
  {
   "cell_type": "code",
   "execution_count": null,
   "metadata": {},
   "outputs": [],
   "source": [
    "# Reset variables for plotting\n",
    "tmask = tmask[0, 0, ...]\n",
    "variables = ['TotalGrazing']"
   ]
  },
  {
   "cell_type": "code",
   "execution_count": null,
   "metadata": {},
   "outputs": [],
   "source": [
    "##### with pcolormesh: no smoothing\n",
    "cmap0=cmocean.cm.balance\n",
    "cmap0.set_bad('tan')\n",
    "vmin=0\n",
    "vmax=150\n",
    "cmap1=cmocean.cm.thermal_r\n",
    "cmap1.set_bad('tan')\n",
    "il=0\n",
    "\n",
    "fig,ax=plt.subplots(1,1,figsize=(10,7))\n",
    "#fig.suptitle('Annual Anomalies Mesozoop Feeding on flag', fontsize=16)\n",
    "m0=ax.pcolormesh(np.ma.masked_where(tmask==0,((aggregates['TotalGrazing']['mean']*86400))),cmap=cmap1,vmin=vmin,vmax=vmax)\n",
    "viz_tools.set_aspect(ax,coords='grid')\n",
    "ax.set_title('Annual Microzooplankton Grazing')\n",
    "fig.colorbar(m0,ax=ax,label='()')\n",
    "\n",
    "\n"
   ]
  },
  {
   "cell_type": "code",
   "execution_count": null,
   "metadata": {},
   "outputs": [],
   "source": [
    "##### with pcolormesh: no smoothing\n",
    "cmap0=cmocean.cm.balance\n",
    "cmap0.set_bad('tan')\n",
    "\n",
    "#cmap1=cmocean.cm.haline\n",
    "#cmap1.set_bad('k')\n",
    "il=0\n",
    "vmin=-5\n",
    "vmax=5\n",
    "\n",
    "fig,ax=plt.subplots(2,7,figsize=(15,9))\n",
    "fig.suptitle('Annual Anomalies in Salish Sea Microzooplankton Grazing', fontsize=18)\n",
    "\n",
    "\n",
    "m0=ax[0,0].pcolormesh(np.ma.masked_where(tmask==0,((aggregates['TotalGrazing'][2007]*86400))),cmap=cmap0,vmin=vmin,vmax=vmax)\n",
    "viz_tools.set_aspect(ax[0,0],coords='grid')\n",
    "ax[0,0].set_title('2007')\n",
    "ax[0,0].yaxis.set_visible(False)\n",
    "ax[0,0].xaxis.set_visible(False)\n",
    "ax[0,0].yaxis.set_visible(False)\n",
    "#fig.colorbar(m0,ax=ax[1])\n",
    "\n",
    "m0=ax[0,1].pcolormesh(np.ma.masked_where(tmask==0,((aggregates['TotalGrazing'][2008]*86400))),cmap=cmap0,vmin=vmin,vmax=vmax)\n",
    "viz_tools.set_aspect(ax[0,1],coords='grid')\n",
    "ax[0,1].set_title('2008')\n",
    "ax[0,1].yaxis.set_visible(False)\n",
    "ax[0,1].xaxis.set_visible(False)\n",
    "ax[0,1].yaxis.set_visible(False)\n",
    "#fig.colorbar(m0,ax=ax[2])\n",
    "\n",
    "m0=ax[0,2].pcolormesh(np.ma.masked_where(tmask==0,((aggregates['TotalGrazing'][2009]*86400))),cmap=cmap0,vmin=vmin,vmax=vmax)\n",
    "viz_tools.set_aspect(ax[0,2],coords='grid')\n",
    "ax[0,2].set_title('2009')\n",
    "ax[0,2].yaxis.set_visible(False)\n",
    "ax[0,2].xaxis.set_visible(False)\n",
    "ax[0,2].yaxis.set_visible(False)\n",
    "#fig.colorbar(m0,ax=ax[3])\n",
    "\n",
    "m0=ax[0,3].pcolormesh(np.ma.masked_where(tmask==0,((aggregates['TotalGrazing'][2010]*86400))),cmap=cmap0,vmin=vmin,vmax=vmax)\n",
    "viz_tools.set_aspect(ax[0,3],coords='grid')\n",
    "ax[0,3].set_title('2010')\n",
    "ax[0,3].yaxis.set_visible(False)\n",
    "ax[0,3].xaxis.set_visible(False)\n",
    "ax[0,3].yaxis.set_visible(False)\n",
    "#fig.colorbar(m0,ax=ax[4])\n",
    "\n",
    "m0=ax[0,4].pcolormesh(np.ma.masked_where(tmask==0,((aggregates['TotalGrazing'][2011]*86400))),cmap=cmap0,vmin=vmin,vmax=vmax)\n",
    "viz_tools.set_aspect(ax[0,4],coords='grid')\n",
    "ax[0,4].set_title('2011')\n",
    "ax[0,4].yaxis.set_visible(False)\n",
    "ax[0,4].xaxis.set_visible(False)\n",
    "ax[0,4].yaxis.set_visible(False)\n",
    "\n",
    "m0=ax[0,5].pcolormesh(np.ma.masked_where(tmask==0,((aggregates['TotalGrazing'][2012]*86400))),cmap=cmap0,vmin=vmin,vmax=vmax)\n",
    "viz_tools.set_aspect(ax[0,5],coords='grid')\n",
    "ax[0,5].set_title('2012')\n",
    "ax[0,5].yaxis.set_visible(False)\n",
    "ax[0,5].xaxis.set_visible(False)\n",
    "ax[0,5].yaxis.set_visible(False)\n",
    "\n",
    "m0=ax[0,6].pcolormesh(np.ma.masked_where(tmask==0,((aggregates['TotalGrazing'][2013]*86400))),cmap=cmap0,vmin=vmin,vmax=vmax)\n",
    "viz_tools.set_aspect(ax[0,6],coords='grid')\n",
    "ax[0,6].set_title('2013')\n",
    "ax[0,6].yaxis.set_visible(False)\n",
    "ax[0,6].xaxis.set_visible(False)\n",
    "ax[0,6].yaxis.set_visible(False)\n",
    "\n",
    "m0=ax[1,0].pcolormesh(np.ma.masked_where(tmask==0,((aggregates['TotalGrazing'][2014]*86400))),cmap=cmap0,vmin=vmin,vmax=vmax)\n",
    "viz_tools.set_aspect(ax[1,0],coords='grid')\n",
    "ax[1,0].set_title('2014')\n",
    "ax[1,0].yaxis.set_visible(False)\n",
    "ax[1,0].xaxis.set_visible(False)\n",
    "ax[1,0].yaxis.set_visible(False)\n",
    "\n",
    "m0=ax[1,1].pcolormesh(np.ma.masked_where(tmask==0,((aggregates['TotalGrazing'][2015]*86400))),cmap=cmap0,vmin=vmin,vmax=vmax)\n",
    "viz_tools.set_aspect(ax[1,1],coords='grid')\n",
    "ax[1,1].set_title('2015')\n",
    "ax[1,1].yaxis.set_visible(False)\n",
    "ax[1,1].xaxis.set_visible(False)\n",
    "ax[1,1].yaxis.set_visible(False)\n",
    "\n",
    "m0=ax[1,2].pcolormesh(np.ma.masked_where(tmask==0,((aggregates['TotalGrazing'][2016]*86400))),cmap=cmap0,vmin=vmin,vmax=vmax)\n",
    "viz_tools.set_aspect(ax[1,2],coords='grid')\n",
    "ax[1,2].set_title('2016')\n",
    "ax[1,2].yaxis.set_visible(False)\n",
    "ax[1,2].xaxis.set_visible(False)\n",
    "ax[1,2].yaxis.set_visible(False)\n",
    "\n",
    "m0=ax[1,3].pcolormesh(np.ma.masked_where(tmask==0,((aggregates['TotalGrazing'][2017]*86400))),cmap=cmap0,vmin=vmin,vmax=vmax)\n",
    "viz_tools.set_aspect(ax[1,3],coords='grid')\n",
    "ax[1,3].set_title('2017')\n",
    "ax[1,3].yaxis.set_visible(False)\n",
    "ax[1,3].xaxis.set_visible(False)\n",
    "ax[1,3].yaxis.set_visible(False)\n",
    "\n",
    "m0=ax[1,4].pcolormesh(np.ma.masked_where(tmask==0,((aggregates['TotalGrazing'][2018]*86400))),cmap=cmap0,vmin=vmin,vmax=vmax)\n",
    "viz_tools.set_aspect(ax[1,4],coords='grid')\n",
    "ax[1,4].set_title('2018')\n",
    "ax[1,4].yaxis.set_visible(False)\n",
    "ax[1,4].xaxis.set_visible(False)\n",
    "ax[1,4].yaxis.set_visible(False)\n",
    "\n",
    "m0=ax[1,5].pcolormesh(np.ma.masked_where(tmask==0,((aggregates['TotalGrazing'][2019]*86400))),cmap=cmap0,vmin=vmin,vmax=vmax)\n",
    "viz_tools.set_aspect(ax[1,5],coords='grid')\n",
    "ax[1,5].set_title('2019')\n",
    "ax[1,5].yaxis.set_visible(False)\n",
    "ax[1,5].xaxis.set_visible(False)\n",
    "ax[1,5].yaxis.set_visible(False)\n",
    "\n",
    "m0=ax[1,6].pcolormesh(np.ma.masked_where(tmask==0,((aggregates['TotalGrazing'][2020]*86400))),cmap=cmap0,vmin=vmin,vmax=vmax)\n",
    "viz_tools.set_aspect(ax[1,6],coords='grid')\n",
    "ax[1,6].set_title('2020')\n",
    "ax[1,6].yaxis.set_visible(False)\n",
    "ax[1,6].xaxis.set_visible(False)\n",
    "ax[1,6].yaxis.set_visible(False)\n",
    "\n",
    "fig.colorbar(m0,ax=ax,label='\\u03bcmol N d-1')\n",
    "\n"
   ]
  },
  {
   "cell_type": "code",
   "execution_count": null,
   "metadata": {},
   "outputs": [],
   "source": [
    "\n",
    "#years, months, data\n",
    "monthly_array_diatoms_depthint_slice = np.zeros([14,12,50,50])\n",
    "# Load monthly averages\n",
    "mask = xr.open_dataset('/data/eolson/results/MEOPAR/NEMO-forcing-new/grid/mesh_mask201702.nc')\n",
    "slc = {'y': slice(450,500), 'x': slice(250,300)}\n",
    "e3t, tmask = [mask[var].isel(z=slice(None, 27),**slc).values for var in ('e3t_0', 'tmask')]\n",
    "years, variables = range(2007, 2021), ['GRMICZDIAT']\n",
    "# Temporary list dict\n",
    "data = {}\n",
    "# Permanent aggregate dict\n",
    "aggregates = {var: {} for var in variables}\n",
    "monthlydat = {var: {} for var in variables}\n",
    "# Loop through years\n",
    "for year in [2007,2008,2009,2010,2011,2012,2013,2014,2015, 2016, 2017, 2018, 2019,2020]:\n",
    "    # Initialize lists\n",
    "    for var in variables: data[var] = []\n",
    "    # Load monthly averages\n",
    "    for month in range(1, 13):\n",
    "        datestr = f'{year}{month:02d}'\n",
    "        prefix = f'/results/SalishSea/month-avg.201905/SalishSea_1m_{datestr}_{datestr}'\n",
    "        # Load grazing variables\n",
    "        with xr.open_dataset(prefix + '_dia2_T.nc') as ds:\n",
    "            q = np.ma.masked_where(tmask == 0, ds[var].isel(deptht=slice(None, 27), **slc).values * e3t).sum(axis=1).data\n",
    "            q2 = q[0,:,:]\n",
    "            monthly_array_diatoms_depthint_slice[year-2007,month-1,:,:] = q2 #year2015 is index 0 along 1st dimension\n",
    "            for var in ['GRMICZDIAT']:\n",
    "                data[var].append(np.ma.masked_where(tmask == 0, ds[var].isel(deptht=slice(None, 27), **slc).values * e3t).sum(axis=1).data)\n",
    "    # Concatenate months\n",
    "    for var in variables: aggregates[var][year] = np.concatenate(data[var]).mean(axis=0)\n",
    "# # Calculate 5 year mean and anomalies\n",
    "# for var in variables:\n",
    "#     aggregates[var][‘mean’] = np.concatenate([aggregates[var][year][None, ...] for year in years]).mean(axis=0)\n",
    "#     for year in years: aggregates[var][year] = aggregates[var][year] - aggregates[var][‘mean’]\n",
    "\n",
    "\n",
    "\n"
   ]
  },
  {
   "cell_type": "code",
   "execution_count": null,
   "metadata": {},
   "outputs": [],
   "source": [
    "monthly_array_diatoms_depthint_slice[monthly_array_diatoms_depthint_slice == 0 ] = np.nan\n",
    "monthly_array_diatoms_depthint_slicemean = \\\n",
    "np.nanmean(np.nanmean(monthly_array_diatoms_depthint_slice, axis = 2),axis = 2)\n",
    "print(np.shape(monthly_array_diatoms_depthint_slicemean))\n",
    "\n",
    "\n",
    "#plot monthly means for 5 years\n",
    "fig, ax = plt.subplots(figsize=(15, 6))\n",
    "bbox = {'boxstyle': 'round', 'facecolor': 'w', 'alpha': 0.9}\n",
    "cmap = plt.get_cmap('tab10')\n",
    "palette = [cmap(0), cmap(0.2), 'k', cmap(0.1), cmap(0.3)]\n",
    "\n",
    "\n",
    "for i in range(0,7):\n",
    "    ax.plot(np.arange(1,13), monthly_array_diatoms_depthint_slicemean[i,:]*86400,label=2007+i)\n",
    "    ax.set_title('Central SoG Microzooplankton Grazing on Diatoms',fontsize=18)\n",
    "    ax.legend(frameon=False)\n",
    "    ax.set_ylim(0,125)\n",
    "    ax.set_ylabel('\\u03bcmol N')\n",
    "   \n",
    "for i in range(8,14):\n",
    "    ax.plot(np.arange(1,13), monthly_array_diatoms_depthint_slicemean[i,:]*86400,linestyle='--',label=2007+i)\n",
    "    ax.set_title('Central SoG Microzooplankton Grazing on Diatoms',fontsize=18)\n",
    "    ax.legend(frameon=False)\n",
    "    ax.set_ylim(0,15)\n",
    "    ax.set_ylabel('\\u03bcmol N d-1')"
   ]
  },
  {
   "cell_type": "code",
   "execution_count": null,
   "metadata": {},
   "outputs": [],
   "source": [
    "NPGOdiatomspositive=(((monthly_array_diatoms_depthint_slicemean[0,:]+monthly_array_diatoms_depthint_slicemean[1,:]+\\\n",
    "        monthly_array_diatoms_depthint_slicemean[2,:]+monthly_array_diatoms_depthint_slicemean[3,:]+\\\n",
    "        monthly_array_diatoms_depthint_slicemean[4,:]+monthly_array_diatoms_depthint_slicemean[5,:]+\\\n",
    "        monthly_array_diatoms_depthint_slicemean[6,:])/7)*86400)"
   ]
  },
  {
   "cell_type": "code",
   "execution_count": null,
   "metadata": {},
   "outputs": [],
   "source": [
    "monthly_array_diatoms_depthint_slicemean[5,:]*86400"
   ]
  },
  {
   "cell_type": "code",
   "execution_count": null,
   "metadata": {},
   "outputs": [],
   "source": [
    "NPGOdiatomspositive"
   ]
  },
  {
   "cell_type": "code",
   "execution_count": null,
   "metadata": {},
   "outputs": [],
   "source": [
    "NPGOdiatomsnegative=(((monthly_array_diatoms_depthint_slicemean[7,:]+monthly_array_diatoms_depthint_slicemean[8,:]+\\\n",
    "        monthly_array_diatoms_depthint_slicemean[9,:]+monthly_array_diatoms_depthint_slicemean[10,:]+\\\n",
    "        monthly_array_diatoms_depthint_slicemean[11,:]+monthly_array_diatoms_depthint_slicemean[12,:]+\\\n",
    "        monthly_array_diatoms_depthint_slicemean[13,:])/7)*86400)"
   ]
  },
  {
   "cell_type": "code",
   "execution_count": null,
   "metadata": {},
   "outputs": [],
   "source": [
    "NPGOdiatomsnegative"
   ]
  },
  {
   "cell_type": "code",
   "execution_count": null,
   "metadata": {},
   "outputs": [],
   "source": [
    "NPGOdiatomspositive.mean()"
   ]
  },
  {
   "cell_type": "code",
   "execution_count": null,
   "metadata": {},
   "outputs": [],
   "source": [
    "NPGOdiatomsnegative.mean()"
   ]
  },
  {
   "cell_type": "code",
   "execution_count": null,
   "metadata": {},
   "outputs": [],
   "source": [
    "fig, ax = plt.subplots(figsize=(15, 3))\n",
    "bbox = {'boxstyle': 'round', 'facecolor': 'w', 'alpha': 0.9}\n",
    "cmap = plt.get_cmap('tab10')\n",
    "palette = [cmap(0), cmap(0.2), 'k', cmap(0.1), cmap(0.3)]\n",
    "\n",
    "\n",
    "ax.plot(np.arange(1,13), NPGOdiatomspositive,label='+ NPGO (cold phase)')\n",
    "ax.plot(np.arange(1,13), NPGOdiatomsnegative,linestyle='--',label='- NPGO (warm phase)',color='r')\n",
    "ax.set_title('Central SoG Microzooplankton Grazing on Diatoms',fontsize=18)\n",
    "ax.legend(frameon=False)\n",
    "ax.set_ylim(0,10)\n",
    "ax.set_ylabel('$\\mu$M N d$^{-1}$')\n",
    "   "
   ]
  },
  {
   "cell_type": "code",
   "execution_count": null,
   "metadata": {},
   "outputs": [],
   "source": [
    "RandomDiat1=(((monthly_array_diatoms_depthint_slicemean[0,:]+monthly_array_diatoms_depthint_slicemean[2,:]+\\\n",
    "        monthly_array_diatoms_depthint_slicemean[4,:]+monthly_array_diatoms_depthint_slicemean[6,:]+\\\n",
    "        monthly_array_diatoms_depthint_slicemean[8,:]+monthly_array_diatoms_depthint_slicemean[10,:]+\\\n",
    "        monthly_array_diatoms_depthint_slicemean[12,:])/7)*86400)"
   ]
  },
  {
   "cell_type": "code",
   "execution_count": null,
   "metadata": {},
   "outputs": [],
   "source": [
    "RandomDiat2=(((monthly_array_diatoms_depthint_slicemean[1,:]+monthly_array_diatoms_depthint_slicemean[3,:]+\\\n",
    "        monthly_array_diatoms_depthint_slicemean[5,:]+monthly_array_diatoms_depthint_slicemean[7,:]+\\\n",
    "        monthly_array_diatoms_depthint_slicemean[9,:]+monthly_array_diatoms_depthint_slicemean[11,:]+\\\n",
    "        monthly_array_diatoms_depthint_slicemean[13,:])/7)*86400)"
   ]
  },
  {
   "cell_type": "code",
   "execution_count": null,
   "metadata": {},
   "outputs": [],
   "source": [
    "fig, ax = plt.subplots(figsize=(15, 3))\n",
    "bbox = {'boxstyle': 'round', 'facecolor': 'w', 'alpha': 0.9}\n",
    "cmap = plt.get_cmap('tab10')\n",
    "palette = [cmap(0), cmap(0.2), 'k', cmap(0.1), cmap(0.3)]\n",
    "\n",
    "\n",
    "ax.plot(np.arange(1,13), RandomDiat1,label='Random 1')\n",
    "ax.plot(np.arange(1,13), RandomDiat2,linestyle='--',label='Random 2',color='r')\n",
    "ax.set_title('Central SoG Microzooplankton Grazing on Diatoms',fontsize=18)\n",
    "ax.legend(frameon=False)\n",
    "ax.set_ylim(0,10)\n",
    "ax.set_ylabel('$\\mu$M N d$^{-1}$')\n",
    "   "
   ]
  },
  {
   "cell_type": "code",
   "execution_count": null,
   "metadata": {},
   "outputs": [],
   "source": [
    "\n",
    "#years, months, data\n",
    "monthly_array_flag_depthint_slice = np.zeros([14,12,50,50])\n",
    "# Load monthly averages\n",
    "mask = xr.open_dataset('/data/eolson/results/MEOPAR/NEMO-forcing-new/grid/mesh_mask201702.nc')\n",
    "slc = {'y': slice(450,500), 'x': slice(250,300)}\n",
    "e3t, tmask = [mask[var].isel(z=slice(None, 27),**slc).values for var in ('e3t_0', 'tmask')]\n",
    "years, variables = range(2007, 2021), ['GRMICZPHY']\n",
    "# Temporary list dict\n",
    "data = {}\n",
    "# Permanent aggregate dict\n",
    "aggregates = {var: {} for var in variables}\n",
    "monthlydat = {var: {} for var in variables}\n",
    "# Loop through years\n",
    "for year in [2007,2008,2009,2010,2011,2012,2013,2014,2015, 2016, 2017, 2018, 2019,2020]:\n",
    "    # Initialize lists\n",
    "    for var in variables: data[var] = []\n",
    "    # Load monthly averages\n",
    "    for month in range(1, 13):\n",
    "        datestr = f'{year}{month:02d}'\n",
    "        prefix = f'/results/SalishSea/month-avg.201905/SalishSea_1m_{datestr}_{datestr}'\n",
    "        # Load grazing variables\n",
    "        with xr.open_dataset(prefix + '_dia2_T.nc') as ds:\n",
    "            q = np.ma.masked_where(tmask == 0, ds[var].isel(deptht=slice(None, 27), **slc).values * e3t).sum(axis=1).data\n",
    "            q2 = q[0,:,:]\n",
    "            monthly_array_flag_depthint_slice[year-2007,month-1,:,:] = q2 #year2015 is index 0 along 1st dimension\n",
    "            for var in ['GRMICZPHY']:\n",
    "                data[var].append(np.ma.masked_where(tmask == 0, ds[var].isel(deptht=slice(None, 27), **slc).values * e3t).sum(axis=1).data)\n",
    "    # Concatenate months\n",
    "    for var in variables: aggregates[var][year] = np.concatenate(data[var]).mean(axis=0)\n",
    "# # Calculate 5 year mean and anomalies\n",
    "# for var in variables:\n",
    "#     aggregates[var][‘mean’] = np.concatenate([aggregates[var][year][None, ...] for year in years]).mean(axis=0)\n",
    "#     for year in years: aggregates[var][year] = aggregates[var][year] - aggregates[var][‘mean’]\n",
    "\n",
    "\n",
    "\n"
   ]
  },
  {
   "cell_type": "code",
   "execution_count": null,
   "metadata": {},
   "outputs": [],
   "source": [
    "monthly_array_flag_depthint_slice[monthly_array_flag_depthint_slice == 0 ] = np.nan\n",
    "monthly_array_flag_depthint_slicemean = \\\n",
    "np.nanmean(np.nanmean(monthly_array_flag_depthint_slice, axis = 2),axis = 2)\n",
    "print(np.shape(monthly_array_flag_depthint_slicemean))\n",
    "\n",
    "\n",
    "#plot monthly means for 5 years\n",
    "fig, ax = plt.subplots(figsize=(15, 6))\n",
    "bbox = {'boxstyle': 'round', 'facecolor': 'w', 'alpha': 0.9}\n",
    "cmap = plt.get_cmap('tab10')\n",
    "palette = [cmap(0), cmap(0.2), 'k', cmap(0.1), cmap(0.3)]\n",
    "\n",
    "\n",
    "for i in range(0,7):\n",
    "    ax.plot(np.arange(1,13), monthly_array_flag_depthint_slicemean[i,:]*86400,label=2007+i)\n",
    "    ax.set_title('Central SoG Microzooplankton Grazing on Flagellates',fontsize=18)\n",
    "    ax.legend(frameon=False)\n",
    "    ax.set_ylim(0,125)\n",
    "    ax.set_ylabel('\\u03bcmol N')\n",
    "   \n",
    "for i in range(8,14):\n",
    "    ax.plot(np.arange(1,13), monthly_array_flag_depthint_slicemean[i,:]*86400,linestyle='--',label=2007+i)\n",
    "    ax.set_title('Central SoG Microzooplankton Grazing on Flagellates',fontsize=18)\n",
    "    ax.legend(frameon=False)\n",
    "    ax.set_ylim(0,15)\n",
    "    ax.set_ylabel('\\u03bcmol N d-1')"
   ]
  },
  {
   "cell_type": "code",
   "execution_count": null,
   "metadata": {},
   "outputs": [],
   "source": [
    "NPGOflagpositive=(((monthly_array_flag_depthint_slicemean[0,:]+monthly_array_flag_depthint_slicemean[1,:]+\\\n",
    "        monthly_array_flag_depthint_slicemean[2,:]+monthly_array_flag_depthint_slicemean[3,:]+\\\n",
    "        monthly_array_flag_depthint_slicemean[4,:]+monthly_array_flag_depthint_slicemean[5,:]+\\\n",
    "        monthly_array_flag_depthint_slicemean[6,:])/7)*86400)"
   ]
  },
  {
   "cell_type": "code",
   "execution_count": null,
   "metadata": {},
   "outputs": [],
   "source": [
    "monthly_array_flag_depthint_slicemean[5,:]*86400"
   ]
  },
  {
   "cell_type": "code",
   "execution_count": null,
   "metadata": {},
   "outputs": [],
   "source": [
    "NPGOflagpositive"
   ]
  },
  {
   "cell_type": "code",
   "execution_count": null,
   "metadata": {},
   "outputs": [],
   "source": [
    "NPGOflagnegative=(((monthly_array_flag_depthint_slicemean[7,:]+monthly_array_flag_depthint_slicemean[8,:]+\\\n",
    "        monthly_array_flag_depthint_slicemean[9,:]+monthly_array_flag_depthint_slicemean[10,:]+\\\n",
    "        monthly_array_flag_depthint_slicemean[11,:]+monthly_array_flag_depthint_slicemean[12,:]+\\\n",
    "        monthly_array_flag_depthint_slicemean[13,:])/7)*86400)"
   ]
  },
  {
   "cell_type": "code",
   "execution_count": null,
   "metadata": {},
   "outputs": [],
   "source": [
    "NPGOflagnegative"
   ]
  },
  {
   "cell_type": "code",
   "execution_count": null,
   "metadata": {},
   "outputs": [],
   "source": [
    "NPGOflagpositive.mean()"
   ]
  },
  {
   "cell_type": "code",
   "execution_count": null,
   "metadata": {},
   "outputs": [],
   "source": [
    "NPGOflagnegative.mean()"
   ]
  },
  {
   "cell_type": "code",
   "execution_count": null,
   "metadata": {},
   "outputs": [],
   "source": [
    "fig, ax = plt.subplots(figsize=(15, 3))\n",
    "bbox = {'boxstyle': 'round', 'facecolor': 'w', 'alpha': 0.9}\n",
    "cmap = plt.get_cmap('tab10')\n",
    "palette = [cmap(0), cmap(0.2), 'k', cmap(0.1), cmap(0.3)]\n",
    "\n",
    "\n",
    "ax.plot(np.arange(1,13), NPGOflagpositive,label='+ NPGO (cold phase)')\n",
    "ax.plot(np.arange(1,13), NPGOflagnegative,linestyle='--',label='- NPGO (warm phase)',color='r')\n",
    "ax.set_title('Central SoG Microzooplankton Grazing on Flagellates',fontsize=18)\n",
    "ax.legend(frameon=False)\n",
    "ax.set_ylim(0,10)\n",
    "ax.set_ylabel('$\\mu$M N d$^{-1}$')\n",
    "   "
   ]
  },
  {
   "cell_type": "code",
   "execution_count": null,
   "metadata": {},
   "outputs": [],
   "source": [
    "RandomFlag1=(((monthly_array_flag_depthint_slicemean[0,:]+monthly_array_flag_depthint_slicemean[2,:]+\\\n",
    "        monthly_array_flag_depthint_slicemean[4,:]+monthly_array_flag_depthint_slicemean[6,:]+\\\n",
    "        monthly_array_flag_depthint_slicemean[8,:]+monthly_array_flag_depthint_slicemean[10,:]+\\\n",
    "        monthly_array_flag_depthint_slicemean[12,:])/7)*86400)"
   ]
  },
  {
   "cell_type": "code",
   "execution_count": null,
   "metadata": {},
   "outputs": [],
   "source": [
    "RandomFlag2=(((monthly_array_flag_depthint_slicemean[1,:]+monthly_array_flag_depthint_slicemean[3,:]+\\\n",
    "        monthly_array_flag_depthint_slicemean[5,:]+monthly_array_flag_depthint_slicemean[7,:]+\\\n",
    "        monthly_array_flag_depthint_slicemean[9,:]+monthly_array_flag_depthint_slicemean[11,:]+\\\n",
    "        monthly_array_flag_depthint_slicemean[13,:])/7)*86400)"
   ]
  },
  {
   "cell_type": "code",
   "execution_count": null,
   "metadata": {},
   "outputs": [],
   "source": [
    "fig, ax = plt.subplots(figsize=(15, 3))\n",
    "bbox = {'boxstyle': 'round', 'facecolor': 'w', 'alpha': 0.9}\n",
    "cmap = plt.get_cmap('tab10')\n",
    "palette = [cmap(0), cmap(0.2), 'k', cmap(0.1), cmap(0.3)]\n",
    "\n",
    "\n",
    "ax.plot(np.arange(1,13),RandomFlag1,label='Random 1')\n",
    "ax.plot(np.arange(1,13), RandomFlag2,linestyle='--',label='Random 2',color='r')\n",
    "ax.set_title('Central SoG Microzooplankton Grazing on Flagellates',fontsize=18)\n",
    "ax.legend(frameon=False)\n",
    "ax.set_ylim(0,10)\n",
    "ax.set_ylabel('$\\mu$M N d$^{-1}$')"
   ]
  },
  {
   "cell_type": "code",
   "execution_count": null,
   "metadata": {},
   "outputs": [],
   "source": []
  }
 ],
 "metadata": {
  "kernelspec": {
   "display_name": "Python (py39)",
   "language": "python",
   "name": "py39"
  },
  "language_info": {
   "codemirror_mode": {
    "name": "ipython",
    "version": 3
   },
   "file_extension": ".py",
   "mimetype": "text/x-python",
   "name": "python",
   "nbconvert_exporter": "python",
   "pygments_lexer": "ipython3",
   "version": "3.9.2"
  }
 },
 "nbformat": 4,
 "nbformat_minor": 4
}
