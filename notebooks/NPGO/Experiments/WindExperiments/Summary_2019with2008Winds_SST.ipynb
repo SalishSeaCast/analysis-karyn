{
 "cells": [
  {
   "cell_type": "code",
   "execution_count": 1,
   "metadata": {},
   "outputs": [],
   "source": [
    "import numpy as np\n",
    "import xarray as xr\n",
    "import pandas as pd\n",
    "from salishsea_tools import viz_tools, places, visualisations\n",
    "from matplotlib import pyplot as plt, dates\n",
    "from datetime import datetime, timedelta\n",
    "from calendar import month_name\n",
    "from scipy.io import loadmat\n",
    "from tqdm.notebook import tqdm\n",
    "from salishsea_tools import nc_tools\n",
    "from dask.diagnostics import ProgressBar\n",
    "import cmocean\n",
    "\n",
    "%matplotlib inline"
   ]
  },
  {
   "cell_type": "code",
   "execution_count": 2,
   "metadata": {},
   "outputs": [],
   "source": [
    "plt.rcParams.update({'font.size': 12, 'axes.titlesize': 'medium'})"
   ]
  },
  {
   "cell_type": "markdown",
   "metadata": {},
   "source": [
    "## Original Warm Year (2019)"
   ]
  },
  {
   "cell_type": "code",
   "execution_count": 3,
   "metadata": {},
   "outputs": [],
   "source": [
    "\n",
    "#years, months, data\n",
    "monthly_array_temp_orig_slice = np.zeros([14,12,50,50])\n",
    "\n",
    "# Load monthly averages\n",
    "mask = xr.open_dataset('/data/eolson/results/MEOPAR/NEMO-forcing-new/grid/mesh_mask201702.nc')\n",
    "slc = {'y': slice(450,500), 'x': slice(250,300)} \n",
    "e3t, tmask,depth = [mask[var].isel(**slc).values for var in ('e3t_0', 'tmask','gdept_0')]\n",
    "years, variables = range(2019, 2021), ['votemper']\n",
    "\n",
    "# Temporary list dict\n",
    "data = {}\n",
    "# Permanent aggregate dict\n",
    "aggregates = {var: {} for var in variables}\n",
    "monthlydat = {var: {} for var in variables}\n",
    "\n",
    "### Original 2019     \n",
    "\n",
    "for year in [2019]:\n",
    "    # Initialize lists\n",
    "    for var in variables: data[var] = []\n",
    "    # Load monthly averages\n",
    "    for month in range(1, 13):\n",
    "        datestr = f'{year}{month:02d}'\n",
    "        prefix = f'/data/sallen/results/MEOPAR/v201905r/SalishSea_1m_{datestr}_{datestr}'\n",
    "    \n",
    "       # Load grazing variables\n",
    "        with xr.open_dataset(prefix + '_grid_T.nc') as ds:\n",
    "            q = ds.votemper.isel(deptht=0, **slc).values\n",
    "            q2 = q[0,:,:]\n",
    "            monthly_array_temp_orig_slice[year-2007,month-1,:,:] = q2 #year2015 is index 0 along 1st dimension\n",
    "            for var in ['votemper']:\n",
    "                data[var].append(ds.votemper.isel(deptht=0, **slc).values)\n",
    "    \n",
    "    # Concatenate months\n",
    "    for var in variables: aggregates[var][year] = np.concatenate(data[var]).mean(axis=0)        "
   ]
  },
  {
   "cell_type": "code",
   "execution_count": 4,
   "metadata": {},
   "outputs": [
    {
     "name": "stdout",
     "output_type": "stream",
     "text": [
      "(14, 12)\n"
     ]
    },
    {
     "name": "stderr",
     "output_type": "stream",
     "text": [
      "/tmp/ipykernel_1371623/1734163470.py:3: RuntimeWarning: Mean of empty slice\n",
      "  np.nanmean(np.nanmean(monthly_array_temp_orig_slice, axis = 2),axis = 2)\n"
     ]
    }
   ],
   "source": [
    "monthly_array_temp_orig_slice[monthly_array_temp_orig_slice == 0 ] = np.nan\n",
    "monthly_array_temp_orig_slicemean = \\\n",
    "np.nanmean(np.nanmean(monthly_array_temp_orig_slice, axis = 2),axis = 2)\n",
    "print(np.shape(monthly_array_temp_orig_slicemean))"
   ]
  },
  {
   "cell_type": "code",
   "execution_count": 5,
   "metadata": {},
   "outputs": [
    {
     "data": {
      "text/plain": [
       "array([[        nan,         nan,         nan,         nan,         nan,\n",
       "                nan,         nan,         nan,         nan,         nan,\n",
       "                nan,         nan],\n",
       "       [        nan,         nan,         nan,         nan,         nan,\n",
       "                nan,         nan,         nan,         nan,         nan,\n",
       "                nan,         nan],\n",
       "       [        nan,         nan,         nan,         nan,         nan,\n",
       "                nan,         nan,         nan,         nan,         nan,\n",
       "                nan,         nan],\n",
       "       [        nan,         nan,         nan,         nan,         nan,\n",
       "                nan,         nan,         nan,         nan,         nan,\n",
       "                nan,         nan],\n",
       "       [        nan,         nan,         nan,         nan,         nan,\n",
       "                nan,         nan,         nan,         nan,         nan,\n",
       "                nan,         nan],\n",
       "       [        nan,         nan,         nan,         nan,         nan,\n",
       "                nan,         nan,         nan,         nan,         nan,\n",
       "                nan,         nan],\n",
       "       [        nan,         nan,         nan,         nan,         nan,\n",
       "                nan,         nan,         nan,         nan,         nan,\n",
       "                nan,         nan],\n",
       "       [        nan,         nan,         nan,         nan,         nan,\n",
       "                nan,         nan,         nan,         nan,         nan,\n",
       "                nan,         nan],\n",
       "       [        nan,         nan,         nan,         nan,         nan,\n",
       "                nan,         nan,         nan,         nan,         nan,\n",
       "                nan,         nan],\n",
       "       [        nan,         nan,         nan,         nan,         nan,\n",
       "                nan,         nan,         nan,         nan,         nan,\n",
       "                nan,         nan],\n",
       "       [        nan,         nan,         nan,         nan,         nan,\n",
       "                nan,         nan,         nan,         nan,         nan,\n",
       "                nan,         nan],\n",
       "       [        nan,         nan,         nan,         nan,         nan,\n",
       "                nan,         nan,         nan,         nan,         nan,\n",
       "                nan,         nan],\n",
       "       [ 6.66574269,  5.18524643,  7.24007046, 10.16174981, 14.03568474,\n",
       "        17.7114818 , 20.61275981, 20.03991294, 16.73050814, 11.58581398,\n",
       "         8.60023705,  6.47922814],\n",
       "       [        nan,         nan,         nan,         nan,         nan,\n",
       "                nan,         nan,         nan,         nan,         nan,\n",
       "                nan,         nan]])"
      ]
     },
     "execution_count": 5,
     "metadata": {},
     "output_type": "execute_result"
    }
   ],
   "source": [
    "monthly_array_temp_orig_slicemean"
   ]
  },
  {
   "cell_type": "markdown",
   "metadata": {},
   "source": [
    "## Full Year Switch (2008 winds applied to 2019)"
   ]
  },
  {
   "cell_type": "code",
   "execution_count": 6,
   "metadata": {},
   "outputs": [],
   "source": [
    "\n",
    "#years, months, data\n",
    "monthly_array_temp_full_slice = np.zeros([14,12,50,50])\n",
    "\n",
    "# Load monthly averages\n",
    "mask = xr.open_dataset('/data/eolson/results/MEOPAR/NEMO-forcing-new/grid/mesh_mask201702.nc')\n",
    "slc = {'y': slice(450,500), 'x': slice(250,300)} \n",
    "e3t, tmask,depth = [mask[var].isel(**slc).values for var in ('e3t_0', 'tmask','gdept_0')]\n",
    "years, variables = range(2019, 2021), ['votemper']\n",
    "\n",
    "\n",
    "\n",
    "# Temporary list dict\n",
    "data = {}\n",
    "# Permanent aggregate dict\n",
    "aggregates = {var: {} for var in variables}\n",
    "monthlydat = {var: {} for var in variables}\n",
    "\n",
    "\n",
    "        \n",
    "# Add experiment year\n",
    "for year in [2019]:\n",
    "    # Initialize lists\n",
    "    for var in variables: data[var] = []\n",
    "    # Load monthly averages\n",
    "    for month in range(1, 7):\n",
    "        datestr = f'{year}{month:02d}'\n",
    "        prefix = f'/data/sallen/results/MEOPAR/Karyn/01jan19_W08/SalishSea_1m_{datestr}_{datestr}'\n",
    "    \n",
    "        # Load grazing variables\n",
    "        with xr.open_dataset(prefix + '_grid_T.nc') as ds:\n",
    "            q = ds.votemper.isel(deptht=0, **slc).values\n",
    "            q2 = q[0,:,:]\n",
    "            monthly_array_temp_full_slice[year-2007,month-1,:,:] = q2 #year2015 is index 0 along 1st dimension\n",
    "            for var in ['votemper']:\n",
    "                data[var].append(ds.votemper.isel(deptht=0, **slc).values)\n",
    "    \n",
    "    # Concatenate months\n",
    "    for var in variables: aggregates[var][year] = np.concatenate(data[var]).mean(axis=0)        \n",
    "\n",
    "# Add experiment year\n",
    "for year in [2019]:\n",
    "    # Initialize lists\n",
    "    for var in variables: data[var] = []\n",
    "    # Load monthly averages\n",
    "    for month in range(7, 13):\n",
    "        datestr = f'{year}{month:02d}'\n",
    "        prefix = f'/data/sallen/results/MEOPAR/Karyn/01jul19_W08/SalishSea_1m_{datestr}_{datestr}'\n",
    "    \n",
    "        # Load grazing variables\n",
    "        with xr.open_dataset(prefix + '_grid_T.nc') as ds:\n",
    "            q = ds.votemper.isel(deptht=0, **slc).values\n",
    "            q2 = q[0,:,:]\n",
    "            monthly_array_temp_full_slice[year-2007,month-1,:,:] = q2 #year2015 is index 0 along 1st dimension\n",
    "            for var in ['votemper']:\n",
    "                data[var].append(ds.votemper.isel(deptht=0, **slc).values)\n",
    "    \n",
    "    # Concatenate months\n",
    "    for var in variables: aggregates[var][year] = np.concatenate(data[var]).mean(axis=0)        \n",
    "# # Calculate 5 year mean and anomalies\n",
    "# for var in variables:\n",
    "#     aggregates[var][‘mean’] = np.concatenate([aggregates[var][year][None, ...] for year in years]).mean(axis=0)\n",
    "#     for year in years: aggregates[var][year] = aggregates[var][year] - aggregates[var][‘mean’]\n",
    "\n",
    "\n"
   ]
  },
  {
   "cell_type": "code",
   "execution_count": 7,
   "metadata": {},
   "outputs": [
    {
     "name": "stdout",
     "output_type": "stream",
     "text": [
      "(14, 12)\n"
     ]
    },
    {
     "name": "stderr",
     "output_type": "stream",
     "text": [
      "/tmp/ipykernel_1371623/2142003998.py:3: RuntimeWarning: Mean of empty slice\n",
      "  np.nanmean(np.nanmean(monthly_array_temp_full_slice, axis = 2),axis = 2)\n"
     ]
    }
   ],
   "source": [
    "monthly_array_temp_full_slice[monthly_array_temp_full_slice == 0 ] = np.nan\n",
    "monthly_array_temp_full_slicemean = \\\n",
    "np.nanmean(np.nanmean(monthly_array_temp_full_slice, axis = 2),axis = 2)\n",
    "print(np.shape(monthly_array_temp_full_slicemean))"
   ]
  },
  {
   "cell_type": "code",
   "execution_count": 8,
   "metadata": {},
   "outputs": [
    {
     "data": {
      "text/plain": [
       "array([[        nan,         nan,         nan,         nan,         nan,\n",
       "                nan,         nan,         nan,         nan,         nan,\n",
       "                nan,         nan],\n",
       "       [        nan,         nan,         nan,         nan,         nan,\n",
       "                nan,         nan,         nan,         nan,         nan,\n",
       "                nan,         nan],\n",
       "       [        nan,         nan,         nan,         nan,         nan,\n",
       "                nan,         nan,         nan,         nan,         nan,\n",
       "                nan,         nan],\n",
       "       [        nan,         nan,         nan,         nan,         nan,\n",
       "                nan,         nan,         nan,         nan,         nan,\n",
       "                nan,         nan],\n",
       "       [        nan,         nan,         nan,         nan,         nan,\n",
       "                nan,         nan,         nan,         nan,         nan,\n",
       "                nan,         nan],\n",
       "       [        nan,         nan,         nan,         nan,         nan,\n",
       "                nan,         nan,         nan,         nan,         nan,\n",
       "                nan,         nan],\n",
       "       [        nan,         nan,         nan,         nan,         nan,\n",
       "                nan,         nan,         nan,         nan,         nan,\n",
       "                nan,         nan],\n",
       "       [        nan,         nan,         nan,         nan,         nan,\n",
       "                nan,         nan,         nan,         nan,         nan,\n",
       "                nan,         nan],\n",
       "       [        nan,         nan,         nan,         nan,         nan,\n",
       "                nan,         nan,         nan,         nan,         nan,\n",
       "                nan,         nan],\n",
       "       [        nan,         nan,         nan,         nan,         nan,\n",
       "                nan,         nan,         nan,         nan,         nan,\n",
       "                nan,         nan],\n",
       "       [        nan,         nan,         nan,         nan,         nan,\n",
       "                nan,         nan,         nan,         nan,         nan,\n",
       "                nan,         nan],\n",
       "       [        nan,         nan,         nan,         nan,         nan,\n",
       "                nan,         nan,         nan,         nan,         nan,\n",
       "                nan,         nan],\n",
       "       [ 6.94768824,  5.03149186,  6.92260036, 10.4741395 , 13.69086769,\n",
       "        17.51762955, 18.32682018, 18.80116005, 16.19822578, 10.88716039,\n",
       "         8.96325978,  6.76106302],\n",
       "       [        nan,         nan,         nan,         nan,         nan,\n",
       "                nan,         nan,         nan,         nan,         nan,\n",
       "                nan,         nan]])"
      ]
     },
     "execution_count": 8,
     "metadata": {},
     "output_type": "execute_result"
    }
   ],
   "source": [
    "monthly_array_temp_full_slicemean"
   ]
  },
  {
   "cell_type": "markdown",
   "metadata": {},
   "source": [
    "## Spring wind switch (2019 with 2008 spring winds)"
   ]
  },
  {
   "cell_type": "code",
   "execution_count": 9,
   "metadata": {},
   "outputs": [],
   "source": [
    "\n",
    "#years, months, data\n",
    "monthly_array_temp_spring_slice = np.zeros([14,12,50,50])\n",
    "\n",
    "# Load monthly averages\n",
    "mask = xr.open_dataset('/data/eolson/results/MEOPAR/NEMO-forcing-new/grid/mesh_mask201702.nc')\n",
    "slc = {'y': slice(450,500), 'x': slice(250,300)} \n",
    "e3t, tmask,depth = [mask[var].isel(**slc).values for var in ('e3t_0', 'tmask','gdept_0')]\n",
    "years, variables = range(2019, 2021), ['votemper']\n",
    "\n",
    "\n",
    "# Temporary list dict\n",
    "data = {}\n",
    "# Permanent aggregate dict\n",
    "aggregates = {var: {} for var in variables}\n",
    "monthlydat = {var: {} for var in variables}\n",
    "\n",
    "        \n",
    "# Add experiment year; Keep winds the same for January and February\n",
    "for year in [2019]:\n",
    "    # Initialize lists\n",
    "    for var in variables: data[var] = []\n",
    "    # Load monthly averages\n",
    "    for month in range(1, 3):\n",
    "        datestr = f'{year}{month:02d}'\n",
    "        prefix = f'/data/sallen/results/MEOPAR/v201905r/SalishSea_1m_{datestr}_{datestr}'\n",
    "      \n",
    "        \n",
    "     # Load grazing variables\n",
    "        with xr.open_dataset(prefix + '_grid_T.nc') as ds:\n",
    "            q = ds.votemper.isel(deptht=0, **slc).values\n",
    "            q2 = q[0,:,:]\n",
    "            monthly_array_temp_spring_slice[year-2007,month-1,:,:] = q2 #year2015 is index 0 along 1st dimension\n",
    "            for var in ['votemper']:\n",
    "                data[var].append(ds.votemper.isel(deptht=0, **slc).values)\n",
    "    \n",
    "    # Concatenate months\n",
    "    for var in variables: aggregates[var][year] = np.concatenate(data[var]).mean(axis=0)        \n",
    "\n",
    "# Change winds for spring (March to May)\n",
    "for year in [2019]:\n",
    "    # Initialize lists\n",
    "    for var in variables: data[var] = []\n",
    "    # Load monthly averages\n",
    "    for month in range(3, 6):\n",
    "        datestr = f'{year}{month:02d}'\n",
    "        prefix = f'/data/sallen/results/MEOPAR/Karyn/01mar19_wind08_spring/SalishSea_1m_{datestr}_{datestr}'\n",
    "      \n",
    "        \n",
    "      # Load grazing variables\n",
    "        with xr.open_dataset(prefix + '_grid_T.nc') as ds:\n",
    "            q = ds.votemper.isel(deptht=0, **slc).values\n",
    "            q2 = q[0,:,:]\n",
    "            monthly_array_temp_spring_slice[year-2007,month-1,:,:] = q2 #year2015 is index 0 along 1st dimension\n",
    "            for var in ['votemper']:\n",
    "                data[var].append(ds.votemper.isel(deptht=0, **slc).values)\n",
    "    \n",
    "    # Concatenate months\n",
    "    for var in variables: aggregates[var][year] = np.concatenate(data[var]).mean(axis=0)                \n",
    "\n",
    "# Winds for rest of the year\n",
    "for year in [2019]:\n",
    "    # Initialize lists\n",
    "    for var in variables: data[var] = []\n",
    "    # Load monthly averages\n",
    "    for month in range(6, 9):\n",
    "        datestr = f'{year}{month:02d}'\n",
    "        prefix = f'/data/sallen/results/MEOPAR/Karyn/01jun19_wind08_spring/SalishSea_1m_{datestr}_{datestr}'\n",
    "      \n",
    "        \n",
    "       # Load grazing variables\n",
    "        with xr.open_dataset(prefix + '_grid_T.nc') as ds:\n",
    "            q = ds.votemper.isel(deptht=0, **slc).values\n",
    "            q2 = q[0,:,:]\n",
    "            monthly_array_temp_spring_slice[year-2007,month-1,:,:] = q2 #year2015 is index 0 along 1st dimension\n",
    "            for var in ['votemper']:\n",
    "                data[var].append(ds.votemper.isel(deptht=0, **slc).values)\n",
    "    \n",
    "    # Concatenate months\n",
    "    for var in variables: aggregates[var][year] = np.concatenate(data[var]).mean(axis=0)        \n",
    "\n",
    "        \n",
    "# # Calculate 5 year mean and anomalies\n",
    "# for var in variables:\n",
    "#     aggregates[var][‘mean’] = np.concatenate([aggregates[var][year][None, ...] for year in years]).mean(axis=0)\n",
    "#     for year in years: aggregates[var][year] = aggregates[var][year] - aggregates[var][‘mean’]\n",
    "\n"
   ]
  },
  {
   "cell_type": "code",
   "execution_count": 10,
   "metadata": {},
   "outputs": [
    {
     "name": "stdout",
     "output_type": "stream",
     "text": [
      "(14, 12)\n"
     ]
    },
    {
     "name": "stderr",
     "output_type": "stream",
     "text": [
      "/tmp/ipykernel_1371623/2151430389.py:3: RuntimeWarning: Mean of empty slice\n",
      "  np.nanmean(np.nanmean(monthly_array_temp_spring_slice, axis = 2),axis = 2)\n"
     ]
    }
   ],
   "source": [
    "monthly_array_temp_spring_slice[monthly_array_temp_spring_slice == 0 ] = np.nan\n",
    "monthly_array_temp_spring_slicemean = \\\n",
    "np.nanmean(np.nanmean(monthly_array_temp_spring_slice, axis = 2),axis = 2)\n",
    "print(np.shape(monthly_array_temp_spring_slicemean))"
   ]
  },
  {
   "cell_type": "markdown",
   "metadata": {},
   "source": [
    "## Summer Wind Switch (2008 with 2019 summer winds)"
   ]
  },
  {
   "cell_type": "code",
   "execution_count": 11,
   "metadata": {},
   "outputs": [],
   "source": [
    "#years, months, data\n",
    "monthly_array_temp_summer_slice = np.zeros([14,12,50,50])\n",
    "\n",
    "# Load monthly averages\n",
    "mask = xr.open_dataset('/data/eolson/results/MEOPAR/NEMO-forcing-new/grid/mesh_mask201702.nc')\n",
    "slc = {'y': slice(450,500), 'x': slice(250,300)} \n",
    "e3t, tmask,depth = [mask[var].isel(**slc).values for var in ('e3t_0', 'tmask','gdept_0')]\n",
    "years, variables = range(2019, 2021), ['votemper']\n",
    "\n",
    "\n",
    "# Temporary list dict\n",
    "data = {}\n",
    "# Permanent aggregate dict\n",
    "aggregates = {var: {} for var in variables}\n",
    "monthlydat = {var: {} for var in variables}\n",
    "\n",
    "\n",
    "\n",
    "        \n",
    "# Add experiment year; Keep winds the same for January and May\n",
    "for year in [2019]:\n",
    "    # Initialize lists\n",
    "    for var in variables: data[var] = []\n",
    "    # Load monthly averages\n",
    "    for month in range(1, 6):\n",
    "        datestr = f'{year}{month:02d}'\n",
    "        prefix = f'/data/sallen/results/MEOPAR/v201905r/SalishSea_1m_{datestr}_{datestr}'\n",
    "        \n",
    "      # Load grazing variables\n",
    "        with xr.open_dataset(prefix + '_grid_T.nc') as ds:\n",
    "            q = ds.votemper.isel(deptht=0, **slc).values\n",
    "            q2 = q[0,:,:]\n",
    "            monthly_array_temp_summer_slice[year-2007,month-1,:,:] = q2 #year2015 is index 0 along 1st dimension\n",
    "            for var in ['votemper']:\n",
    "                data[var].append(ds.votemper.isel(deptht=0, **slc).values)\n",
    "    \n",
    "    # Concatenate months\n",
    "    for var in variables: aggregates[var][year] = np.concatenate(data[var]).mean(axis=0)            \n",
    "\n",
    "# Change winds for Summer (June to August)\n",
    "for year in [2019]:\n",
    "    # Initialize lists\n",
    "    for var in variables: data[var] = []\n",
    "    # Load monthly averages\n",
    "    for month in range(6, 9):\n",
    "        datestr = f'{year}{month:02d}'\n",
    "        prefix = f'/data/sallen/results/MEOPAR/Karyn/01jun19_wind08_summer/SalishSea_1m_{datestr}_{datestr}'\n",
    "      \n",
    "      \n",
    "        \n",
    "     # Load grazing variables\n",
    "        with xr.open_dataset(prefix + '_grid_T.nc') as ds:\n",
    "            q = ds.votemper.isel(deptht=0, **slc).values\n",
    "            q2 = q[0,:,:]\n",
    "            monthly_array_temp_summer_slice[year-2007,month-1,:,:] = q2 #year2015 is index 0 along 1st dimension\n",
    "            for var in ['votemper']:\n",
    "                data[var].append(ds.votemper.isel(deptht=0, **slc).values)\n",
    "    \n",
    "    # Concatenate months\n",
    "    for var in variables: aggregates[var][year] = np.concatenate(data[var]).mean(axis=0)                 \n",
    "\n",
    "# \n",
    "for year in [2019]:\n",
    "    # Initialize lists\n",
    "    for var in variables: data[var] = []\n",
    "    # Load monthly averages\n",
    "    for month in range(9, 10):\n",
    "        datestr = f'{year}{month:02d}'\n",
    "        prefix = f'/data/sallen/results/MEOPAR/Karyn/01sep19_wind08_summer/SalishSea_1m_{datestr}_{datestr}'\n",
    "      \n",
    "      \n",
    "        \n",
    "     # Load grazing variables\n",
    "        with xr.open_dataset(prefix + '_grid_T.nc') as ds:\n",
    "            q = ds.votemper.isel(deptht=0, **slc).values\n",
    "            q2 = q[0,:,:]\n",
    "            monthly_array_temp_summer_slice[year-2007,month-1,:,:] = q2 #year2015 is index 0 along 1st dimension\n",
    "            for var in ['votemper']:\n",
    "                data[var].append(ds.votemper.isel(deptht=0, **slc).values)\n",
    "    \n",
    "    # Concatenate months\n",
    "    for var in variables: aggregates[var][year] = np.concatenate(data[var]).mean(axis=0)  \n",
    "        \n",
    "# \n",
    "for year in [2019]:\n",
    "    # Initialize lists\n",
    "    for var in variables: data[var] = []\n",
    "    # Load monthly averages\n",
    "    for month in range(10, 13):\n",
    "        datestr = f'{year}{month:02d}'\n",
    "        prefix = f'/data/sallen/results/MEOPAR/Karyn/01oct19_wind08_summer/SalishSea_1m_{datestr}_{datestr}'\n",
    "      \n",
    "      \n",
    "        \n",
    "     # Load grazing variables\n",
    "        with xr.open_dataset(prefix + '_grid_T.nc') as ds:\n",
    "            q = ds.votemper.isel(deptht=0, **slc).values\n",
    "            q2 = q[0,:,:]\n",
    "            monthly_array_temp_summer_slice[year-2007,month-1,:,:] = q2 #year2015 is index 0 along 1st dimension\n",
    "            for var in ['votemper']:\n",
    "                data[var].append(ds.votemper.isel(deptht=0, **slc).values)\n",
    "    \n",
    "    # Concatenate months\n",
    "    for var in variables: aggregates[var][year] = np.concatenate(data[var]).mean(axis=0)     \n",
    "        \n",
    "# # Calculate 5 year mean and anomalies\n",
    "# for var in variables:\n",
    "#     aggregates[var][‘mean’] = np.concatenate([aggregates[var][year][None, ...] for year in years]).mean(axis=0)\n",
    "#     for year in years: aggregates[var][year] = aggregates[var][year] - aggregates[var][‘mean’]"
   ]
  },
  {
   "cell_type": "code",
   "execution_count": 12,
   "metadata": {},
   "outputs": [
    {
     "name": "stdout",
     "output_type": "stream",
     "text": [
      "(14, 12)\n"
     ]
    },
    {
     "name": "stderr",
     "output_type": "stream",
     "text": [
      "/tmp/ipykernel_1371623/994700041.py:3: RuntimeWarning: Mean of empty slice\n",
      "  np.nanmean(np.nanmean(monthly_array_temp_summer_slice, axis = 2),axis = 2)\n"
     ]
    }
   ],
   "source": [
    "monthly_array_temp_summer_slice[monthly_array_temp_summer_slice == 0 ] = np.nan\n",
    "monthly_array_temp_summer_slicemean = \\\n",
    "np.nanmean(np.nanmean(monthly_array_temp_summer_slice, axis = 2),axis = 2)\n",
    "print(np.shape(monthly_array_temp_summer_slicemean))"
   ]
  },
  {
   "cell_type": "code",
   "execution_count": 16,
   "metadata": {},
   "outputs": [
    {
     "data": {
      "text/plain": [
       "Text(0, 0.5, 'Degrees C')"
      ]
     },
     "execution_count": 16,
     "metadata": {},
     "output_type": "execute_result"
    },
    {
     "data": {
      "image/png": "[encoded data removed]",
      "text/plain": [
       "<Figure size 1500x300 with 1 Axes>"
      ]
     },
     "metadata": {},
     "output_type": "display_data"
    }
   ],
   "source": [
    "fig, ax = plt.subplots(figsize=(15, 3))\n",
    "bbox = {'boxstyle': 'round', 'facecolor': 'w', 'alpha': 0.9}\n",
    "cmap = plt.get_cmap('tab10')\n",
    "palette = [cmap(0), cmap(0.2), 'k', cmap(0.1), cmap(0.3)]\n",
    "xticks=['Jan','Feb','Mar','Apr','May','Jun','Jul','Aug','Sep','Oct','Nov',\"Dec\"]\n",
    "\n",
    "\n",
    "ax.plot(xticks, monthly_array_temp_orig_slicemean[12,:],color='r',linestyle='-',linewidth=3,label='Original 2019')\n",
    "ax.plot(xticks, monthly_array_temp_full_slicemean[12,:],color='k',linestyle='-.',linewidth=2,label='Full Switch')\n",
    "ax.plot(xticks, monthly_array_temp_spring_slicemean[12,:],color='green',linestyle='-.',linewidth=2,label='Spring Winds')\n",
    "ax.plot(xticks, monthly_array_temp_summer_slicemean[12,:],color='purple',linestyle='-',linewidth=2,label='Summer Winds')\n",
    "plt.axhline(y=12, color='grey', linestyle='--')\n",
    "#plt.axvline(x=4, color='grey', linestyle='--')\n",
    "\n",
    "ax.set_title('Warm Year with Cold Year Winds - SST',fontsize=18)\n",
    "ax.legend(frameon=False,loc=1)\n",
    "ax.set_ylim(0,30)\n",
    "ax.set_ylabel('Degrees C')"
   ]
  },
  {
   "cell_type": "code",
   "execution_count": 21,
   "metadata": {},
   "outputs": [
    {
     "data": {
      "text/plain": [
       "array([ 6.66574269,  5.18524643,  7.24007046, 10.16174981, 14.03568474,\n",
       "       17.7114818 , 20.61275981, 20.03991294, 16.73050814, 11.58581398,\n",
       "        8.60023705,  6.47922814])"
      ]
     },
     "execution_count": 21,
     "metadata": {},
     "output_type": "execute_result"
    }
   ],
   "source": [
    "monthly_array_temp_orig_slicemean[12] ## original warm year"
   ]
  },
  {
   "cell_type": "code",
   "execution_count": 20,
   "metadata": {},
   "outputs": [
    {
     "data": {
      "text/plain": [
       "array([ 6.66574269,  5.18524643,  7.24007046, 10.16174981, 14.03568474,\n",
       "       17.53400084, 20.6612891 , 20.0909152 , 16.9468314 , 11.77644792,\n",
       "        8.76992228,  6.589835  ])"
      ]
     },
     "execution_count": 20,
     "metadata": {},
     "output_type": "execute_result"
    }
   ],
   "source": [
    "monthly_array_temp_summer_slicemean[12] ## warm year with cold year SUMMER winds"
   ]
  },
  {
   "cell_type": "code",
   "execution_count": null,
   "metadata": {},
   "outputs": [],
   "source": []
  }
 ],
 "metadata": {
  "kernelspec": {
   "display_name": "Python (py39)",
   "language": "python",
   "name": "py39"
  },
  "language_info": {
   "codemirror_mode": {
    "name": "ipython",
    "version": 3
   },
   "file_extension": ".py",
   "mimetype": "text/x-python",
   "name": "python",
   "nbconvert_exporter": "python",
   "pygments_lexer": "ipython3",
   "version": "3.9.15"
  }
 },
 "nbformat": 4,
 "nbformat_minor": 4
}
