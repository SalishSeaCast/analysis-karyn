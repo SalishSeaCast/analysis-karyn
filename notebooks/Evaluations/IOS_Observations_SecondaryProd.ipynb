{
 "cells": [
  {
   "cell_type": "code",
   "execution_count": 1,
   "metadata": {},
   "outputs": [],
   "source": [
    "import numpy as np\n",
    "import pandas as pd\n",
    "import matplotlib.pyplot as plt\n",
    "import datetime as dt\n",
    "from salishsea_tools import evaltools as et, viz_tools\n",
    "import os\n",
    "import datetime as dt\n",
    "import gsw\n",
    "import matplotlib.gridspec as gridspec\n",
    "import matplotlib as mpl\n",
    "import matplotlib.dates as mdates\n",
    "import cmocean as cmo\n",
    "import scipy.interpolate as sinterp\n",
    "import cmocean\n",
    "import json\n",
    "import f90nml\n",
    "from collections import OrderedDict\n",
    "\n",
    "fs=16\n",
    "mpl.rc('xtick', labelsize=fs)\n",
    "mpl.rc('ytick', labelsize=fs)\n",
    "mpl.rc('legend', fontsize=fs)\n",
    "mpl.rc('axes', titlesize=fs)\n",
    "mpl.rc('axes', labelsize=fs)\n",
    "mpl.rc('figure', titlesize=fs)\n",
    "mpl.rc('font', size=fs)\n",
    "mpl.rc('font', family='sans-serif', weight='normal', style='normal')\n",
    "\n",
    "import warnings\n",
    "#warnings.filterwarnings('ignore')\n",
    "from IPython.display import Markdown, display\n",
    "\n",
    "%matplotlib inline\n"
   ]
  },
  {
   "cell_type": "markdown",
   "metadata": {},
   "source": [
    "## Import IOS Productivity data and create dataframe"
   ]
  },
  {
   "cell_type": "code",
   "execution_count": 2,
   "metadata": {},
   "outputs": [],
   "source": [
    "df=pd.read_csv(r'/ocean/ksuchy/MOAD/observe/2023_SoG_ZoopProd_Summary.csv')"
   ]
  },
  {
   "cell_type": "code",
   "execution_count": 3,
   "metadata": {},
   "outputs": [
    {
     "data": {
      "text/html": [
       "<div>\n",
       "<style scoped>\n",
       "    .dataframe tbody tr th:only-of-type {\n",
       "        vertical-align: middle;\n",
       "    }\n",
       "\n",
       "    .dataframe tbody tr th {\n",
       "        vertical-align: top;\n",
       "    }\n",
       "\n",
       "    .dataframe thead th {\n",
       "        text-align: right;\n",
       "    }\n",
       "</style>\n",
       "<table border=\"1\" class=\"dataframe\">\n",
       "  <thead>\n",
       "    <tr style=\"text-align: right;\">\n",
       "      <th></th>\n",
       "      <th>Cruise</th>\n",
       "      <th>Date</th>\n",
       "      <th>Station</th>\n",
       "      <th>Depth (m)</th>\n",
       "      <th>Lat</th>\n",
       "      <th>Lon</th>\n",
       "      <th>BPR (mg C m-2)</th>\n",
       "      <th>BPR (mg C m-3)</th>\n",
       "      <th>daily P:B</th>\n",
       "    </tr>\n",
       "  </thead>\n",
       "  <tbody>\n",
       "    <tr>\n",
       "      <th>0</th>\n",
       "      <td>2023-003</td>\n",
       "      <td>3/15/2023</td>\n",
       "      <td>42</td>\n",
       "      <td>0</td>\n",
       "      <td>49.028717</td>\n",
       "      <td>-123.103333</td>\n",
       "      <td>796.334303</td>\n",
       "      <td>3.250344</td>\n",
       "      <td>0.146517</td>\n",
       "    </tr>\n",
       "    <tr>\n",
       "      <th>1</th>\n",
       "      <td>2023-003</td>\n",
       "      <td>3/16/2023</td>\n",
       "      <td>GEO1</td>\n",
       "      <td>0</td>\n",
       "      <td>49.250683</td>\n",
       "      <td>-123.748883</td>\n",
       "      <td>434.218709</td>\n",
       "      <td>1.258605</td>\n",
       "      <td>0.097271</td>\n",
       "    </tr>\n",
       "    <tr>\n",
       "      <th>2</th>\n",
       "      <td>2023-003</td>\n",
       "      <td>3/17/2023</td>\n",
       "      <td>12</td>\n",
       "      <td>0</td>\n",
       "      <td>49.726133</td>\n",
       "      <td>-124.680567</td>\n",
       "      <td>581.042441</td>\n",
       "      <td>1.684181</td>\n",
       "      <td>0.097894</td>\n",
       "    </tr>\n",
       "    <tr>\n",
       "      <th>3</th>\n",
       "      <td>2023-020</td>\n",
       "      <td>4/14/2023</td>\n",
       "      <td>42</td>\n",
       "      <td>0</td>\n",
       "      <td>49.028717</td>\n",
       "      <td>-123.103333</td>\n",
       "      <td>636.725746</td>\n",
       "      <td>2.598881</td>\n",
       "      <td>0.136689</td>\n",
       "    </tr>\n",
       "    <tr>\n",
       "      <th>4</th>\n",
       "      <td>2023-020</td>\n",
       "      <td>4/11/2023</td>\n",
       "      <td>GEO1</td>\n",
       "      <td>0</td>\n",
       "      <td>49.250683</td>\n",
       "      <td>-123.748883</td>\n",
       "      <td>526.232682</td>\n",
       "      <td>1.525312</td>\n",
       "      <td>0.117609</td>\n",
       "    </tr>\n",
       "    <tr>\n",
       "      <th>5</th>\n",
       "      <td>2023-020</td>\n",
       "      <td>4/12/2023</td>\n",
       "      <td>12</td>\n",
       "      <td>0</td>\n",
       "      <td>49.726133</td>\n",
       "      <td>-124.680567</td>\n",
       "      <td>173.536599</td>\n",
       "      <td>0.588260</td>\n",
       "      <td>0.042736</td>\n",
       "    </tr>\n",
       "    <tr>\n",
       "      <th>6</th>\n",
       "      <td>2023-021</td>\n",
       "      <td>5/6/2023</td>\n",
       "      <td>42</td>\n",
       "      <td>0</td>\n",
       "      <td>49.028717</td>\n",
       "      <td>-123.103333</td>\n",
       "      <td>241.541408</td>\n",
       "      <td>0.985883</td>\n",
       "      <td>0.060640</td>\n",
       "    </tr>\n",
       "    <tr>\n",
       "      <th>7</th>\n",
       "      <td>2023-021</td>\n",
       "      <td>5/5/2023</td>\n",
       "      <td>GEO1</td>\n",
       "      <td>0</td>\n",
       "      <td>49.250683</td>\n",
       "      <td>-123.748883</td>\n",
       "      <td>256.361403</td>\n",
       "      <td>0.743077</td>\n",
       "      <td>0.060972</td>\n",
       "    </tr>\n",
       "    <tr>\n",
       "      <th>8</th>\n",
       "      <td>2023-022</td>\n",
       "      <td>6/3/2023</td>\n",
       "      <td>42</td>\n",
       "      <td>0</td>\n",
       "      <td>49.028717</td>\n",
       "      <td>-123.103333</td>\n",
       "      <td>475.261060</td>\n",
       "      <td>1.939841</td>\n",
       "      <td>0.169220</td>\n",
       "    </tr>\n",
       "    <tr>\n",
       "      <th>9</th>\n",
       "      <td>2023-022</td>\n",
       "      <td>6/1/2023</td>\n",
       "      <td>GEO1</td>\n",
       "      <td>0</td>\n",
       "      <td>49.250683</td>\n",
       "      <td>-123.748883</td>\n",
       "      <td>1446.029977</td>\n",
       "      <td>4.191391</td>\n",
       "      <td>0.148669</td>\n",
       "    </tr>\n",
       "    <tr>\n",
       "      <th>10</th>\n",
       "      <td>2023-022</td>\n",
       "      <td>6/2/2023</td>\n",
       "      <td>12</td>\n",
       "      <td>0</td>\n",
       "      <td>49.726133</td>\n",
       "      <td>-124.680567</td>\n",
       "      <td>511.644247</td>\n",
       "      <td>1.483027</td>\n",
       "      <td>0.111946</td>\n",
       "    </tr>\n",
       "    <tr>\n",
       "      <th>11</th>\n",
       "      <td>2023-023</td>\n",
       "      <td>7/25/2023</td>\n",
       "      <td>42</td>\n",
       "      <td>0</td>\n",
       "      <td>49.028717</td>\n",
       "      <td>-123.103333</td>\n",
       "      <td>643.825717</td>\n",
       "      <td>2.627860</td>\n",
       "      <td>0.275235</td>\n",
       "    </tr>\n",
       "    <tr>\n",
       "      <th>12</th>\n",
       "      <td>2023-023</td>\n",
       "      <td>7/22/2023</td>\n",
       "      <td>GEO1</td>\n",
       "      <td>0</td>\n",
       "      <td>49.250683</td>\n",
       "      <td>-123.748883</td>\n",
       "      <td>233.829650</td>\n",
       "      <td>0.677767</td>\n",
       "      <td>0.093650</td>\n",
       "    </tr>\n",
       "    <tr>\n",
       "      <th>13</th>\n",
       "      <td>2023-023</td>\n",
       "      <td>7/23/2023</td>\n",
       "      <td>12</td>\n",
       "      <td>0</td>\n",
       "      <td>49.726133</td>\n",
       "      <td>-124.680567</td>\n",
       "      <td>160.217439</td>\n",
       "      <td>0.543110</td>\n",
       "      <td>0.093990</td>\n",
       "    </tr>\n",
       "    <tr>\n",
       "      <th>14</th>\n",
       "      <td>2023-025</td>\n",
       "      <td>6/28/2023</td>\n",
       "      <td>42</td>\n",
       "      <td>0</td>\n",
       "      <td>49.028717</td>\n",
       "      <td>-123.103333</td>\n",
       "      <td>316.431961</td>\n",
       "      <td>1.291559</td>\n",
       "      <td>0.029561</td>\n",
       "    </tr>\n",
       "    <tr>\n",
       "      <th>15</th>\n",
       "      <td>2023-025</td>\n",
       "      <td>6/29/2023</td>\n",
       "      <td>GEO1</td>\n",
       "      <td>0</td>\n",
       "      <td>49.250683</td>\n",
       "      <td>-123.748883</td>\n",
       "      <td>1914.135955</td>\n",
       "      <td>5.548220</td>\n",
       "      <td>0.193860</td>\n",
       "    </tr>\n",
       "    <tr>\n",
       "      <th>16</th>\n",
       "      <td>2023-025</td>\n",
       "      <td>6/28/2023</td>\n",
       "      <td>12</td>\n",
       "      <td>0</td>\n",
       "      <td>49.726133</td>\n",
       "      <td>-124.680567</td>\n",
       "      <td>78.191519</td>\n",
       "      <td>0.265056</td>\n",
       "      <td>0.047068</td>\n",
       "    </tr>\n",
       "    <tr>\n",
       "      <th>17</th>\n",
       "      <td>2023-026</td>\n",
       "      <td>9/3/2023</td>\n",
       "      <td>42</td>\n",
       "      <td>0</td>\n",
       "      <td>49.028717</td>\n",
       "      <td>-123.103333</td>\n",
       "      <td>626.561113</td>\n",
       "      <td>2.557392</td>\n",
       "      <td>0.142218</td>\n",
       "    </tr>\n",
       "    <tr>\n",
       "      <th>18</th>\n",
       "      <td>2023-026</td>\n",
       "      <td>9/3/2023</td>\n",
       "      <td>GEO1</td>\n",
       "      <td>0</td>\n",
       "      <td>49.250683</td>\n",
       "      <td>-123.748883</td>\n",
       "      <td>278.906054</td>\n",
       "      <td>0.808423</td>\n",
       "      <td>0.035129</td>\n",
       "    </tr>\n",
       "    <tr>\n",
       "      <th>19</th>\n",
       "      <td>2023-026</td>\n",
       "      <td>9/2/2023</td>\n",
       "      <td>12</td>\n",
       "      <td>0</td>\n",
       "      <td>49.726133</td>\n",
       "      <td>-124.680567</td>\n",
       "      <td>620.525317</td>\n",
       "      <td>2.103476</td>\n",
       "      <td>0.128872</td>\n",
       "    </tr>\n",
       "    <tr>\n",
       "      <th>20</th>\n",
       "      <td>2023-029</td>\n",
       "      <td>10/11/2023</td>\n",
       "      <td>42</td>\n",
       "      <td>0</td>\n",
       "      <td>49.028717</td>\n",
       "      <td>-123.103333</td>\n",
       "      <td>105.522819</td>\n",
       "      <td>0.430705</td>\n",
       "      <td>0.027584</td>\n",
       "    </tr>\n",
       "    <tr>\n",
       "      <th>21</th>\n",
       "      <td>2023-029</td>\n",
       "      <td>10/11/2023</td>\n",
       "      <td>GEO1</td>\n",
       "      <td>0</td>\n",
       "      <td>49.250683</td>\n",
       "      <td>-123.748883</td>\n",
       "      <td>259.040994</td>\n",
       "      <td>0.750843</td>\n",
       "      <td>0.043533</td>\n",
       "    </tr>\n",
       "    <tr>\n",
       "      <th>22</th>\n",
       "      <td>2023-029</td>\n",
       "      <td>10/12/2023</td>\n",
       "      <td>12</td>\n",
       "      <td>0</td>\n",
       "      <td>49.726133</td>\n",
       "      <td>-124.680567</td>\n",
       "      <td>12.638413</td>\n",
       "      <td>0.036633</td>\n",
       "      <td>0.001447</td>\n",
       "    </tr>\n",
       "    <tr>\n",
       "      <th>23</th>\n",
       "      <td>2023-066</td>\n",
       "      <td>5/14/2023</td>\n",
       "      <td>42</td>\n",
       "      <td>0</td>\n",
       "      <td>49.028717</td>\n",
       "      <td>-123.103333</td>\n",
       "      <td>178.381963</td>\n",
       "      <td>0.728090</td>\n",
       "      <td>0.042413</td>\n",
       "    </tr>\n",
       "    <tr>\n",
       "      <th>24</th>\n",
       "      <td>2023-066</td>\n",
       "      <td>5/14/2023</td>\n",
       "      <td>GEO1</td>\n",
       "      <td>0</td>\n",
       "      <td>49.250683</td>\n",
       "      <td>-123.748883</td>\n",
       "      <td>1681.362530</td>\n",
       "      <td>4.873515</td>\n",
       "      <td>0.247154</td>\n",
       "    </tr>\n",
       "    <tr>\n",
       "      <th>25</th>\n",
       "      <td>2023-066</td>\n",
       "      <td>5/13/2023</td>\n",
       "      <td>12</td>\n",
       "      <td>0</td>\n",
       "      <td>49.726133</td>\n",
       "      <td>-124.680567</td>\n",
       "      <td>58.524084</td>\n",
       "      <td>0.169635</td>\n",
       "      <td>0.005459</td>\n",
       "    </tr>\n",
       "  </tbody>\n",
       "</table>\n",
       "</div>"
      ],
      "text/plain": [
       "      Cruise        Date Station  Depth (m)        Lat         Lon  \\\n",
       "0   2023-003   3/15/2023      42          0  49.028717 -123.103333   \n",
       "1   2023-003   3/16/2023    GEO1          0  49.250683 -123.748883   \n",
       "2   2023-003   3/17/2023      12          0  49.726133 -124.680567   \n",
       "3   2023-020   4/14/2023      42          0  49.028717 -123.103333   \n",
       "4   2023-020   4/11/2023    GEO1          0  49.250683 -123.748883   \n",
       "5   2023-020   4/12/2023      12          0  49.726133 -124.680567   \n",
       "6   2023-021    5/6/2023      42          0  49.028717 -123.103333   \n",
       "7   2023-021    5/5/2023    GEO1          0  49.250683 -123.748883   \n",
       "8   2023-022    6/3/2023      42          0  49.028717 -123.103333   \n",
       "9   2023-022    6/1/2023    GEO1          0  49.250683 -123.748883   \n",
       "10  2023-022    6/2/2023      12          0  49.726133 -124.680567   \n",
       "11  2023-023   7/25/2023      42          0  49.028717 -123.103333   \n",
       "12  2023-023   7/22/2023    GEO1          0  49.250683 -123.748883   \n",
       "13  2023-023   7/23/2023      12          0  49.726133 -124.680567   \n",
       "14  2023-025   6/28/2023      42          0  49.028717 -123.103333   \n",
       "15  2023-025   6/29/2023    GEO1          0  49.250683 -123.748883   \n",
       "16  2023-025   6/28/2023      12          0  49.726133 -124.680567   \n",
       "17  2023-026    9/3/2023      42          0  49.028717 -123.103333   \n",
       "18  2023-026    9/3/2023    GEO1          0  49.250683 -123.748883   \n",
       "19  2023-026    9/2/2023      12          0  49.726133 -124.680567   \n",
       "20  2023-029  10/11/2023      42          0  49.028717 -123.103333   \n",
       "21  2023-029  10/11/2023    GEO1          0  49.250683 -123.748883   \n",
       "22  2023-029  10/12/2023      12          0  49.726133 -124.680567   \n",
       "23  2023-066   5/14/2023      42          0  49.028717 -123.103333   \n",
       "24  2023-066   5/14/2023    GEO1          0  49.250683 -123.748883   \n",
       "25  2023-066   5/13/2023      12          0  49.726133 -124.680567   \n",
       "\n",
       "    BPR (mg C m-2)  BPR (mg C m-3)  daily P:B  \n",
       "0       796.334303        3.250344   0.146517  \n",
       "1       434.218709        1.258605   0.097271  \n",
       "2       581.042441        1.684181   0.097894  \n",
       "3       636.725746        2.598881   0.136689  \n",
       "4       526.232682        1.525312   0.117609  \n",
       "5       173.536599        0.588260   0.042736  \n",
       "6       241.541408        0.985883   0.060640  \n",
       "7       256.361403        0.743077   0.060972  \n",
       "8       475.261060        1.939841   0.169220  \n",
       "9      1446.029977        4.191391   0.148669  \n",
       "10      511.644247        1.483027   0.111946  \n",
       "11      643.825717        2.627860   0.275235  \n",
       "12      233.829650        0.677767   0.093650  \n",
       "13      160.217439        0.543110   0.093990  \n",
       "14      316.431961        1.291559   0.029561  \n",
       "15     1914.135955        5.548220   0.193860  \n",
       "16       78.191519        0.265056   0.047068  \n",
       "17      626.561113        2.557392   0.142218  \n",
       "18      278.906054        0.808423   0.035129  \n",
       "19      620.525317        2.103476   0.128872  \n",
       "20      105.522819        0.430705   0.027584  \n",
       "21      259.040994        0.750843   0.043533  \n",
       "22       12.638413        0.036633   0.001447  \n",
       "23      178.381963        0.728090   0.042413  \n",
       "24     1681.362530        4.873515   0.247154  \n",
       "25       58.524084        0.169635   0.005459  "
      ]
     },
     "execution_count": 3,
     "metadata": {},
     "output_type": "execute_result"
    }
   ],
   "source": [
    "df"
   ]
  },
  {
   "cell_type": "code",
   "execution_count": 30,
   "metadata": {},
   "outputs": [
    {
     "data": {
      "text/plain": [
       "array(['42', 'GEO1', '12'], dtype=object)"
      ]
     },
     "execution_count": 30,
     "metadata": {},
     "output_type": "execute_result"
    }
   ],
   "source": [
    "df['Station'].unique()"
   ]
  },
  {
   "cell_type": "code",
   "execution_count": 5,
   "metadata": {},
   "outputs": [
    {
     "data": {
      "text/plain": [
       "Index(['Cruise', 'Date', 'Station', 'Depth (m)', 'Lat', 'Lon',\n",
       "       'BPR (mg C m-2)', 'BPR (mg C m-3)', 'daily P:B'],\n",
       "      dtype='object')"
      ]
     },
     "execution_count": 5,
     "metadata": {},
     "output_type": "execute_result"
    }
   ],
   "source": [
    "df.keys()"
   ]
  },
  {
   "cell_type": "code",
   "execution_count": 6,
   "metadata": {},
   "outputs": [
    {
     "data": {
      "text/plain": [
       "array(['42', 'GEO1', '12'], dtype=object)"
      ]
     },
     "execution_count": 6,
     "metadata": {},
     "output_type": "execute_result"
    }
   ],
   "source": [
    "df['Station'].unique()"
   ]
  },
  {
   "cell_type": "code",
   "execution_count": 7,
   "metadata": {},
   "outputs": [
    {
     "data": {
      "text/plain": [
       "0      3/15/2023\n",
       "1      3/16/2023\n",
       "2      3/17/2023\n",
       "3      4/14/2023\n",
       "4      4/11/2023\n",
       "5      4/12/2023\n",
       "6       5/6/2023\n",
       "7       5/5/2023\n",
       "8       6/3/2023\n",
       "9       6/1/2023\n",
       "10      6/2/2023\n",
       "11     7/25/2023\n",
       "12     7/22/2023\n",
       "13     7/23/2023\n",
       "14     6/28/2023\n",
       "15     6/29/2023\n",
       "16     6/28/2023\n",
       "17      9/3/2023\n",
       "18      9/3/2023\n",
       "19      9/2/2023\n",
       "20    10/11/2023\n",
       "21    10/11/2023\n",
       "22    10/12/2023\n",
       "23     5/14/2023\n",
       "24     5/14/2023\n",
       "25     5/13/2023\n",
       "Name: Date, dtype: object"
      ]
     },
     "execution_count": 7,
     "metadata": {},
     "output_type": "execute_result"
    }
   ],
   "source": [
    "df['Date']"
   ]
  },
  {
   "cell_type": "code",
   "execution_count": null,
   "metadata": {},
   "outputs": [],
   "source": []
  },
  {
   "cell_type": "markdown",
   "metadata": {},
   "source": [
    "## Figure showing observation locations of IOS sampling"
   ]
  },
  {
   "cell_type": "code",
   "execution_count": 8,
   "metadata": {},
   "outputs": [],
   "source": [
    "import netCDF4 as nc"
   ]
  },
  {
   "cell_type": "code",
   "execution_count": 9,
   "metadata": {},
   "outputs": [],
   "source": [
    "cm1=cmocean.cm.thermal\n",
    "with nc.Dataset('/data/eolson/results/MEOPAR/NEMO-forcing-new/grid/bathymetry_201702.nc') as bathy:\n",
    "    bathylon=np.copy(bathy.variables['nav_lon'][:,:])\n",
    "    bathylat=np.copy(bathy.variables['nav_lat'][:,:])\n",
    "    bathyZ=np.copy(bathy.variables['Bathymetry'][:,:])"
   ]
  },
  {
   "cell_type": "raw",
   "metadata": {},
   "source": [
    "def byRegion(ax,obsvar,modvar,lims):\n",
    "    SoG=[]\n",
    "    for ind, iregion in enumerate(data.region_name.unique()):\n",
    "        #ax.plot(datreg[iregion]['Lon'], datreg[iregion]['Lat'],'.',\n",
    "                #color = colors[ind], label=iregion)\n",
    "        SoG0=et.varvarPlot(ax,datreg[iregion],obsvar,modvar,\n",
    "                          cols=(colors[ind],),lname=iregion)\n",
    "        SoG.append(SoG0)\n",
    "        \n",
    "    l=ax.legend(handles=[ip[0][0] for ip in SoG])\n",
    "    ax.set_xlabel('Obs')\n",
    "    ax.set_ylabel('Model')\n",
    "    ax.plot(lims,lims,'k-',alpha=.5)\n",
    "    ax.set_xlim(lims)\n",
    "    ax.set_ylim(lims)\n",
    "    ax.set_aspect(1)\n",
    "    return SoG,l"
   ]
  },
  {
   "cell_type": "code",
   "execution_count": 72,
   "metadata": {},
   "outputs": [
    {
     "data": {
      "text/plain": [
       "<matplotlib.legend.Legend at 0x7f09e3418910>"
      ]
     },
     "execution_count": 72,
     "metadata": {},
     "output_type": "execute_result"
    },
    {
     "data": {
      "image/png": "[encoded data removed]",
      "text/plain": [
       "<Figure size 600x600 with 1 Axes>"
      ]
     },
     "metadata": {},
     "output_type": "display_data"
    }
   ],
   "source": [
    "\n",
    "\n",
    "fig, ax = plt.subplots(1,1,figsize = (6,6))\n",
    "with nc.Dataset('/ocean/ksuchy/MOAD/NEMO-forcing/grid/bathymetry_201702.nc') as grid:\n",
    "    viz_tools.plot_coastline(ax, grid, coords = 'map',isobath=.1)\n",
    "colors=('royalblue','teal','darkviolet','fuchsia','firebrick',\n",
    "        'royalblue','darkgoldenrod','mediumspringgreen','deepskyblue','lightblue','green','darkorange')\n",
    "datreg=dict()\n",
    "for ind, iregion in enumerate(df.Station.unique()):\n",
    "    datreg[iregion] = df.loc[df.Station==iregion]\n",
    "    ax.plot(datreg[iregion]['Lon'], datreg[iregion]['Lat'],'.',\n",
    "            color = colors[ind], label=iregion,markersize=10)\n",
    "ax.set_ylim(47,51)\n",
    "ax.legend(bbox_to_anchor=[1,.6,0,0])\n",
    "ax.set_xlim(-126, -120);\n",
    "ax.set_title('Secondary Productivity Stations');\n",
    "ax.legend(bbox_to_anchor=(1, 1))\n"
   ]
  },
  {
   "cell_type": "code",
   "execution_count": 11,
   "metadata": {},
   "outputs": [],
   "source": [
    "df['Date']=df['Date'].astype('string')"
   ]
  },
  {
   "cell_type": "code",
   "execution_count": 12,
   "metadata": {},
   "outputs": [],
   "source": [
    "df['Date']=pd.to_datetime(df.Date, format='%m/%d/%Y')"
   ]
  },
  {
   "cell_type": "code",
   "execution_count": 13,
   "metadata": {},
   "outputs": [],
   "source": [
    "df['Month'] = df['Date'].dt.month"
   ]
  },
  {
   "cell_type": "code",
   "execution_count": 15,
   "metadata": {},
   "outputs": [],
   "source": [
    "df['BPR (g C m-2)']=df['BPR (mg C m-2)']/1000"
   ]
  },
  {
   "cell_type": "code",
   "execution_count": 16,
   "metadata": {},
   "outputs": [
    {
     "data": {
      "text/plain": [
       "0     0\n",
       "1     0\n",
       "2     0\n",
       "3     0\n",
       "4     0\n",
       "5     0\n",
       "6     0\n",
       "7     0\n",
       "8     0\n",
       "9     0\n",
       "10    0\n",
       "11    0\n",
       "12    0\n",
       "13    0\n",
       "14    0\n",
       "15    0\n",
       "16    0\n",
       "17    0\n",
       "18    0\n",
       "19    0\n",
       "20    0\n",
       "21    0\n",
       "22    0\n",
       "23    0\n",
       "24    0\n",
       "25    0\n",
       "Name: Depth (m), dtype: int64"
      ]
     },
     "execution_count": 16,
     "metadata": {},
     "output_type": "execute_result"
    }
   ],
   "source": [
    "df['Depth (m)']"
   ]
  },
  {
   "cell_type": "code",
   "execution_count": 17,
   "metadata": {},
   "outputs": [],
   "source": [
    "#df = df.rename(columns={'Depth (m)': 'Depth'})\n"
   ]
  },
  {
   "cell_type": "code",
   "execution_count": 18,
   "metadata": {},
   "outputs": [],
   "source": [
    "monthlymean=df.groupby(['Month']).mean()"
   ]
  },
  {
   "cell_type": "code",
   "execution_count": 19,
   "metadata": {},
   "outputs": [
    {
     "data": {
      "text/plain": [
       "Index(['Depth (m)', 'Lat', 'Lon', 'BPR (mg C m-2)', 'BPR (mg C m-3)',\n",
       "       'daily P:B', 'BPR (g C m-2)'],\n",
       "      dtype='object')"
      ]
     },
     "execution_count": 19,
     "metadata": {},
     "output_type": "execute_result"
    }
   ],
   "source": [
    "monthlymean.keys()"
   ]
  },
  {
   "cell_type": "code",
   "execution_count": 20,
   "metadata": {},
   "outputs": [],
   "source": [
    "monthlysem=df.groupby(['Month']).sem()"
   ]
  },
  {
   "cell_type": "code",
   "execution_count": 43,
   "metadata": {},
   "outputs": [],
   "source": [
    "GEO1=df.loc[(df.Station=='GEO1')]\n",
    "\n",
    "STN12=df.loc[(df.Station=='12')]\n",
    "\n",
    "STN42=df.loc[(df.Station=='42')]\n"
   ]
  },
  {
   "cell_type": "code",
   "execution_count": 44,
   "metadata": {},
   "outputs": [],
   "source": [
    "monthlymeanGEO1=GEO1.groupby(['Month']).mean()\n",
    "\n",
    "monthlymeanSTN12=STN12.groupby(['Month']).mean()\n",
    "\n",
    "monthlymeanSTN42=STN42.groupby(['Month']).mean()\n"
   ]
  },
  {
   "cell_type": "code",
   "execution_count": 45,
   "metadata": {},
   "outputs": [
    {
     "data": {
      "text/plain": [
       "0.6258818601357143"
      ]
     },
     "execution_count": 45,
     "metadata": {},
     "output_type": "execute_result"
    }
   ],
   "source": [
    "monthlymeanGEO1['BPR (g C m-2)'].mean()"
   ]
  },
  {
   "cell_type": "code",
   "execution_count": 46,
   "metadata": {},
   "outputs": [
    {
     "data": {
      "text/plain": [
       "<matplotlib.legend.Legend at 0x7f09e848d910>"
      ]
     },
     "execution_count": 46,
     "metadata": {},
     "output_type": "execute_result"
    },
    {
     "data": {
      "image/png": "[encoded data removed]",
      "text/plain": [
       "<Figure size 1200x250 with 1 Axes>"
      ]
     },
     "metadata": {},
     "output_type": "display_data"
    }
   ],
   "source": [
    "fig,ax=plt.subplots(1,1,figsize=(12,2.5))\n",
    "ax.set_xticks(np.arange(1,13,1))\n",
    "ax.set_xticklabels(['Jan','Feb','Mar','Apr','May','Jun','Jul','Aug','Sep','Oct','Nov','Dec']) #where you replace axs[0] with whatever your axis is named\n",
    "\n",
    "\n",
    "ax.errorbar(monthlymean.index,((monthlymean['BPR (g C m-2)'])),\n",
    "               yerr=(np.array([(monthlymean['BPR (g C m-2)']-monthlysem['BPR (g C m-2)']),\n",
    "                 (monthlymean['BPR (g C m-2)']+monthlysem['BPR (g C m-2)'])])),\n",
    "              fmt='r-o',capsize=5,color='red',label='All Observations')\n",
    "\n",
    "\n",
    "ax.set_ylim(0,2)\n",
    "ax.set_xlim(0.75,12.25)\n",
    "ax.set_title('')\n",
    "ax.set_ylabel('Secondary Productivity \\n(g C m$^{-2}$ d$^{-1}$)',fontsize=12)\n",
    "ax.legend(fontsize=12,frameon=False,bbox_to_anchor=(1., 1.0))\n",
    "#fig.savefig('.png',bbox_inches='tight')"
   ]
  },
  {
   "cell_type": "code",
   "execution_count": 47,
   "metadata": {},
   "outputs": [
    {
     "data": {
      "text/plain": [
       "<matplotlib.legend.Legend at 0x7f09e83e3580>"
      ]
     },
     "execution_count": 47,
     "metadata": {},
     "output_type": "execute_result"
    },
    {
     "data": {
      "image/png": "[encoded data removed]",
      "text/plain": [
       "<Figure size 1200x250 with 1 Axes>"
      ]
     },
     "metadata": {},
     "output_type": "display_data"
    }
   ],
   "source": [
    "fig,ax=plt.subplots(1,1,figsize=(12,2.5))\n",
    "\n",
    "#'teal','firebrick','darkviolet','fuchsia',\n",
    "#        'royalblue','darkgoldenrod','mediumspringgreen','deepskyblue','lightblue','green','darkorange'\n",
    "\n",
    "ax.plot(monthlymeanGEO1.index,((monthlymeanGEO1['BPR (g C m-2)'])),\\\n",
    "            color='teal',linestyle='--',marker='o',label='GEO1')\n",
    "ax.set_xticks(np.arange(1,13,1))\n",
    "ax.set_xticklabels(['Jan','Feb','Mar','Apr','May','Jun','Jul','Aug','Sep','Oct','Nov','Dec']) #where you replace axs[0] with whatever your axis is named\n",
    "ax.set_ylim(0,2)\n",
    "ax.set_xlim(0.75,12.25)\n",
    "ax.set_ylabel('Secondary Productivity \\n(g C m$^{-2}$ d$^{-1}$)',fontsize=12)\n",
    "ax.legend(fontsize=12,frameon=False,bbox_to_anchor=(1., 1.0))\n",
    "\n",
    "#ax.plot(monthlymeanSTN42.index,((monthlymeanSTN42['Total C production * (g C /m2/day)'])),\\\n",
    "#            color='teal',linestyle='-',marker='o',label='STN 42')\n",
    "\n",
    "\n",
    "\n",
    "#fig.set_title('')\n",
    "#fig.savefig('.png',bbox_inches='tight')"
   ]
  },
  {
   "cell_type": "code",
   "execution_count": 48,
   "metadata": {},
   "outputs": [
    {
     "data": {
      "text/plain": [
       "Month\n",
       "3     0.434219\n",
       "4     0.526233\n",
       "5     0.968862\n",
       "6     1.680083\n",
       "7     0.233830\n",
       "9     0.278906\n",
       "10    0.259041\n",
       "Name: BPR (g C m-2), dtype: float64"
      ]
     },
     "execution_count": 48,
     "metadata": {},
     "output_type": "execute_result"
    }
   ],
   "source": [
    "monthlymeanGEO1['BPR (g C m-2)']"
   ]
  },
  {
   "cell_type": "code",
   "execution_count": 49,
   "metadata": {},
   "outputs": [],
   "source": [
    "SPGEO1=np.array([ 0.434219,\n",
    "0.526233,\n",
    "0.968862,\n",
    "1.680083,\n",
    "0.278906,\n",
    "0.259041])"
   ]
  },
  {
   "cell_type": "code",
   "execution_count": 50,
   "metadata": {},
   "outputs": [],
   "source": [
    "PPGEO1=np.array([0.900000,\n",
    "1.300000,\n",
    "12.700000,\n",
    "3.033333,\n",
    "2.540000,\n",
    "0.880000])"
   ]
  },
  {
   "cell_type": "code",
   "execution_count": 51,
   "metadata": {},
   "outputs": [],
   "source": [
    "TTEGEO1=(SPGEO1/PPGEO1)*100"
   ]
  },
  {
   "cell_type": "code",
   "execution_count": 52,
   "metadata": {},
   "outputs": [
    {
     "data": {
      "text/plain": [
       "array([48.24655556, 40.47946154,  7.62883465, 55.38735773, 10.98055118,\n",
       "       29.43647727])"
      ]
     },
     "execution_count": 52,
     "metadata": {},
     "output_type": "execute_result"
    }
   ],
   "source": [
    "TTEGEO1"
   ]
  },
  {
   "cell_type": "code",
   "execution_count": 75,
   "metadata": {},
   "outputs": [
    {
     "data": {
      "text/plain": [
       "7.628834645669292"
      ]
     },
     "execution_count": 75,
     "metadata": {},
     "output_type": "execute_result"
    }
   ],
   "source": [
    "TTEGEO1.min()"
   ]
  },
  {
   "cell_type": "code",
   "execution_count": 76,
   "metadata": {},
   "outputs": [
    {
     "data": {
      "text/plain": [
       "55.38735773487448"
      ]
     },
     "execution_count": 76,
     "metadata": {},
     "output_type": "execute_result"
    }
   ],
   "source": [
    "TTEGEO1.max()"
   ]
  },
  {
   "cell_type": "code",
   "execution_count": 53,
   "metadata": {},
   "outputs": [
    {
     "data": {
      "text/plain": [
       "32.02653965473175"
      ]
     },
     "execution_count": 53,
     "metadata": {},
     "output_type": "execute_result"
    }
   ],
   "source": [
    "TTEGEO1.mean()"
   ]
  },
  {
   "cell_type": "code",
   "execution_count": 54,
   "metadata": {},
   "outputs": [
    {
     "data": {
      "text/plain": [
       "<matplotlib.legend.Legend at 0x7f09eb1d0580>"
      ]
     },
     "execution_count": 54,
     "metadata": {},
     "output_type": "execute_result"
    },
    {
     "data": {
      "image/png": "[encoded data removed]",
      "text/plain": [
       "<Figure size 1200x250 with 1 Axes>"
      ]
     },
     "metadata": {},
     "output_type": "display_data"
    }
   ],
   "source": [
    "fig,ax=plt.subplots(1,1,figsize=(12,2.5))\n",
    "\n",
    "#'teal','firebrick','darkviolet','fuchsia',\n",
    "#        'royalblue','darkgoldenrod','mediumspringgreen','deepskyblue','lightblue','green','darkorange'\n",
    "\n",
    "ax.plot(monthlymeanSTN12.index,((monthlymeanSTN12['BPR (g C m-2)'])),\\\n",
    "            color='darkviolet',linestyle='--',marker='o',label='STN 12')\n",
    "\n",
    "ax.set_xticks(np.arange(1,13,1))\n",
    "ax.set_xticklabels(['Jan','Feb','Mar','Apr','May','Jun','Jul','Aug','Sep','Oct','Nov','Dec']) #where you replace axs[0] with whatever your axis is named\n",
    "ax.set_ylim(0,2)\n",
    "ax.set_xlim(0.75,12.25)\n",
    "ax.set_ylabel('Secondary Productivity \\n(g C m$^{-2}$ d$^{-1}$)',fontsize=12)\n",
    "ax.legend(fontsize=12,frameon=False,bbox_to_anchor=(1., 1.0))\n",
    "\n",
    "#ax.plot(monthlymeanSTN42.index,((monthlymeanSTN42['Total C production * (g C /m2/day)'])),\\\n",
    "#            color='teal',linestyle='-',marker='o',label='STN 42')\n",
    "\n",
    "\n",
    "\n",
    "#fig.set_title('')\n",
    "#fig.savefig('.png',bbox_inches='tight')"
   ]
  },
  {
   "cell_type": "code",
   "execution_count": 55,
   "metadata": {},
   "outputs": [
    {
     "data": {
      "text/plain": [
       "Month\n",
       "3     0.581042\n",
       "4     0.173537\n",
       "5     0.058524\n",
       "6     0.294918\n",
       "7     0.160217\n",
       "9     0.620525\n",
       "10    0.012638\n",
       "Name: BPR (g C m-2), dtype: float64"
      ]
     },
     "execution_count": 55,
     "metadata": {},
     "output_type": "execute_result"
    }
   ],
   "source": [
    "monthlymeanSTN12['BPR (g C m-2)']"
   ]
  },
  {
   "cell_type": "code",
   "execution_count": 56,
   "metadata": {},
   "outputs": [],
   "source": [
    "SPSTN12=np.array([0.581042,\n",
    "0.173537,\n",
    "0.294918,\n",
    "0.620525,\n",
    "0.012638])"
   ]
  },
  {
   "cell_type": "code",
   "execution_count": 57,
   "metadata": {},
   "outputs": [],
   "source": [
    "PPSTN12=np.array([ 7.600000,\n",
    "1.250000,\n",
    "2.700000,\n",
    "1.116667,\n",
    "0.660000])"
   ]
  },
  {
   "cell_type": "code",
   "execution_count": 58,
   "metadata": {},
   "outputs": [],
   "source": [
    "TTESTN12=(SPSTN12/PPSTN12)*100"
   ]
  },
  {
   "cell_type": "code",
   "execution_count": 59,
   "metadata": {},
   "outputs": [
    {
     "data": {
      "text/plain": [
       "array([ 7.64528947, 13.88296   , 10.92288889, 55.5693864 ,  1.91484848])"
      ]
     },
     "execution_count": 59,
     "metadata": {},
     "output_type": "execute_result"
    }
   ],
   "source": [
    "TTESTN12"
   ]
  },
  {
   "cell_type": "code",
   "execution_count": 73,
   "metadata": {},
   "outputs": [
    {
     "data": {
      "text/plain": [
       "1.9148484848484848"
      ]
     },
     "execution_count": 73,
     "metadata": {},
     "output_type": "execute_result"
    }
   ],
   "source": [
    "TTESTN12.min()"
   ]
  },
  {
   "cell_type": "code",
   "execution_count": 74,
   "metadata": {},
   "outputs": [
    {
     "data": {
      "text/plain": [
       "55.56938639719809"
      ]
     },
     "execution_count": 74,
     "metadata": {},
     "output_type": "execute_result"
    }
   ],
   "source": [
    "TTESTN12.max()"
   ]
  },
  {
   "cell_type": "code",
   "execution_count": 60,
   "metadata": {},
   "outputs": [
    {
     "data": {
      "text/plain": [
       "17.987074648923937"
      ]
     },
     "execution_count": 60,
     "metadata": {},
     "output_type": "execute_result"
    }
   ],
   "source": [
    "TTESTN12.mean()"
   ]
  },
  {
   "cell_type": "code",
   "execution_count": 61,
   "metadata": {},
   "outputs": [
    {
     "data": {
      "text/plain": [
       "<matplotlib.legend.Legend at 0x7f09e83a7c40>"
      ]
     },
     "execution_count": 61,
     "metadata": {},
     "output_type": "execute_result"
    },
    {
     "data": {
      "image/png": "[encoded data removed]",
      "text/plain": [
       "<Figure size 1200x250 with 1 Axes>"
      ]
     },
     "metadata": {},
     "output_type": "display_data"
    }
   ],
   "source": [
    "fig,ax=plt.subplots(1,1,figsize=(12,2.5))\n",
    "\n",
    "#'teal','firebrick','darkviolet','fuchsia',\n",
    "#        'royalblue','darkgoldenrod','mediumspringgreen','deepskyblue','lightblue','green','darkorange'\n",
    "\n",
    "ax.plot(monthlymeanSTN42.index,((monthlymeanSTN42['BPR (g C m-2)'])),\\\n",
    "            color='royalblue',linestyle='--',marker='o',label='STN 42')\n",
    "\n",
    "ax.set_xticks(np.arange(1,13,1))\n",
    "ax.set_xticklabels(['Jan','Feb','Mar','Apr','May','Jun','Jul','Aug','Sep','Oct','Nov','Dec']) #where you replace axs[0] with whatever your axis is named\n",
    "ax.set_ylim(0,2)\n",
    "ax.set_xlim(0.75,12.25)\n",
    "ax.set_ylabel('Secondary Productivity \\n(g C m$^{-2}$ d$^{-1}$)',fontsize=12)\n",
    "ax.legend(fontsize=12,frameon=False,bbox_to_anchor=(1., 1.0))\n",
    "\n",
    "#ax.plot(monthlymeanSTN42.index,((monthlymeanSTN42['Total C production * (g C /m2/day)'])),\\\n",
    "#            color='teal',linestyle='-',marker='o',label='STN 42')\n",
    "\n",
    "\n",
    "\n",
    "#fig.set_title('')\n",
    "#fig.savefig('.png',bbox_inches='tight')"
   ]
  },
  {
   "cell_type": "code",
   "execution_count": 62,
   "metadata": {},
   "outputs": [
    {
     "data": {
      "text/plain": [
       "Month\n",
       "3     0.796334\n",
       "4     0.636726\n",
       "5     0.209962\n",
       "6     0.395847\n",
       "7     0.643826\n",
       "9     0.626561\n",
       "10    0.105523\n",
       "Name: BPR (g C m-2), dtype: float64"
      ]
     },
     "execution_count": 62,
     "metadata": {},
     "output_type": "execute_result"
    }
   ],
   "source": [
    "monthlymeanSTN42['BPR (g C m-2)']"
   ]
  },
  {
   "cell_type": "code",
   "execution_count": 63,
   "metadata": {},
   "outputs": [],
   "source": [
    "SPStn42=np.array([\n",
    "         0.796334,\n",
    "0.636726,\n",
    "0.209962,\n",
    "0.395847,\n",
    "0.643826,\n",
    "0.626561,\n",
    "0.105523])"
   ]
  },
  {
   "cell_type": "code",
   "execution_count": 64,
   "metadata": {},
   "outputs": [],
   "source": [
    "PPStn42=np.array([\n",
    "1.450000,\n",
    "12.800000,\n",
    "6.400000,\n",
    "2.633333,\n",
    "1.400000,\n",
    "2.605000,\n",
    "0.492500])"
   ]
  },
  {
   "cell_type": "code",
   "execution_count": 65,
   "metadata": {},
   "outputs": [
    {
     "data": {
      "text/plain": [
       "array([0.796334, 0.636726, 0.209962, 0.395847, 0.643826, 0.626561,\n",
       "       0.105523])"
      ]
     },
     "execution_count": 65,
     "metadata": {},
     "output_type": "execute_result"
    }
   ],
   "source": [
    "SPStn42"
   ]
  },
  {
   "cell_type": "code",
   "execution_count": 66,
   "metadata": {},
   "outputs": [],
   "source": [
    "TTEStn42=(SPStn42/PPStn42)*100"
   ]
  },
  {
   "cell_type": "code",
   "execution_count": 67,
   "metadata": {},
   "outputs": [
    {
     "data": {
      "text/plain": [
       "array([54.91958621,  4.97442187,  3.28065625, 15.03216646, 45.98757143,\n",
       "       24.05224568, 21.42598985])"
      ]
     },
     "execution_count": 67,
     "metadata": {},
     "output_type": "execute_result"
    }
   ],
   "source": [
    "TTEStn42"
   ]
  },
  {
   "cell_type": "code",
   "execution_count": 77,
   "metadata": {},
   "outputs": [
    {
     "data": {
      "text/plain": [
       "3.28065625"
      ]
     },
     "execution_count": 77,
     "metadata": {},
     "output_type": "execute_result"
    }
   ],
   "source": [
    "TTEStn42.min()"
   ]
  },
  {
   "cell_type": "code",
   "execution_count": 78,
   "metadata": {},
   "outputs": [
    {
     "data": {
      "text/plain": [
       "54.919586206896554"
      ]
     },
     "execution_count": 78,
     "metadata": {},
     "output_type": "execute_result"
    }
   ],
   "source": [
    "TTEStn42.max()"
   ]
  },
  {
   "cell_type": "code",
   "execution_count": 68,
   "metadata": {},
   "outputs": [
    {
     "data": {
      "text/plain": [
       "24.238948249904798"
      ]
     },
     "execution_count": 68,
     "metadata": {},
     "output_type": "execute_result"
    }
   ],
   "source": [
    "TTEStn42.mean()"
   ]
  },
  {
   "cell_type": "code",
   "execution_count": null,
   "metadata": {},
   "outputs": [],
   "source": []
  }
 ],
 "metadata": {
  "kernelspec": {
   "display_name": "Python (py39)",
   "language": "python",
   "name": "py39"
  },
  "language_info": {
   "codemirror_mode": {
    "name": "ipython",
    "version": 3
   },
   "file_extension": ".py",
   "mimetype": "text/x-python",
   "name": "python",
   "nbconvert_exporter": "python",
   "pygments_lexer": "ipython3",
   "version": "3.9.15"
  }
 },
 "nbformat": 4,
 "nbformat_minor": 4
}
