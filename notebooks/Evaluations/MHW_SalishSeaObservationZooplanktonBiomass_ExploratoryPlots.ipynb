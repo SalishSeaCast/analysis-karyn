{
 "cells": [
  {
   "cell_type": "code",
   "execution_count": 1,
   "metadata": {},
   "outputs": [],
   "source": [
    "import numpy as np\n",
    "import pandas as pd\n",
    "import matplotlib.pyplot as plt\n",
    "import datetime as dt\n",
    "from salishsea_tools import evaltools as et, viz_tools\n",
    "import os\n",
    "import datetime as dt\n",
    "import gsw\n",
    "import matplotlib.gridspec as gridspec\n",
    "import matplotlib as mpl\n",
    "import matplotlib.dates as mdates\n",
    "import cmocean as cmo\n",
    "import scipy.interpolate as sinterp\n",
    "import cmocean\n",
    "import json\n",
    "import f90nml\n",
    "from collections import OrderedDict\n",
    "from scipy.stats.mstats import gmean\n",
    "\n",
    "fs=16\n",
    "mpl.rc('xtick', labelsize=fs)\n",
    "mpl.rc('ytick', labelsize=fs)\n",
    "mpl.rc('legend', fontsize=fs)\n",
    "mpl.rc('axes', titlesize=fs)\n",
    "mpl.rc('axes', labelsize=fs)\n",
    "mpl.rc('figure', titlesize=fs)\n",
    "mpl.rc('font', size=fs)\n",
    "mpl.rc('font', family='sans-serif', weight='normal', style='normal')\n",
    "\n",
    "import warnings\n",
    "#warnings.filterwarnings('ignore')\n",
    "from IPython.display import Markdown, display\n",
    "\n",
    "\n",
    "\n",
    "%matplotlib inline\n",
    "\n"
   ]
  },
  {
   "cell_type": "code",
   "execution_count": 2,
   "metadata": {},
   "outputs": [],
   "source": [
    "PSdf=pd.read_excel('/ocean/ksuchy/MOAD/analysis-karyn/notebooks/Evaluations/MHW_PugetSoundMesoZoopBiomassDF.xlsx',engine='openpyxl')"
   ]
  },
  {
   "cell_type": "code",
   "execution_count": 3,
   "metadata": {},
   "outputs": [
    {
     "data": {
      "text/html": [
       "<div>\n",
       "<style scoped>\n",
       "    .dataframe tbody tr th:only-of-type {\n",
       "        vertical-align: middle;\n",
       "    }\n",
       "\n",
       "    .dataframe tbody tr th {\n",
       "        vertical-align: top;\n",
       "    }\n",
       "\n",
       "    .dataframe thead th {\n",
       "        text-align: right;\n",
       "    }\n",
       "</style>\n",
       "<table border=\"1\" class=\"dataframe\">\n",
       "  <thead>\n",
       "    <tr style=\"text-align: right;\">\n",
       "      <th></th>\n",
       "      <th>Unnamed: 0</th>\n",
       "      <th>Key</th>\n",
       "      <th>Station</th>\n",
       "      <th>Site Name</th>\n",
       "      <th>Basin</th>\n",
       "      <th>Sub Basin</th>\n",
       "      <th>Lat</th>\n",
       "      <th>Lon</th>\n",
       "      <th>Sample Date</th>\n",
       "      <th>Sample Year</th>\n",
       "      <th>...</th>\n",
       "      <th>METACARCINUS MAGISTER</th>\n",
       "      <th>PINNIXA</th>\n",
       "      <th>PINNOTHERES</th>\n",
       "      <th>PUGETTIA</th>\n",
       "      <th>Year</th>\n",
       "      <th>YD</th>\n",
       "      <th>Amphipods</th>\n",
       "      <th>Euphausiids</th>\n",
       "      <th>Calanoids</th>\n",
       "      <th>Hydrozoans</th>\n",
       "    </tr>\n",
       "  </thead>\n",
       "  <tbody>\n",
       "    <tr>\n",
       "      <th>0</th>\n",
       "      <td>0</td>\n",
       "      <td>010218ELIV1151</td>\n",
       "      <td>ELIV</td>\n",
       "      <td>Eliza Island</td>\n",
       "      <td>Bellingham Bay</td>\n",
       "      <td>Bellingham Bay</td>\n",
       "      <td>48.63795</td>\n",
       "      <td>-122.5694</td>\n",
       "      <td>2018-01-02</td>\n",
       "      <td>2018</td>\n",
       "      <td>...</td>\n",
       "      <td>0.485673</td>\n",
       "      <td>0.0</td>\n",
       "      <td>0.0</td>\n",
       "      <td>0.000000</td>\n",
       "      <td>2018</td>\n",
       "      <td>2</td>\n",
       "      <td>5.438239</td>\n",
       "      <td>0.134369</td>\n",
       "      <td>0.732556</td>\n",
       "      <td>0.412138</td>\n",
       "    </tr>\n",
       "    <tr>\n",
       "      <th>1</th>\n",
       "      <td>1</td>\n",
       "      <td>010818SKETV1058</td>\n",
       "      <td>SKETV</td>\n",
       "      <td>South Ketron/Solo Point</td>\n",
       "      <td>South Sound</td>\n",
       "      <td>South Sound</td>\n",
       "      <td>47.15243</td>\n",
       "      <td>-122.6586</td>\n",
       "      <td>2018-01-08</td>\n",
       "      <td>2018</td>\n",
       "      <td>...</td>\n",
       "      <td>0.438340</td>\n",
       "      <td>0.0</td>\n",
       "      <td>0.0</td>\n",
       "      <td>0.000000</td>\n",
       "      <td>2018</td>\n",
       "      <td>8</td>\n",
       "      <td>7.505748</td>\n",
       "      <td>0.000000</td>\n",
       "      <td>0.712084</td>\n",
       "      <td>0.037197</td>\n",
       "    </tr>\n",
       "    <tr>\n",
       "      <th>2</th>\n",
       "      <td>2</td>\n",
       "      <td>011119ELIV1052</td>\n",
       "      <td>ELIV</td>\n",
       "      <td>Eliza Island</td>\n",
       "      <td>Bellingham Bay</td>\n",
       "      <td>Bellingham Bay</td>\n",
       "      <td>48.63795</td>\n",
       "      <td>-122.5694</td>\n",
       "      <td>2019-01-11</td>\n",
       "      <td>2019</td>\n",
       "      <td>...</td>\n",
       "      <td>0.000000</td>\n",
       "      <td>0.0</td>\n",
       "      <td>0.0</td>\n",
       "      <td>0.000000</td>\n",
       "      <td>2019</td>\n",
       "      <td>11</td>\n",
       "      <td>4.452295</td>\n",
       "      <td>0.000000</td>\n",
       "      <td>0.905289</td>\n",
       "      <td>0.011121</td>\n",
       "    </tr>\n",
       "    <tr>\n",
       "      <th>3</th>\n",
       "      <td>3</td>\n",
       "      <td>011315CAMV1330</td>\n",
       "      <td>CAMV</td>\n",
       "      <td>Camano Head</td>\n",
       "      <td>Whidbey Basin</td>\n",
       "      <td>S Whidbey Basin</td>\n",
       "      <td>48.05901</td>\n",
       "      <td>-122.3873</td>\n",
       "      <td>2015-01-13</td>\n",
       "      <td>2015</td>\n",
       "      <td>...</td>\n",
       "      <td>0.572797</td>\n",
       "      <td>0.0</td>\n",
       "      <td>0.0</td>\n",
       "      <td>0.000000</td>\n",
       "      <td>2015</td>\n",
       "      <td>13</td>\n",
       "      <td>6.376149</td>\n",
       "      <td>0.000000</td>\n",
       "      <td>6.978760</td>\n",
       "      <td>0.035561</td>\n",
       "    </tr>\n",
       "    <tr>\n",
       "      <th>4</th>\n",
       "      <td>4</td>\n",
       "      <td>011315MUKV1415</td>\n",
       "      <td>MUKV</td>\n",
       "      <td>Mukilteo</td>\n",
       "      <td>Whidbey Basin</td>\n",
       "      <td>S Whidbey Basin</td>\n",
       "      <td>47.97166</td>\n",
       "      <td>-122.3222</td>\n",
       "      <td>2015-01-13</td>\n",
       "      <td>2015</td>\n",
       "      <td>...</td>\n",
       "      <td>1.098103</td>\n",
       "      <td>0.0</td>\n",
       "      <td>0.0</td>\n",
       "      <td>0.000000</td>\n",
       "      <td>2015</td>\n",
       "      <td>13</td>\n",
       "      <td>15.713070</td>\n",
       "      <td>0.000000</td>\n",
       "      <td>4.084499</td>\n",
       "      <td>6.045911</td>\n",
       "    </tr>\n",
       "    <tr>\n",
       "      <th>...</th>\n",
       "      <td>...</td>\n",
       "      <td>...</td>\n",
       "      <td>...</td>\n",
       "      <td>...</td>\n",
       "      <td>...</td>\n",
       "      <td>...</td>\n",
       "      <td>...</td>\n",
       "      <td>...</td>\n",
       "      <td>...</td>\n",
       "      <td>...</td>\n",
       "      <td>...</td>\n",
       "      <td>...</td>\n",
       "      <td>...</td>\n",
       "      <td>...</td>\n",
       "      <td>...</td>\n",
       "      <td>...</td>\n",
       "      <td>...</td>\n",
       "      <td>...</td>\n",
       "      <td>...</td>\n",
       "      <td>...</td>\n",
       "      <td>...</td>\n",
       "    </tr>\n",
       "    <tr>\n",
       "      <th>1154</th>\n",
       "      <td>1154</td>\n",
       "      <td>121917LSNT01V1000</td>\n",
       "      <td>LSNT01V</td>\n",
       "      <td>Point Williams</td>\n",
       "      <td>Central Basin</td>\n",
       "      <td>N Central Basin</td>\n",
       "      <td>47.53333</td>\n",
       "      <td>-122.4333</td>\n",
       "      <td>2017-12-19</td>\n",
       "      <td>2017</td>\n",
       "      <td>...</td>\n",
       "      <td>0.000000</td>\n",
       "      <td>0.0</td>\n",
       "      <td>0.0</td>\n",
       "      <td>0.000000</td>\n",
       "      <td>2017</td>\n",
       "      <td>353</td>\n",
       "      <td>14.569518</td>\n",
       "      <td>0.011859</td>\n",
       "      <td>1.639055</td>\n",
       "      <td>0.053350</td>\n",
       "    </tr>\n",
       "    <tr>\n",
       "      <th>1155</th>\n",
       "      <td>1155</td>\n",
       "      <td>121917NSEX01V1224</td>\n",
       "      <td>NSEX01V</td>\n",
       "      <td>East Passage</td>\n",
       "      <td>Central Basin</td>\n",
       "      <td>S Central Basin</td>\n",
       "      <td>47.35862</td>\n",
       "      <td>-122.3871</td>\n",
       "      <td>2017-12-19</td>\n",
       "      <td>2017</td>\n",
       "      <td>...</td>\n",
       "      <td>0.000000</td>\n",
       "      <td>0.0</td>\n",
       "      <td>0.0</td>\n",
       "      <td>0.000000</td>\n",
       "      <td>2017</td>\n",
       "      <td>353</td>\n",
       "      <td>24.121695</td>\n",
       "      <td>0.000000</td>\n",
       "      <td>2.081817</td>\n",
       "      <td>0.015147</td>\n",
       "    </tr>\n",
       "    <tr>\n",
       "      <th>1156</th>\n",
       "      <td>1156</td>\n",
       "      <td>121918TDBV1327</td>\n",
       "      <td>TDBV</td>\n",
       "      <td>Thorndyke Bay</td>\n",
       "      <td>Hood Canal</td>\n",
       "      <td>N Hood Canal</td>\n",
       "      <td>47.78297</td>\n",
       "      <td>-122.7330</td>\n",
       "      <td>2018-12-19</td>\n",
       "      <td>2018</td>\n",
       "      <td>...</td>\n",
       "      <td>0.000000</td>\n",
       "      <td>0.0</td>\n",
       "      <td>0.0</td>\n",
       "      <td>0.000000</td>\n",
       "      <td>2018</td>\n",
       "      <td>353</td>\n",
       "      <td>8.147882</td>\n",
       "      <td>0.000000</td>\n",
       "      <td>0.904434</td>\n",
       "      <td>0.028217</td>\n",
       "    </tr>\n",
       "    <tr>\n",
       "      <th>1157</th>\n",
       "      <td>1157</td>\n",
       "      <td>122116LSNT01V1057</td>\n",
       "      <td>LSNT01V</td>\n",
       "      <td>Point Williams</td>\n",
       "      <td>Central Basin</td>\n",
       "      <td>N Central Basin</td>\n",
       "      <td>47.53333</td>\n",
       "      <td>-122.4333</td>\n",
       "      <td>2016-12-21</td>\n",
       "      <td>2016</td>\n",
       "      <td>...</td>\n",
       "      <td>0.000000</td>\n",
       "      <td>0.0</td>\n",
       "      <td>0.0</td>\n",
       "      <td>0.000000</td>\n",
       "      <td>2016</td>\n",
       "      <td>356</td>\n",
       "      <td>9.113340</td>\n",
       "      <td>0.000000</td>\n",
       "      <td>4.298667</td>\n",
       "      <td>0.143395</td>\n",
       "    </tr>\n",
       "    <tr>\n",
       "      <th>1158</th>\n",
       "      <td>1158</td>\n",
       "      <td>122116NSEX01V1237</td>\n",
       "      <td>NSEX01V</td>\n",
       "      <td>East Passage</td>\n",
       "      <td>Central Basin</td>\n",
       "      <td>S Central Basin</td>\n",
       "      <td>47.35862</td>\n",
       "      <td>-122.3871</td>\n",
       "      <td>2016-12-21</td>\n",
       "      <td>2016</td>\n",
       "      <td>...</td>\n",
       "      <td>0.000000</td>\n",
       "      <td>0.0</td>\n",
       "      <td>0.0</td>\n",
       "      <td>0.010953</td>\n",
       "      <td>2016</td>\n",
       "      <td>356</td>\n",
       "      <td>9.240974</td>\n",
       "      <td>0.054115</td>\n",
       "      <td>2.544306</td>\n",
       "      <td>0.027663</td>\n",
       "    </tr>\n",
       "  </tbody>\n",
       "</table>\n",
       "<p>1159 rows × 53 columns</p>\n",
       "</div>"
      ],
      "text/plain": [
       "      Unnamed: 0                Key  Station                Site Name  \\\n",
       "0              0     010218ELIV1151     ELIV             Eliza Island   \n",
       "1              1    010818SKETV1058    SKETV  South Ketron/Solo Point   \n",
       "2              2     011119ELIV1052     ELIV             Eliza Island   \n",
       "3              3     011315CAMV1330     CAMV              Camano Head   \n",
       "4              4     011315MUKV1415     MUKV                 Mukilteo   \n",
       "...          ...                ...      ...                      ...   \n",
       "1154        1154  121917LSNT01V1000  LSNT01V           Point Williams   \n",
       "1155        1155  121917NSEX01V1224  NSEX01V             East Passage   \n",
       "1156        1156     121918TDBV1327     TDBV            Thorndyke Bay   \n",
       "1157        1157  122116LSNT01V1057  LSNT01V           Point Williams   \n",
       "1158        1158  122116NSEX01V1237  NSEX01V             East Passage   \n",
       "\n",
       "               Basin        Sub Basin       Lat       Lon Sample Date  \\\n",
       "0     Bellingham Bay   Bellingham Bay  48.63795 -122.5694  2018-01-02   \n",
       "1        South Sound      South Sound  47.15243 -122.6586  2018-01-08   \n",
       "2     Bellingham Bay   Bellingham Bay  48.63795 -122.5694  2019-01-11   \n",
       "3      Whidbey Basin  S Whidbey Basin  48.05901 -122.3873  2015-01-13   \n",
       "4      Whidbey Basin  S Whidbey Basin  47.97166 -122.3222  2015-01-13   \n",
       "...              ...              ...       ...       ...         ...   \n",
       "1154   Central Basin  N Central Basin  47.53333 -122.4333  2017-12-19   \n",
       "1155   Central Basin  S Central Basin  47.35862 -122.3871  2017-12-19   \n",
       "1156      Hood Canal     N Hood Canal  47.78297 -122.7330  2018-12-19   \n",
       "1157   Central Basin  N Central Basin  47.53333 -122.4333  2016-12-21   \n",
       "1158   Central Basin  S Central Basin  47.35862 -122.3871  2016-12-21   \n",
       "\n",
       "      Sample Year  ...  METACARCINUS MAGISTER PINNIXA  PINNOTHERES  PUGETTIA  \\\n",
       "0            2018  ...               0.485673     0.0          0.0  0.000000   \n",
       "1            2018  ...               0.438340     0.0          0.0  0.000000   \n",
       "2            2019  ...               0.000000     0.0          0.0  0.000000   \n",
       "3            2015  ...               0.572797     0.0          0.0  0.000000   \n",
       "4            2015  ...               1.098103     0.0          0.0  0.000000   \n",
       "...           ...  ...                    ...     ...          ...       ...   \n",
       "1154         2017  ...               0.000000     0.0          0.0  0.000000   \n",
       "1155         2017  ...               0.000000     0.0          0.0  0.000000   \n",
       "1156         2018  ...               0.000000     0.0          0.0  0.000000   \n",
       "1157         2016  ...               0.000000     0.0          0.0  0.000000   \n",
       "1158         2016  ...               0.000000     0.0          0.0  0.010953   \n",
       "\n",
       "      Year   YD  Amphipods Euphausiids  Calanoids  Hydrozoans  \n",
       "0     2018    2   5.438239    0.134369   0.732556    0.412138  \n",
       "1     2018    8   7.505748    0.000000   0.712084    0.037197  \n",
       "2     2019   11   4.452295    0.000000   0.905289    0.011121  \n",
       "3     2015   13   6.376149    0.000000   6.978760    0.035561  \n",
       "4     2015   13  15.713070    0.000000   4.084499    6.045911  \n",
       "...    ...  ...        ...         ...        ...         ...  \n",
       "1154  2017  353  14.569518    0.011859   1.639055    0.053350  \n",
       "1155  2017  353  24.121695    0.000000   2.081817    0.015147  \n",
       "1156  2018  353   8.147882    0.000000   0.904434    0.028217  \n",
       "1157  2016  356   9.113340    0.000000   4.298667    0.143395  \n",
       "1158  2016  356   9.240974    0.054115   2.544306    0.027663  \n",
       "\n",
       "[1159 rows x 53 columns]"
      ]
     },
     "execution_count": 3,
     "metadata": {},
     "output_type": "execute_result"
    }
   ],
   "source": [
    "PSdf"
   ]
  },
  {
   "cell_type": "code",
   "execution_count": 5,
   "metadata": {},
   "outputs": [],
   "source": [
    "SoGdf=pd.read_excel('/ocean/ksuchy/MOAD/analysis-karyn/notebooks/Evaluations/MHW_SoGMesoZoopBiomassDF.xlsx',engine='openpyxl')"
   ]
  },
  {
   "cell_type": "code",
   "execution_count": 6,
   "metadata": {},
   "outputs": [
    {
     "data": {
      "text/html": [
       "<div>\n",
       "<style scoped>\n",
       "    .dataframe tbody tr th:only-of-type {\n",
       "        vertical-align: middle;\n",
       "    }\n",
       "\n",
       "    .dataframe tbody tr th {\n",
       "        vertical-align: top;\n",
       "    }\n",
       "\n",
       "    .dataframe thead th {\n",
       "        text-align: right;\n",
       "    }\n",
       "</style>\n",
       "<table border=\"1\" class=\"dataframe\">\n",
       "  <thead>\n",
       "    <tr style=\"text-align: right;\">\n",
       "      <th></th>\n",
       "      <th>Unnamed: 0</th>\n",
       "      <th>Key</th>\n",
       "      <th>region_name</th>\n",
       "      <th>Station</th>\n",
       "      <th>Lon</th>\n",
       "      <th>Lat</th>\n",
       "      <th>Date</th>\n",
       "      <th>dtUTC</th>\n",
       "      <th>Twilight</th>\n",
       "      <th>Net_Type</th>\n",
       "      <th>...</th>\n",
       "      <th>Euphausiacea</th>\n",
       "      <th>Calanoida</th>\n",
       "      <th>Leptothecate</th>\n",
       "      <th>Year</th>\n",
       "      <th>Month</th>\n",
       "      <th>YD</th>\n",
       "      <th>Amphipods</th>\n",
       "      <th>Decapods</th>\n",
       "      <th>Euphausiids</th>\n",
       "      <th>Calanoids</th>\n",
       "    </tr>\n",
       "  </thead>\n",
       "  <tbody>\n",
       "    <tr>\n",
       "      <th>0</th>\n",
       "      <td>0</td>\n",
       "      <td>HAK2016096000401</td>\n",
       "      <td>Northern Strait of Georgia</td>\n",
       "      <td>QU39</td>\n",
       "      <td>-125.099</td>\n",
       "      <td>50.031</td>\n",
       "      <td>10/24/2016</td>\n",
       "      <td>2016-10-24 17:19:00</td>\n",
       "      <td>Daylight</td>\n",
       "      <td>Bongo VNH</td>\n",
       "      <td>...</td>\n",
       "      <td>9.26809</td>\n",
       "      <td>12.17683</td>\n",
       "      <td>0.00000</td>\n",
       "      <td>2016</td>\n",
       "      <td>10</td>\n",
       "      <td>298</td>\n",
       "      <td>5.645282</td>\n",
       "      <td>0.000000</td>\n",
       "      <td>4.170640</td>\n",
       "      <td>5.479573</td>\n",
       "    </tr>\n",
       "    <tr>\n",
       "      <th>1</th>\n",
       "      <td>1</td>\n",
       "      <td>HAK2016096000501</td>\n",
       "      <td>Northern Strait of Georgia</td>\n",
       "      <td>QU39</td>\n",
       "      <td>-125.099</td>\n",
       "      <td>50.031</td>\n",
       "      <td>11/10/2016</td>\n",
       "      <td>2016-11-10 17:50:00</td>\n",
       "      <td>Daylight</td>\n",
       "      <td>Bongo VNH</td>\n",
       "      <td>...</td>\n",
       "      <td>5.06110</td>\n",
       "      <td>31.05908</td>\n",
       "      <td>0.35548</td>\n",
       "      <td>2016</td>\n",
       "      <td>11</td>\n",
       "      <td>315</td>\n",
       "      <td>1.788363</td>\n",
       "      <td>1.133748</td>\n",
       "      <td>2.277495</td>\n",
       "      <td>13.976586</td>\n",
       "    </tr>\n",
       "    <tr>\n",
       "      <th>2</th>\n",
       "      <td>2</td>\n",
       "      <td>HAK2016096000901</td>\n",
       "      <td>Northern Strait of Georgia</td>\n",
       "      <td>QU39</td>\n",
       "      <td>-125.099</td>\n",
       "      <td>50.031</td>\n",
       "      <td>12/5/2016</td>\n",
       "      <td>2016-12-05 21:29:00</td>\n",
       "      <td>Daylight</td>\n",
       "      <td>Bongo VNH</td>\n",
       "      <td>...</td>\n",
       "      <td>0.06198</td>\n",
       "      <td>8.40507</td>\n",
       "      <td>0.09764</td>\n",
       "      <td>2016</td>\n",
       "      <td>12</td>\n",
       "      <td>340</td>\n",
       "      <td>1.821973</td>\n",
       "      <td>0.518116</td>\n",
       "      <td>0.027891</td>\n",
       "      <td>3.782282</td>\n",
       "    </tr>\n",
       "    <tr>\n",
       "      <th>3</th>\n",
       "      <td>3</td>\n",
       "      <td>HAK2016096001001</td>\n",
       "      <td>Northern Strait of Georgia</td>\n",
       "      <td>QU39</td>\n",
       "      <td>-125.099</td>\n",
       "      <td>50.031</td>\n",
       "      <td>12/14/2016</td>\n",
       "      <td>2016-12-14 18:00:00</td>\n",
       "      <td>Daylight</td>\n",
       "      <td>Bongo VNH</td>\n",
       "      <td>...</td>\n",
       "      <td>0.65854</td>\n",
       "      <td>2.71573</td>\n",
       "      <td>0.04687</td>\n",
       "      <td>2016</td>\n",
       "      <td>12</td>\n",
       "      <td>349</td>\n",
       "      <td>0.930960</td>\n",
       "      <td>0.000000</td>\n",
       "      <td>0.296343</td>\n",
       "      <td>1.222079</td>\n",
       "    </tr>\n",
       "    <tr>\n",
       "      <th>4</th>\n",
       "      <td>4</td>\n",
       "      <td>HAK2017097000101</td>\n",
       "      <td>Northern Strait of Georgia</td>\n",
       "      <td>QU39</td>\n",
       "      <td>-125.099</td>\n",
       "      <td>50.031</td>\n",
       "      <td>1/5/2017</td>\n",
       "      <td>2017-01-05 19:30:00</td>\n",
       "      <td>Daylight</td>\n",
       "      <td>Bongo VNH</td>\n",
       "      <td>...</td>\n",
       "      <td>0.58255</td>\n",
       "      <td>4.91433</td>\n",
       "      <td>0.04690</td>\n",
       "      <td>2017</td>\n",
       "      <td>1</td>\n",
       "      <td>5</td>\n",
       "      <td>1.657881</td>\n",
       "      <td>0.046989</td>\n",
       "      <td>0.262147</td>\n",
       "      <td>2.211448</td>\n",
       "    </tr>\n",
       "    <tr>\n",
       "      <th>...</th>\n",
       "      <td>...</td>\n",
       "      <td>...</td>\n",
       "      <td>...</td>\n",
       "      <td>...</td>\n",
       "      <td>...</td>\n",
       "      <td>...</td>\n",
       "      <td>...</td>\n",
       "      <td>...</td>\n",
       "      <td>...</td>\n",
       "      <td>...</td>\n",
       "      <td>...</td>\n",
       "      <td>...</td>\n",
       "      <td>...</td>\n",
       "      <td>...</td>\n",
       "      <td>...</td>\n",
       "      <td>...</td>\n",
       "      <td>...</td>\n",
       "      <td>...</td>\n",
       "      <td>...</td>\n",
       "      <td>...</td>\n",
       "      <td>...</td>\n",
       "    </tr>\n",
       "    <tr>\n",
       "      <th>2406</th>\n",
       "      <td>2406</td>\n",
       "      <td>UVI2005000001401</td>\n",
       "      <td>Central Strait of Georgia</td>\n",
       "      <td>GEO1</td>\n",
       "      <td>-123.748</td>\n",
       "      <td>49.250</td>\n",
       "      <td>5/13/2005</td>\n",
       "      <td>2005-05-13 19:00:00</td>\n",
       "      <td>Daylight</td>\n",
       "      <td>SCOR VNH</td>\n",
       "      <td>...</td>\n",
       "      <td>3.43535</td>\n",
       "      <td>4.42425</td>\n",
       "      <td>7.66203</td>\n",
       "      <td>2005</td>\n",
       "      <td>5</td>\n",
       "      <td>133</td>\n",
       "      <td>0.657680</td>\n",
       "      <td>0.331713</td>\n",
       "      <td>1.545907</td>\n",
       "      <td>1.990913</td>\n",
       "    </tr>\n",
       "    <tr>\n",
       "      <th>2407</th>\n",
       "      <td>2407</td>\n",
       "      <td>UVI2005000001501</td>\n",
       "      <td>Central Strait of Georgia</td>\n",
       "      <td>GEO1</td>\n",
       "      <td>-123.748</td>\n",
       "      <td>49.250</td>\n",
       "      <td>5/13/2005</td>\n",
       "      <td>2005-05-13 19:15:00</td>\n",
       "      <td>Daylight</td>\n",
       "      <td>SCOR VNH</td>\n",
       "      <td>...</td>\n",
       "      <td>1.14309</td>\n",
       "      <td>5.46309</td>\n",
       "      <td>0.17165</td>\n",
       "      <td>2005</td>\n",
       "      <td>5</td>\n",
       "      <td>133</td>\n",
       "      <td>2.124648</td>\n",
       "      <td>0.350442</td>\n",
       "      <td>0.514390</td>\n",
       "      <td>2.458391</td>\n",
       "    </tr>\n",
       "    <tr>\n",
       "      <th>2408</th>\n",
       "      <td>2408</td>\n",
       "      <td>UVI2005000001601</td>\n",
       "      <td>Central Strait of Georgia</td>\n",
       "      <td>GEO1</td>\n",
       "      <td>-123.748</td>\n",
       "      <td>49.250</td>\n",
       "      <td>6/23/2005</td>\n",
       "      <td>2005-06-23 19:00:00</td>\n",
       "      <td>Daylight</td>\n",
       "      <td>SCOR VNH</td>\n",
       "      <td>...</td>\n",
       "      <td>0.77439</td>\n",
       "      <td>15.71802</td>\n",
       "      <td>0.55845</td>\n",
       "      <td>2005</td>\n",
       "      <td>6</td>\n",
       "      <td>174</td>\n",
       "      <td>0.949725</td>\n",
       "      <td>0.084438</td>\n",
       "      <td>0.348475</td>\n",
       "      <td>7.073109</td>\n",
       "    </tr>\n",
       "    <tr>\n",
       "      <th>2409</th>\n",
       "      <td>2409</td>\n",
       "      <td>UVI2005000001701</td>\n",
       "      <td>Central Strait of Georgia</td>\n",
       "      <td>GEO1</td>\n",
       "      <td>-123.748</td>\n",
       "      <td>49.250</td>\n",
       "      <td>6/23/2005</td>\n",
       "      <td>2005-06-23 19:15:00</td>\n",
       "      <td>Daylight</td>\n",
       "      <td>SCOR VNH</td>\n",
       "      <td>...</td>\n",
       "      <td>0.88086</td>\n",
       "      <td>7.04148</td>\n",
       "      <td>0.00994</td>\n",
       "      <td>2005</td>\n",
       "      <td>6</td>\n",
       "      <td>174</td>\n",
       "      <td>3.395475</td>\n",
       "      <td>0.185387</td>\n",
       "      <td>0.396387</td>\n",
       "      <td>3.168666</td>\n",
       "    </tr>\n",
       "    <tr>\n",
       "      <th>2410</th>\n",
       "      <td>2410</td>\n",
       "      <td>UVI2005000002001</td>\n",
       "      <td>Central Strait of Georgia</td>\n",
       "      <td>GEO1</td>\n",
       "      <td>-123.748</td>\n",
       "      <td>49.250</td>\n",
       "      <td>9/24/2005</td>\n",
       "      <td>2005-09-24 19:15:00</td>\n",
       "      <td>Daylight</td>\n",
       "      <td>SCOR VNH</td>\n",
       "      <td>...</td>\n",
       "      <td>0.41332</td>\n",
       "      <td>14.46747</td>\n",
       "      <td>0.00000</td>\n",
       "      <td>2005</td>\n",
       "      <td>9</td>\n",
       "      <td>267</td>\n",
       "      <td>3.446734</td>\n",
       "      <td>0.116631</td>\n",
       "      <td>0.185994</td>\n",
       "      <td>6.510362</td>\n",
       "    </tr>\n",
       "  </tbody>\n",
       "</table>\n",
       "<p>2411 rows × 26 columns</p>\n",
       "</div>"
      ],
      "text/plain": [
       "      Unnamed: 0               Key                 region_name Station  \\\n",
       "0              0  HAK2016096000401  Northern Strait of Georgia    QU39   \n",
       "1              1  HAK2016096000501  Northern Strait of Georgia    QU39   \n",
       "2              2  HAK2016096000901  Northern Strait of Georgia    QU39   \n",
       "3              3  HAK2016096001001  Northern Strait of Georgia    QU39   \n",
       "4              4  HAK2017097000101  Northern Strait of Georgia    QU39   \n",
       "...          ...               ...                         ...     ...   \n",
       "2406        2406  UVI2005000001401   Central Strait of Georgia    GEO1   \n",
       "2407        2407  UVI2005000001501   Central Strait of Georgia    GEO1   \n",
       "2408        2408  UVI2005000001601   Central Strait of Georgia    GEO1   \n",
       "2409        2409  UVI2005000001701   Central Strait of Georgia    GEO1   \n",
       "2410        2410  UVI2005000002001   Central Strait of Georgia    GEO1   \n",
       "\n",
       "          Lon     Lat        Date               dtUTC  Twilight   Net_Type  \\\n",
       "0    -125.099  50.031  10/24/2016 2016-10-24 17:19:00  Daylight  Bongo VNH   \n",
       "1    -125.099  50.031  11/10/2016 2016-11-10 17:50:00  Daylight  Bongo VNH   \n",
       "2    -125.099  50.031   12/5/2016 2016-12-05 21:29:00  Daylight  Bongo VNH   \n",
       "3    -125.099  50.031  12/14/2016 2016-12-14 18:00:00  Daylight  Bongo VNH   \n",
       "4    -125.099  50.031    1/5/2017 2017-01-05 19:30:00  Daylight  Bongo VNH   \n",
       "...       ...     ...         ...                 ...       ...        ...   \n",
       "2406 -123.748  49.250   5/13/2005 2005-05-13 19:00:00  Daylight   SCOR VNH   \n",
       "2407 -123.748  49.250   5/13/2005 2005-05-13 19:15:00  Daylight   SCOR VNH   \n",
       "2408 -123.748  49.250   6/23/2005 2005-06-23 19:00:00  Daylight   SCOR VNH   \n",
       "2409 -123.748  49.250   6/23/2005 2005-06-23 19:15:00  Daylight   SCOR VNH   \n",
       "2410 -123.748  49.250   9/24/2005 2005-09-24 19:15:00  Daylight   SCOR VNH   \n",
       "\n",
       "      ...  Euphausiacea  Calanoida  Leptothecate  Year  Month   YD  Amphipods  \\\n",
       "0     ...       9.26809   12.17683       0.00000  2016     10  298   5.645282   \n",
       "1     ...       5.06110   31.05908       0.35548  2016     11  315   1.788363   \n",
       "2     ...       0.06198    8.40507       0.09764  2016     12  340   1.821973   \n",
       "3     ...       0.65854    2.71573       0.04687  2016     12  349   0.930960   \n",
       "4     ...       0.58255    4.91433       0.04690  2017      1    5   1.657881   \n",
       "...   ...           ...        ...           ...   ...    ...  ...        ...   \n",
       "2406  ...       3.43535    4.42425       7.66203  2005      5  133   0.657680   \n",
       "2407  ...       1.14309    5.46309       0.17165  2005      5  133   2.124648   \n",
       "2408  ...       0.77439   15.71802       0.55845  2005      6  174   0.949725   \n",
       "2409  ...       0.88086    7.04148       0.00994  2005      6  174   3.395475   \n",
       "2410  ...       0.41332   14.46747       0.00000  2005      9  267   3.446734   \n",
       "\n",
       "      Decapods  Euphausiids  Calanoids  \n",
       "0     0.000000     4.170640   5.479573  \n",
       "1     1.133748     2.277495  13.976586  \n",
       "2     0.518116     0.027891   3.782282  \n",
       "3     0.000000     0.296343   1.222079  \n",
       "4     0.046989     0.262147   2.211448  \n",
       "...        ...          ...        ...  \n",
       "2406  0.331713     1.545907   1.990913  \n",
       "2407  0.350442     0.514390   2.458391  \n",
       "2408  0.084438     0.348475   7.073109  \n",
       "2409  0.185387     0.396387   3.168666  \n",
       "2410  0.116631     0.185994   6.510362  \n",
       "\n",
       "[2411 rows x 26 columns]"
      ]
     },
     "execution_count": 6,
     "metadata": {},
     "output_type": "execute_result"
    }
   ],
   "source": [
    "SoGdf"
   ]
  },
  {
   "cell_type": "code",
   "execution_count": 7,
   "metadata": {},
   "outputs": [
    {
     "data": {
      "text/plain": [
       "Index(['Unnamed: 0', 'Key', 'region_name', 'Station', 'Lon', 'Lat', 'Date',\n",
       "       'dtUTC', 'Twilight', 'Net_Type', 'Mesh_Size(um)', 'Z_lower', 'Z_upper',\n",
       "       'Bottom Depth(m)', 'Amphipoda', 'Decapoda', 'Euphausiacea', 'Calanoida',\n",
       "       'Leptothecate', 'Year', 'Month', 'YD', 'Amphipods', 'Decapods',\n",
       "       'Euphausiids', 'Calanoids'],\n",
       "      dtype='object')"
      ]
     },
     "execution_count": 7,
     "metadata": {},
     "output_type": "execute_result"
    }
   ],
   "source": [
    "SoGdf.keys()"
   ]
  },
  {
   "cell_type": "code",
   "execution_count": 8,
   "metadata": {},
   "outputs": [],
   "source": [
    "SoGdf.rename(columns={'Leptothecate':'Hydrozoans'},inplace=True)"
   ]
  },
  {
   "cell_type": "code",
   "execution_count": 9,
   "metadata": {},
   "outputs": [
    {
     "data": {
      "text/plain": [
       "Index(['Unnamed: 0', 'Key', 'region_name', 'Station', 'Lon', 'Lat', 'Date',\n",
       "       'dtUTC', 'Twilight', 'Net_Type', 'Mesh_Size(um)', 'Z_lower', 'Z_upper',\n",
       "       'Bottom Depth(m)', 'Amphipoda', 'Decapoda', 'Euphausiacea', 'Calanoida',\n",
       "       'Hydrozoans', 'Year', 'Month', 'YD', 'Amphipods', 'Decapods',\n",
       "       'Euphausiids', 'Calanoids'],\n",
       "      dtype='object')"
      ]
     },
     "execution_count": 9,
     "metadata": {},
     "output_type": "execute_result"
    }
   ],
   "source": [
    "SoGdf.keys()"
   ]
  },
  {
   "cell_type": "code",
   "execution_count": 10,
   "metadata": {},
   "outputs": [],
   "source": [
    "SoGdf.drop(labels=['Station','Twilight', 'Net_Type', 'Mesh_Size(um)','Bottom Depth(m)', 'Amphipoda', 'Euphausiacea', 'Calanoida',\n",
    "       'Decapoda',  'Year', 'Month', ],axis=1,inplace=True) #removed 'YD' from drop list"
   ]
  },
  {
   "cell_type": "code",
   "execution_count": 11,
   "metadata": {},
   "outputs": [
    {
     "data": {
      "text/plain": [
       "Index(['Unnamed: 0', 'Key', 'region_name', 'Lon', 'Lat', 'Date', 'dtUTC',\n",
       "       'Z_lower', 'Z_upper', 'Hydrozoans', 'YD', 'Amphipods', 'Decapods',\n",
       "       'Euphausiids', 'Calanoids'],\n",
       "      dtype='object')"
      ]
     },
     "execution_count": 11,
     "metadata": {},
     "output_type": "execute_result"
    }
   ],
   "source": [
    "SoGdf.keys()"
   ]
  },
  {
   "cell_type": "code",
   "execution_count": 12,
   "metadata": {},
   "outputs": [],
   "source": [
    "#rename columns\n"
   ]
  },
  {
   "cell_type": "code",
   "execution_count": 13,
   "metadata": {},
   "outputs": [
    {
     "data": {
      "text/plain": [
       "Index(['Unnamed: 0', 'Key', 'Station', 'Site Name', 'Basin', 'Sub Basin',\n",
       "       'Lat', 'Lon', 'Sample Date', 'Sample Year', 'Sample Month',\n",
       "       'Sample Time', 'Mesh Size', 'Diameter (cm)', 'Z', 'Z_lower', 'Z_upper',\n",
       "       'dtUTC', 'CALANUS MARSHALLAE', 'CALANUS PACIFICUS', 'EUCALANUS',\n",
       "       'EUCALANUS BUNGII', 'METRIDIA PACIFICA', 'NEOCALANUS PLUMCHRUS',\n",
       "       'CYPHOCARIS CHALLENGERI', 'CALLIOPIUS PACIFICUS', 'GAMMARIDEA',\n",
       "       'THEMISTO PACIFICA', 'EUPHAUSIA PACIFICA', 'THYSANOESSA RASCHII',\n",
       "       'CHAETOGNATHA', 'CLYTIA GREGARIA', 'AEQUOREA VICTORIA',\n",
       "       'AGLANTHA DIGITALE', 'BARNACLES', 'FABIA SUBQUADRATA',\n",
       "       'CANCER PRODUCTUS', 'CANCRIDAE', 'Cancridae Lg', 'Cancridae Sm',\n",
       "       'GLEBOCARCINUS OREGONENSIS', 'LOPHOPANOPEUS BELLUS',\n",
       "       'METACARCINUS GRACILIS', 'METACARCINUS MAGISTER', 'PINNIXA',\n",
       "       'PINNOTHERES', 'PUGETTIA', 'Year', 'YD', 'Amphipods', 'Euphausiids',\n",
       "       'Calanoids', 'Hydrozoans'],\n",
       "      dtype='object')"
      ]
     },
     "execution_count": 13,
     "metadata": {},
     "output_type": "execute_result"
    }
   ],
   "source": [
    "PSdf.keys()"
   ]
  },
  {
   "cell_type": "code",
   "execution_count": 14,
   "metadata": {},
   "outputs": [],
   "source": [
    "#rename columns\n",
    "#"
   ]
  },
  {
   "cell_type": "code",
   "execution_count": 15,
   "metadata": {},
   "outputs": [],
   "source": [
    "PSdf.drop(labels=['Site Name','Station','Sub Basin', 'Sample Year', 'Sample Month',\n",
    "       'Sample Time','Mesh Size', 'Diameter (cm)','Z',\n",
    "        'CALANUS MARSHALLAE', 'CALANUS PACIFICUS', 'EUCALANUS',\n",
    "       'EUCALANUS BUNGII', 'METRIDIA PACIFICA', 'NEOCALANUS PLUMCHRUS',\n",
    "       'CYPHOCARIS CHALLENGERI', 'CALLIOPIUS PACIFICUS', 'GAMMARIDEA',\n",
    "       'THEMISTO PACIFICA', 'EUPHAUSIA PACIFICA', 'THYSANOESSA RASCHII',\n",
    "       'CHAETOGNATHA', 'CLYTIA GREGARIA', 'AEQUOREA VICTORIA',\n",
    "       'AGLANTHA DIGITALE', 'BARNACLES', 'FABIA SUBQUADRATA',\n",
    "       'CANCER PRODUCTUS', 'CANCRIDAE', 'Cancridae Lg', 'Cancridae Sm',\n",
    "       'GLEBOCARCINUS OREGONENSIS', 'LOPHOPANOPEUS BELLUS',\n",
    "       'METACARCINUS GRACILIS', 'METACARCINUS MAGISTER', 'PINNIXA',\n",
    "       'PINNOTHERES', 'PUGETTIA', 'Year', ],axis=1,inplace=True) #removed 'YD' from drop list"
   ]
  },
  {
   "cell_type": "code",
   "execution_count": 16,
   "metadata": {},
   "outputs": [
    {
     "data": {
      "text/plain": [
       "Index(['Unnamed: 0', 'Key', 'Basin', 'Lat', 'Lon', 'Sample Date', 'Z_lower',\n",
       "       'Z_upper', 'dtUTC', 'YD', 'Amphipods', 'Euphausiids', 'Calanoids',\n",
       "       'Hydrozoans'],\n",
       "      dtype='object')"
      ]
     },
     "execution_count": 16,
     "metadata": {},
     "output_type": "execute_result"
    }
   ],
   "source": [
    "PSdf.keys()"
   ]
  },
  {
   "cell_type": "code",
   "execution_count": 17,
   "metadata": {},
   "outputs": [],
   "source": [
    "PSdf.rename(columns={'Basin':'region_name','Sample Date':'Date'},inplace=True)"
   ]
  },
  {
   "cell_type": "code",
   "execution_count": null,
   "metadata": {},
   "outputs": [],
   "source": []
  },
  {
   "cell_type": "code",
   "execution_count": 18,
   "metadata": {},
   "outputs": [
    {
     "data": {
      "text/plain": [
       "Index(['Unnamed: 0', 'Key', 'region_name', 'Lon', 'Lat', 'Date', 'dtUTC',\n",
       "       'Z_lower', 'Z_upper', 'Hydrozoans', 'YD', 'Amphipods', 'Decapods',\n",
       "       'Euphausiids', 'Calanoids'],\n",
       "      dtype='object')"
      ]
     },
     "execution_count": 18,
     "metadata": {},
     "output_type": "execute_result"
    }
   ],
   "source": [
    "SoGdf.keys()"
   ]
  },
  {
   "cell_type": "code",
   "execution_count": 20,
   "metadata": {},
   "outputs": [],
   "source": [
    "SoGdf.drop(labels=['Decapods' ],axis=1,inplace=True)"
   ]
  },
  {
   "cell_type": "code",
   "execution_count": 21,
   "metadata": {},
   "outputs": [
    {
     "data": {
      "text/plain": [
       "Index(['Unnamed: 0', 'Key', 'region_name', 'Lat', 'Lon', 'Date', 'Z_lower',\n",
       "       'Z_upper', 'dtUTC', 'YD', 'Amphipods', 'Euphausiids', 'Calanoids',\n",
       "       'Hydrozoans'],\n",
       "      dtype='object')"
      ]
     },
     "execution_count": 21,
     "metadata": {},
     "output_type": "execute_result"
    }
   ],
   "source": [
    "PSdf.keys()"
   ]
  },
  {
   "cell_type": "code",
   "execution_count": 22,
   "metadata": {},
   "outputs": [],
   "source": [
    "SalishSeadf=pd.concat([PSdf, SoGdf], ignore_index=True)"
   ]
  },
  {
   "cell_type": "code",
   "execution_count": 23,
   "metadata": {},
   "outputs": [
    {
     "data": {
      "text/html": [
       "<div>\n",
       "<style scoped>\n",
       "    .dataframe tbody tr th:only-of-type {\n",
       "        vertical-align: middle;\n",
       "    }\n",
       "\n",
       "    .dataframe tbody tr th {\n",
       "        vertical-align: top;\n",
       "    }\n",
       "\n",
       "    .dataframe thead th {\n",
       "        text-align: right;\n",
       "    }\n",
       "</style>\n",
       "<table border=\"1\" class=\"dataframe\">\n",
       "  <thead>\n",
       "    <tr style=\"text-align: right;\">\n",
       "      <th></th>\n",
       "      <th>Unnamed: 0</th>\n",
       "      <th>Key</th>\n",
       "      <th>region_name</th>\n",
       "      <th>Lat</th>\n",
       "      <th>Lon</th>\n",
       "      <th>Date</th>\n",
       "      <th>Z_lower</th>\n",
       "      <th>Z_upper</th>\n",
       "      <th>dtUTC</th>\n",
       "      <th>YD</th>\n",
       "      <th>Amphipods</th>\n",
       "      <th>Euphausiids</th>\n",
       "      <th>Calanoids</th>\n",
       "      <th>Hydrozoans</th>\n",
       "    </tr>\n",
       "  </thead>\n",
       "  <tbody>\n",
       "    <tr>\n",
       "      <th>0</th>\n",
       "      <td>0</td>\n",
       "      <td>010218ELIV1151</td>\n",
       "      <td>Bellingham Bay</td>\n",
       "      <td>48.63795</td>\n",
       "      <td>-122.5694</td>\n",
       "      <td>2018-01-02 00:00:00</td>\n",
       "      <td>110.0</td>\n",
       "      <td>0</td>\n",
       "      <td>2018-01-02 19:51:00</td>\n",
       "      <td>2</td>\n",
       "      <td>5.438239</td>\n",
       "      <td>0.134369</td>\n",
       "      <td>0.732556</td>\n",
       "      <td>0.412138</td>\n",
       "    </tr>\n",
       "    <tr>\n",
       "      <th>1</th>\n",
       "      <td>1</td>\n",
       "      <td>010818SKETV1058</td>\n",
       "      <td>South Sound</td>\n",
       "      <td>47.15243</td>\n",
       "      <td>-122.6586</td>\n",
       "      <td>2018-01-08 00:00:00</td>\n",
       "      <td>122.0</td>\n",
       "      <td>0</td>\n",
       "      <td>2018-01-08 18:58:00</td>\n",
       "      <td>8</td>\n",
       "      <td>7.505748</td>\n",
       "      <td>0.000000</td>\n",
       "      <td>0.712084</td>\n",
       "      <td>0.037197</td>\n",
       "    </tr>\n",
       "    <tr>\n",
       "      <th>2</th>\n",
       "      <td>2</td>\n",
       "      <td>011119ELIV1052</td>\n",
       "      <td>Bellingham Bay</td>\n",
       "      <td>48.63795</td>\n",
       "      <td>-122.5694</td>\n",
       "      <td>2019-01-11 00:00:00</td>\n",
       "      <td>114.0</td>\n",
       "      <td>0</td>\n",
       "      <td>2019-01-11 18:52:00</td>\n",
       "      <td>11</td>\n",
       "      <td>4.452295</td>\n",
       "      <td>0.000000</td>\n",
       "      <td>0.905289</td>\n",
       "      <td>0.011121</td>\n",
       "    </tr>\n",
       "    <tr>\n",
       "      <th>3</th>\n",
       "      <td>3</td>\n",
       "      <td>011315CAMV1330</td>\n",
       "      <td>Whidbey Basin</td>\n",
       "      <td>48.05901</td>\n",
       "      <td>-122.3873</td>\n",
       "      <td>2015-01-13 00:00:00</td>\n",
       "      <td>170.0</td>\n",
       "      <td>0</td>\n",
       "      <td>2015-01-13 21:30:00</td>\n",
       "      <td>13</td>\n",
       "      <td>6.376149</td>\n",
       "      <td>0.000000</td>\n",
       "      <td>6.978760</td>\n",
       "      <td>0.035561</td>\n",
       "    </tr>\n",
       "    <tr>\n",
       "      <th>4</th>\n",
       "      <td>4</td>\n",
       "      <td>011315MUKV1415</td>\n",
       "      <td>Whidbey Basin</td>\n",
       "      <td>47.97166</td>\n",
       "      <td>-122.3222</td>\n",
       "      <td>2015-01-13 00:00:00</td>\n",
       "      <td>190.0</td>\n",
       "      <td>0</td>\n",
       "      <td>2015-01-13 22:15:00</td>\n",
       "      <td>13</td>\n",
       "      <td>15.713070</td>\n",
       "      <td>0.000000</td>\n",
       "      <td>4.084499</td>\n",
       "      <td>6.045911</td>\n",
       "    </tr>\n",
       "    <tr>\n",
       "      <th>...</th>\n",
       "      <td>...</td>\n",
       "      <td>...</td>\n",
       "      <td>...</td>\n",
       "      <td>...</td>\n",
       "      <td>...</td>\n",
       "      <td>...</td>\n",
       "      <td>...</td>\n",
       "      <td>...</td>\n",
       "      <td>...</td>\n",
       "      <td>...</td>\n",
       "      <td>...</td>\n",
       "      <td>...</td>\n",
       "      <td>...</td>\n",
       "      <td>...</td>\n",
       "    </tr>\n",
       "    <tr>\n",
       "      <th>3565</th>\n",
       "      <td>2406</td>\n",
       "      <td>UVI2005000001401</td>\n",
       "      <td>Central Strait of Georgia</td>\n",
       "      <td>49.25000</td>\n",
       "      <td>-123.7480</td>\n",
       "      <td>5/13/2005</td>\n",
       "      <td>100.0</td>\n",
       "      <td>0</td>\n",
       "      <td>2005-05-13 19:00:00</td>\n",
       "      <td>133</td>\n",
       "      <td>0.657680</td>\n",
       "      <td>1.545907</td>\n",
       "      <td>1.990913</td>\n",
       "      <td>7.662030</td>\n",
       "    </tr>\n",
       "    <tr>\n",
       "      <th>3566</th>\n",
       "      <td>2407</td>\n",
       "      <td>UVI2005000001501</td>\n",
       "      <td>Central Strait of Georgia</td>\n",
       "      <td>49.25000</td>\n",
       "      <td>-123.7480</td>\n",
       "      <td>5/13/2005</td>\n",
       "      <td>390.0</td>\n",
       "      <td>0</td>\n",
       "      <td>2005-05-13 19:15:00</td>\n",
       "      <td>133</td>\n",
       "      <td>2.124648</td>\n",
       "      <td>0.514390</td>\n",
       "      <td>2.458391</td>\n",
       "      <td>0.171650</td>\n",
       "    </tr>\n",
       "    <tr>\n",
       "      <th>3567</th>\n",
       "      <td>2408</td>\n",
       "      <td>UVI2005000001601</td>\n",
       "      <td>Central Strait of Georgia</td>\n",
       "      <td>49.25000</td>\n",
       "      <td>-123.7480</td>\n",
       "      <td>6/23/2005</td>\n",
       "      <td>100.0</td>\n",
       "      <td>0</td>\n",
       "      <td>2005-06-23 19:00:00</td>\n",
       "      <td>174</td>\n",
       "      <td>0.949725</td>\n",
       "      <td>0.348475</td>\n",
       "      <td>7.073109</td>\n",
       "      <td>0.558450</td>\n",
       "    </tr>\n",
       "    <tr>\n",
       "      <th>3568</th>\n",
       "      <td>2409</td>\n",
       "      <td>UVI2005000001701</td>\n",
       "      <td>Central Strait of Georgia</td>\n",
       "      <td>49.25000</td>\n",
       "      <td>-123.7480</td>\n",
       "      <td>6/23/2005</td>\n",
       "      <td>390.0</td>\n",
       "      <td>0</td>\n",
       "      <td>2005-06-23 19:15:00</td>\n",
       "      <td>174</td>\n",
       "      <td>3.395475</td>\n",
       "      <td>0.396387</td>\n",
       "      <td>3.168666</td>\n",
       "      <td>0.009940</td>\n",
       "    </tr>\n",
       "    <tr>\n",
       "      <th>3569</th>\n",
       "      <td>2410</td>\n",
       "      <td>UVI2005000002001</td>\n",
       "      <td>Central Strait of Georgia</td>\n",
       "      <td>49.25000</td>\n",
       "      <td>-123.7480</td>\n",
       "      <td>9/24/2005</td>\n",
       "      <td>390.0</td>\n",
       "      <td>0</td>\n",
       "      <td>2005-09-24 19:15:00</td>\n",
       "      <td>267</td>\n",
       "      <td>3.446734</td>\n",
       "      <td>0.185994</td>\n",
       "      <td>6.510362</td>\n",
       "      <td>0.000000</td>\n",
       "    </tr>\n",
       "  </tbody>\n",
       "</table>\n",
       "<p>3570 rows × 14 columns</p>\n",
       "</div>"
      ],
      "text/plain": [
       "      Unnamed: 0               Key                region_name       Lat  \\\n",
       "0              0    010218ELIV1151             Bellingham Bay  48.63795   \n",
       "1              1   010818SKETV1058                South Sound  47.15243   \n",
       "2              2    011119ELIV1052             Bellingham Bay  48.63795   \n",
       "3              3    011315CAMV1330              Whidbey Basin  48.05901   \n",
       "4              4    011315MUKV1415              Whidbey Basin  47.97166   \n",
       "...          ...               ...                        ...       ...   \n",
       "3565        2406  UVI2005000001401  Central Strait of Georgia  49.25000   \n",
       "3566        2407  UVI2005000001501  Central Strait of Georgia  49.25000   \n",
       "3567        2408  UVI2005000001601  Central Strait of Georgia  49.25000   \n",
       "3568        2409  UVI2005000001701  Central Strait of Georgia  49.25000   \n",
       "3569        2410  UVI2005000002001  Central Strait of Georgia  49.25000   \n",
       "\n",
       "           Lon                 Date  Z_lower  Z_upper               dtUTC  \\\n",
       "0    -122.5694  2018-01-02 00:00:00    110.0        0 2018-01-02 19:51:00   \n",
       "1    -122.6586  2018-01-08 00:00:00    122.0        0 2018-01-08 18:58:00   \n",
       "2    -122.5694  2019-01-11 00:00:00    114.0        0 2019-01-11 18:52:00   \n",
       "3    -122.3873  2015-01-13 00:00:00    170.0        0 2015-01-13 21:30:00   \n",
       "4    -122.3222  2015-01-13 00:00:00    190.0        0 2015-01-13 22:15:00   \n",
       "...        ...                  ...      ...      ...                 ...   \n",
       "3565 -123.7480            5/13/2005    100.0        0 2005-05-13 19:00:00   \n",
       "3566 -123.7480            5/13/2005    390.0        0 2005-05-13 19:15:00   \n",
       "3567 -123.7480            6/23/2005    100.0        0 2005-06-23 19:00:00   \n",
       "3568 -123.7480            6/23/2005    390.0        0 2005-06-23 19:15:00   \n",
       "3569 -123.7480            9/24/2005    390.0        0 2005-09-24 19:15:00   \n",
       "\n",
       "       YD  Amphipods  Euphausiids  Calanoids  Hydrozoans  \n",
       "0       2   5.438239     0.134369   0.732556    0.412138  \n",
       "1       8   7.505748     0.000000   0.712084    0.037197  \n",
       "2      11   4.452295     0.000000   0.905289    0.011121  \n",
       "3      13   6.376149     0.000000   6.978760    0.035561  \n",
       "4      13  15.713070     0.000000   4.084499    6.045911  \n",
       "...   ...        ...          ...        ...         ...  \n",
       "3565  133   0.657680     1.545907   1.990913    7.662030  \n",
       "3566  133   2.124648     0.514390   2.458391    0.171650  \n",
       "3567  174   0.949725     0.348475   7.073109    0.558450  \n",
       "3568  174   3.395475     0.396387   3.168666    0.009940  \n",
       "3569  267   3.446734     0.185994   6.510362    0.000000  \n",
       "\n",
       "[3570 rows x 14 columns]"
      ]
     },
     "execution_count": 23,
     "metadata": {},
     "output_type": "execute_result"
    }
   ],
   "source": [
    "SalishSeadf"
   ]
  },
  {
   "cell_type": "code",
   "execution_count": 24,
   "metadata": {},
   "outputs": [],
   "source": [
    "#create new columns\n",
    "SalishSeadf['Month']=[ii.month for ii in SalishSeadf['dtUTC']]\n",
    "SalishSeadf['Year']=[ii.year for ii in SalishSeadf['dtUTC']]"
   ]
  },
  {
   "cell_type": "code",
   "execution_count": 24,
   "metadata": {},
   "outputs": [],
   "source": [
    "#SalishSeadf.to_excel(\"SalishSeaBiomassDF.xlsx\")"
   ]
  },
  {
   "cell_type": "code",
   "execution_count": null,
   "metadata": {},
   "outputs": [],
   "source": []
  },
  {
   "cell_type": "code",
   "execution_count": 25,
   "metadata": {},
   "outputs": [],
   "source": [
    "# define log transform function with slight shift to accommodate zero values\n",
    "def logt(x):\n",
    "  return np.log10(x+.001)"
   ]
  },
  {
   "cell_type": "code",
   "execution_count": 26,
   "metadata": {},
   "outputs": [],
   "source": [
    "# define inverse log transform with same shift\n",
    "def logt_inv(y):\n",
    "    return 10**y-.001"
   ]
  },
  {
   "cell_type": "code",
   "execution_count": 27,
   "metadata": {},
   "outputs": [],
   "source": [
    "#look at data for MHW years 2014-2017\n",
    "\n",
    "View2013=SalishSeadf.loc[SalishSeadf.Year==2013]\n",
    "View2014=SalishSeadf.loc[SalishSeadf.Year==2014]\n",
    "View2015=SalishSeadf.loc[SalishSeadf.Year==2015]\n",
    "View2016=SalishSeadf.loc[SalishSeadf.Year==2016]\n",
    "View2017=SalishSeadf.loc[SalishSeadf.Year==2017]\n",
    "ViewMHW=SalishSeadf.loc[(SalishSeadf.Year==2014)|(SalishSeadf.Year==2015)|(SalishSeadf.Year==2016)]\n"
   ]
  },
  {
   "cell_type": "code",
   "execution_count": 28,
   "metadata": {},
   "outputs": [
    {
     "data": {
      "text/plain": [
       "Index(['Unnamed: 0', 'Key', 'region_name', 'Lat', 'Lon', 'Date', 'Z_lower',\n",
       "       'Z_upper', 'dtUTC', 'YD', 'Amphipods', 'Euphausiids', 'Calanoids',\n",
       "       'Hydrozoans', 'Month', 'Year'],\n",
       "      dtype='object')"
      ]
     },
     "execution_count": 28,
     "metadata": {},
     "output_type": "execute_result"
    }
   ],
   "source": [
    "ViewMHW.keys()"
   ]
  },
  {
   "cell_type": "code",
   "execution_count": 32,
   "metadata": {},
   "outputs": [
    {
     "data": {
      "text/plain": [
       "array(['Whidbey Basin', 'Central Basin', 'Admiralty Inlet', 'Hood Canal',\n",
       "       'South Sound', 'Bellingham Bay', 'San Juan',\n",
       "       'Northern Strait of Georgia', 'Central Strait of Georgia',\n",
       "       'Gulf Islands', 'Tidal Mixed', 'Juan de Fuca',\n",
       "       'Southern Strait of Georgia', 'Baynes Sound',\n",
       "       'Nearshore North West', 'San Juan Islands', 'Nearshore-North East'],\n",
       "      dtype=object)"
      ]
     },
     "execution_count": 32,
     "metadata": {},
     "output_type": "execute_result"
    }
   ],
   "source": [
    "ViewMHW['region_name'].unique()"
   ]
  },
  {
   "cell_type": "code",
   "execution_count": 33,
   "metadata": {},
   "outputs": [],
   "source": [
    "#look at data for a specific region\n",
    "ViewMainSoG=SalishSeadf.loc[(SalishSeadf.region_name=='Central Strait of Georgia')|(SalishSeadf.region_name=='Northern Strait of Georgia')|\\\n",
    "                     (SalishSeadf.region_name=='Southern Strait of Georgia')]\n",
    "\n",
    "ViewMixed=SalishSeadf.loc[SalishSeadf.region_name=='Tidal Mixed']\n",
    "\n",
    "ViewJdF=SalishSeadf.loc[SalishSeadf.region_name=='Juan de Fuca']\n",
    "ViewPS=SalishSeadf.loc[SalishSeadf.region_name=='Central Basin']"
   ]
  },
  {
   "cell_type": "code",
   "execution_count": 34,
   "metadata": {},
   "outputs": [
    {
     "data": {
      "text/plain": [
       "Index(['Unnamed: 0', 'Key', 'region_name', 'Lat', 'Lon', 'Date', 'Z_lower',\n",
       "       'Z_upper', 'dtUTC', 'YD', 'Amphipods', 'Euphausiids', 'Calanoids',\n",
       "       'Hydrozoans', 'Month', 'Year'],\n",
       "      dtype='object')"
      ]
     },
     "execution_count": 34,
     "metadata": {},
     "output_type": "execute_result"
    }
   ],
   "source": [
    "ViewJdF.keys()"
   ]
  },
  {
   "cell_type": "markdown",
   "metadata": {},
   "source": [
    "## Calculate Climatology for each subregion"
   ]
  },
  {
   "cell_type": "code",
   "execution_count": 35,
   "metadata": {},
   "outputs": [],
   "source": [
    "annualmean_MainSoG=ViewMainSoG.groupby(['Year']).mean()\n",
    "annualmean_Mixed=ViewMixed.groupby(['Year']).mean()\n",
    "annualmean_JdF=ViewJdF.groupby(['Year']).mean()\n",
    "annualmean_PS=ViewPS.groupby(['Year']).mean()"
   ]
  },
  {
   "cell_type": "code",
   "execution_count": 36,
   "metadata": {},
   "outputs": [],
   "source": [
    "clim_MainSoG=annualmean_MainSoG.mean()\n",
    "clim_Mixed=annualmean_Mixed.mean()\n",
    "clim_JdF=annualmean_JdF.mean()\n",
    "clim_PS=annualmean_PS.mean()"
   ]
  },
  {
   "cell_type": "code",
   "execution_count": 38,
   "metadata": {},
   "outputs": [],
   "source": [
    "mhw_MainSoG=ViewMHW.loc[(ViewMHW.region_name=='Central Strait of Georgia')|(ViewMHW.region_name=='Northern Strait of Georgia')|\\\n",
    "                     (ViewMHW.region_name=='Southern Strait of Georgia')]\n",
    "                    \n",
    "\n",
    "mhw_Mixed=ViewMHW.loc[(ViewMHW.region_name=='Tidal Mixed')]\n",
    "\n",
    "mhw_JdF=ViewMHW.loc[(ViewMHW.region_name=='Juan de Fuca')]\n",
    "\n",
    "mhw_PS=ViewMHW.loc[(ViewMHW.region_name=='Central Basin')]\n",
    "                    \n"
   ]
  },
  {
   "cell_type": "code",
   "execution_count": 39,
   "metadata": {},
   "outputs": [],
   "source": [
    "mhwmean_MainSoG=mhw_MainSoG.groupby(['Year']).mean()\n",
    "mhwmean_Mixed=mhw_Mixed.groupby(['Year']).mean()\n",
    "mhwmean_JdF=mhw_JdF.groupby(['Year']).mean()\n",
    "mhwmean_PS=mhw_PS.groupby(['Year']).mean()"
   ]
  },
  {
   "cell_type": "code",
   "execution_count": 40,
   "metadata": {},
   "outputs": [],
   "source": [
    "mhwmean_MainSoG=mhwmean_MainSoG.mean()\n",
    "mhwmean_Mixed=mhwmean_Mixed.mean()\n",
    "mhwmean_JdF=mhwmean_JdF.mean()\n",
    "mhwmean_PS=mhwmean_PS.mean()"
   ]
  },
  {
   "cell_type": "code",
   "execution_count": 42,
   "metadata": {},
   "outputs": [
    {
     "data": {
      "text/plain": [
       "Unnamed: 0     616.342674\n",
       "Lat             47.546501\n",
       "Lon           -122.416030\n",
       "Z_lower        189.861607\n",
       "Z_upper          0.000000\n",
       "YD             192.689938\n",
       "Amphipods       22.280679\n",
       "Euphausiids      0.154788\n",
       "Calanoids       10.458942\n",
       "Hydrozoans       2.979059\n",
       "Month            6.927615\n",
       "dtype: float64"
      ]
     },
     "execution_count": 42,
     "metadata": {},
     "output_type": "execute_result"
    }
   ],
   "source": [
    "mhwmean_PS"
   ]
  },
  {
   "cell_type": "code",
   "execution_count": 94,
   "metadata": {},
   "outputs": [
    {
     "data": {
      "text/plain": [
       "22.425171572373102"
      ]
     },
     "execution_count": 94,
     "metadata": {},
     "output_type": "execute_result"
    }
   ],
   "source": [
    "clim_PS['Amphipods']"
   ]
  },
  {
   "cell_type": "code",
   "execution_count": 93,
   "metadata": {},
   "outputs": [
    {
     "data": {
      "image/png": "[encoded data removed]",
      "text/plain": [
       "<Figure size 500x500 with 1 Axes>"
      ]
     },
     "metadata": {},
     "output_type": "display_data"
    }
   ],
   "source": [
    "fig, ax = plt.subplots(figsize=(5, 5))\n",
    "bbox = {'boxstyle': 'round', 'facecolor': 'w', 'alpha': 0.9}\n",
    "\n",
    "\n",
    "x = ['JdF', 'Mixed', 'SoG','PS']\n",
    "y1 = [clim_JdF['Euphausiids'],clim_Mixed['Euphausiids'],clim_MainSoG['Euphausiids'],clim_PS['Euphausiids']]\n",
    "y2 = [clim_JdF['Calanoids'],clim_Mixed['Calanoids'],clim_MainSoG['Calanoids'],clim_PS['Calanoids']]\n",
    "y3 = [clim_JdF['Amphipods'],clim_Mixed['Amphipods'],clim_MainSoG['Amphipods'],clim_PS['Amphipods']]\n",
    "y4 = [clim_JdF['Hydrozoans'],clim_Mixed['Hydrozoans'],clim_MainSoG['Hydrozoans'],clim_PS['Hydrozoans']]\n",
    "\n",
    "y1=np.array(y1)\n",
    "y2=np.array(y2)\n",
    "y3=np.array(y3)\n",
    "y4=np.array(y4)\n",
    " \n",
    "# plot bars in stack manner\n",
    "plt.bar(x, y1, color='#3776ab',label='Euphausiids')\n",
    "plt.bar(x, y2, bottom=y1,color='#ab3776',label='Calanoid Copepods')\n",
    "plt.bar(x, y3, bottom=np.add(y1,y2),color='#ab6b37',label='Amphipods')\n",
    "plt.bar(x, y4, bottom=np.add(y1,y2,y3), color='#37ab6c',label='Hydrozoans')\n",
    "\n",
    "plt.legend(frameon=False,bbox_to_anchor=[1,.6,0,0])\n",
    "ax.set_ylim(0,35)\n",
    "ax.set_ylabel('Biomass (mg C m$^{-3}$)')\n",
    "ax.set_title('Climatology')\n",
    "plt.show()"
   ]
  },
  {
   "cell_type": "code",
   "execution_count": 114,
   "metadata": {},
   "outputs": [
    {
     "name": "stderr",
     "output_type": "stream",
     "text": [
      "No handles with labels found to put in legend.\n",
      "/tmp/ipykernel_3276318/28650661.py:27: UserWarning: FixedFormatter should only be used together with FixedLocator\n",
      "  ax.set_xticklabels(labels=x,fontsize=12,rotation=40)\n"
     ]
    },
    {
     "data": {
      "image/png": "[encoded data removed]",
      "text/plain": [
       "<Figure size 500x500 with 1 Axes>"
      ]
     },
     "metadata": {},
     "output_type": "display_data"
    }
   ],
   "source": [
    "fig, ax = plt.subplots(figsize=(5, 5))\n",
    "bbox = {'boxstyle': 'round', 'facecolor': 'w', 'alpha': 0.9}\n",
    "\n",
    "\n",
    "x = ['Euphausiids', 'Copepods','Amphipods','Hydrozoans']\n",
    "y =[clim_JdF['Euphausiids'],clim_JdF['Calanoids'],clim_JdF['Amphipods'],clim_JdF['Hydrozoans']]\n",
    "\n",
    "colors=['#3776ab','#ab3776','#ab6b37','#37ab6c']\n",
    "#y1 = [,clim_Mixed['Euphausiids'],clim_MainSoG['Euphausiids'],clim_PS['Euphausiids']]\n",
    "#y2 = [,clim_Mixed['Calanoids'],clim_MainSoG['Calanoids'],clim_PS['Calanoids']]\n",
    "#y3 = [,clim_Mixed['Amphipods'],clim_MainSoG['Amphipods'],clim_PS['Amphipods']]\n",
    "#y4 = [,clim_Mixed['Hydrozoans'],clim_MainSoG['Hydrozoans'],clim_PS['Hydrozoans']]\n",
    "\n",
    "#y1=np.array(y1)\n",
    "#y2=np.array(y2)\n",
    "#y3=np.array(y3)\n",
    "#y4=np.array(y4)\n",
    " \n",
    "# plot bars in stack manner\n",
    "plt.bar(x,y,color=colors,label='')\n",
    "#plt.bar(x, y2, bottom=y1,color=,label='Calanoid Copepods')\n",
    "#plt.bar(x, y3, bottom=np.add(y1,y2),color=,label='Amphipods')\n",
    "#plt.bar(x, y4, bottom=np.add(y1,y2,y3), color=,label='Hydrozoans')\n",
    "\n",
    "plt.legend(frameon=False,bbox_to_anchor=[1,.6,0,0])\n",
    "ax.set_ylim(0,25)\n",
    "ax.set_xticklabels(labels=x,fontsize=12,rotation=40)\n",
    "ax.set_ylabel('Biomass (mg C m$^{-3}$)')\n",
    "ax.set_title('Juan de Fuca Climatology')\n",
    "plt.show()"
   ]
  },
  {
   "cell_type": "code",
   "execution_count": 113,
   "metadata": {},
   "outputs": [
    {
     "name": "stderr",
     "output_type": "stream",
     "text": [
      "No handles with labels found to put in legend.\n",
      "/tmp/ipykernel_3276318/931360420.py:27: UserWarning: FixedFormatter should only be used together with FixedLocator\n",
      "  ax.set_xticklabels(labels=x,fontsize=12,rotation=40)\n"
     ]
    },
    {
     "data": {
      "image/png": "[encoded data removed]",
      "text/plain": [
       "<Figure size 500x500 with 1 Axes>"
      ]
     },
     "metadata": {},
     "output_type": "display_data"
    }
   ],
   "source": [
    "fig, ax = plt.subplots(figsize=(5, 5))\n",
    "bbox = {'boxstyle': 'round', 'facecolor': 'w', 'alpha': 0.9}\n",
    "\n",
    "\n",
    "x = ['Euphausiids', 'Copepods','Amphipods','Hydrozoans']\n",
    "y =[clim_Mixed['Euphausiids'],clim_Mixed['Calanoids'],clim_Mixed['Amphipods'],clim_Mixed['Hydrozoans']]\n",
    "\n",
    "colors=['#3776ab','#ab3776','#ab6b37','#37ab6c']\n",
    "#y1 = [,clim_Mixed['Euphausiids'],clim_MainSoG['Euphausiids'],clim_PS['Euphausiids']]\n",
    "#y2 = [,clim_Mixed['Calanoids'],clim_MainSoG['Calanoids'],clim_PS['Calanoids']]\n",
    "#y3 = [,clim_Mixed['Amphipods'],clim_MainSoG['Amphipods'],clim_PS['Amphipods']]\n",
    "#y4 = [,clim_Mixed['Hydrozoans'],clim_MainSoG['Hydrozoans'],clim_PS['Hydrozoans']]\n",
    "\n",
    "#y1=np.array(y1)\n",
    "#y2=np.array(y2)\n",
    "#y3=np.array(y3)\n",
    "#y4=np.array(y4)\n",
    " \n",
    "# plot bars in stack manner\n",
    "plt.bar(x,y,color=colors,label='')\n",
    "#plt.bar(x, y2, bottom=y1,color=,label='Calanoid Copepods')\n",
    "#plt.bar(x, y3, bottom=np.add(y1,y2),color=,label='Amphipods')\n",
    "#plt.bar(x, y4, bottom=np.add(y1,y2,y3), color=,label='Hydrozoans')\n",
    "\n",
    "plt.legend(frameon=False,bbox_to_anchor=[1,.6,0,0])\n",
    "ax.set_ylim(0,25)\n",
    "ax.set_xticklabels(labels=x,fontsize=12,rotation=40)\n",
    "ax.set_ylabel('Biomass (mg C m$^{-3}$)')\n",
    "ax.set_title('Mixed Region Climatology')\n",
    "plt.show()"
   ]
  },
  {
   "cell_type": "code",
   "execution_count": 115,
   "metadata": {},
   "outputs": [
    {
     "name": "stderr",
     "output_type": "stream",
     "text": [
      "No handles with labels found to put in legend.\n",
      "/tmp/ipykernel_3276318/1111920695.py:27: UserWarning: FixedFormatter should only be used together with FixedLocator\n",
      "  ax.set_xticklabels(labels=x,fontsize=12,rotation=40)\n"
     ]
    },
    {
     "data": {
      "image/png": "[encoded data removed]",
      "text/plain": [
       "<Figure size 500x500 with 1 Axes>"
      ]
     },
     "metadata": {},
     "output_type": "display_data"
    }
   ],
   "source": [
    "fig, ax = plt.subplots(figsize=(5, 5))\n",
    "bbox = {'boxstyle': 'round', 'facecolor': 'w', 'alpha': 0.9}\n",
    "\n",
    "\n",
    "x = ['Euphausiids', 'Copepods','Amphipods','Hydrozoans']\n",
    "y =[clim_MainSoG['Euphausiids'],clim_MainSoG['Calanoids'],clim_MainSoG['Amphipods'],clim_MainSoG['Hydrozoans']]\n",
    "\n",
    "colors=['#3776ab','#ab3776','#ab6b37','#37ab6c']\n",
    "#y1 = [,clim_Mixed['Euphausiids'],clim_MainSoG['Euphausiids'],clim_PS['Euphausiids']]\n",
    "#y2 = [,clim_Mixed['Calanoids'],clim_MainSoG['Calanoids'],clim_PS['Calanoids']]\n",
    "#y3 = [,clim_Mixed['Amphipods'],clim_MainSoG['Amphipods'],clim_PS['Amphipods']]\n",
    "#y4 = [,clim_Mixed['Hydrozoans'],clim_MainSoG['Hydrozoans'],clim_PS['Hydrozoans']]\n",
    "\n",
    "#y1=np.array(y1)\n",
    "#y2=np.array(y2)\n",
    "#y3=np.array(y3)\n",
    "#y4=np.array(y4)\n",
    " \n",
    "# plot bars in stack manner\n",
    "plt.bar(x,y,color=colors,label='')\n",
    "#plt.bar(x, y2, bottom=y1,color=,label='Calanoid Copepods')\n",
    "#plt.bar(x, y3, bottom=np.add(y1,y2),color=,label='Amphipods')\n",
    "#plt.bar(x, y4, bottom=np.add(y1,y2,y3), color=,label='Hydrozoans')\n",
    "\n",
    "plt.legend(frameon=False,bbox_to_anchor=[1,.6,0,0])\n",
    "ax.set_ylim(0,25)\n",
    "ax.set_xticklabels(labels=x,fontsize=12,rotation=40)\n",
    "ax.set_ylabel('Biomass (mg C m$^{-3}$)')\n",
    "ax.set_title('Strait of Georgia Climatology')\n",
    "plt.show()"
   ]
  },
  {
   "cell_type": "code",
   "execution_count": 112,
   "metadata": {},
   "outputs": [
    {
     "name": "stderr",
     "output_type": "stream",
     "text": [
      "No handles with labels found to put in legend.\n",
      "/tmp/ipykernel_3276318/2749304820.py:27: UserWarning: FixedFormatter should only be used together with FixedLocator\n",
      "  ax.set_xticklabels(labels=x,fontsize=12,rotation=40)\n"
     ]
    },
    {
     "data": {
      "image/png": "[encoded data removed]",
      "text/plain": [
       "<Figure size 500x500 with 1 Axes>"
      ]
     },
     "metadata": {},
     "output_type": "display_data"
    }
   ],
   "source": [
    "fig, ax = plt.subplots(figsize=(5, 5))\n",
    "bbox = {'boxstyle': 'round', 'facecolor': 'w', 'alpha': 0.9}\n",
    "\n",
    "\n",
    "x = ['Euphausiids', 'Copepods','Amphipods','Hydrozoans']\n",
    "y =[clim_PS['Euphausiids'],clim_PS['Calanoids'],clim_PS['Amphipods'],clim_PS['Hydrozoans']]\n",
    "\n",
    "colors=['#3776ab','#ab3776','#ab6b37','#37ab6c']\n",
    "#y1 = [,clim_Mixed['Euphausiids'],clim_MainSoG['Euphausiids'],clim_PS['Euphausiids']]\n",
    "#y2 = [,clim_Mixed['Calanoids'],clim_MainSoG['Calanoids'],clim_PS['Calanoids']]\n",
    "#y3 = [,clim_Mixed['Amphipods'],clim_MainSoG['Amphipods'],clim_PS['Amphipods']]\n",
    "#y4 = [,clim_Mixed['Hydrozoans'],clim_MainSoG['Hydrozoans'],clim_PS['Hydrozoans']]\n",
    "\n",
    "#y1=np.array(y1)\n",
    "#y2=np.array(y2)\n",
    "#y3=np.array(y3)\n",
    "#y4=np.array(y4)\n",
    " \n",
    "# plot bars in stack manner\n",
    "plt.bar(x,y,color=colors,label='')\n",
    "#plt.bar(x, y2, bottom=y1,color=,label='Calanoid Copepods')\n",
    "#plt.bar(x, y3, bottom=np.add(y1,y2),color=,label='Amphipods')\n",
    "#plt.bar(x, y4, bottom=np.add(y1,y2,y3), color=,label='Hydrozoans')\n",
    "\n",
    "plt.legend(frameon=False,bbox_to_anchor=[1,.6,0,0])\n",
    "ax.set_ylim(0,25)\n",
    "ax.set_xticklabels(labels=x,fontsize=12,rotation=40)\n",
    "ax.set_ylabel('Biomass (mg C m$^{-3}$)')\n",
    "ax.set_title('Puget Sound Climatology')\n",
    "plt.show()"
   ]
  },
  {
   "cell_type": "code",
   "execution_count": 46,
   "metadata": {},
   "outputs": [
    {
     "data": {
      "image/png": "[encoded data removed]",
      "text/plain": [
       "<Figure size 500x500 with 1 Axes>"
      ]
     },
     "metadata": {},
     "output_type": "display_data"
    }
   ],
   "source": [
    "fig, ax = plt.subplots(figsize=(5, 5))\n",
    "bbox = {'boxstyle': 'round', 'facecolor': 'w', 'alpha': 0.9}\n",
    "\n",
    "\n",
    "x = ['JdF', 'Mixed', 'SoG','PS']\n",
    "y1 = [mhwmean_JdF['Euphausiids'],mhwmean_Mixed['Euphausiids'],mhwmean_MainSoG['Euphausiids'],mhwmean_PS['Euphausiids']]\n",
    "y2 = [mhwmean_JdF['Calanoids'],mhwmean_Mixed['Calanoids'],mhwmean_MainSoG['Calanoids'],mhwmean_PS['Calanoids']]\n",
    "y3 = [mhwmean_JdF['Amphipods'],mhwmean_Mixed['Amphipods'],mhwmean_MainSoG['Amphipods'],mhwmean_PS['Amphipods']]\n",
    "y4 = [mhwmean_JdF['Hydrozoans'],mhwmean_Mixed['Hydrozoans'],mhwmean_MainSoG['Hydrozoans'],mhwmean_PS['Hydrozoans']]\n",
    " \n",
    "y1=np.array(y1)\n",
    "y2=np.array(y2)\n",
    "y3=np.array(y3)\n",
    "y4=np.array(y4)\n",
    "    \n",
    "# plot bars in stack manner\n",
    "plt.bar(x, y1, color='#3776ab',label='Euphausiids')\n",
    "plt.bar(x, y2, bottom=y1, color='#ab3776',label='Calanoid Copepods',zorder=1)\n",
    "plt.bar(x, y3, bottom=np.add(y1,y2), color='#ab6b37',label='Amphipods',zorder=4)\n",
    "plt.bar(x, y4, bottom=np.add(y1,y2,y3), color='#37ab6c',label='Hydrozoans',zorder=2)\n",
    "plt.legend(frameon=False,bbox_to_anchor=[1,.6,0,0])\n",
    "ax.set_ylim(0,35)\n",
    "ax.set_ylabel('Biomass (mg C m$^{-3}$)')\n",
    "ax.set_title('Marine Heat Wave Years')\n",
    "plt.show()"
   ]
  },
  {
   "cell_type": "code",
   "execution_count": 49,
   "metadata": {},
   "outputs": [
    {
     "data": {
      "text/plain": [
       "-0.038759876944367555"
      ]
     },
     "execution_count": 49,
     "metadata": {},
     "output_type": "execute_result"
    }
   ],
   "source": [
    "mhwmean_PS['Euphausiids']-clim_PS['Euphausiids']"
   ]
  },
  {
   "cell_type": "code",
   "execution_count": 48,
   "metadata": {},
   "outputs": [
    {
     "data": {
      "image/png": "[encoded data removed]",
      "text/plain": [
       "<Figure size 500x500 with 1 Axes>"
      ]
     },
     "metadata": {},
     "output_type": "display_data"
    }
   ],
   "source": [
    "fig, ax = plt.subplots(figsize=(5, 5))\n",
    "bbox = {'boxstyle': 'round', 'facecolor': 'w', 'alpha': 0.9}\n",
    "\n",
    "x1='JdF'\n",
    "x2='Mixed'\n",
    "x3='SoG'\n",
    "x4='PS'\n",
    "y1=mhwmean_JdF['Euphausiids']-clim_JdF['Euphausiids']\n",
    "y2=mhwmean_Mixed['Euphausiids']-clim_Mixed['Euphausiids']\n",
    "y3=mhwmean_MainSoG['Euphausiids']-clim_MainSoG['Euphausiids']\n",
    "y4=mhwmean_PS['Euphausiids']-clim_PS['Euphausiids']\n",
    "\n",
    "#x = ['JdF', 'Mixed', 'SoG']\n",
    "#y1 = [mhwmean_JdF['Euphausiids']-clim_JdF['Euphausiids'],mhwmean_Mixed['Euphausiids'],mhwmean_MainSoG['Euphausiids']]\n",
    "#y2 = [mhwmean_JdF['Calanoids']-clim_JdF['Calanoids'],mhwmean_Mixed['Calanoids'],mhwmean_MainSoG['Calanoids']]\n",
    "#y3 = [mhwmean_JdF['Amphipods']-clim_JdF['Amphipods'],mhwmean_Mixed['Amphipods'],mhwmean_MainSoG['Amphipods']]\n",
    "#y4 = [mhwmean_JdF['Leptothecate']-clim_JdF['Leptothecate'],mhwmean_Mixed['Leptothecate'],mhwmean_MainSoG['Leptothecate']]\n",
    " \n",
    "ax.bar(x1,y1,color='r',label='Euphausiids')\n",
    "ax.bar(x2,y2,color='b')\n",
    "ax.bar(x3,y3,color='b')\n",
    "ax.bar(x4,y4,color='b')\n",
    "#plt.legend(frameon=False,bbox_to_anchor=[1,.6,0,0])\n",
    "ax.set_ylim(-5,5)\n",
    "ax.axhline(y=0,color='grey')\n",
    "ax.set_title('MHW Years Euphausiid Anomalies')\n",
    "plt.show()"
   ]
  },
  {
   "cell_type": "code",
   "execution_count": 50,
   "metadata": {},
   "outputs": [
    {
     "data": {
      "image/png": "[encoded data removed]",
      "text/plain": [
       "<Figure size 500x500 with 1 Axes>"
      ]
     },
     "metadata": {},
     "output_type": "display_data"
    }
   ],
   "source": [
    "fig, ax = plt.subplots(figsize=(5, 5))\n",
    "bbox = {'boxstyle': 'round', 'facecolor': 'w', 'alpha': 0.9}\n",
    "\n",
    "x1='JdF'\n",
    "x2='Mixed'\n",
    "x3='SoG'\n",
    "x4='PS'\n",
    "y1=mhwmean_JdF['Calanoids']-clim_JdF['Calanoids']\n",
    "y2=mhwmean_Mixed['Calanoids']-clim_Mixed['Calanoids']\n",
    "y3=mhwmean_MainSoG['Calanoids']-clim_MainSoG['Calanoids']\n",
    "y4=mhwmean_PS['Calanoids']-clim_PS['Calanoids']\n",
    "#x = ['JdF', 'Mixed', 'SoG']\n",
    "#y1 = [mhwmean_JdF['Euphausiids']-clim_JdF['Euphausiids'],mhwmean_Mixed['Euphausiids'],mhwmean_MainSoG['Euphausiids']]\n",
    "#y2 = [mhwmean_JdF['Calanoids']-clim_JdF['Calanoids'],mhwmean_Mixed['Calanoids'],mhwmean_MainSoG['Calanoids']]\n",
    "#y3 = [mhwmean_JdF['Amphipods']-clim_JdF['Amphipods'],mhwmean_Mixed['Amphipods'],mhwmean_MainSoG['Amphipods']]\n",
    "#y4 = [mhwmean_JdF['Leptothecate']-clim_JdF['Leptothecate'],mhwmean_Mixed['Leptothecate'],mhwmean_MainSoG['Leptothecate']]\n",
    " \n",
    "ax.bar(x1,y1,color='r',label='Calanoids')\n",
    "ax.bar(x2,y2,color='r')\n",
    "ax.bar(x3,y3,color='r')\n",
    "ax.bar(x4,y4,color='r')\n",
    "#plt.legend(frameon=False,bbox_to_anchor=[1,.6,0,0])\n",
    "ax.set_ylim(-5,5)\n",
    "ax.axhline(y=0,color='grey')\n",
    "ax.set_title('MHW Years Calanoids Anomalies')\n",
    "plt.show()"
   ]
  },
  {
   "cell_type": "code",
   "execution_count": 51,
   "metadata": {},
   "outputs": [
    {
     "data": {
      "image/png": "[encoded data removed]",
      "text/plain": [
       "<Figure size 500x500 with 1 Axes>"
      ]
     },
     "metadata": {},
     "output_type": "display_data"
    }
   ],
   "source": [
    "fig, ax = plt.subplots(figsize=(5, 5))\n",
    "bbox = {'boxstyle': 'round', 'facecolor': 'w', 'alpha': 0.9}\n",
    "\n",
    "x1='JdF'\n",
    "x2='Mixed'\n",
    "x3='SoG'\n",
    "x4='PS'\n",
    "y1=mhwmean_JdF['Amphipods']-clim_JdF['Amphipods']\n",
    "y2=mhwmean_Mixed['Amphipods']-clim_Mixed['Amphipods']\n",
    "y3=mhwmean_MainSoG['Amphipods']-clim_MainSoG['Amphipods']\n",
    "y4=mhwmean_PS['Amphipods']-clim_PS['Amphipods']\n",
    "#x = ['JdF', 'Mixed', 'SoG']\n",
    "#y1 = [mhwmean_JdF['Euphausiids']-clim_JdF['Euphausiids'],mhwmean_Mixed['Euphausiids'],mhwmean_MainSoG['Euphausiids']]\n",
    "#y2 = [mhwmean_JdF['Calanoids']-clim_JdF['Calanoids'],mhwmean_Mixed['Calanoids'],mhwmean_MainSoG['Calanoids']]\n",
    "#y3 = [mhwmean_JdF['Amphipods']-clim_JdF['Amphipods'],mhwmean_Mixed['Amphipods'],mhwmean_MainSoG['Amphipods']]\n",
    "#y4 = [mhwmean_JdF['Leptothecate']-clim_JdF['Leptothecate'],mhwmean_Mixed['Leptothecate'],mhwmean_MainSoG['Leptothecate']]\n",
    " \n",
    "ax.bar(x1,y1,color='r',label='Amphipods')\n",
    "ax.bar(x2,y2,color='r')\n",
    "ax.bar(x3,y3,color='b')\n",
    "ax.bar(x4,y4,color='b')\n",
    "#plt.legend(frameon=False,bbox_to_anchor=[1,.6,0,0])\n",
    "ax.set_ylim(-5,5)\n",
    "ax.axhline(y=0,color='grey')\n",
    "ax.set_title('MHW Years Amphipods Anomalies')\n",
    "plt.show()"
   ]
  },
  {
   "cell_type": "code",
   "execution_count": 52,
   "metadata": {},
   "outputs": [
    {
     "data": {
      "image/png": "[encoded data removed]",
      "text/plain": [
       "<Figure size 500x500 with 1 Axes>"
      ]
     },
     "metadata": {},
     "output_type": "display_data"
    }
   ],
   "source": [
    "fig, ax = plt.subplots(figsize=(5, 5))\n",
    "bbox = {'boxstyle': 'round', 'facecolor': 'w', 'alpha': 0.9}\n",
    "\n",
    "x1='JdF'\n",
    "x2='Mixed'\n",
    "x3='SoG'\n",
    "x4='PS'\n",
    "y1=mhwmean_JdF['Hydrozoans']-clim_JdF['Hydrozoans']\n",
    "y2=mhwmean_Mixed['Hydrozoans']-clim_Mixed['Hydrozoans']\n",
    "y3=mhwmean_MainSoG['Hydrozoans']-clim_MainSoG['Hydrozoans']\n",
    "y4=mhwmean_PS['Hydrozoans']-clim_PS['Hydrozoans']\n",
    "#x = ['JdF', 'Mixed', 'SoG']\n",
    "#y1 = [mhwmean_JdF['Euphausiids']-clim_JdF['Euphausiids'],mhwmean_Mixed['Euphausiids'],mhwmean_MainSoG['Euphausiids']]\n",
    "#y2 = [mhwmean_JdF['Calanoids']-clim_JdF['Calanoids'],mhwmean_Mixed['Calanoids'],mhwmean_MainSoG['Calanoids']]\n",
    "#y3 = [mhwmean_JdF['Amphipods']-clim_JdF['Amphipods'],mhwmean_Mixed['Amphipods'],mhwmean_MainSoG['Amphipods']]\n",
    "#y4 = [mhwmean_JdF['Leptothecate']-clim_JdF['Leptothecate'],mhwmean_Mixed['Leptothecate'],mhwmean_MainSoG['Leptothecate']]\n",
    " \n",
    "ax.bar(x1,y1,color='r',label='Hydrozoan')\n",
    "ax.bar(x2,y2,color='r')\n",
    "ax.bar(x3,y3,color='r')\n",
    "ax.bar(x4,y4,color='r')\n",
    "#plt.legend(frameon=False,bbox_to_anchor=[1,.6,0,0])\n",
    "ax.set_ylim(-5,5)\n",
    "ax.axhline(y=0,color='grey')\n",
    "ax.set_title('MHW Years Hydrozoan Anomalies')\n",
    "plt.show()"
   ]
  },
  {
   "cell_type": "code",
   "execution_count": null,
   "metadata": {},
   "outputs": [],
   "source": []
  }
 ],
 "metadata": {
  "kernelspec": {
   "display_name": "Python (py39)",
   "language": "python",
   "name": "py39"
  },
  "language_info": {
   "codemirror_mode": {
    "name": "ipython",
    "version": 3
   },
   "file_extension": ".py",
   "mimetype": "text/x-python",
   "name": "python",
   "nbconvert_exporter": "python",
   "pygments_lexer": "ipython3",
   "version": "3.9.15"
  }
 },
 "nbformat": 4,
 "nbformat_minor": 4
}
