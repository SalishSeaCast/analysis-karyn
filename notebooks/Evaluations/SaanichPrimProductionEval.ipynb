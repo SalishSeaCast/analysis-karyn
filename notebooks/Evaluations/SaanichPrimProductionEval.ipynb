{
 "cells": [
  {
   "cell_type": "markdown",
   "metadata": {},
   "source": [
    "Import model data for comparison with observations"
   ]
  },
  {
   "cell_type": "code",
   "execution_count": 1,
   "metadata": {},
   "outputs": [],
   "source": [
    "import netCDF4 as nc\n",
    "import datetime as dt\n",
    "import pandas as pd\n",
    "from pandas import Series, DataFrame\n",
    "import subprocess\n",
    "import requests\n",
    "import matplotlib.pyplot as plt\n",
    "import cmocean\n",
    "import numpy as np\n",
    "import os\n",
    "import glob\n",
    "import dateutil as dutil\n",
    "from salishsea_tools import viz_tools, places\n",
    "import xarray as xr\n",
    "from salishsea_tools import evaltools as et\n",
    "from collections import OrderedDict\n",
    "\n",
    "%matplotlib inline"
   ]
  },
  {
   "cell_type": "code",
   "execution_count": 2,
   "metadata": {},
   "outputs": [],
   "source": [
    "\n",
    "start_date = dt.datetime(2010,1,1)\n",
    "end_date = dt.datetime(2011,12,31)\n",
    "flen=1 # number of days per model output file. always 1 for 201905 and 201812 model runs\n",
    "namfmt='nowcast' # for 201905 and 201812 model runs, this should always be 'nowcast'\n",
    "# filemap is dictionary of the form variableName: fileType, where variableName is the name\n",
    "# of the variable you want to extract and fileType designates the type of \n",
    "# model output file it can be found in (usually ptrc_T for biology, grid_T for temperature and \n",
    "# salinity)\n",
    "filemap={'PPDIAT':'prod_T','PPPHY':'prod_T'}\n",
    "# fdict is a dictionary mappy file type to its time resolution. Here, 1 means hourly output\n",
    "# (1h file) and 24 means daily output (1d file). In certain runs, multiple time resolutions \n",
    "# are available\n",
    "fdict={'prod_T':24,'grid_T':24} #24 for hours averaged "
   ]
  },
  {
   "cell_type": "code",
   "execution_count": 3,
   "metadata": {},
   "outputs": [
    {
     "data": {
      "text/plain": [
       "{'PPDIAT': 'prod_T', 'PPPHY': 'prod_T'}"
      ]
     },
     "execution_count": 3,
     "metadata": {},
     "output_type": "execute_result"
    }
   ],
   "source": [
    "filemap"
   ]
  },
  {
   "cell_type": "code",
   "execution_count": null,
   "metadata": {},
   "outputs": [],
   "source": []
  },
  {
   "cell_type": "code",
   "execution_count": 4,
   "metadata": {},
   "outputs": [],
   "source": [
    "#f=nc.Dataset('/results2/SalishSea/nowcast-green.202111/26jul23/SalishSea_1d_20230726_20230726_prod_T.nc')"
   ]
  },
  {
   "cell_type": "code",
   "execution_count": 5,
   "metadata": {},
   "outputs": [],
   "source": [
    "#f.variables.keys()"
   ]
  },
  {
   "cell_type": "code",
   "execution_count": 6,
   "metadata": {},
   "outputs": [],
   "source": [
    "PATH= '/results2/SalishSea/nowcast-green.202111/'"
   ]
  },
  {
   "cell_type": "code",
   "execution_count": 7,
   "metadata": {},
   "outputs": [],
   "source": [
    "df2=pd.read_csv('/ocean/ksuchy/MOAD/analysis-karyn/notebooks/Evaluations/SaanichPrimaryProduction_DepthSpecific.csv')"
   ]
  },
  {
   "cell_type": "code",
   "execution_count": 8,
   "metadata": {},
   "outputs": [
    {
     "data": {
      "text/html": [
       "<div>\n",
       "<style scoped>\n",
       "    .dataframe tbody tr th:only-of-type {\n",
       "        vertical-align: middle;\n",
       "    }\n",
       "\n",
       "    .dataframe tbody tr th {\n",
       "        vertical-align: top;\n",
       "    }\n",
       "\n",
       "    .dataframe thead th {\n",
       "        text-align: right;\n",
       "    }\n",
       "</style>\n",
       "<table border=\"1\" class=\"dataframe\">\n",
       "  <thead>\n",
       "    <tr style=\"text-align: right;\">\n",
       "      <th></th>\n",
       "      <th>Date</th>\n",
       "      <th>Z_lower</th>\n",
       "      <th>Z_upper</th>\n",
       "      <th>Lat</th>\n",
       "      <th>Lon</th>\n",
       "      <th>Primary Production (µmolC/L/h)</th>\n",
       "    </tr>\n",
       "  </thead>\n",
       "  <tbody>\n",
       "    <tr>\n",
       "      <th>0</th>\n",
       "      <td>11-Mar-10</td>\n",
       "      <td>0</td>\n",
       "      <td>0</td>\n",
       "      <td>48.59</td>\n",
       "      <td>-123.51</td>\n",
       "      <td>0.04</td>\n",
       "    </tr>\n",
       "    <tr>\n",
       "      <th>1</th>\n",
       "      <td>11-Mar-10</td>\n",
       "      <td>2</td>\n",
       "      <td>2</td>\n",
       "      <td>48.59</td>\n",
       "      <td>-123.51</td>\n",
       "      <td>0.10</td>\n",
       "    </tr>\n",
       "    <tr>\n",
       "      <th>2</th>\n",
       "      <td>11-Mar-10</td>\n",
       "      <td>8</td>\n",
       "      <td>8</td>\n",
       "      <td>48.59</td>\n",
       "      <td>-123.51</td>\n",
       "      <td>0.12</td>\n",
       "    </tr>\n",
       "    <tr>\n",
       "      <th>3</th>\n",
       "      <td>11-Mar-10</td>\n",
       "      <td>18</td>\n",
       "      <td>18</td>\n",
       "      <td>48.59</td>\n",
       "      <td>-123.51</td>\n",
       "      <td>0.00</td>\n",
       "    </tr>\n",
       "    <tr>\n",
       "      <th>4</th>\n",
       "      <td>18-Mar-10</td>\n",
       "      <td>0</td>\n",
       "      <td>0</td>\n",
       "      <td>48.59</td>\n",
       "      <td>-123.51</td>\n",
       "      <td>0.18</td>\n",
       "    </tr>\n",
       "    <tr>\n",
       "      <th>...</th>\n",
       "      <td>...</td>\n",
       "      <td>...</td>\n",
       "      <td>...</td>\n",
       "      <td>...</td>\n",
       "      <td>...</td>\n",
       "      <td>...</td>\n",
       "    </tr>\n",
       "    <tr>\n",
       "      <th>99</th>\n",
       "      <td>04-Aug-11</td>\n",
       "      <td>17</td>\n",
       "      <td>17</td>\n",
       "      <td>48.59</td>\n",
       "      <td>-123.51</td>\n",
       "      <td>0.00</td>\n",
       "    </tr>\n",
       "    <tr>\n",
       "      <th>100</th>\n",
       "      <td>17-Aug-11</td>\n",
       "      <td>0</td>\n",
       "      <td>0</td>\n",
       "      <td>48.59</td>\n",
       "      <td>-123.51</td>\n",
       "      <td>0.92</td>\n",
       "    </tr>\n",
       "    <tr>\n",
       "      <th>101</th>\n",
       "      <td>17-Aug-11</td>\n",
       "      <td>2</td>\n",
       "      <td>2</td>\n",
       "      <td>48.59</td>\n",
       "      <td>-123.51</td>\n",
       "      <td>0.91</td>\n",
       "    </tr>\n",
       "    <tr>\n",
       "      <th>102</th>\n",
       "      <td>17-Aug-11</td>\n",
       "      <td>5</td>\n",
       "      <td>5</td>\n",
       "      <td>48.59</td>\n",
       "      <td>-123.51</td>\n",
       "      <td>1.11</td>\n",
       "    </tr>\n",
       "    <tr>\n",
       "      <th>103</th>\n",
       "      <td>17-Aug-11</td>\n",
       "      <td>20</td>\n",
       "      <td>20</td>\n",
       "      <td>48.59</td>\n",
       "      <td>-123.51</td>\n",
       "      <td>0.00</td>\n",
       "    </tr>\n",
       "  </tbody>\n",
       "</table>\n",
       "<p>104 rows × 6 columns</p>\n",
       "</div>"
      ],
      "text/plain": [
       "          Date  Z_lower  Z_upper    Lat     Lon  \\\n",
       "0    11-Mar-10        0        0  48.59 -123.51   \n",
       "1    11-Mar-10        2        2  48.59 -123.51   \n",
       "2    11-Mar-10        8        8  48.59 -123.51   \n",
       "3    11-Mar-10       18       18  48.59 -123.51   \n",
       "4    18-Mar-10        0        0  48.59 -123.51   \n",
       "..         ...      ...      ...    ...     ...   \n",
       "99   04-Aug-11       17       17  48.59 -123.51   \n",
       "100  17-Aug-11        0        0  48.59 -123.51   \n",
       "101  17-Aug-11        2        2  48.59 -123.51   \n",
       "102  17-Aug-11        5        5  48.59 -123.51   \n",
       "103  17-Aug-11       20       20  48.59 -123.51   \n",
       "\n",
       "     Primary Production (µmolC/L/h)  \n",
       "0                              0.04  \n",
       "1                              0.10  \n",
       "2                              0.12  \n",
       "3                              0.00  \n",
       "4                              0.18  \n",
       "..                              ...  \n",
       "99                             0.00  \n",
       "100                            0.92  \n",
       "101                            0.91  \n",
       "102                            1.11  \n",
       "103                            0.00  \n",
       "\n",
       "[104 rows x 6 columns]"
      ]
     },
     "execution_count": 8,
     "metadata": {},
     "output_type": "execute_result"
    }
   ],
   "source": [
    "df2"
   ]
  },
  {
   "cell_type": "code",
   "execution_count": 9,
   "metadata": {},
   "outputs": [],
   "source": [
    "df2.rename(columns={'Date':'dtUTC'}, inplace=True)"
   ]
  },
  {
   "cell_type": "code",
   "execution_count": 10,
   "metadata": {},
   "outputs": [
    {
     "data": {
      "text/plain": [
       "'11-Mar-10'"
      ]
     },
     "execution_count": 10,
     "metadata": {},
     "output_type": "execute_result"
    }
   ],
   "source": [
    "df2['dtUTC'][0]"
   ]
  },
  {
   "cell_type": "code",
   "execution_count": 11,
   "metadata": {},
   "outputs": [],
   "source": [
    "df2['dtUTC'] = df2['dtUTC'].apply(lambda x:\n",
    "    dt.datetime.strptime(x, '%d-%b-%y'))"
   ]
  },
  {
   "cell_type": "code",
   "execution_count": 12,
   "metadata": {},
   "outputs": [
    {
     "data": {
      "text/plain": [
       "0     2010-03-11\n",
       "1     2010-03-11\n",
       "2     2010-03-11\n",
       "3     2010-03-11\n",
       "4     2010-03-18\n",
       "         ...    \n",
       "99    2011-08-04\n",
       "100   2011-08-17\n",
       "101   2011-08-17\n",
       "102   2011-08-17\n",
       "103   2011-08-17\n",
       "Name: dtUTC, Length: 104, dtype: datetime64[ns]"
      ]
     },
     "execution_count": 12,
     "metadata": {},
     "output_type": "execute_result"
    }
   ],
   "source": [
    "df2['dtUTC']"
   ]
  },
  {
   "cell_type": "code",
   "execution_count": 13,
   "metadata": {},
   "outputs": [
    {
     "name": "stdout",
     "output_type": "stream",
     "text": [
      "ftype=prod_T, are you sure? (if yes, add to list)\n"
     ]
    }
   ],
   "source": [
    "data=et.matchData(df2,filemap,fdict,start_date,end_date,namfmt,PATH,flen,quiet=False,method='vertNet');"
   ]
  },
  {
   "cell_type": "code",
   "execution_count": 14,
   "metadata": {},
   "outputs": [
    {
     "data": {
      "text/html": [
       "<div>\n",
       "<style scoped>\n",
       "    .dataframe tbody tr th:only-of-type {\n",
       "        vertical-align: middle;\n",
       "    }\n",
       "\n",
       "    .dataframe tbody tr th {\n",
       "        vertical-align: top;\n",
       "    }\n",
       "\n",
       "    .dataframe thead th {\n",
       "        text-align: right;\n",
       "    }\n",
       "</style>\n",
       "<table border=\"1\" class=\"dataframe\">\n",
       "  <thead>\n",
       "    <tr style=\"text-align: right;\">\n",
       "      <th></th>\n",
       "      <th>dtUTC</th>\n",
       "      <th>Z_lower</th>\n",
       "      <th>Z_upper</th>\n",
       "      <th>Lat</th>\n",
       "      <th>Lon</th>\n",
       "      <th>Primary Production (µmolC/L/h)</th>\n",
       "      <th>j</th>\n",
       "      <th>i</th>\n",
       "      <th>mod_PPDIAT</th>\n",
       "      <th>mod_PPPHY</th>\n",
       "      <th>k_upper</th>\n",
       "      <th>k_lower</th>\n",
       "    </tr>\n",
       "  </thead>\n",
       "  <tbody>\n",
       "    <tr>\n",
       "      <th>0</th>\n",
       "      <td>2010-03-11</td>\n",
       "      <td>0</td>\n",
       "      <td>0</td>\n",
       "      <td>48.59</td>\n",
       "      <td>-123.51</td>\n",
       "      <td>0.04</td>\n",
       "      <td>343</td>\n",
       "      <td>198</td>\n",
       "      <td>1.133342e-05</td>\n",
       "      <td>6.165959e-07</td>\n",
       "      <td>0</td>\n",
       "      <td>0</td>\n",
       "    </tr>\n",
       "    <tr>\n",
       "      <th>1</th>\n",
       "      <td>2010-03-11</td>\n",
       "      <td>2</td>\n",
       "      <td>2</td>\n",
       "      <td>48.59</td>\n",
       "      <td>-123.51</td>\n",
       "      <td>0.10</td>\n",
       "      <td>343</td>\n",
       "      <td>198</td>\n",
       "      <td>9.892851e-06</td>\n",
       "      <td>5.857280e-07</td>\n",
       "      <td>1</td>\n",
       "      <td>1</td>\n",
       "    </tr>\n",
       "    <tr>\n",
       "      <th>2</th>\n",
       "      <td>2010-03-11</td>\n",
       "      <td>8</td>\n",
       "      <td>8</td>\n",
       "      <td>48.59</td>\n",
       "      <td>-123.51</td>\n",
       "      <td>0.12</td>\n",
       "      <td>343</td>\n",
       "      <td>198</td>\n",
       "      <td>1.943511e-06</td>\n",
       "      <td>4.013070e-07</td>\n",
       "      <td>7</td>\n",
       "      <td>7</td>\n",
       "    </tr>\n",
       "    <tr>\n",
       "      <th>3</th>\n",
       "      <td>2010-03-11</td>\n",
       "      <td>18</td>\n",
       "      <td>18</td>\n",
       "      <td>48.59</td>\n",
       "      <td>-123.51</td>\n",
       "      <td>0.00</td>\n",
       "      <td>343</td>\n",
       "      <td>198</td>\n",
       "      <td>2.837013e-07</td>\n",
       "      <td>1.799787e-07</td>\n",
       "      <td>17</td>\n",
       "      <td>17</td>\n",
       "    </tr>\n",
       "    <tr>\n",
       "      <th>4</th>\n",
       "      <td>2010-03-18</td>\n",
       "      <td>0</td>\n",
       "      <td>0</td>\n",
       "      <td>48.59</td>\n",
       "      <td>-123.51</td>\n",
       "      <td>0.18</td>\n",
       "      <td>343</td>\n",
       "      <td>198</td>\n",
       "      <td>1.868914e-05</td>\n",
       "      <td>7.652120e-07</td>\n",
       "      <td>0</td>\n",
       "      <td>0</td>\n",
       "    </tr>\n",
       "    <tr>\n",
       "      <th>...</th>\n",
       "      <td>...</td>\n",
       "      <td>...</td>\n",
       "      <td>...</td>\n",
       "      <td>...</td>\n",
       "      <td>...</td>\n",
       "      <td>...</td>\n",
       "      <td>...</td>\n",
       "      <td>...</td>\n",
       "      <td>...</td>\n",
       "      <td>...</td>\n",
       "      <td>...</td>\n",
       "      <td>...</td>\n",
       "    </tr>\n",
       "    <tr>\n",
       "      <th>99</th>\n",
       "      <td>2011-08-04</td>\n",
       "      <td>17</td>\n",
       "      <td>17</td>\n",
       "      <td>48.59</td>\n",
       "      <td>-123.51</td>\n",
       "      <td>0.00</td>\n",
       "      <td>343</td>\n",
       "      <td>198</td>\n",
       "      <td>2.251967e-07</td>\n",
       "      <td>1.157120e-06</td>\n",
       "      <td>16</td>\n",
       "      <td>16</td>\n",
       "    </tr>\n",
       "    <tr>\n",
       "      <th>100</th>\n",
       "      <td>2011-08-17</td>\n",
       "      <td>2</td>\n",
       "      <td>2</td>\n",
       "      <td>48.59</td>\n",
       "      <td>-123.51</td>\n",
       "      <td>0.91</td>\n",
       "      <td>343</td>\n",
       "      <td>198</td>\n",
       "      <td>3.789441e-07</td>\n",
       "      <td>2.305688e-05</td>\n",
       "      <td>1</td>\n",
       "      <td>1</td>\n",
       "    </tr>\n",
       "    <tr>\n",
       "      <th>101</th>\n",
       "      <td>2011-08-17</td>\n",
       "      <td>5</td>\n",
       "      <td>5</td>\n",
       "      <td>48.59</td>\n",
       "      <td>-123.51</td>\n",
       "      <td>1.11</td>\n",
       "      <td>343</td>\n",
       "      <td>198</td>\n",
       "      <td>9.680538e-06</td>\n",
       "      <td>5.003816e-06</td>\n",
       "      <td>4</td>\n",
       "      <td>4</td>\n",
       "    </tr>\n",
       "    <tr>\n",
       "      <th>102</th>\n",
       "      <td>2011-08-17</td>\n",
       "      <td>0</td>\n",
       "      <td>0</td>\n",
       "      <td>48.59</td>\n",
       "      <td>-123.51</td>\n",
       "      <td>0.92</td>\n",
       "      <td>343</td>\n",
       "      <td>198</td>\n",
       "      <td>2.171762e-07</td>\n",
       "      <td>2.275390e-05</td>\n",
       "      <td>0</td>\n",
       "      <td>0</td>\n",
       "    </tr>\n",
       "    <tr>\n",
       "      <th>103</th>\n",
       "      <td>2011-08-17</td>\n",
       "      <td>20</td>\n",
       "      <td>20</td>\n",
       "      <td>48.59</td>\n",
       "      <td>-123.51</td>\n",
       "      <td>0.00</td>\n",
       "      <td>343</td>\n",
       "      <td>198</td>\n",
       "      <td>1.446200e-07</td>\n",
       "      <td>7.863910e-07</td>\n",
       "      <td>18</td>\n",
       "      <td>18</td>\n",
       "    </tr>\n",
       "  </tbody>\n",
       "</table>\n",
       "<p>104 rows × 12 columns</p>\n",
       "</div>"
      ],
      "text/plain": [
       "         dtUTC  Z_lower  Z_upper    Lat     Lon  \\\n",
       "0   2010-03-11        0        0  48.59 -123.51   \n",
       "1   2010-03-11        2        2  48.59 -123.51   \n",
       "2   2010-03-11        8        8  48.59 -123.51   \n",
       "3   2010-03-11       18       18  48.59 -123.51   \n",
       "4   2010-03-18        0        0  48.59 -123.51   \n",
       "..         ...      ...      ...    ...     ...   \n",
       "99  2011-08-04       17       17  48.59 -123.51   \n",
       "100 2011-08-17        2        2  48.59 -123.51   \n",
       "101 2011-08-17        5        5  48.59 -123.51   \n",
       "102 2011-08-17        0        0  48.59 -123.51   \n",
       "103 2011-08-17       20       20  48.59 -123.51   \n",
       "\n",
       "     Primary Production (µmolC/L/h)    j    i    mod_PPDIAT     mod_PPPHY  \\\n",
       "0                              0.04  343  198  1.133342e-05  6.165959e-07   \n",
       "1                              0.10  343  198  9.892851e-06  5.857280e-07   \n",
       "2                              0.12  343  198  1.943511e-06  4.013070e-07   \n",
       "3                              0.00  343  198  2.837013e-07  1.799787e-07   \n",
       "4                              0.18  343  198  1.868914e-05  7.652120e-07   \n",
       "..                              ...  ...  ...           ...           ...   \n",
       "99                             0.00  343  198  2.251967e-07  1.157120e-06   \n",
       "100                            0.91  343  198  3.789441e-07  2.305688e-05   \n",
       "101                            1.11  343  198  9.680538e-06  5.003816e-06   \n",
       "102                            0.92  343  198  2.171762e-07  2.275390e-05   \n",
       "103                            0.00  343  198  1.446200e-07  7.863910e-07   \n",
       "\n",
       "     k_upper  k_lower  \n",
       "0          0        0  \n",
       "1          1        1  \n",
       "2          7        7  \n",
       "3         17       17  \n",
       "4          0        0  \n",
       "..       ...      ...  \n",
       "99        16       16  \n",
       "100        1        1  \n",
       "101        4        4  \n",
       "102        0        0  \n",
       "103       18       18  \n",
       "\n",
       "[104 rows x 12 columns]"
      ]
     },
     "execution_count": 14,
     "metadata": {},
     "output_type": "execute_result"
    }
   ],
   "source": [
    "data"
   ]
  },
  {
   "cell_type": "code",
   "execution_count": 15,
   "metadata": {},
   "outputs": [
    {
     "data": {
      "text/plain": [
       "Index(['dtUTC', 'Z_lower', 'Z_upper', 'Lat', 'Lon',\n",
       "       'Primary Production (µmolC/L/h)', 'j', 'i', 'mod_PPDIAT', 'mod_PPPHY',\n",
       "       'k_upper', 'k_lower'],\n",
       "      dtype='object')"
      ]
     },
     "execution_count": 15,
     "metadata": {},
     "output_type": "execute_result"
    }
   ],
   "source": [
    "data.keys()"
   ]
  },
  {
   "cell_type": "code",
   "execution_count": 16,
   "metadata": {},
   "outputs": [],
   "source": [
    "cm1=cmocean.cm.thermal\n",
    "with nc.Dataset('/ocean/ksuchy/MOAD/NEMO-forcing/grid/bathymetry_202108.nc') as bathy:\n",
    "    bathylon=np.copy(bathy.variables['nav_lon'][:,:])\n",
    "    bathylat=np.copy(bathy.variables['nav_lat'][:,:])\n",
    "    bathyZ=np.copy(bathy.variables['Bathymetry'][:,:])"
   ]
  },
  {
   "cell_type": "code",
   "execution_count": 17,
   "metadata": {},
   "outputs": [
    {
     "data": {
      "text/plain": [
       "Index(['dtUTC', 'Z_lower', 'Z_upper', 'Lat', 'Lon',\n",
       "       'Primary Production (µmolC/L/h)', 'j', 'i', 'mod_PPDIAT', 'mod_PPPHY',\n",
       "       'k_upper', 'k_lower'],\n",
       "      dtype='object')"
      ]
     },
     "execution_count": 17,
     "metadata": {},
     "output_type": "execute_result"
    }
   ],
   "source": [
    "data.keys()"
   ]
  },
  {
   "cell_type": "code",
   "execution_count": 18,
   "metadata": {},
   "outputs": [],
   "source": [
    "data['mod_prod']=(data['mod_PPDIAT']+data['mod_PPPHY'])*86400*6.6*12/1000\n",
    "## mmol N m-3 s-1 so multiply by 86400 to get d-1 and by C:N ratio of 6.6 to get mmol C and then by molecular weight of C to get mg C\n",
    "## new units = g C m-3 d-1"
   ]
  },
  {
   "cell_type": "code",
   "execution_count": 19,
   "metadata": {},
   "outputs": [
    {
     "data": {
      "text/plain": [
       "0      0.081773\n",
       "1      0.071704\n",
       "2      0.016045\n",
       "3      0.003173\n",
       "4      0.133124\n",
       "         ...   \n",
       "99     0.009459\n",
       "100    0.160369\n",
       "101    0.100483\n",
       "102    0.157188\n",
       "103    0.006371\n",
       "Name: mod_prod, Length: 104, dtype: float64"
      ]
     },
     "execution_count": 19,
     "metadata": {},
     "output_type": "execute_result"
    }
   ],
   "source": [
    "data['mod_prod']"
   ]
  },
  {
   "cell_type": "code",
   "execution_count": 20,
   "metadata": {},
   "outputs": [
    {
     "data": {
      "text/plain": [
       "0.0019360462615532015"
      ]
     },
     "execution_count": 20,
     "metadata": {},
     "output_type": "execute_result"
    }
   ],
   "source": [
    "data['mod_prod'].min()"
   ]
  },
  {
   "cell_type": "code",
   "execution_count": 21,
   "metadata": {},
   "outputs": [
    {
     "data": {
      "text/plain": [
       "0.5900668150765704"
      ]
     },
     "execution_count": 21,
     "metadata": {},
     "output_type": "execute_result"
    }
   ],
   "source": [
    "data['mod_prod'].max()"
   ]
  },
  {
   "cell_type": "code",
   "execution_count": 22,
   "metadata": {},
   "outputs": [
    {
     "data": {
      "text/plain": [
       "0.1217291940998103"
      ]
     },
     "execution_count": 22,
     "metadata": {},
     "output_type": "execute_result"
    }
   ],
   "source": [
    "data['mod_prod'].mean()"
   ]
  },
  {
   "cell_type": "code",
   "execution_count": 23,
   "metadata": {},
   "outputs": [],
   "source": [
    "data['obs_prod']=((data['Primary Production (µmolC/L/h)']))*12*12/1000\n",
    "# units are umol C L-1 h-1 OR mmol C m-3 h-1\n",
    "\n",
    "## Multiply by 12 to get value per day (# daylight hours ~12) instead of per hour and then by 12 again to get mg C instead of mmol C\n",
    "## New units = g C m-3 d-1"
   ]
  },
  {
   "cell_type": "code",
   "execution_count": 24,
   "metadata": {},
   "outputs": [
    {
     "data": {
      "text/plain": [
       "0      0.00576\n",
       "1      0.01440\n",
       "2      0.01728\n",
       "3      0.00000\n",
       "4      0.02592\n",
       "        ...   \n",
       "99     0.00000\n",
       "100    0.13104\n",
       "101    0.15984\n",
       "102    0.13248\n",
       "103    0.00000\n",
       "Name: obs_prod, Length: 104, dtype: float64"
      ]
     },
     "execution_count": 24,
     "metadata": {},
     "output_type": "execute_result"
    }
   ],
   "source": [
    "data['obs_prod']"
   ]
  },
  {
   "cell_type": "code",
   "execution_count": 25,
   "metadata": {},
   "outputs": [],
   "source": [
    "data=data.dropna()"
   ]
  },
  {
   "cell_type": "code",
   "execution_count": 26,
   "metadata": {},
   "outputs": [
    {
     "name": "stdout",
     "output_type": "stream",
     "text": [
      "0.0\n",
      "1.02384\n",
      "0.10546615384615385\n"
     ]
    }
   ],
   "source": [
    "print(data['obs_prod'].min())\n",
    "print(data['obs_prod'].max())\n",
    "print(data['obs_prod'].mean())\n"
   ]
  },
  {
   "cell_type": "code",
   "execution_count": 27,
   "metadata": {},
   "outputs": [
    {
     "name": "stdout",
     "output_type": "stream",
     "text": [
      "0.0019360462615532015\n",
      "0.5900668150765704\n",
      "0.1217291940998103\n"
     ]
    }
   ],
   "source": [
    "print(data['mod_prod'].min())\n",
    "print(data['mod_prod'].max())\n",
    "print(data['mod_prod'].mean())"
   ]
  },
  {
   "cell_type": "code",
   "execution_count": 28,
   "metadata": {},
   "outputs": [],
   "source": [
    "def byDepth(ax,obsvar,modvar,lims):\n",
    "    SI=et.varvarPlot(ax,data,obsvar,modvar,'Z_lower',(5,20),'z','m',('orange','darkturquoise','navy'))\n",
    "    l=ax.legend(handles=SI)\n",
    "    ax.set_xlabel('Log10 Observations (g C m$^{-3}$ d$^{-1}$)+0.001',fontsize=12)\n",
    "    ax.set_ylabel('Log10 Model (g C m$^{-3}$ d$^{-1}$)+0.001',fontsize=12)\n",
    "    ax.plot(lims,lims,'k-',alpha=.5)\n",
    "    ax.set_xlim(lims)\n",
    "    ax.set_ylim(lims)\n",
    "    ax.set_aspect(1)\n",
    "    return SI,l"
   ]
  },
  {
   "cell_type": "code",
   "execution_count": 30,
   "metadata": {},
   "outputs": [
    {
     "data": {
      "text/plain": [
       "(0.0, 5.0)"
      ]
     },
     "execution_count": 30,
     "metadata": {},
     "output_type": "execute_result"
    },
    {
     "data": {
      "image/png": "[encoded data removed]",
      "text/plain": [
       "<Figure size 400x400 with 1 Axes>"
      ]
     },
     "metadata": {},
     "output_type": "display_data"
    }
   ],
   "source": [
    "fig,ax=plt.subplots(1,1,figsize=(4,4))\n",
    "fig.subplots_adjust(hspace=1)\n",
    "ax.plot(data['obs_prod'],data['mod_prod'],'k.')\n",
    "ax.set_title('Primary Productivity g C m-3 d-1')\n",
    "ax.set_xlabel('Obs')\n",
    "ax.set_ylabel('Model')\n",
    "ax.plot((0,40),(0,40),'r-',alpha=.3)\n",
    "ax.set_xlim(0,5)\n",
    "ax.set_ylim(0,5)"
   ]
  },
  {
   "cell_type": "code",
   "execution_count": 31,
   "metadata": {},
   "outputs": [
    {
     "data": {
      "text/plain": [
       "Text(0.5, 1.0, 'Primary Productivity By Depth')"
      ]
     },
     "execution_count": 31,
     "metadata": {},
     "output_type": "execute_result"
    },
    {
     "data": {
      "image/png": "[encoded data removed]",
      "text/plain": [
       "<Figure size 400x400 with 1 Axes>"
      ]
     },
     "metadata": {},
     "output_type": "display_data"
    }
   ],
   "source": [
    "obsvar='obs_prod'\n",
    "modvar='mod_prod'\n",
    "\n",
    "fig, ax = plt.subplots(1,1,figsize = (4,4))\n",
    "SI,l=byDepth(ax,obsvar,modvar,(0,5))\n",
    "ax.set_title('Primary Productivity By Depth')"
   ]
  },
  {
   "cell_type": "code",
   "execution_count": 32,
   "metadata": {},
   "outputs": [],
   "source": [
    "# define log transform function with slight shift to accommodate zero values\n",
    "def logt(x):\n",
    "    return np.log10(x+.001)"
   ]
  },
  {
   "cell_type": "code",
   "execution_count": 33,
   "metadata": {},
   "outputs": [],
   "source": [
    "data['L10Productivity']=logt(data['obs_prod'])\n",
    "data['L10mod_prod']=logt(data['mod_prod'])"
   ]
  },
  {
   "cell_type": "markdown",
   "metadata": {},
   "source": [
    "### Depth-specific Point by Point comparisions of model vs obs"
   ]
  },
  {
   "cell_type": "code",
   "execution_count": 53,
   "metadata": {},
   "outputs": [
    {
     "data": {
      "text/plain": [
       "<matplotlib.legend.Legend at 0x7f9ed70174c0>"
      ]
     },
     "execution_count": 53,
     "metadata": {},
     "output_type": "execute_result"
    },
    {
     "data": {
      "image/png": "[encoded data removed]",
      "text/plain": [
       "<Figure size 500x500 with 1 Axes>"
      ]
     },
     "metadata": {},
     "output_type": "display_data"
    }
   ],
   "source": [
    "obsvar2='L10Productivity'\n",
    "modvar2='L10mod_prod'\n",
    "\n",
    "fig, ax = plt.subplots(1,1,figsize = (5,5))\n",
    "SI,l=byDepth(ax,obsvar2,modvar2,(-3,2))\n",
    "ax.set_title('Saanich Inlet 13C Primary Productivity',fontsize=12)\n",
    "ax.legend(frameon=True,fontsize=12)\n",
    "#fig.savefig('SaanichLog10ModelvsObsProductivity.jpg',bbox_inches='tight')"
   ]
  },
  {
   "cell_type": "code",
   "execution_count": 35,
   "metadata": {},
   "outputs": [],
   "source": [
    "ratio_modPPvsobsPP=data['mod_prod'].mean()/data['obs_prod'].mean()"
   ]
  },
  {
   "cell_type": "code",
   "execution_count": 36,
   "metadata": {},
   "outputs": [
    {
     "data": {
      "text/plain": [
       "1.1542015107271264"
      ]
     },
     "execution_count": 36,
     "metadata": {},
     "output_type": "execute_result"
    }
   ],
   "source": [
    "ratio_modPPvsobsPP\n",
    "\n",
    "## Compared to mod_diat/obs_diat HPLC biomass of 2.86 and mod_flag/obs_flag HPLC biomass of 3.45"
   ]
  },
  {
   "cell_type": "code",
   "execution_count": 40,
   "metadata": {},
   "outputs": [],
   "source": [
    "data['Month'] = data['dtUTC'].dt.month"
   ]
  },
  {
   "cell_type": "code",
   "execution_count": 41,
   "metadata": {},
   "outputs": [
    {
     "data": {
      "text/plain": [
       "8"
      ]
     },
     "execution_count": 41,
     "metadata": {},
     "output_type": "execute_result"
    }
   ],
   "source": [
    "data['Month'].max()"
   ]
  },
  {
   "cell_type": "code",
   "execution_count": 42,
   "metadata": {},
   "outputs": [],
   "source": [
    "#data['Month']=[ii.month for ii in data['dtUTC']]\n",
    "DJF=data.loc[(data.Month==12)|(data.Month==1)|(data.Month==2)]\n",
    "MAM=data.loc[(data.Month==3)|(data.Month==4)|(data.Month==5)]\n",
    "JJA=data.loc[(data.Month==6)|(data.Month==7)|(data.Month==8)]\n",
    "SON=data.loc[(data.Month==9)|(data.Month==10)|(data.Month==11)]"
   ]
  },
  {
   "cell_type": "code",
   "execution_count": 43,
   "metadata": {},
   "outputs": [],
   "source": [
    "def bySeason(ax,obsvar,modvar,lims):\n",
    "    for axi in ax:\n",
    "        axi.plot(lims,lims,'k-')\n",
    "        axi.set_xlim(lims)\n",
    "        axi.set_ylim(lims)\n",
    "        axi.set_aspect(1)\n",
    "        axi.set_xlabel('Obs')\n",
    "        axi.set_ylabel('Model')\n",
    "    SS=et.varvarPlot(ax[0],DJF,obsvar,modvar,cols=('crimson','darkturquoise','navy'))\n",
    "    ax[0].set_title('Winter')\n",
    "    SS=et.varvarPlot(ax[1],MAM,obsvar,modvar,cols=('crimson','darkturquoise','navy'))\n",
    "    ax[1].set_title('Spring')\n",
    "    SS=et.varvarPlot(ax[2],JJA,obsvar,modvar,cols=('crimson','darkturquoise','navy'))\n",
    "    ax[2].set_title('Summer')\n",
    "    SS=et.varvarPlot(ax[3],SON,obsvar,modvar,cols=('crimson','darkturquoise','navy'))\n",
    "    ax[3].set_title('Autumn')\n",
    "    return "
   ]
  },
  {
   "cell_type": "code",
   "execution_count": 45,
   "metadata": {},
   "outputs": [
    {
     "data": {
      "image/png": "[encoded data removed]",
      "text/plain": [
       "<Figure size 1600x330 with 4 Axes>"
      ]
     },
     "metadata": {},
     "output_type": "display_data"
    }
   ],
   "source": [
    "#fig, ax = plt.subplots(figsize = (5,4))     \n",
    "#SS,l=byRegion(ax,'L10Productivity','L10mod_prod',(-2,4))\n",
    "#ax.set_title('Primary Productivity By Region',fontsize=12)\n",
    "#ax.legend(bbox_to_anchor=(1.1, 1.05),frameon=False,markerscale=2.5)\n",
    "#fig.savefig('SalishSeaDIMicroZoopEval_byregion_noLegend.jpg',bbox_inches='tight')\n",
    "\n",
    "\n",
    "\n",
    "\n",
    "\n",
    "fig, ax = plt.subplots(1,4,figsize = (16,3.3))\n",
    "bySeason(ax,'L10Productivity','L10mod_prod',(-3,1))"
   ]
  },
  {
   "cell_type": "code",
   "execution_count": 49,
   "metadata": {},
   "outputs": [
    {
     "data": {
      "text/plain": [
       "odict_keys(['All', 'Winter', 'Spring', 'Summer', 'Autumn'])"
      ]
     },
     "execution_count": 49,
     "metadata": {},
     "output_type": "execute_result"
    }
   ],
   "source": [
    "### These groupings will be used to calculate statistics. The keys are labels and\n",
    "### the values are corresponding dataframe views\n",
    "statsubs=OrderedDict({\n",
    "                      'All':data,\n",
    "                      'Winter':DJF,\n",
    "                      'Spring':MAM,\n",
    "                      'Summer':JJA,\n",
    "                      'Autumn': SON,})\n",
    "#for iregion in data.Station.unique():\n",
    "#statsubs[iregion]=datreg[iregion]\n",
    "statsubs.keys()"
   ]
  },
  {
   "cell_type": "code",
   "execution_count": 50,
   "metadata": {},
   "outputs": [],
   "source": [
    "# Defining variables needed for mesozooplankton evaluations\n",
    "obsvar4='L10Productivity'\n",
    "modvar4='L10mod_prod'\n",
    "year=2023 #how do I calculate for all years?\n",
    "\n"
   ]
  },
  {
   "cell_type": "code",
   "execution_count": null,
   "metadata": {},
   "outputs": [],
   "source": []
  },
  {
   "cell_type": "code",
   "execution_count": 51,
   "metadata": {},
   "outputs": [
    {
     "name": "stdout",
     "output_type": "stream",
     "text": [
      "All\n",
      "Winter\n",
      "Spring\n",
      "Summer\n",
      "Autumn\n"
     ]
    },
    {
     "data": {
      "text/html": [
       "<style  type=\"text/css\" >\n",
       "</style><table id=\"T_731b58c8_0bd1_11ef_b282_f832e49a9a7a\" ><thead>    <tr>        <th class=\"blank\" ></th>        <th class=\"blank level0\" ></th>        <th class=\"col_heading level0 col0\" colspan=6></th>    </tr>    <tr>        <th class=\"blank\" ></th>        <th class=\"blank level1\" ></th>        <th class=\"col_heading level1 col0\" >Bias</th>        <th class=\"col_heading level1 col1\" >N</th>        <th class=\"col_heading level1 col2\" >RMSE</th>        <th class=\"col_heading level1 col3\" >WSS</th>        <th class=\"col_heading level1 col4\" >mmean</th>        <th class=\"col_heading level1 col5\" >omean</th>    </tr>    <tr>        <th class=\"index_name level0\" ></th>        <th class=\"index_name level1\" >Subset</th>        <th class=\"blank\" ></th>        <th class=\"blank\" ></th>        <th class=\"blank\" ></th>        <th class=\"blank\" ></th>        <th class=\"blank\" ></th>        <th class=\"blank\" ></th>    </tr></thead><tbody>\n",
       "                <tr>\n",
       "                        <th id=\"T_731b58c8_0bd1_11ef_b282_f832e49a9a7alevel0_row0\" class=\"row_heading level0 row0\" >0</th>\n",
       "                        <th id=\"T_731b58c8_0bd1_11ef_b282_f832e49a9a7alevel1_row0\" class=\"row_heading level1 row0\" >All</th>\n",
       "                        <td id=\"T_731b58c8_0bd1_11ef_b282_f832e49a9a7arow0_col0\" class=\"data row0 col0\" >0.287535</td>\n",
       "                        <td id=\"T_731b58c8_0bd1_11ef_b282_f832e49a9a7arow0_col1\" class=\"data row0 col1\" >104.000000</td>\n",
       "                        <td id=\"T_731b58c8_0bd1_11ef_b282_f832e49a9a7arow0_col2\" class=\"data row0 col2\" >0.700566</td>\n",
       "                        <td id=\"T_731b58c8_0bd1_11ef_b282_f832e49a9a7arow0_col3\" class=\"data row0 col3\" >0.705022</td>\n",
       "                        <td id=\"T_731b58c8_0bd1_11ef_b282_f832e49a9a7arow0_col4\" class=\"data row0 col4\" >-1.172947</td>\n",
       "                        <td id=\"T_731b58c8_0bd1_11ef_b282_f832e49a9a7arow0_col5\" class=\"data row0 col5\" >-1.460481</td>\n",
       "            </tr>\n",
       "            <tr>\n",
       "                        <th id=\"T_731b58c8_0bd1_11ef_b282_f832e49a9a7alevel0_row1\" class=\"row_heading level0 row1\" >1</th>\n",
       "                        <th id=\"T_731b58c8_0bd1_11ef_b282_f832e49a9a7alevel1_row1\" class=\"row_heading level1 row1\" >Winter</th>\n",
       "                        <td id=\"T_731b58c8_0bd1_11ef_b282_f832e49a9a7arow1_col0\" class=\"data row1 col0\" >nan</td>\n",
       "                        <td id=\"T_731b58c8_0bd1_11ef_b282_f832e49a9a7arow1_col1\" class=\"data row1 col1\" >0.000000</td>\n",
       "                        <td id=\"T_731b58c8_0bd1_11ef_b282_f832e49a9a7arow1_col2\" class=\"data row1 col2\" >nan</td>\n",
       "                        <td id=\"T_731b58c8_0bd1_11ef_b282_f832e49a9a7arow1_col3\" class=\"data row1 col3\" >nan</td>\n",
       "                        <td id=\"T_731b58c8_0bd1_11ef_b282_f832e49a9a7arow1_col4\" class=\"data row1 col4\" >nan</td>\n",
       "                        <td id=\"T_731b58c8_0bd1_11ef_b282_f832e49a9a7arow1_col5\" class=\"data row1 col5\" >nan</td>\n",
       "            </tr>\n",
       "            <tr>\n",
       "                        <th id=\"T_731b58c8_0bd1_11ef_b282_f832e49a9a7alevel0_row2\" class=\"row_heading level0 row2\" >2</th>\n",
       "                        <th id=\"T_731b58c8_0bd1_11ef_b282_f832e49a9a7alevel1_row2\" class=\"row_heading level1 row2\" >Spring</th>\n",
       "                        <td id=\"T_731b58c8_0bd1_11ef_b282_f832e49a9a7arow2_col0\" class=\"data row2 col0\" >0.266575</td>\n",
       "                        <td id=\"T_731b58c8_0bd1_11ef_b282_f832e49a9a7arow2_col1\" class=\"data row2 col1\" >56.000000</td>\n",
       "                        <td id=\"T_731b58c8_0bd1_11ef_b282_f832e49a9a7arow2_col2\" class=\"data row2 col2\" >0.714204</td>\n",
       "                        <td id=\"T_731b58c8_0bd1_11ef_b282_f832e49a9a7arow2_col3\" class=\"data row2 col3\" >0.668398</td>\n",
       "                        <td id=\"T_731b58c8_0bd1_11ef_b282_f832e49a9a7arow2_col4\" class=\"data row2 col4\" >-1.199167</td>\n",
       "                        <td id=\"T_731b58c8_0bd1_11ef_b282_f832e49a9a7arow2_col5\" class=\"data row2 col5\" >-1.465743</td>\n",
       "            </tr>\n",
       "            <tr>\n",
       "                        <th id=\"T_731b58c8_0bd1_11ef_b282_f832e49a9a7alevel0_row3\" class=\"row_heading level0 row3\" >3</th>\n",
       "                        <th id=\"T_731b58c8_0bd1_11ef_b282_f832e49a9a7alevel1_row3\" class=\"row_heading level1 row3\" >Summer</th>\n",
       "                        <td id=\"T_731b58c8_0bd1_11ef_b282_f832e49a9a7arow3_col0\" class=\"data row3 col0\" >0.311988</td>\n",
       "                        <td id=\"T_731b58c8_0bd1_11ef_b282_f832e49a9a7arow3_col1\" class=\"data row3 col1\" >48.000000</td>\n",
       "                        <td id=\"T_731b58c8_0bd1_11ef_b282_f832e49a9a7arow3_col2\" class=\"data row3 col2\" >0.684312</td>\n",
       "                        <td id=\"T_731b58c8_0bd1_11ef_b282_f832e49a9a7arow3_col3\" class=\"data row3 col3\" >0.741213</td>\n",
       "                        <td id=\"T_731b58c8_0bd1_11ef_b282_f832e49a9a7arow3_col4\" class=\"data row3 col4\" >-1.142356</td>\n",
       "                        <td id=\"T_731b58c8_0bd1_11ef_b282_f832e49a9a7arow3_col5\" class=\"data row3 col5\" >-1.454343</td>\n",
       "            </tr>\n",
       "            <tr>\n",
       "                        <th id=\"T_731b58c8_0bd1_11ef_b282_f832e49a9a7alevel0_row4\" class=\"row_heading level0 row4\" >4</th>\n",
       "                        <th id=\"T_731b58c8_0bd1_11ef_b282_f832e49a9a7alevel1_row4\" class=\"row_heading level1 row4\" >Autumn</th>\n",
       "                        <td id=\"T_731b58c8_0bd1_11ef_b282_f832e49a9a7arow4_col0\" class=\"data row4 col0\" >nan</td>\n",
       "                        <td id=\"T_731b58c8_0bd1_11ef_b282_f832e49a9a7arow4_col1\" class=\"data row4 col1\" >0.000000</td>\n",
       "                        <td id=\"T_731b58c8_0bd1_11ef_b282_f832e49a9a7arow4_col2\" class=\"data row4 col2\" >nan</td>\n",
       "                        <td id=\"T_731b58c8_0bd1_11ef_b282_f832e49a9a7arow4_col3\" class=\"data row4 col3\" >nan</td>\n",
       "                        <td id=\"T_731b58c8_0bd1_11ef_b282_f832e49a9a7arow4_col4\" class=\"data row4 col4\" >nan</td>\n",
       "                        <td id=\"T_731b58c8_0bd1_11ef_b282_f832e49a9a7arow4_col5\" class=\"data row4 col5\" >nan</td>\n",
       "            </tr>\n",
       "    </tbody></table>"
      ],
      "text/plain": [
       "<pandas.io.formats.style.Styler at 0x7f9ed70aab20>"
      ]
     },
     "execution_count": 51,
     "metadata": {},
     "output_type": "execute_result"
    }
   ],
   "source": [
    "statsDict={year:dict()}\n",
    "statsDict[year]['MicroZ']=OrderedDict()\n",
    "for isub in statsubs:\n",
    "    print(isub)\n",
    "    statsDict[year]['MicroZ'][isub]=dict()\n",
    "    var=statsDict[year]['MicroZ'][isub]\n",
    "    var['N'],var['mmean'],var['omean'],var['Bias'],var['RMSE'],var['WSS']=et.stats(statsubs[isub].loc[:,[obsvar4]],\n",
    "                                                                     statsubs[isub].loc[:,[modvar4]])\n",
    "tbl,tdf=et.displayStats(statsDict[year]['MicroZ'],level='Subset',suborder=list(statsubs.keys()))\n",
    "tbl\n",
    "\n",
    "#tbl.to_excel(\"SalishSeaMicrozoopEvalStats.xlsx\")"
   ]
  },
  {
   "cell_type": "code",
   "execution_count": null,
   "metadata": {},
   "outputs": [],
   "source": []
  },
  {
   "cell_type": "code",
   "execution_count": null,
   "metadata": {},
   "outputs": [],
   "source": []
  },
  {
   "cell_type": "code",
   "execution_count": null,
   "metadata": {},
   "outputs": [],
   "source": []
  },
  {
   "cell_type": "code",
   "execution_count": null,
   "metadata": {},
   "outputs": [],
   "source": []
  }
 ],
 "metadata": {
  "anaconda-cloud": {},
  "kernelspec": {
   "display_name": "Python (py39)",
   "language": "python",
   "name": "py39"
  },
  "language_info": {
   "codemirror_mode": {
    "name": "ipython",
    "version": 3
   },
   "file_extension": ".py",
   "mimetype": "text/x-python",
   "name": "python",
   "nbconvert_exporter": "python",
   "pygments_lexer": "ipython3",
   "version": "3.9.15"
  }
 },
 "nbformat": 4,
 "nbformat_minor": 4
}
