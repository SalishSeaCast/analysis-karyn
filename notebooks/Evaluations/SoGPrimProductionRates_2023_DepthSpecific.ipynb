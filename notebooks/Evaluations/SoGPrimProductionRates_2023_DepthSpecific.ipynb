{
 "cells": [
  {
   "cell_type": "markdown",
   "metadata": {},
   "source": [
    "Import model data for comparison with observations"
   ]
  },
  {
   "cell_type": "code",
   "execution_count": null,
   "metadata": {},
   "outputs": [],
   "source": [
    "import netCDF4 as nc\n",
    "import datetime as dt\n",
    "import pandas as pd\n",
    "from pandas import Series, DataFrame\n",
    "import subprocess\n",
    "import requests\n",
    "import matplotlib.pyplot as plt\n",
    "import cmocean\n",
    "import numpy as np\n",
    "import os\n",
    "import glob\n",
    "import dateutil as dutil\n",
    "from salishsea_tools import viz_tools, places\n",
    "import xarray as xr\n",
    "from salishsea_tools import evaltools as et\n",
    "from collections import OrderedDict\n",
    "\n",
    "%matplotlib inline"
   ]
  },
  {
   "cell_type": "code",
   "execution_count": null,
   "metadata": {},
   "outputs": [],
   "source": [
    "\n",
    "start_date = dt.datetime(2023,1,1)\n",
    "end_date = dt.datetime(2023,12,31)\n",
    "flen=1 # number of days per model output file. always 1 for 201905 and 201812 model runs\n",
    "namfmt='nowcast' # for 201905 and 201812 model runs, this should always be 'nowcast'\n",
    "# filemap is dictionary of the form variableName: fileType, where variableName is the name\n",
    "# of the variable you want to extract and fileType designates the type of \n",
    "# model output file it can be found in (usually ptrc_T for biology, grid_T for temperature and \n",
    "# salinity)\n",
    "filemap={'PPDIAT':'prod_T','PPPHY':'prod_T'}\n",
    "# fdict is a dictionary mappy file type to its time resolution. Here, 1 means hourly output\n",
    "# (1h file) and 24 means daily output (1d file). In certain runs, multiple time resolutions \n",
    "# are available\n",
    "fdict={'prod_T':24,'grid_T':24} #24 for hours averaged "
   ]
  },
  {
   "cell_type": "code",
   "execution_count": null,
   "metadata": {},
   "outputs": [],
   "source": [
    "filemap"
   ]
  },
  {
   "cell_type": "code",
   "execution_count": null,
   "metadata": {},
   "outputs": [],
   "source": [
    "#f=nc.Dataset('/results2/SalishSea/nowcast-green.202111/26jul23/SalishSea_1d_20230726_20230726_prod_T.nc')"
   ]
  },
  {
   "cell_type": "code",
   "execution_count": null,
   "metadata": {},
   "outputs": [],
   "source": [
    "#f.variables.keys()"
   ]
  },
  {
   "cell_type": "code",
   "execution_count": null,
   "metadata": {},
   "outputs": [],
   "source": [
    "PATH= '/results2/SalishSea/nowcast-green.202111/'"
   ]
  },
  {
   "cell_type": "code",
   "execution_count": null,
   "metadata": {},
   "outputs": [],
   "source": [
    "df2=pd.read_csv('/ocean/ksuchy/MOAD/analysis-karyn/notebooks/Evaluations/2023_SoG_PrimProd_DepthSpecific.csv')"
   ]
  },
  {
   "cell_type": "code",
   "execution_count": null,
   "metadata": {},
   "outputs": [],
   "source": [
    "df2"
   ]
  },
  {
   "cell_type": "code",
   "execution_count": null,
   "metadata": {},
   "outputs": [],
   "source": [
    "df2.rename(columns={'Date':'dtUTC'}, inplace=True)"
   ]
  },
  {
   "cell_type": "code",
   "execution_count": null,
   "metadata": {},
   "outputs": [],
   "source": [
    "df2['dtUTC'][0]"
   ]
  },
  {
   "cell_type": "code",
   "execution_count": null,
   "metadata": {},
   "outputs": [],
   "source": [
    "df2['dtUTC'] = df2['dtUTC'].apply(lambda x:\n",
    "    dt.datetime.strptime(x, '%d-%b-%y'))"
   ]
  },
  {
   "cell_type": "code",
   "execution_count": null,
   "metadata": {},
   "outputs": [],
   "source": [
    "df2['dtUTC']"
   ]
  },
  {
   "cell_type": "code",
   "execution_count": null,
   "metadata": {},
   "outputs": [],
   "source": [
    "data=et.matchData(df2,filemap,fdict,start_date,end_date,namfmt,PATH,flen,quiet=False,method='vertNet');"
   ]
  },
  {
   "cell_type": "code",
   "execution_count": null,
   "metadata": {},
   "outputs": [],
   "source": [
    "data"
   ]
  },
  {
   "cell_type": "code",
   "execution_count": null,
   "metadata": {},
   "outputs": [],
   "source": [
    "data.keys()"
   ]
  },
  {
   "cell_type": "code",
   "execution_count": null,
   "metadata": {},
   "outputs": [],
   "source": [
    "cm1=cmocean.cm.thermal\n",
    "with nc.Dataset('/ocean/ksuchy/MOAD/NEMO-forcing/grid/bathymetry_202108.nc') as bathy:\n",
    "    bathylon=np.copy(bathy.variables['nav_lon'][:,:])\n",
    "    bathylat=np.copy(bathy.variables['nav_lat'][:,:])\n",
    "    bathyZ=np.copy(bathy.variables['Bathymetry'][:,:])"
   ]
  },
  {
   "cell_type": "code",
   "execution_count": null,
   "metadata": {},
   "outputs": [],
   "source": [
    "data.keys()"
   ]
  },
  {
   "cell_type": "code",
   "execution_count": null,
   "metadata": {},
   "outputs": [],
   "source": [
    "data['mod_prod']=(data['mod_PPDIAT']+data['mod_PPPHY'])*86400*6.6 ## multiply by C:N ratio of 6.6?? Leave in mmol because obs are not in mg/g"
   ]
  },
  {
   "cell_type": "code",
   "execution_count": null,
   "metadata": {},
   "outputs": [],
   "source": [
    "data['obs_prod']=((data['Max. PhytoPP (using Redfield O:C;  mmol C / m³ / h)']))*24 ## To get value per day instead of per hour"
   ]
  },
  {
   "cell_type": "code",
   "execution_count": null,
   "metadata": {},
   "outputs": [],
   "source": [
    "data"
   ]
  },
  {
   "cell_type": "code",
   "execution_count": null,
   "metadata": {},
   "outputs": [],
   "source": [
    "data.keys()"
   ]
  },
  {
   "cell_type": "code",
   "execution_count": null,
   "metadata": {},
   "outputs": [],
   "source": [
    "data=data.dropna()"
   ]
  },
  {
   "cell_type": "code",
   "execution_count": null,
   "metadata": {},
   "outputs": [],
   "source": [
    "print(data['obs_prod'].min())\n",
    "print(data['obs_prod'].max())\n"
   ]
  },
  {
   "cell_type": "code",
   "execution_count": null,
   "metadata": {},
   "outputs": [],
   "source": [
    "print(data['mod_prod'].min())\n",
    "print(data['mod_prod'].max())"
   ]
  },
  {
   "cell_type": "code",
   "execution_count": null,
   "metadata": {},
   "outputs": [],
   "source": [
    "def byDepth(ax,obsvar,modvar,lims):\n",
    "    SI=et.varvarPlot(ax,data,obsvar,modvar,'Z_lower',(5,20),'z','m',('orange','darkturquoise','navy'))\n",
    "    l=ax.legend(handles=SI)\n",
    "    ax.set_xlabel('Log10 Observations (mmol C m$^{-3}$ d$^{-1}$)+0.001')\n",
    "    ax.set_ylabel('Log10 Z2 Model (mmol C m$^{-3}$ d$^{-1}$)+0.001')\n",
    "    ax.plot(lims,lims,'k-',alpha=.5)\n",
    "    ax.set_xlim(lims)\n",
    "    ax.set_ylim(lims)\n",
    "    ax.set_aspect(1)\n",
    "    return SI,l"
   ]
  },
  {
   "cell_type": "code",
   "execution_count": null,
   "metadata": {},
   "outputs": [],
   "source": [
    "fig,ax=plt.subplots(1,1,figsize=(4,4))\n",
    "fig.subplots_adjust(hspace=1)\n",
    "ax.plot(data['obs_prod'],data['mod_prod'],'k.')\n",
    "ax.set_title('Primary Productivity mmol C m-3 d-1')\n",
    "ax.set_xlabel('Obs')\n",
    "ax.set_ylabel('Model')\n",
    "ax.plot((0,40),(0,40),'r-',alpha=.3)\n",
    "ax.set_xlim(0,40)\n",
    "ax.set_ylim(0,40)"
   ]
  },
  {
   "cell_type": "code",
   "execution_count": null,
   "metadata": {},
   "outputs": [],
   "source": [
    "obsvar='obs_prod'\n",
    "modvar='mod_prod'\n",
    "\n",
    "fig, ax = plt.subplots(1,1,figsize = (4,4))\n",
    "SI,l=byDepth(ax,obsvar,modvar,(0,40))\n",
    "ax.set_title('Primary Productivity mmol C m-3 d-1 By Depth')"
   ]
  },
  {
   "cell_type": "code",
   "execution_count": null,
   "metadata": {},
   "outputs": [],
   "source": [
    "# define log transform function with slight shift to accommodate zero values\n",
    "def logt(x):\n",
    "    return np.log10(x+.001)"
   ]
  },
  {
   "cell_type": "code",
   "execution_count": null,
   "metadata": {},
   "outputs": [],
   "source": [
    "data['L10Productivity']=logt(data['obs_prod'])\n",
    "data['L10mod_prod']=logt(data['mod_prod'])"
   ]
  },
  {
   "cell_type": "markdown",
   "metadata": {},
   "source": [
    "### Depth-specific Point by Point comparisions of model vs obs"
   ]
  },
  {
   "cell_type": "code",
   "execution_count": null,
   "metadata": {},
   "outputs": [],
   "source": [
    "obsvar2='L10Productivity'\n",
    "modvar2='L10mod_prod'\n",
    "\n",
    "fig, ax = plt.subplots(1,1,figsize = (5,5))\n",
    "SI,l=byDepth(ax,obsvar2,modvar2,(-2,4))\n",
    "ax.set_title('Primary Productivity By Depth',fontsize=12)\n",
    "ax.legend(frameon=True,fontsize=12)\n",
    "#fig.savefig('SaanichLog10ModelvsObsProductivity.jpg',bbox_inches='tight')"
   ]
  },
  {
   "cell_type": "code",
   "execution_count": null,
   "metadata": {},
   "outputs": [],
   "source": [
    "fig, ax = plt.subplots(1,1,figsize = (6,6))\n",
    "with nc.Dataset('/ocean/ksuchy/MOAD/NEMO-forcing/grid/bathymetry_202108.nc') as grid:\n",
    "    viz_tools.plot_coastline(ax, grid, coords = 'map',isobath=.1,color='darkgrey')\n",
    "colors=('royalblue',\n",
    "'green',\n",
    "'orange',\n",
    "'mediumspringgreen',\n",
    "'black',\n",
    "'darkviolet',\n",
    " 'lightblue',\n",
    "'fuchsia',\n",
    "'firebrick','lime','darkgoldenrod','darkorange','deepskyblue','teal','darkgreen','darkblue','slateblue','purple')\n",
    "datreg=dict()\n",
    "for ind, iregion in enumerate(data.Station.unique()):\n",
    "    datreg[iregion] = data.loc[data.Station==iregion]\n",
    "    ax.plot(datreg[iregion]['Lon'], datreg[iregion]['Lat'],'o',\n",
    "            color = colors[ind], label=iregion,markersize=4)\n",
    "ax.set_ylim(47, 51)\n",
    "ax.xaxis.set_tick_params(labelsize=14)\n",
    "ax.yaxis.set_tick_params(labelsize=14)\n",
    "ax.legend(bbox_to_anchor=(1.1, 1),frameon=False,markerscale=3.)\n",
    "ax.set_xlim(-126, -121);\n",
    "ax.set_title('Observation Locations');\n",
    "#ax.legend(bbox_to_anchor=(1.05, 1), loc='upper left',frameon=False,markerscale=3.,fontsize=11)\n",
    "ax.axis(\"off\")\n",
    "#fig.savefig('SalishSeaObservationLocations_noframe.jpg',bbox_inches='tight')"
   ]
  },
  {
   "cell_type": "code",
   "execution_count": null,
   "metadata": {},
   "outputs": [],
   "source": [
    "data['Month'] = data['dtUTC'].dt.month"
   ]
  },
  {
   "cell_type": "code",
   "execution_count": null,
   "metadata": {},
   "outputs": [],
   "source": [
    "data['Month'].max()"
   ]
  },
  {
   "cell_type": "code",
   "execution_count": null,
   "metadata": {},
   "outputs": [],
   "source": [
    "def byRegion(ax,obsvar,modvar,lims):\n",
    "    SS=[]\n",
    "    for ind, iregion in enumerate(data.Station.unique()):\n",
    "        #ax.plot(datreg[iregion]['Lon'], datreg[iregion]['Lat'],'.',\n",
    "                #color = colors[ind], label=iregion)\n",
    "        SS0=et.varvarPlot(ax,datreg[iregion],obsvar,modvar,\n",
    "                          cols=(colors[ind],),lname=iregion)\n",
    "        SS.append(SS0)\n",
    "    l=ax.legend(handles=[ip[0][0] for ip in SS])\n",
    "    ax.set_xlabel('Log10 Observations (mmol C m$^{-3}$ d$^{-1}$)+0.001')\n",
    "    ax.set_ylabel('Log10 Model (mmol C m$^{-3}$ d$^{-1}$)+0.001')\n",
    "    ax.plot(lims,lims,'k-',alpha=.5)\n",
    "    ax.set_xlim(lims)\n",
    "    ax.set_ylim(lims)\n",
    "    ax.set_aspect(1)\n",
    "    return SS,l"
   ]
  },
  {
   "cell_type": "code",
   "execution_count": null,
   "metadata": {},
   "outputs": [],
   "source": [
    "#data['Month']=[ii.month for ii in data['dtUTC']]\n",
    "DJF=data.loc[(data.Month==12)|(data.Month==1)|(data.Month==2)]\n",
    "MAM=data.loc[(data.Month==3)|(data.Month==4)|(data.Month==5)]\n",
    "JJA=data.loc[(data.Month==6)|(data.Month==7)|(data.Month==8)]\n",
    "SON=data.loc[(data.Month==9)|(data.Month==10)|(data.Month==11)]"
   ]
  },
  {
   "cell_type": "code",
   "execution_count": null,
   "metadata": {},
   "outputs": [],
   "source": [
    "def bySeason(ax,obsvar,modvar,lims):\n",
    "    for axi in ax:\n",
    "        axi.plot(lims,lims,'k-')\n",
    "        axi.set_xlim(lims)\n",
    "        axi.set_ylim(lims)\n",
    "        axi.set_aspect(1)\n",
    "        axi.set_xlabel('Obs')\n",
    "        axi.set_ylabel('Model')\n",
    "    SS=et.varvarPlot(ax[0],DJF,obsvar,modvar,cols=('crimson','darkturquoise','navy'))\n",
    "    ax[0].set_title('Winter')\n",
    "    SS=et.varvarPlot(ax[1],MAM,obsvar,modvar,cols=('crimson','darkturquoise','navy'))\n",
    "    ax[1].set_title('Spring')\n",
    "    SS=et.varvarPlot(ax[2],JJA,obsvar,modvar,cols=('crimson','darkturquoise','navy'))\n",
    "    ax[2].set_title('Summer')\n",
    "    SS=et.varvarPlot(ax[3],SON,obsvar,modvar,cols=('crimson','darkturquoise','navy'))\n",
    "    ax[3].set_title('Autumn')\n",
    "    return "
   ]
  },
  {
   "cell_type": "code",
   "execution_count": null,
   "metadata": {},
   "outputs": [],
   "source": [
    "fig, ax = plt.subplots(1,1,figsize = (5,4))     \n",
    "SS,l=byRegion(ax,'L10Productivity','L10mod_prod',(-3,3))\n",
    "ax.set_title('Primary Productivity - By Region',fontsize=18)\n",
    "ax.legend(bbox_to_anchor=(1.1, 1.05),frameon=False,markerscale=2.5)\n",
    "#fig.savefig('SalishSeaDIMicroZoopEval_byregion_noLegend.jpg',bbox_inches='tight')\n",
    "\n",
    "\n",
    "\n",
    "\n",
    "\n",
    "fig, ax = plt.subplots(1,4,figsize = (16,3.3))\n",
    "bySeason(ax,'L10Productivity','L10mod_prod',(-3,3))"
   ]
  },
  {
   "cell_type": "code",
   "execution_count": null,
   "metadata": {},
   "outputs": [],
   "source": [
    "### These groupings will be used to calculate statistics. The keys are labels and\n",
    "### the values are corresponding dataframe views\n",
    "statsubs=OrderedDict({\n",
    "                      'All':data,\n",
    "                      'Winter':DJF,\n",
    "                      'Spring':MAM,\n",
    "                      'Summer':JJA,\n",
    "                      'Autumn': SON,})\n",
    "for iregion in data.Station.unique():\n",
    "    statsubs[iregion]=datreg[iregion]\n",
    "statsubs.keys()"
   ]
  },
  {
   "cell_type": "code",
   "execution_count": null,
   "metadata": {},
   "outputs": [],
   "source": [
    "# Defining variables needed for mesozooplankton evaluations\n",
    "obsvar4='L10Productivity'\n",
    "modvar4='L10mod_prod'\n",
    "year=2023 #how do I calculate for all years?\n",
    "\n"
   ]
  },
  {
   "cell_type": "code",
   "execution_count": null,
   "metadata": {},
   "outputs": [],
   "source": []
  },
  {
   "cell_type": "code",
   "execution_count": null,
   "metadata": {},
   "outputs": [],
   "source": [
    "statsDict={year:dict()}\n",
    "statsDict[year]['MicroZ']=OrderedDict()\n",
    "for isub in statsubs:\n",
    "    print(isub)\n",
    "    statsDict[year]['MicroZ'][isub]=dict()\n",
    "    var=statsDict[year]['MicroZ'][isub]\n",
    "    var['N'],var['mmean'],var['omean'],var['Bias'],var['RMSE'],var['WSS']=et.stats(statsubs[isub].loc[:,[obsvar4]],\n",
    "                                                                     statsubs[isub].loc[:,[modvar4]])\n",
    "tbl,tdf=et.displayStats(statsDict[year]['MicroZ'],level='Subset',suborder=list(statsubs.keys()))\n",
    "tbl\n",
    "\n",
    "#tbl.to_excel(\"SalishSeaMicrozoopEvalStats.xlsx\")"
   ]
  },
  {
   "cell_type": "code",
   "execution_count": null,
   "metadata": {},
   "outputs": [],
   "source": []
  },
  {
   "cell_type": "code",
   "execution_count": null,
   "metadata": {},
   "outputs": [],
   "source": []
  },
  {
   "cell_type": "code",
   "execution_count": null,
   "metadata": {},
   "outputs": [],
   "source": []
  },
  {
   "cell_type": "code",
   "execution_count": null,
   "metadata": {},
   "outputs": [],
   "source": []
  }
 ],
 "metadata": {
  "anaconda-cloud": {},
  "kernelspec": {
   "display_name": "Python (py39)",
   "language": "python",
   "name": "py39"
  },
  "language_info": {
   "codemirror_mode": {
    "name": "ipython",
    "version": 3
   },
   "file_extension": ".py",
   "mimetype": "text/x-python",
   "name": "python",
   "nbconvert_exporter": "python",
   "pygments_lexer": "ipython3",
   "version": "3.9.15"
  }
 },
 "nbformat": 4,
 "nbformat_minor": 4
}
