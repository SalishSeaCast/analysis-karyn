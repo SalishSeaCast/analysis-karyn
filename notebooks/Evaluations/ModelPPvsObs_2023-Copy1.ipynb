{
 "cells": [
  {
   "cell_type": "code",
   "execution_count": null,
   "metadata": {},
   "outputs": [],
   "source": []
  },
  {
   "cell_type": "code",
   "execution_count": 1,
   "metadata": {},
   "outputs": [],
   "source": [
    "import netCDF4 as nc\n",
    "import datetime as dt\n",
    "import pandas as pd\n",
    "from pandas import Series, DataFrame\n",
    "import subprocess\n",
    "import requests\n",
    "import matplotlib.pyplot as plt\n",
    "import cmocean\n",
    "import numpy as np\n",
    "import os\n",
    "import glob\n",
    "import dateutil as dutil\n",
    "from salishsea_tools import viz_tools, places\n",
    "import xarray as xr\n",
    "from salishsea_tools import evaltools as et\n",
    "\n",
    "%matplotlib inline"
   ]
  },
  {
   "cell_type": "raw",
   "metadata": {},
   "source": [
    "from IPython.display import HTML\n",
    "\n",
    "HTML('''<script>\n",
    "code_show=true; \n",
    "function code_toggle() {\n",
    " if (code_show){\n",
    " $('div.input').hide();\n",
    " } else {\n",
    " $('div.input').show();\n",
    " }\n",
    " code_show = !code_show\n",
    "} \n",
    "$( document ).ready(code_toggle);\n",
    "</script>\n",
    "\n",
    "<form action=\"javascript:code_toggle()\"><input type=\"submit\" value=\"Click here to toggle on/off the raw code.\"></form>''')"
   ]
  },
  {
   "cell_type": "code",
   "execution_count": null,
   "metadata": {},
   "outputs": [],
   "source": []
  },
  {
   "cell_type": "markdown",
   "metadata": {},
   "source": [
    "### Determine model grid points using lat/log"
   ]
  },
  {
   "cell_type": "code",
   "execution_count": 2,
   "metadata": {},
   "outputs": [],
   "source": [
    "jjii = xr.open_dataset('/data/sallen/MEOPAR/grid/grid_from_lat_lon_mask999.nc')"
   ]
  },
  {
   "cell_type": "code",
   "execution_count": 3,
   "metadata": {},
   "outputs": [
    {
     "name": "stdout",
     "output_type": "stream",
     "text": [
      "245 487\n"
     ]
    }
   ],
   "source": [
    "#Find model grid locations for IOS sampling sites\n",
    "lat, lon = 49.250683, -123.748883 # GEO1 Sampling Site\n",
    "method = 'nearest'\n",
    "jj = jjii.jj.sel(lats=lat, lons=lon, method=method).item()\n",
    "ii = jjii.ii.sel(lats=lat, lons=lon, method=method).item()\n",
    "print (ii, jj)"
   ]
  },
  {
   "cell_type": "code",
   "execution_count": 4,
   "metadata": {},
   "outputs": [
    {
     "name": "stdout",
     "output_type": "stream",
     "text": [
      "263 422\n"
     ]
    }
   ],
   "source": [
    "#Find model grid locations for IOS sampling sites\n",
    "lat, lon = 49.027867, -123.437 # STN 42 Sampling Site\n",
    "method = 'nearest'\n",
    "jj = jjii.jj.sel(lats=lat, lons=lon, method=method).item()\n",
    "ii = jjii.ii.sel(lats=lat, lons=lon, method=method).item()\n",
    "print (ii, jj)"
   ]
  },
  {
   "cell_type": "code",
   "execution_count": 5,
   "metadata": {},
   "outputs": [
    {
     "name": "stdout",
     "output_type": "stream",
     "text": [
      "168 646\n"
     ]
    }
   ],
   "source": [
    "#Find model grid locations for IOS sampling sites\n",
    "lat, lon = 49.727300, -124.681 # STN 12 Sampling Site\n",
    "method = 'nearest'\n",
    "jj = jjii.jj.sel(lats=lat, lons=lon, method=method).item()\n",
    "ii = jjii.ii.sel(lats=lat, lons=lon, method=method).item()\n",
    "print (ii, jj)"
   ]
  },
  {
   "cell_type": "code",
   "execution_count": 6,
   "metadata": {},
   "outputs": [],
   "source": [
    "jjii.close()"
   ]
  },
  {
   "cell_type": "code",
   "execution_count": 7,
   "metadata": {},
   "outputs": [],
   "source": [
    "jGEO1,iGEO1=[487,245] ## Central SoG"
   ]
  },
  {
   "cell_type": "code",
   "execution_count": 8,
   "metadata": {},
   "outputs": [],
   "source": [
    "jSTN42,iSTN42=[422,263] ## Central SoG"
   ]
  },
  {
   "cell_type": "code",
   "execution_count": 9,
   "metadata": {},
   "outputs": [],
   "source": [
    "jSTN12,iSTN12=[646,168] ## Northern SoG"
   ]
  },
  {
   "cell_type": "code",
   "execution_count": 10,
   "metadata": {},
   "outputs": [],
   "source": [
    "jSI,iSI=[343,198] ## Saanich Inlet"
   ]
  },
  {
   "cell_type": "code",
   "execution_count": 11,
   "metadata": {
    "collapsed": false,
    "jupyter": {
     "outputs_hidden": false
    }
   },
   "outputs": [],
   "source": [
    "with nc.Dataset('/ocean/ksuchy/MOAD/NEMO-forcing/grid/mesh_mask202108.nc') as fm:\n",
    "    tmask=np.copy(fm.variables['tmask'])\n",
    "    umask=np.copy(fm.variables['umask'])\n",
    "    vmask=np.copy(fm.variables['vmask'])\n",
    "    navlon=np.copy(fm.variables['nav_lon'])\n",
    "    navlat=np.copy(fm.variables['nav_lat'])\n",
    "    dept=np.copy(fm.variables['gdept_1d'])\n",
    "    e3t_0=np.copy(fm.variables['e3t_0'])\n",
    "    e3u_0=np.copy(fm.variables['e3u_0'])\n",
    "    e3v_0=np.copy(fm.variables['e3v_0'])\n",
    "    e1t=np.copy(fm.variables['e1t'])\n",
    "    e2t=np.copy(fm.variables['e2t'])\n",
    "    e1v=np.copy(fm.variables['e1v'])\n",
    "    e2u=np.copy(fm.variables['e2u'])\n",
    "    A=fm.variables['e1t'][0,:,:]*fm.variables['e2t'][0,:,:]*tmask[0,0,:,:]"
   ]
  },
  {
   "cell_type": "markdown",
   "metadata": {},
   "source": [
    "### Observation Sampling Locations"
   ]
  },
  {
   "cell_type": "code",
   "execution_count": 12,
   "metadata": {},
   "outputs": [
    {
     "data": {
      "image/png": "[encoded data removed]",
      "text/plain": [
       "<Figure size 1500x600 with 1 Axes>"
      ]
     },
     "metadata": {},
     "output_type": "display_data"
    }
   ],
   "source": [
    "fig,ax=plt.subplots(1,1,figsize=(15,6))\n",
    "ax.pcolormesh(tmask[0,0,:,:])\n",
    "\n",
    "ax.plot(iGEO1,jGEO1,'r*',markersize=8)\n",
    "ax.plot(iSTN42,jSTN42,'r*',markersize=8)\n",
    "ax.plot(iSTN12,jSTN12,'r*',markersize=8)\n",
    "ax.plot(iSI,jSI,'r*',markersize=8)\n",
    "ax.set_aspect(1)\n",
    "ax.xaxis.set_visible(False)\n",
    "ax.yaxis.set_visible(False)\n",
    "#fig.savefig('ProductivityEvalSamplingSites.png',bbox_inches='tight',dip=1000)"
   ]
  },
  {
   "cell_type": "code",
   "execution_count": 13,
   "metadata": {
    "collapsed": false,
    "jupyter": {
     "outputs_hidden": false
    }
   },
   "outputs": [],
   "source": [
    "t1=dt.datetime(2010,1,1) # 1st start date of run\n",
    "#te=dt.datetime(2023,12,1)# last start date of runfnum=18\n",
    "stm=np.shape(tmask)\n",
    "nlen=365*2\n",
    "#nlen=184\n",
    "dlist1=[t1+dt.timedelta(days=ii) for ii in range(0,nlen)]"
   ]
  },
  {
   "cell_type": "raw",
   "metadata": {},
   "source": [
    "t2=dt.datetime(2011,3,1) # 1st start date of run\n",
    "#te=dt.datetime(2023,12,1)# last start date of runfnum=18\n",
    "stm=np.shape(tmask)\n",
    "#nlen=365*2\n",
    "nlen=184\n",
    "dlist2=[t2+dt.timedelta(days=ii) for ii in range(0,nlen)]"
   ]
  },
  {
   "cell_type": "code",
   "execution_count": 14,
   "metadata": {},
   "outputs": [
    {
     "name": "stdout",
     "output_type": "stream",
     "text": [
      "20\n",
      "21\n"
     ]
    }
   ],
   "source": [
    "jpk20=0\n",
    "for i in range(0,40): #stays same b/c grid cells or write len(dept[0]) instead of 40\n",
    "    if dept[0][i]<=25:#change this to get diff depths in water column\n",
    "        jpk20=i\n",
    "print(jpk20)\n",
    "jpk20=jpk20+1\n",
    "print(jpk20)"
   ]
  },
  {
   "cell_type": "code",
   "execution_count": 15,
   "metadata": {},
   "outputs": [],
   "source": [
    "koff=jpk20 # first index of depth > 100"
   ]
  },
  {
   "cell_type": "code",
   "execution_count": 16,
   "metadata": {},
   "outputs": [],
   "source": [
    "tmaskC=np.copy(tmask)\n",
    "tmaskC[:,koff:,:,:]=0"
   ]
  },
  {
   "cell_type": "code",
   "execution_count": 17,
   "metadata": {},
   "outputs": [],
   "source": [
    "#sdir0='/results/SalishSea/nowcast-green/'\n",
    "#sdir1='/results/SalishSea/hindcast/'\n",
    "#sdir3='/data/eolson/MEOPAR/SS36runs/CedarRuns/spring2015_HCMZ/'\n",
    "#sdir1='/results2/SalishSea/nowcast-green.201905/'\n",
    "sdir1='/results2/SalishSea/nowcast-green.202111/'"
   ]
  },
  {
   "cell_type": "code",
   "execution_count": 18,
   "metadata": {
    "collapsed": false,
    "jupyter": {
     "outputs_hidden": false
    }
   },
   "outputs": [
    {
     "name": "stdout",
     "output_type": "stream",
     "text": [
      "/results2/SalishSea/nowcast-green.202111/01jan10/SalishSea_1d_20100101_20100101_prod_T.nc\n",
      "/results2/SalishSea/nowcast-green.202111/16jan10/SalishSea_1d_20100116_20100116_prod_T.nc\n",
      "/results2/SalishSea/nowcast-green.202111/31jan10/SalishSea_1d_20100131_20100131_prod_T.nc\n",
      "/results2/SalishSea/nowcast-green.202111/15feb10/SalishSea_1d_20100215_20100215_prod_T.nc\n",
      "/results2/SalishSea/nowcast-green.202111/02mar10/SalishSea_1d_20100302_20100302_prod_T.nc\n",
      "/results2/SalishSea/nowcast-green.202111/17mar10/SalishSea_1d_20100317_20100317_prod_T.nc\n",
      "/results2/SalishSea/nowcast-green.202111/01apr10/SalishSea_1d_20100401_20100401_prod_T.nc\n",
      "/results2/SalishSea/nowcast-green.202111/16apr10/SalishSea_1d_20100416_20100416_prod_T.nc\n",
      "/results2/SalishSea/nowcast-green.202111/01may10/SalishSea_1d_20100501_20100501_prod_T.nc\n",
      "/results2/SalishSea/nowcast-green.202111/16may10/SalishSea_1d_20100516_20100516_prod_T.nc\n",
      "/results2/SalishSea/nowcast-green.202111/31may10/SalishSea_1d_20100531_20100531_prod_T.nc\n",
      "/results2/SalishSea/nowcast-green.202111/15jun10/SalishSea_1d_20100615_20100615_prod_T.nc\n",
      "/results2/SalishSea/nowcast-green.202111/30jun10/SalishSea_1d_20100630_20100630_prod_T.nc\n",
      "/results2/SalishSea/nowcast-green.202111/15jul10/SalishSea_1d_20100715_20100715_prod_T.nc\n",
      "/results2/SalishSea/nowcast-green.202111/30jul10/SalishSea_1d_20100730_20100730_prod_T.nc\n",
      "/results2/SalishSea/nowcast-green.202111/14aug10/SalishSea_1d_20100814_20100814_prod_T.nc\n",
      "/results2/SalishSea/nowcast-green.202111/29aug10/SalishSea_1d_20100829_20100829_prod_T.nc\n",
      "/results2/SalishSea/nowcast-green.202111/13sep10/SalishSea_1d_20100913_20100913_prod_T.nc\n",
      "/results2/SalishSea/nowcast-green.202111/28sep10/SalishSea_1d_20100928_20100928_prod_T.nc\n",
      "/results2/SalishSea/nowcast-green.202111/13oct10/SalishSea_1d_20101013_20101013_prod_T.nc\n",
      "/results2/SalishSea/nowcast-green.202111/28oct10/SalishSea_1d_20101028_20101028_prod_T.nc\n",
      "/results2/SalishSea/nowcast-green.202111/12nov10/SalishSea_1d_20101112_20101112_prod_T.nc\n",
      "/results2/SalishSea/nowcast-green.202111/27nov10/SalishSea_1d_20101127_20101127_prod_T.nc\n",
      "/results2/SalishSea/nowcast-green.202111/12dec10/SalishSea_1d_20101212_20101212_prod_T.nc\n",
      "/results2/SalishSea/nowcast-green.202111/27dec10/SalishSea_1d_20101227_20101227_prod_T.nc\n",
      "/results2/SalishSea/nowcast-green.202111/11jan11/SalishSea_1d_20110111_20110111_prod_T.nc\n",
      "/results2/SalishSea/nowcast-green.202111/26jan11/SalishSea_1d_20110126_20110126_prod_T.nc\n",
      "/results2/SalishSea/nowcast-green.202111/10feb11/SalishSea_1d_20110210_20110210_prod_T.nc\n",
      "/results2/SalishSea/nowcast-green.202111/25feb11/SalishSea_1d_20110225_20110225_prod_T.nc\n",
      "/results2/SalishSea/nowcast-green.202111/12mar11/SalishSea_1d_20110312_20110312_prod_T.nc\n",
      "/results2/SalishSea/nowcast-green.202111/27mar11/SalishSea_1d_20110327_20110327_prod_T.nc\n",
      "/results2/SalishSea/nowcast-green.202111/11apr11/SalishSea_1d_20110411_20110411_prod_T.nc\n",
      "/results2/SalishSea/nowcast-green.202111/26apr11/SalishSea_1d_20110426_20110426_prod_T.nc\n",
      "/results2/SalishSea/nowcast-green.202111/11may11/SalishSea_1d_20110511_20110511_prod_T.nc\n",
      "/results2/SalishSea/nowcast-green.202111/26may11/SalishSea_1d_20110526_20110526_prod_T.nc\n",
      "/results2/SalishSea/nowcast-green.202111/10jun11/SalishSea_1d_20110610_20110610_prod_T.nc\n",
      "/results2/SalishSea/nowcast-green.202111/25jun11/SalishSea_1d_20110625_20110625_prod_T.nc\n",
      "/results2/SalishSea/nowcast-green.202111/10jul11/SalishSea_1d_20110710_20110710_prod_T.nc\n",
      "/results2/SalishSea/nowcast-green.202111/25jul11/SalishSea_1d_20110725_20110725_prod_T.nc\n",
      "/results2/SalishSea/nowcast-green.202111/09aug11/SalishSea_1d_20110809_20110809_prod_T.nc\n",
      "/results2/SalishSea/nowcast-green.202111/24aug11/SalishSea_1d_20110824_20110824_prod_T.nc\n",
      "/results2/SalishSea/nowcast-green.202111/08sep11/SalishSea_1d_20110908_20110908_prod_T.nc\n",
      "/results2/SalishSea/nowcast-green.202111/23sep11/SalishSea_1d_20110923_20110923_prod_T.nc\n",
      "/results2/SalishSea/nowcast-green.202111/08oct11/SalishSea_1d_20111008_20111008_prod_T.nc\n",
      "/results2/SalishSea/nowcast-green.202111/23oct11/SalishSea_1d_20111023_20111023_prod_T.nc\n",
      "/results2/SalishSea/nowcast-green.202111/07nov11/SalishSea_1d_20111107_20111107_prod_T.nc\n",
      "/results2/SalishSea/nowcast-green.202111/22nov11/SalishSea_1d_20111122_20111122_prod_T.nc\n",
      "/results2/SalishSea/nowcast-green.202111/07dec11/SalishSea_1d_20111207_20111207_prod_T.nc\n",
      "/results2/SalishSea/nowcast-green.202111/22dec11/SalishSea_1d_20111222_20111222_prod_T.nc\n"
     ]
    }
   ],
   "source": [
    "tlist=dlist1\n",
    "idir=sdir1\n",
    "fformat1='%d%b%y/'\n",
    "fformatT='SalishSea_1d_%Y%m%d_%Y%m%d_prod_T.nc'\n",
    "fformatP='SalishSea_1h_%Y%m%d_%Y%m%d_chem_T.nc'\n",
    "PPDMD=np.zeros((len(tlist),))\n",
    "PPDGEO1=np.zeros((len(tlist),))\n",
    "PPDSTN42=np.zeros((len(tlist),))\n",
    "PPDSTN12=np.zeros((len(tlist),))\n",
    "PPDSI=np.zeros((len(tlist),))\n",
    "\n",
    "ind=-1\n",
    "for idt0 in tlist:\n",
    "    ind=ind+1\n",
    "    cdir=idt0.strftime(fformat1).lower()\n",
    "    iffT=idt0.strftime(fformatT)\n",
    "    iffP=idt0.strftime(fformatP)\n",
    "    sffT=idir+cdir+iffT\n",
    "    sffP=idir+cdir+iffP\n",
    "    f=nc.Dataset(glob.glob(sffT)[0])\n",
    "    if ind%15==0: print(sffT) \n",
    "    fP=nc.Dataset(glob.glob(sffP)[0])\n",
    "    #e3t=fP.variables['e3t_0'][:2,:,:,:]\n",
    "    Vol=A*e3t_0 #m3\n",
    "    PPDMD=np.sum(f.variables['PPDIAT'][0,:,:,:]*e3t_0[0,:,:,:]*tmaskC[0,:,:,:],0)#mmol/m2 s-1\n",
    "    PPDGEO1[ind]=np.sum(f.variables['PPDIAT'][0,:,jGEO1,iGEO1]*e3t_0[0,:,jGEO1,iGEO1]*tmaskC[0,:,jGEO1,iGEO1],0)#mmol/m2 s-1\n",
    "    PPDSTN42[ind]=np.sum(f.variables['PPDIAT'][0,:,jSTN42,iSTN42]*e3t_0[0,:,jSTN42,iSTN42]*tmaskC[0,:,jSTN42,iSTN42],0)#mmol/m2 s-1\n",
    "    PPDSTN12[ind]=np.sum(f.variables['PPDIAT'][0,:,jSTN12,iSTN12]*e3t_0[0,:,jSTN12,iSTN12]*tmaskC[0,:,jSTN12,iSTN12],0)#mmol/m2 s-1\n",
    "    PPDSI[ind]=np.sum(f.variables['PPDIAT'][0,:,jSI,iSI]*e3t_0[0,:,jSI,iSI]*tmaskC[0,:,jSI,iSI],0)#mmol/m2 s-1\n",
    "    \n",
    "  #integrated=np.sum(f.variables['mesozooplankton'][il,:,:,:]*fe3t.variables['e3t'][il,:,:,:]*tmask[0,:,:,:],0)\n",
    "   \n",
    "    f.close()\n",
    "    fP.close()"
   ]
  },
  {
   "cell_type": "code",
   "execution_count": 19,
   "metadata": {},
   "outputs": [
    {
     "name": "stdout",
     "output_type": "stream",
     "text": [
      "/results2/SalishSea/nowcast-green.202111/01jan10/SalishSea_1d_20100101_20100101_prod_T.nc\n",
      "/results2/SalishSea/nowcast-green.202111/16jan10/SalishSea_1d_20100116_20100116_prod_T.nc\n",
      "/results2/SalishSea/nowcast-green.202111/31jan10/SalishSea_1d_20100131_20100131_prod_T.nc\n",
      "/results2/SalishSea/nowcast-green.202111/15feb10/SalishSea_1d_20100215_20100215_prod_T.nc\n",
      "/results2/SalishSea/nowcast-green.202111/02mar10/SalishSea_1d_20100302_20100302_prod_T.nc\n",
      "/results2/SalishSea/nowcast-green.202111/17mar10/SalishSea_1d_20100317_20100317_prod_T.nc\n",
      "/results2/SalishSea/nowcast-green.202111/01apr10/SalishSea_1d_20100401_20100401_prod_T.nc\n",
      "/results2/SalishSea/nowcast-green.202111/16apr10/SalishSea_1d_20100416_20100416_prod_T.nc\n",
      "/results2/SalishSea/nowcast-green.202111/01may10/SalishSea_1d_20100501_20100501_prod_T.nc\n",
      "/results2/SalishSea/nowcast-green.202111/16may10/SalishSea_1d_20100516_20100516_prod_T.nc\n",
      "/results2/SalishSea/nowcast-green.202111/31may10/SalishSea_1d_20100531_20100531_prod_T.nc\n",
      "/results2/SalishSea/nowcast-green.202111/15jun10/SalishSea_1d_20100615_20100615_prod_T.nc\n",
      "/results2/SalishSea/nowcast-green.202111/30jun10/SalishSea_1d_20100630_20100630_prod_T.nc\n",
      "/results2/SalishSea/nowcast-green.202111/15jul10/SalishSea_1d_20100715_20100715_prod_T.nc\n",
      "/results2/SalishSea/nowcast-green.202111/30jul10/SalishSea_1d_20100730_20100730_prod_T.nc\n",
      "/results2/SalishSea/nowcast-green.202111/14aug10/SalishSea_1d_20100814_20100814_prod_T.nc\n",
      "/results2/SalishSea/nowcast-green.202111/29aug10/SalishSea_1d_20100829_20100829_prod_T.nc\n",
      "/results2/SalishSea/nowcast-green.202111/13sep10/SalishSea_1d_20100913_20100913_prod_T.nc\n",
      "/results2/SalishSea/nowcast-green.202111/28sep10/SalishSea_1d_20100928_20100928_prod_T.nc\n",
      "/results2/SalishSea/nowcast-green.202111/13oct10/SalishSea_1d_20101013_20101013_prod_T.nc\n",
      "/results2/SalishSea/nowcast-green.202111/28oct10/SalishSea_1d_20101028_20101028_prod_T.nc\n",
      "/results2/SalishSea/nowcast-green.202111/12nov10/SalishSea_1d_20101112_20101112_prod_T.nc\n",
      "/results2/SalishSea/nowcast-green.202111/27nov10/SalishSea_1d_20101127_20101127_prod_T.nc\n",
      "/results2/SalishSea/nowcast-green.202111/12dec10/SalishSea_1d_20101212_20101212_prod_T.nc\n",
      "/results2/SalishSea/nowcast-green.202111/27dec10/SalishSea_1d_20101227_20101227_prod_T.nc\n",
      "/results2/SalishSea/nowcast-green.202111/11jan11/SalishSea_1d_20110111_20110111_prod_T.nc\n",
      "/results2/SalishSea/nowcast-green.202111/26jan11/SalishSea_1d_20110126_20110126_prod_T.nc\n",
      "/results2/SalishSea/nowcast-green.202111/10feb11/SalishSea_1d_20110210_20110210_prod_T.nc\n",
      "/results2/SalishSea/nowcast-green.202111/25feb11/SalishSea_1d_20110225_20110225_prod_T.nc\n",
      "/results2/SalishSea/nowcast-green.202111/12mar11/SalishSea_1d_20110312_20110312_prod_T.nc\n",
      "/results2/SalishSea/nowcast-green.202111/27mar11/SalishSea_1d_20110327_20110327_prod_T.nc\n",
      "/results2/SalishSea/nowcast-green.202111/11apr11/SalishSea_1d_20110411_20110411_prod_T.nc\n",
      "/results2/SalishSea/nowcast-green.202111/26apr11/SalishSea_1d_20110426_20110426_prod_T.nc\n",
      "/results2/SalishSea/nowcast-green.202111/11may11/SalishSea_1d_20110511_20110511_prod_T.nc\n",
      "/results2/SalishSea/nowcast-green.202111/26may11/SalishSea_1d_20110526_20110526_prod_T.nc\n",
      "/results2/SalishSea/nowcast-green.202111/10jun11/SalishSea_1d_20110610_20110610_prod_T.nc\n",
      "/results2/SalishSea/nowcast-green.202111/25jun11/SalishSea_1d_20110625_20110625_prod_T.nc\n",
      "/results2/SalishSea/nowcast-green.202111/10jul11/SalishSea_1d_20110710_20110710_prod_T.nc\n",
      "/results2/SalishSea/nowcast-green.202111/25jul11/SalishSea_1d_20110725_20110725_prod_T.nc\n",
      "/results2/SalishSea/nowcast-green.202111/09aug11/SalishSea_1d_20110809_20110809_prod_T.nc\n",
      "/results2/SalishSea/nowcast-green.202111/24aug11/SalishSea_1d_20110824_20110824_prod_T.nc\n",
      "/results2/SalishSea/nowcast-green.202111/08sep11/SalishSea_1d_20110908_20110908_prod_T.nc\n",
      "/results2/SalishSea/nowcast-green.202111/23sep11/SalishSea_1d_20110923_20110923_prod_T.nc\n",
      "/results2/SalishSea/nowcast-green.202111/08oct11/SalishSea_1d_20111008_20111008_prod_T.nc\n",
      "/results2/SalishSea/nowcast-green.202111/23oct11/SalishSea_1d_20111023_20111023_prod_T.nc\n",
      "/results2/SalishSea/nowcast-green.202111/07nov11/SalishSea_1d_20111107_20111107_prod_T.nc\n",
      "/results2/SalishSea/nowcast-green.202111/22nov11/SalishSea_1d_20111122_20111122_prod_T.nc\n",
      "/results2/SalishSea/nowcast-green.202111/07dec11/SalishSea_1d_20111207_20111207_prod_T.nc\n",
      "/results2/SalishSea/nowcast-green.202111/22dec11/SalishSea_1d_20111222_20111222_prod_T.nc\n"
     ]
    }
   ],
   "source": [
    "tlist=dlist1\n",
    "idir=sdir1\n",
    "fformat1='%d%b%y/'\n",
    "fformatT='SalishSea_1d_%Y%m%d_%Y%m%d_prod_T.nc'\n",
    "fformatP='SalishSea_1h_%Y%m%d_%Y%m%d_chem_T.nc'\n",
    "PPFMD=np.zeros((len(tlist),))\n",
    "PPFGEO1=np.zeros((len(tlist),))\n",
    "PPFSTN42=np.zeros((len(tlist),))\n",
    "PPFSTN12=np.zeros((len(tlist),))\n",
    "PPFSI=np.zeros((len(tlist),))\n",
    "\n",
    "ind=-1\n",
    "for idt0 in tlist:\n",
    "    ind=ind+1\n",
    "    cdir=idt0.strftime(fformat1).lower()\n",
    "    iffT=idt0.strftime(fformatT)\n",
    "    iffP=idt0.strftime(fformatP)\n",
    "    sffT=idir+cdir+iffT\n",
    "    sffP=idir+cdir+iffP\n",
    "    f=nc.Dataset(glob.glob(sffT)[0])\n",
    "    if ind%15==0: print(sffT) \n",
    "    fP=nc.Dataset(glob.glob(sffP)[0])\n",
    "    #e3t=fP.variables['e3t'][:2,:,:,:]\n",
    "    Vol=A*e3t_0 #m3\n",
    "    PPFMD=np.sum(f.variables['PPPHY'][0,:,:,:]*e3t_0[0,:,:,:]*tmaskC[0,:,:,:],0)#mmol/m2 s-1\n",
    "    PPFGEO1[ind]=np.sum(f.variables['PPPHY'][0,:,jGEO1,iGEO1]*e3t_0[0,:,jGEO1,iGEO1]*tmaskC[0,:,jGEO1,iGEO1],0)#mmol/m2 s-1\n",
    "    PPFSTN42[ind]=np.sum(f.variables['PPPHY'][0,:,jSTN42,iSTN42]*e3t_0[0,:,jSTN42,iSTN42]*tmaskC[0,:,jSTN42,iSTN42],0)#mmol/m2 s-1\n",
    "    PPDSTN12[ind]=np.sum(f.variables['PPPHY'][0,:,jSTN12,iSTN12]*e3t_0[0,:,jSTN12,iSTN12]*tmaskC[0,:,jSTN12,iSTN12],0)#mmol/m2 s-1\n",
    "    PPFSI[ind]=np.sum(f.variables['PPPHY'][0,:,jSI,iSI]*e3t_0[0,:,jSI,iSI]*tmaskC[0,:,jSI,iSI],0)#mmol/m2 s-1\n",
    "    \n",
    "    \n",
    "   \n",
    "    f.close()\n",
    "    fP.close()"
   ]
  },
  {
   "cell_type": "raw",
   "metadata": {},
   "source": [
    "## Now for 2011"
   ]
  },
  {
   "cell_type": "raw",
   "metadata": {
    "jupyter": {
     "outputs_hidden": false
    }
   },
   "source": [
    "tlist=dlist2\n",
    "idir=sdir1\n",
    "fformat1='%d%b%y/'\n",
    "fformatT='SalishSea_1d_%Y%m%d_%Y%m%d_prod_T.nc'\n",
    "fformatP='SalishSea_1h_%Y%m%d_%Y%m%d_chem_T.nc'\n",
    "PPDMD_2011=np.zeros((len(tlist),))\n",
    "PPDGEO1_2011=np.zeros((len(tlist),))\n",
    "PPDSTN42_2011=np.zeros((len(tlist),))\n",
    "PPDSTN12_2011=np.zeros((len(tlist),))\n",
    "PPDSI_2011=np.zeros((len(tlist),))\n",
    "\n",
    "ind=-1\n",
    "for idt0 in tlist:\n",
    "    ind=ind+1\n",
    "    cdir=idt0.strftime(fformat1).lower()\n",
    "    iffT=idt0.strftime(fformatT)\n",
    "    iffP=idt0.strftime(fformatP)\n",
    "    sffT=idir+cdir+iffT\n",
    "    sffP=idir+cdir+iffP\n",
    "    f=nc.Dataset(glob.glob(sffT)[0])\n",
    "    if ind%15==0: print(sffT) \n",
    "    fP=nc.Dataset(glob.glob(sffP)[0])\n",
    "    #e3t=fP.variables['e3t_0'][:2,:,:,:]\n",
    "    Vol=A*e3t_0 #m3\n",
    "    PPDMD_2011=np.sum(f.variables['PPDIAT'][0,:,:,:]*e3t_0[0,:,:,:]*tmaskC[0,:,:,:],0)#mmol/m2 s-1\n",
    "    PPDGEO1_2011[ind]=np.sum(f.variables['PPDIAT'][0,:,jGEO1,iGEO1]*e3t_0[0,:,jGEO1,iGEO1]*tmaskC[0,:,jGEO1,iGEO1],0)#mmol/m2 s-1\n",
    "    PPDSTN42_2011[ind]=np.sum(f.variables['PPDIAT'][0,:,jSTN42,iSTN42]*e3t_0[0,:,jSTN42,iSTN42]*tmaskC[0,:,jSTN42,iSTN42],0)#mmol/m2 s-1\n",
    "    PPDSTN12_2011[ind]=np.sum(f.variables['PPDIAT'][0,:,jSTN12,iSTN12]*e3t_0[0,:,jSTN12,iSTN12]*tmaskC[0,:,jSTN12,iSTN12],0)#mmol/m2 s-1\n",
    "    PPDSI_2011[ind]=np.sum(f.variables['PPDIAT'][0,:,jSI,iSI]*e3t_0[0,:,jSI,iSI]*tmaskC[0,:,jSI,iSI],0)#mmol/m2 s-1\n",
    "    \n",
    "  #integrated=np.sum(f.variables['mesozooplankton'][il,:,:,:]*fe3t.variables['e3t'][il,:,:,:]*tmask[0,:,:,:],0)\n",
    "   \n",
    "    f.close()\n",
    "    fP.close()"
   ]
  },
  {
   "cell_type": "raw",
   "metadata": {},
   "source": [
    "tlist=dlist2\n",
    "idir=sdir1\n",
    "fformat1='%d%b%y/'\n",
    "fformatT='SalishSea_1d_%Y%m%d_%Y%m%d_prod_T.nc'\n",
    "fformatP='SalishSea_1h_%Y%m%d_%Y%m%d_chem_T.nc'\n",
    "PPFMD_2011=np.zeros((len(tlist),))\n",
    "PPFGEO1_2011=np.zeros((len(tlist),))\n",
    "PPFSTN42_2011=np.zeros((len(tlist),))\n",
    "PPFSTN12_2011=np.zeros((len(tlist),))\n",
    "PPFSI_2011=np.zeros((len(tlist),))\n",
    "\n",
    "ind=-1\n",
    "for idt0 in tlist:\n",
    "    ind=ind+1\n",
    "    cdir=idt0.strftime(fformat1).lower()\n",
    "    iffT=idt0.strftime(fformatT)\n",
    "    iffP=idt0.strftime(fformatP)\n",
    "    sffT=idir+cdir+iffT\n",
    "    sffP=idir+cdir+iffP\n",
    "    f=nc.Dataset(glob.glob(sffT)[0])\n",
    "    if ind%15==0: print(sffT) \n",
    "    fP=nc.Dataset(glob.glob(sffP)[0])\n",
    "    #e3t=fP.variables['e3t'][:2,:,:,:]\n",
    "    Vol=A*e3t_0 #m3\n",
    "    PPFMD_2011=np.sum(f.variables['PPPHY'][0,:,:,:]*e3t_0[0,:,:,:]*tmaskC[0,:,:,:],0)#mmol/m2 s-1\n",
    "    PPFGEO1_2011[ind]=np.sum(f.variables['PPPHY'][0,:,jGEO1,iGEO1]*e3t_0[0,:,jGEO1,iGEO1]*tmaskC[0,:,jGEO1,iGEO1],0)#mmol/m2 s-1\n",
    "    PPFSTN42_2011[ind]=np.sum(f.variables['PPPHY'][0,:,jSTN42,iSTN42]*e3t_0[0,:,jSTN42,iSTN42]*tmaskC[0,:,jSTN42,iSTN42],0)#mmol/m2 s-1\n",
    "    PPDSTN12_2011[ind]=np.sum(f.variables['PPPHY'][0,:,jSTN12,iSTN12]*e3t_0[0,:,jSTN12,iSTN12]*tmaskC[0,:,jSTN12,iSTN12],0)#mmol/m2 s-1\n",
    "    PPFSI_2011[ind]=np.sum(f.variables['PPPHY'][0,:,jSI,iSI]*e3t_0[0,:,jSI,iSI]*tmaskC[0,:,jSI,iSI],0)#mmol/m2 s-1\n",
    "    \n",
    "    \n",
    "   \n",
    "    f.close()\n",
    "    fP.close()"
   ]
  },
  {
   "cell_type": "code",
   "execution_count": null,
   "metadata": {},
   "outputs": [],
   "source": []
  },
  {
   "cell_type": "code",
   "execution_count": 20,
   "metadata": {},
   "outputs": [],
   "source": [
    "PPtotalMD=PPDMD+PPFMD\n",
    "PPtotalGEO1=PPDGEO1+PPFGEO1\n",
    "PPtotalSTN42=PPDSTN42+PPFSTN42\n",
    "PPtotalSTN12=PPDSTN12+PPFSTN12\n",
    "PPtotalSI=PPDSI+PPFSI"
   ]
  },
  {
   "cell_type": "code",
   "execution_count": 21,
   "metadata": {},
   "outputs": [
    {
     "name": "stdout",
     "output_type": "stream",
     "text": [
      "0.7566533596957112\n",
      "0.835978022238322\n",
      "0.3021491268794465\n",
      "0.8651047054818485\n"
     ]
    }
   ],
   "source": [
    "\n",
    "#print(meanPPtotalMD.mean()*86400*6.6*12/1000)\n",
    "print(PPtotalGEO1.mean()*86400*6.6*12/1000)\n",
    "print(PPtotalSTN42.mean()*86400*6.6*12/1000)\n",
    "print(PPtotalSTN12.mean()*86400*6.6*12/1000)\n",
    "print(PPtotalSI.mean()*86400*6.6*12/1000)"
   ]
  },
  {
   "cell_type": "code",
   "execution_count": null,
   "metadata": {},
   "outputs": [],
   "source": []
  },
  {
   "cell_type": "code",
   "execution_count": 22,
   "metadata": {},
   "outputs": [
    {
     "data": {
      "text/plain": [
       "Text(0.5, 1.0, '2010 Depth-Integrated Primary Productivity (0-25)')"
      ]
     },
     "execution_count": 22,
     "metadata": {},
     "output_type": "execute_result"
    },
    {
     "data": {
      "image/png": "[encoded data removed]",
      "text/plain": [
       "<Figure size 1200x400 with 1 Axes>"
      ]
     },
     "metadata": {},
     "output_type": "display_data"
    }
   ],
   "source": [
    "fig,ax=plt.subplots(1,1,figsize=(12,4))\n",
    "xticks=([32],[60],[91],[121],[213],[244],[274])\n",
    "\n",
    "y=(3, 6, 7, 2, 1, 3, 4)\n",
    "\n",
    "ax.plot(tlist,(PPtotalGEO1*86400*6.6*12/1000),'-',color='green',label='Strait of Georgia') #multiply by 86400 to get d-1\n",
    "#ax.plot(tlist,(meanPPtotalSTN42*86400*6.6*12/1000),':',color='darkviolet',label='STN 42') #multiply by 86400 to get d-1\n",
    "#ax.plot(tlist,(meanPPtotalSTN12*86400*6.6*12/1000),'.',color='orange',label='STN 12') #multiply by 86400 to get d-1\n",
    "ax.plot(tlist,(PPtotalSI*86400*6.6*12/1000),'-',color='darkviolet',label='Saanich Inlet',linewidth=1) #multiply by 6.6 (C:N ratio) and 12 (weight of C)\n",
    "\n",
    "ax.legend(frameon=False)\n",
    "ax.set_ylim((0,5))\n",
    "ax.set_ylabel('Primary Productivity g C m-2 d-1)')\n",
    "ax.set_title('2010 Depth-Integrated Primary Productivity (0-25)')\n",
    "#fig.savefig('SaanichTimeSeriesModelvsObsProductivity0-100m.jpg',bbox_inches='tight')\n"
   ]
  },
  {
   "cell_type": "raw",
   "metadata": {},
   "source": [
    "fig,ax=plt.subplots(1,1,figsize=(12,4))\n",
    "xticks=([32],[60],[91],[121],[213],[244],[274])\n",
    "\n",
    "y=(3, 6, 7, 2, 1, 3, 4)\n",
    "\n",
    "ax.plot(tlist,(PPtotalGEO1_2011*86400*6.6*12/1000),'-',color='green',label='Strait of Georgia') #multiply by 86400 to get d-1\n",
    "#ax.plot(tlist,(meanPPtotalSTN42*86400*6.6*12/1000),':',color='darkviolet',label='STN 42') #multiply by 86400 to get d-1\n",
    "#ax.plot(tlist,(meanPPtotalSTN12*86400*6.6*12/1000),'.',color='orange',label='STN 12') #multiply by 86400 to get d-1\n",
    "ax.plot(tlist,(PPtotalSI_2011*86400*6.6*12/1000),'-',color='darkviolet',label='Saanich Inlet',linewidth=1) #multiply by 6.6 (C:N ratio) and 12 (weight of C)\n",
    "\n",
    "ax.legend(frameon=False)\n",
    "ax.set_ylim((0,5))\n",
    "ax.set_ylabel('Primary Productivity g C m-2 d-1)')\n",
    "ax.set_title('2011 Depth-Integrated Primary Productivity (0-25)')\n",
    "#fig.savefig('SaanichTimeSeriesModelvsObsProductivity0-100m.jpg',bbox_inches='tight')\n"
   ]
  },
  {
   "cell_type": "code",
   "execution_count": 23,
   "metadata": {},
   "outputs": [],
   "source": [
    "Model_SI_MarAug=(PPtotalSI[60:243]+PPtotalSI[425:608])/2"
   ]
  },
  {
   "cell_type": "code",
   "execution_count": 24,
   "metadata": {},
   "outputs": [],
   "source": [
    "Model_SI_Annual=(PPtotalSI[0:364]+PPtotalSI[365:729])/2"
   ]
  },
  {
   "cell_type": "code",
   "execution_count": 25,
   "metadata": {},
   "outputs": [],
   "source": [
    "Model_SoG_Aug=(PPtotalGEO1[213:243]+PPtotalGEO1[578:608])/2"
   ]
  },
  {
   "cell_type": "code",
   "execution_count": 26,
   "metadata": {},
   "outputs": [],
   "source": [
    "Saanich2010=np.array([0.2, 0.16, 0.5, 3, 0.9, 9.14, 0.88, 0.44, 1.68, 1.36, 0.46, 0.64, 4.3, 1.04]) ## 2010 values from Suchy et al. 2016\n",
    "\n",
    "Saanich2011=np.array([1.36, 1.04, 0.78, 0.24, 0.5, 5.0, 3.5, 2.0, 4.1, 0.52, 2.24]) # 2011 values from Suchy et al. 2016\n",
    "\n",
    "SaanichSuchy=np.array([0.2, 0.16, 0.5, 3, 0.9, 9.14, 0.88, 0.44, 1.68, 1.36, 0.46, 0.64, 4.3, 1.04,\\\n",
    "           1.36, 1.04, 0.78, 0.24, 0.5, 5.0, 3.5, 2.0, 4.1, 0.52, 2.24])\n",
    "\n",
    "SaanichKafrissen=np.array([0.41,0.46,1.01,4.37,5.41,1.49,15.16,1.47,0.74,2.58,2.11,0.74,1.03,6.84,1.77,0.34,\\\n",
    "                           3.67,0.56,0.45,0.11,0.28,0.87,0.92,1.06,3.20,0.72,0.19,0.25,0.07,0.25,2.30,1.18,1.41,\\\n",
    "                            1.06,2.16,0.01,0.62,0.76,1.22,0.14,0.19,0.31,1.52,2.13,0.89,1.97,1.24,0.70,1.46,0.12,\\\n",
    "                            0.03,0.78,0.69,0.10,0.13,0.07,0.03,0.03,0.03,0.09,0.09,0.16,0.23,0.38,1.60,8.45,1.75,3.05,\\\n",
    "                            0.20,0.63,0.03,0.03,0.09,0.09,0.16,0.23,0.38,1.60,8.45,1.75,3.05,0.20,0.63]) ## C uptake rates; Kafrissen et al. 2022\n",
    "\n",
    "\n",
    "SaanichKafrissen_KSrevised=np.array([0.20,0.23,0.50,2.18,2.71,0.75,7.58,0.74,0.37,1.29,1.05,0.37,0.52,3.42,0.88,0.17,\\\n",
    "                                    1.83,0.28,0.23,0.05,0.14,0.44,0.46,0.53,1.60,0.36,0.09,0.12,0.04,0.13,1.15,0.59,0.71,\\\n",
    "                                    0.53,1.08,0.31,0.38,0.61,0.07,0.09,0.15,0.76,1.06,0.45,0.99,0.62,0.35,0.73,0.06,0.01,0.39,\\\n",
    "                                    0.35,0.05,0.07,0.04,0.01,0.01,0.02,0.05,0.04,0.08,0.11,0.19,0.80,4.22,0.87,1.52,0.10,0.32]) ## corrected C uptake values based on calculations from Saanich 2010-2011 raw data\n",
    "\n",
    "\n",
    "\n",
    "SoG=np.array([0.2,1.2]) # from Harrison et al. 1983\n",
    "\n",
    "SoGYin=np.array([0.3, 0.5, 0.4, 0.6, 0.7, 1.6, 0.6,\\\n",
    "       1.7, 1.6, 1.0, 1.1, 1.0, 0.9, 0.4,\\\n",
    "       0.4, 0.5, 0.8,2.4, 1.9, 1.5, 2.1,\\\n",
    "       0.8, 1.0, 1.5, 1.5, 2.4, 1.4, 1.5,\\\n",
    "       1.2, 1.2, 0.6, 2.0, 1.7, 2.7, 2.5]) ## From Yin et al. 1997. for August only. Could also include the 8.0 value from Stockner et al. 1979?"
   ]
  },
  {
   "cell_type": "code",
   "execution_count": null,
   "metadata": {},
   "outputs": [],
   "source": []
  },
  {
   "cell_type": "code",
   "execution_count": 27,
   "metadata": {},
   "outputs": [
    {
     "data": {
      "image/png": "[encoded data removed]",
      "text/plain": [
       "<Figure size 300x300 with 1 Axes>"
      ]
     },
     "metadata": {},
     "output_type": "display_data"
    }
   ],
   "source": [
    "def color_boxplot(data, color, pos=[0], ax=None):\n",
    "    ax = ax or plt.gca()\n",
    "    bp = ax.boxplot(data, patch_artist=True,  showmeans=True, positions=pos,widths=0.4)\n",
    "    for item in ['boxes']:\n",
    "        plt.setp(bp[item], color=color)\n",
    "    for item in ['whiskers', 'fliers', 'medians', 'caps']:\n",
    "        plt.setp(bp[item], color='k')\n",
    "\n",
    "\n",
    "data1 = [Model_SI_MarAug*86400*6.6*12/1000]\n",
    "data2 = [SaanichSuchy]\n",
    "#data3 = [mod_AugustSoG*86400*6.6*12/1000]\n",
    "#data4 = [SoGYin]\n",
    "\n",
    "fig, ax = plt.subplots(figsize=(3,3))\n",
    "bp1 = color_boxplot(data1, 'royalblue',[1])\n",
    "bp2 = color_boxplot(data2, 'salmon', [1.5])\n",
    "#bp3 = color_boxplot(data3, 'royalblue', [2.5])\n",
    "#bp4 = color_boxplot(data4, 'salmon', [3])\n",
    "#ax.autoscale()\n",
    "ax.set(xticks=[1.25], xticklabels=['Saanich Inlet \\n(Mar-Aug)'])\n",
    "ax.set_ylim(0,10)\n",
    "ax.set_ylabel('Primary Productivity \\n(g C m$^{-2}$ d$^{-1}$)')\n",
    "#ax.legend()\n",
    "plt.show()"
   ]
  },
  {
   "cell_type": "code",
   "execution_count": 28,
   "metadata": {},
   "outputs": [
    {
     "data": {
      "text/plain": [
       "1.397147208780758"
      ]
     },
     "execution_count": 28,
     "metadata": {},
     "output_type": "execute_result"
    }
   ],
   "source": [
    "Model_SI_MarAug.mean()*86400*6.6*12/1000"
   ]
  },
  {
   "cell_type": "code",
   "execution_count": 29,
   "metadata": {},
   "outputs": [
    {
     "data": {
      "text/plain": [
       "1.8392000000000002"
      ]
     },
     "execution_count": 29,
     "metadata": {},
     "output_type": "execute_result"
    }
   ],
   "source": [
    "SaanichSuchy.mean()"
   ]
  },
  {
   "cell_type": "code",
   "execution_count": 30,
   "metadata": {},
   "outputs": [
    {
     "name": "stdout",
     "output_type": "stream",
     "text": [
      "0.7596494175623955\n"
     ]
    }
   ],
   "source": [
    "## Saanich Inlet Ratio (Mar-Aug) using Suchy et al. 2016 data\n",
    "\n",
    "ratio_modPPvsobsPP_SI=(Model_SI_MarAug.mean()*86400*6.6*12/1000)/(SaanichSuchy.mean())\n",
    "print(ratio_modPPvsobsPP_SI)"
   ]
  },
  {
   "cell_type": "code",
   "execution_count": 31,
   "metadata": {},
   "outputs": [
    {
     "data": {
      "text/plain": [
       "0.16"
      ]
     },
     "execution_count": 31,
     "metadata": {},
     "output_type": "execute_result"
    }
   ],
   "source": [
    "SaanichSuchy.min()"
   ]
  },
  {
   "cell_type": "code",
   "execution_count": 32,
   "metadata": {},
   "outputs": [
    {
     "data": {
      "text/plain": [
       "9.14"
      ]
     },
     "execution_count": 32,
     "metadata": {},
     "output_type": "execute_result"
    }
   ],
   "source": [
    "SaanichSuchy.max()"
   ]
  },
  {
   "cell_type": "code",
   "execution_count": null,
   "metadata": {},
   "outputs": [],
   "source": []
  },
  {
   "cell_type": "code",
   "execution_count": 33,
   "metadata": {},
   "outputs": [
    {
     "data": {
      "image/png": "[encoded data removed]",
      "text/plain": [
       "<Figure size 300x300 with 1 Axes>"
      ]
     },
     "metadata": {},
     "output_type": "display_data"
    }
   ],
   "source": [
    "def color_boxplot(data, color, pos=[0], ax=None):\n",
    "    ax = ax or plt.gca()\n",
    "    bp = ax.boxplot(data, patch_artist=True,  showmeans=True, positions=pos,widths=0.4)\n",
    "    for item in ['boxes']:\n",
    "        plt.setp(bp[item], color=color)\n",
    "    for item in ['whiskers', 'fliers', 'medians', 'caps']:\n",
    "        plt.setp(bp[item], color='k')\n",
    "\n",
    "\n",
    "data1 = [Model_SoG_Aug*86400*6.6*12/1000]\n",
    "data2 = [SoGYin]\n",
    "\n",
    "\n",
    "fig, ax = plt.subplots(figsize=(3,3))\n",
    "bp1 = color_boxplot(data1, 'royalblue',[1])\n",
    "bp2 = color_boxplot(data2, 'salmon', [1.5])\n",
    "#bp3 = color_boxplot(data3, 'royalblue', [2.5])\n",
    "#bp4 = color_boxplot(data4, 'salmon', [3])\n",
    "#ax.autoscale()\n",
    "ax.set(xticks=[1.25], xticklabels=['Strait of Georgia \\n(Aug)'])\n",
    "ax.set_ylim(0,10)\n",
    "ax.set_ylabel('Primary Productivity \\n(g C m$^{-2}$ d$^{-1}$)')\n",
    "#ax.legend()\n",
    "plt.show()"
   ]
  },
  {
   "cell_type": "code",
   "execution_count": 34,
   "metadata": {},
   "outputs": [
    {
     "data": {
      "text/plain": [
       "1.2140633485713461"
      ]
     },
     "execution_count": 34,
     "metadata": {},
     "output_type": "execute_result"
    }
   ],
   "source": [
    "Model_SoG_Aug.mean()*86400*6.6*12/1000"
   ]
  },
  {
   "cell_type": "code",
   "execution_count": 35,
   "metadata": {},
   "outputs": [
    {
     "data": {
      "text/plain": [
       "1.2571428571428573"
      ]
     },
     "execution_count": 35,
     "metadata": {},
     "output_type": "execute_result"
    }
   ],
   "source": [
    "SoGYin.mean()"
   ]
  },
  {
   "cell_type": "code",
   "execution_count": 36,
   "metadata": {},
   "outputs": [
    {
     "name": "stdout",
     "output_type": "stream",
     "text": [
      "0.9657322090908433\n"
     ]
    }
   ],
   "source": [
    "## SoG Ratio (for August only)\n",
    "\n",
    "ratio_modPPvsobsPP_SoG=(Model_SoG_Aug.mean()*86400*6.6*12/1000)/(SoGYin.mean())\n",
    "print(ratio_modPPvsobsPP_SoG)"
   ]
  },
  {
   "cell_type": "code",
   "execution_count": 37,
   "metadata": {},
   "outputs": [
    {
     "data": {
      "image/png": "[encoded data removed]",
      "text/plain": [
       "<Figure size 300x300 with 1 Axes>"
      ]
     },
     "metadata": {},
     "output_type": "display_data"
    }
   ],
   "source": [
    "def color_boxplot(data, color, pos=[0], ax=None):\n",
    "    ax = ax or plt.gca()\n",
    "    bp = ax.boxplot(data, patch_artist=True,  showmeans=True, positions=pos,widths=0.4)\n",
    "    for item in ['boxes']:\n",
    "        plt.setp(bp[item], color=color)\n",
    "    for item in ['whiskers', 'fliers', 'medians', 'caps']:\n",
    "        plt.setp(bp[item], color='k')\n",
    "\n",
    "\n",
    "data1 = [Model_SI_Annual*86400*6.6*12/1000]\n",
    "data2 = [SaanichKafrissen]\n",
    "#data3 = [mod_AugustSoG*86400*6.6*12/1000]\n",
    "#data4 = [SoGYin]\n",
    "\n",
    "fig, ax = plt.subplots(figsize=(3,3))\n",
    "bp1 = color_boxplot(data1, 'royalblue',[1])\n",
    "bp2 = color_boxplot(data2, 'salmon', [1.5])\n",
    "#bp3 = color_boxplot(data3, 'royalblue', [2.5])\n",
    "#bp4 = color_boxplot(data4, 'salmon', [3])\n",
    "#ax.autoscale()\n",
    "ax.set(xticks=[1.25], xticklabels=['Saanich Inlet \\n(Annual)'])\n",
    "ax.set_ylim(0,10)\n",
    "ax.set_ylabel('Primary Productivity \\n(g C m$^{-2}$ d$^{-1}$)')\n",
    "#ax.legend()\n",
    "plt.show()"
   ]
  },
  {
   "cell_type": "code",
   "execution_count": null,
   "metadata": {},
   "outputs": [],
   "source": []
  },
  {
   "cell_type": "code",
   "execution_count": 38,
   "metadata": {},
   "outputs": [
    {
     "data": {
      "text/plain": [
       "0.8670446651855012"
      ]
     },
     "execution_count": 38,
     "metadata": {},
     "output_type": "execute_result"
    }
   ],
   "source": [
    "Model_SI_Annual.mean()*86400*6.6*12/1000"
   ]
  },
  {
   "cell_type": "code",
   "execution_count": 39,
   "metadata": {},
   "outputs": [
    {
     "data": {
      "text/plain": [
       "1.3871084337349397"
      ]
     },
     "execution_count": 39,
     "metadata": {},
     "output_type": "execute_result"
    }
   ],
   "source": [
    "SaanichKafrissen.mean()"
   ]
  },
  {
   "cell_type": "code",
   "execution_count": 40,
   "metadata": {},
   "outputs": [
    {
     "data": {
      "text/plain": [
       "0.01"
      ]
     },
     "execution_count": 40,
     "metadata": {},
     "output_type": "execute_result"
    }
   ],
   "source": [
    "SaanichKafrissen.min()"
   ]
  },
  {
   "cell_type": "code",
   "execution_count": 41,
   "metadata": {},
   "outputs": [
    {
     "data": {
      "text/plain": [
       "15.16"
      ]
     },
     "execution_count": 41,
     "metadata": {},
     "output_type": "execute_result"
    }
   ],
   "source": [
    "SaanichKafrissen.max()"
   ]
  },
  {
   "cell_type": "code",
   "execution_count": 42,
   "metadata": {},
   "outputs": [
    {
     "name": "stdout",
     "output_type": "stream",
     "text": [
      "0.6250734579205819\n"
     ]
    }
   ],
   "source": [
    "## Saanich Inlet Ratio using Kafrissen et al. 2022 data\n",
    "\n",
    "ratio_modPPvsobsPP_SI=(Model_SI_Annual.mean()*86400*6.6*12/1000)/(SaanichKafrissen.mean())\n",
    "print(ratio_modPPvsobsPP_SI)"
   ]
  },
  {
   "cell_type": "code",
   "execution_count": 59,
   "metadata": {},
   "outputs": [
    {
     "data": {
      "image/png": "[encoded data removed]",
      "text/plain": [
       "<Figure size 300x300 with 1 Axes>"
      ]
     },
     "metadata": {},
     "output_type": "display_data"
    }
   ],
   "source": [
    "def color_boxplot(data, color, pos=[0], ax=None):\n",
    "    ax = ax or plt.gca()\n",
    "    bp = ax.boxplot(data, patch_artist=True,  showmeans=True, positions=pos,widths=0.4)\n",
    "    for item in ['boxes']:\n",
    "        plt.setp(bp[item], color=color)\n",
    "    for item in ['whiskers', 'fliers', 'medians', 'caps']:\n",
    "        plt.setp(bp[item], color='k')\n",
    "\n",
    "\n",
    "data1 = [Model_SI_Annual*86400*6.6*12/1000]\n",
    "data2 = [SaanichKafrissen_KSrevised]\n",
    "#data3 = [mod_AugustSoG*86400*6.6*12/1000]\n",
    "#data4 = [SoGYin]\n",
    "\n",
    "fig, ax = plt.subplots(figsize=(3,3))\n",
    "bp1 = color_boxplot(data1, 'royalblue',[1])\n",
    "bp2 = color_boxplot(data2, 'salmon', [1.5])\n",
    "#bp3 = color_boxplot(data3, 'royalblue', [2.5])\n",
    "#bp4 = color_boxplot(data4, 'salmon', [3])\n",
    "#ax.autoscale()\n",
    "ax.set(xticks=[1.25], xticklabels=['Saanich Inlet \\n(Annual)'])\n",
    "ax.set_ylim(0,10)\n",
    "ax.set_ylabel('Primary Productivity \\n(g C m$^{-2}$ d$^{-1}$)')\n",
    "#ax.legend()\n",
    "plt.show()"
   ]
  },
  {
   "cell_type": "code",
   "execution_count": 50,
   "metadata": {},
   "outputs": [
    {
     "data": {
      "text/plain": [
       "0.8670446651855012"
      ]
     },
     "execution_count": 50,
     "metadata": {},
     "output_type": "execute_result"
    }
   ],
   "source": [
    "Model_SI_Annual.mean()*86400*6.6*12/1000"
   ]
  },
  {
   "cell_type": "code",
   "execution_count": 55,
   "metadata": {},
   "outputs": [
    {
     "data": {
      "text/plain": [
       "0.7130434782608696"
      ]
     },
     "execution_count": 55,
     "metadata": {},
     "output_type": "execute_result"
    }
   ],
   "source": [
    "SaanichKafrissen_KSrevised.mean()"
   ]
  },
  {
   "cell_type": "code",
   "execution_count": 56,
   "metadata": {},
   "outputs": [
    {
     "data": {
      "text/plain": [
       "0.01"
      ]
     },
     "execution_count": 56,
     "metadata": {},
     "output_type": "execute_result"
    }
   ],
   "source": [
    "SaanichKafrissen_KSrevised.min()"
   ]
  },
  {
   "cell_type": "code",
   "execution_count": 57,
   "metadata": {},
   "outputs": [
    {
     "data": {
      "text/plain": [
       "7.58"
      ]
     },
     "execution_count": 57,
     "metadata": {},
     "output_type": "execute_result"
    }
   ],
   "source": [
    "SaanichKafrissen_KSrevised.max()"
   ]
  },
  {
   "cell_type": "code",
   "execution_count": 58,
   "metadata": {},
   "outputs": [
    {
     "name": "stdout",
     "output_type": "stream",
     "text": [
      "1.21597727434552\n"
     ]
    }
   ],
   "source": [
    "## Saanich Inlet Ratio using Kafrissen et al. 2022 data but revised by me\n",
    "\n",
    "ratio_modPPvsobsPP_SI=(Model_SI_Annual.mean()*86400*6.6*12/1000)/(SaanichKafrissen_KSrevised.mean())\n",
    "print(ratio_modPPvsobsPP_SI)"
   ]
  },
  {
   "cell_type": "code",
   "execution_count": null,
   "metadata": {},
   "outputs": [],
   "source": []
  }
 ],
 "metadata": {
  "kernelspec": {
   "display_name": "Python (py39)",
   "language": "python",
   "name": "py39"
  },
  "language_info": {
   "codemirror_mode": {
    "name": "ipython",
    "version": 3
   },
   "file_extension": ".py",
   "mimetype": "text/x-python",
   "name": "python",
   "nbconvert_exporter": "python",
   "pygments_lexer": "ipython3",
   "version": "3.9.15"
  }
 },
 "nbformat": 4,
 "nbformat_minor": 4
}
