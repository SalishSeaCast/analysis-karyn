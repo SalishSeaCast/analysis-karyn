{
 "cells": [
  {
   "cell_type": "markdown",
   "metadata": {},
   "source": [
    "Import model data for comparison with observations"
   ]
  },
  {
   "cell_type": "code",
   "execution_count": 1,
   "metadata": {},
   "outputs": [],
   "source": [
    "import netCDF4 as nc\n",
    "import datetime as dt\n",
    "import pandas as pd\n",
    "from pandas import Series, DataFrame\n",
    "import subprocess\n",
    "import requests\n",
    "import matplotlib.pyplot as plt\n",
    "import cmocean\n",
    "import numpy as np\n",
    "import os\n",
    "import glob\n",
    "import dateutil as dutil\n",
    "from salishsea_tools import viz_tools, places\n",
    "import xarray as xr\n",
    "from salishsea_tools import evaltools as et\n",
    "from collections import OrderedDict\n",
    "\n",
    "%matplotlib inline"
   ]
  },
  {
   "cell_type": "code",
   "execution_count": 2,
   "metadata": {},
   "outputs": [],
   "source": [
    "\n",
    "start_date = dt.datetime(2023,1,1)\n",
    "end_date = dt.datetime(2023,12,31)\n",
    "flen=1 # number of days per model output file. always 1 for 201905 and 201812 model runs\n",
    "namfmt='nowcast' # for 201905 and 201812 model runs, this should always be 'nowcast'\n",
    "# filemap is dictionary of the form variableName: fileType, where variableName is the name\n",
    "# of the variable you want to extract and fileType designates the type of \n",
    "# model output file it can be found in (usually ptrc_T for biology, grid_T for temperature and \n",
    "# salinity)\n",
    "filemap={'GRMESZDIAT':'graz_T','GRMESZPHY':'graz_T','GRMESZMICZ':'graz_T','GRMESZPON':'graz_T'}\n",
    "# fdict is a dictionary mappy file type to its time resolution. Here, 1 means hourly output\n",
    "# (1h file) and 24 means daily output (1d file). In certain runs, multiple time resolutions \n",
    "# are available\n",
    "fdict={'graz_T':24,'grid_T':24} #24 for hours averaged "
   ]
  },
  {
   "cell_type": "code",
   "execution_count": 3,
   "metadata": {},
   "outputs": [],
   "source": [
    "PATH= '/results2/SalishSea/nowcast-green.202111/'"
   ]
  },
  {
   "cell_type": "code",
   "execution_count": 4,
   "metadata": {},
   "outputs": [],
   "source": [
    "df2=pd.read_csv('/ocean/ksuchy/MOAD/analysis-karyn/notebooks/Evaluations/2023_SoG_ZoopProd_DepthSpecific.csv')"
   ]
  },
  {
   "cell_type": "code",
   "execution_count": 5,
   "metadata": {},
   "outputs": [
    {
     "data": {
      "text/html": [
       "<div>\n",
       "<style scoped>\n",
       "    .dataframe tbody tr th:only-of-type {\n",
       "        vertical-align: middle;\n",
       "    }\n",
       "\n",
       "    .dataframe tbody tr th {\n",
       "        vertical-align: top;\n",
       "    }\n",
       "\n",
       "    .dataframe thead th {\n",
       "        text-align: right;\n",
       "    }\n",
       "</style>\n",
       "<table border=\"1\" class=\"dataframe\">\n",
       "  <thead>\n",
       "    <tr style=\"text-align: right;\">\n",
       "      <th></th>\n",
       "      <th>Cruise</th>\n",
       "      <th>Date</th>\n",
       "      <th>Station</th>\n",
       "      <th>STN_TIME</th>\n",
       "      <th>Z_lower</th>\n",
       "      <th>Z_upper</th>\n",
       "      <th>Lat</th>\n",
       "      <th>Lon</th>\n",
       "      <th>BPR (mgC m-3 day-1)</th>\n",
       "      <th>daily P:B</th>\n",
       "    </tr>\n",
       "  </thead>\n",
       "  <tbody>\n",
       "    <tr>\n",
       "      <th>0</th>\n",
       "      <td>2023-003</td>\n",
       "      <td>03/15/2023</td>\n",
       "      <td>Stn 42</td>\n",
       "      <td>12:00</td>\n",
       "      <td>5</td>\n",
       "      <td>5</td>\n",
       "      <td>49.028717</td>\n",
       "      <td>-123.103330</td>\n",
       "      <td>0.849489</td>\n",
       "      <td>0.067893</td>\n",
       "    </tr>\n",
       "    <tr>\n",
       "      <th>1</th>\n",
       "      <td>2023-003</td>\n",
       "      <td>03/15/2023</td>\n",
       "      <td>Stn 42</td>\n",
       "      <td>12:00</td>\n",
       "      <td>10</td>\n",
       "      <td>10</td>\n",
       "      <td>49.028717</td>\n",
       "      <td>-123.103330</td>\n",
       "      <td>3.473540</td>\n",
       "      <td>0.177075</td>\n",
       "    </tr>\n",
       "    <tr>\n",
       "      <th>2</th>\n",
       "      <td>2023-003</td>\n",
       "      <td>03/15/2023</td>\n",
       "      <td>Stn 42</td>\n",
       "      <td>12:00</td>\n",
       "      <td>20</td>\n",
       "      <td>20</td>\n",
       "      <td>49.028717</td>\n",
       "      <td>-123.103330</td>\n",
       "      <td>8.605914</td>\n",
       "      <td>0.474847</td>\n",
       "    </tr>\n",
       "    <tr>\n",
       "      <th>3</th>\n",
       "      <td>2023-003</td>\n",
       "      <td>03/15/2023</td>\n",
       "      <td>Stn 42</td>\n",
       "      <td>12:00</td>\n",
       "      <td>50</td>\n",
       "      <td>50</td>\n",
       "      <td>49.028717</td>\n",
       "      <td>-123.103330</td>\n",
       "      <td>9.166827</td>\n",
       "      <td>0.382759</td>\n",
       "    </tr>\n",
       "    <tr>\n",
       "      <th>4</th>\n",
       "      <td>2023-003</td>\n",
       "      <td>03/15/2023</td>\n",
       "      <td>Stn 42</td>\n",
       "      <td>12:00</td>\n",
       "      <td>150</td>\n",
       "      <td>150</td>\n",
       "      <td>49.028717</td>\n",
       "      <td>-123.103330</td>\n",
       "      <td>0.000000</td>\n",
       "      <td>0.000000</td>\n",
       "    </tr>\n",
       "    <tr>\n",
       "      <th>...</th>\n",
       "      <td>...</td>\n",
       "      <td>...</td>\n",
       "      <td>...</td>\n",
       "      <td>...</td>\n",
       "      <td>...</td>\n",
       "      <td>...</td>\n",
       "      <td>...</td>\n",
       "      <td>...</td>\n",
       "      <td>...</td>\n",
       "      <td>...</td>\n",
       "    </tr>\n",
       "    <tr>\n",
       "      <th>168</th>\n",
       "      <td>2023-066</td>\n",
       "      <td>05/13/2023</td>\n",
       "      <td>Stn 12</td>\n",
       "      <td>12:00</td>\n",
       "      <td>20</td>\n",
       "      <td>20</td>\n",
       "      <td>49.726133</td>\n",
       "      <td>-124.680567</td>\n",
       "      <td>0.000000</td>\n",
       "      <td>0.000000</td>\n",
       "    </tr>\n",
       "    <tr>\n",
       "      <th>169</th>\n",
       "      <td>2023-066</td>\n",
       "      <td>05/13/2023</td>\n",
       "      <td>Stn 12</td>\n",
       "      <td>12:00</td>\n",
       "      <td>50</td>\n",
       "      <td>50</td>\n",
       "      <td>49.726133</td>\n",
       "      <td>-124.680567</td>\n",
       "      <td>0.013851</td>\n",
       "      <td>0.001283</td>\n",
       "    </tr>\n",
       "    <tr>\n",
       "      <th>170</th>\n",
       "      <td>2023-066</td>\n",
       "      <td>05/13/2023</td>\n",
       "      <td>Stn 12</td>\n",
       "      <td>12:00</td>\n",
       "      <td>150</td>\n",
       "      <td>150</td>\n",
       "      <td>49.726133</td>\n",
       "      <td>-124.680567</td>\n",
       "      <td>0.007828</td>\n",
       "      <td>0.001177</td>\n",
       "    </tr>\n",
       "    <tr>\n",
       "      <th>171</th>\n",
       "      <td>2023-066</td>\n",
       "      <td>05/13/2023</td>\n",
       "      <td>Stn 12</td>\n",
       "      <td>12:00</td>\n",
       "      <td>250</td>\n",
       "      <td>250</td>\n",
       "      <td>49.726133</td>\n",
       "      <td>-124.680567</td>\n",
       "      <td>0.000000</td>\n",
       "      <td>0.000000</td>\n",
       "    </tr>\n",
       "    <tr>\n",
       "      <th>172</th>\n",
       "      <td>2023-066</td>\n",
       "      <td>05/13/2023</td>\n",
       "      <td>Stn 12</td>\n",
       "      <td>12:00</td>\n",
       "      <td>350</td>\n",
       "      <td>350</td>\n",
       "      <td>49.726133</td>\n",
       "      <td>-124.680567</td>\n",
       "      <td>0.042745</td>\n",
       "      <td>0.003103</td>\n",
       "    </tr>\n",
       "  </tbody>\n",
       "</table>\n",
       "<p>173 rows × 10 columns</p>\n",
       "</div>"
      ],
      "text/plain": [
       "       Cruise        Date Station STN_TIME  Z_lower  Z_upper        Lat  \\\n",
       "0    2023-003  03/15/2023  Stn 42    12:00        5        5  49.028717   \n",
       "1    2023-003  03/15/2023  Stn 42    12:00       10       10  49.028717   \n",
       "2    2023-003  03/15/2023  Stn 42    12:00       20       20  49.028717   \n",
       "3    2023-003  03/15/2023  Stn 42    12:00       50       50  49.028717   \n",
       "4    2023-003  03/15/2023  Stn 42    12:00      150      150  49.028717   \n",
       "..        ...         ...     ...      ...      ...      ...        ...   \n",
       "168  2023-066  05/13/2023  Stn 12    12:00       20       20  49.726133   \n",
       "169  2023-066  05/13/2023  Stn 12    12:00       50       50  49.726133   \n",
       "170  2023-066  05/13/2023  Stn 12    12:00      150      150  49.726133   \n",
       "171  2023-066  05/13/2023  Stn 12    12:00      250      250  49.726133   \n",
       "172  2023-066  05/13/2023  Stn 12    12:00      350      350  49.726133   \n",
       "\n",
       "            Lon  BPR (mgC m-3 day-1)  daily P:B  \n",
       "0   -123.103330             0.849489   0.067893  \n",
       "1   -123.103330             3.473540   0.177075  \n",
       "2   -123.103330             8.605914   0.474847  \n",
       "3   -123.103330             9.166827   0.382759  \n",
       "4   -123.103330             0.000000   0.000000  \n",
       "..          ...                  ...        ...  \n",
       "168 -124.680567             0.000000   0.000000  \n",
       "169 -124.680567             0.013851   0.001283  \n",
       "170 -124.680567             0.007828   0.001177  \n",
       "171 -124.680567             0.000000   0.000000  \n",
       "172 -124.680567             0.042745   0.003103  \n",
       "\n",
       "[173 rows x 10 columns]"
      ]
     },
     "execution_count": 5,
     "metadata": {},
     "output_type": "execute_result"
    }
   ],
   "source": [
    "df2"
   ]
  },
  {
   "cell_type": "code",
   "execution_count": 6,
   "metadata": {},
   "outputs": [],
   "source": [
    "df2.rename(columns={'Date':'dtUTC'}, inplace=True)"
   ]
  },
  {
   "cell_type": "markdown",
   "metadata": {},
   "source": [
    "### Convert date to proper format"
   ]
  },
  {
   "cell_type": "code",
   "execution_count": 7,
   "metadata": {},
   "outputs": [
    {
     "data": {
      "text/plain": [
       "('03/15/2023', '12:00')"
      ]
     },
     "execution_count": 7,
     "metadata": {},
     "output_type": "execute_result"
    }
   ],
   "source": [
    "df2['dtUTC'][0],df2['STN_TIME'][0]"
   ]
  },
  {
   "cell_type": "code",
   "execution_count": 8,
   "metadata": {},
   "outputs": [
    {
     "data": {
      "text/plain": [
       "0    03/15/2023\n",
       "1    03/15/2023\n",
       "2    03/15/2023\n",
       "3    03/15/2023\n",
       "4    03/15/2023\n",
       "5    03/15/2023\n",
       "6    03/16/2023\n",
       "7    03/16/2023\n",
       "8    03/16/2023\n",
       "9    03/16/2023\n",
       "Name: dtUTC, dtype: object"
      ]
     },
     "execution_count": 8,
     "metadata": {},
     "output_type": "execute_result"
    }
   ],
   "source": [
    "df2['dtUTC'][0:10]"
   ]
  },
  {
   "cell_type": "code",
   "execution_count": 9,
   "metadata": {},
   "outputs": [
    {
     "data": {
      "text/plain": [
       "['03', '15', '2023']"
      ]
     },
     "execution_count": 9,
     "metadata": {},
     "output_type": "execute_result"
    }
   ],
   "source": [
    "df2['dtUTC'][0].split('/')"
   ]
  },
  {
   "cell_type": "code",
   "execution_count": 10,
   "metadata": {},
   "outputs": [],
   "source": [
    "dateslist=list()"
   ]
  },
  {
   "cell_type": "code",
   "execution_count": 11,
   "metadata": {},
   "outputs": [],
   "source": [
    "for el in df2['dtUTC']:\n",
    "    dateslist.append(el.split('/'))"
   ]
  },
  {
   "cell_type": "code",
   "execution_count": 12,
   "metadata": {},
   "outputs": [],
   "source": [
    "timeslist=list()\n",
    "for el in df2['STN_TIME']:\n",
    "    timeslist.append(el.split(':'))"
   ]
  },
  {
   "cell_type": "code",
   "execution_count": 13,
   "metadata": {},
   "outputs": [],
   "source": [
    "dts=list()\n",
    "for ii,jj in zip(dateslist,timeslist):\n",
    "    dts.append(dt.datetime(int(ii[2]),int(ii[0]),int(ii[1]),int(jj[0]),int(jj[1])))"
   ]
  },
  {
   "cell_type": "code",
   "execution_count": 14,
   "metadata": {},
   "outputs": [
    {
     "data": {
      "text/plain": [
       "0      03/15/2023\n",
       "1      03/15/2023\n",
       "2      03/15/2023\n",
       "3      03/15/2023\n",
       "4      03/15/2023\n",
       "          ...    \n",
       "168    05/13/2023\n",
       "169    05/13/2023\n",
       "170    05/13/2023\n",
       "171    05/13/2023\n",
       "172    05/13/2023\n",
       "Name: dtUTC, Length: 173, dtype: object"
      ]
     },
     "execution_count": 14,
     "metadata": {},
     "output_type": "execute_result"
    }
   ],
   "source": [
    "df2['dtUTC']"
   ]
  },
  {
   "cell_type": "code",
   "execution_count": 15,
   "metadata": {},
   "outputs": [],
   "source": [
    "df2['dtUTC'] = df2['dtUTC'].apply(lambda x:\n",
    "    dt.datetime.strptime(x, '%m/%d/%Y'))"
   ]
  },
  {
   "cell_type": "code",
   "execution_count": 16,
   "metadata": {},
   "outputs": [
    {
     "data": {
      "text/plain": [
       "0     2023-03-15\n",
       "1     2023-03-15\n",
       "2     2023-03-15\n",
       "3     2023-03-15\n",
       "4     2023-03-15\n",
       "         ...    \n",
       "168   2023-05-13\n",
       "169   2023-05-13\n",
       "170   2023-05-13\n",
       "171   2023-05-13\n",
       "172   2023-05-13\n",
       "Name: dtUTC, Length: 173, dtype: datetime64[ns]"
      ]
     },
     "execution_count": 16,
     "metadata": {},
     "output_type": "execute_result"
    }
   ],
   "source": [
    "df2['dtUTC']"
   ]
  },
  {
   "cell_type": "code",
   "execution_count": 17,
   "metadata": {},
   "outputs": [
    {
     "name": "stdout",
     "output_type": "stream",
     "text": [
      "ftype=graz_T, are you sure? (if yes, add to list)\n",
      "Warning: upper limit is not an ocean value:  i=312, j=399, k_upper=4,Lat=49.028717, Lon=-123.10333,dtUTC=2023-03-15 00:00:00\n",
      "Warning: upper limit is not an ocean value:  i=312, j=399, k_upper=9,Lat=49.028717, Lon=-123.10333,dtUTC=2023-03-15 00:00:00\n",
      "Warning: upper limit is not an ocean value:  i=312, j=399, k_upper=18,Lat=49.028717, Lon=-123.10333,dtUTC=2023-03-15 00:00:00\n",
      "Warning: upper limit is not an ocean value:  i=312, j=399, k_upper=23,Lat=49.028717, Lon=-123.10333,dtUTC=2023-03-15 00:00:00\n",
      "Warning: upper limit is not an ocean value:  i=312, j=399, k_upper=28,Lat=49.028717, Lon=-123.10333,dtUTC=2023-03-15 00:00:00\n",
      "Warning: upper limit is not an ocean value:  i=312, j=399, k_upper=32,Lat=49.028717, Lon=-123.10333,dtUTC=2023-03-15 00:00:00\n",
      "Warning: upper limit is not an ocean value:  i=312, j=399, k_upper=32,Lat=49.028717, Lon=-123.10333,dtUTC=2023-04-14 00:00:00\n",
      "Warning: upper limit is not an ocean value:  i=312, j=399, k_upper=28,Lat=49.028717, Lon=-123.10333,dtUTC=2023-04-14 00:00:00\n",
      "Warning: upper limit is not an ocean value:  i=312, j=399, k_upper=9,Lat=49.028717, Lon=-123.10333,dtUTC=2023-04-14 00:00:00\n",
      "Warning: upper limit is not an ocean value:  i=312, j=399, k_upper=18,Lat=49.028717, Lon=-123.10333,dtUTC=2023-04-14 00:00:00\n",
      "Warning: upper limit is not an ocean value:  i=312, j=399, k_upper=23,Lat=49.028717, Lon=-123.10333,dtUTC=2023-04-14 00:00:00\n",
      "Warning: upper limit is not an ocean value:  i=312, j=399, k_upper=4,Lat=49.028717, Lon=-123.10333,dtUTC=2023-04-14 00:00:00\n",
      "Warning: upper limit is not an ocean value:  i=312, j=399, k_upper=18,Lat=49.028717, Lon=-123.10333,dtUTC=2023-05-06 00:00:00\n",
      "Warning: upper limit is not an ocean value:  i=312, j=399, k_upper=28,Lat=49.028717, Lon=-123.10333,dtUTC=2023-05-06 00:00:00\n",
      "Warning: upper limit is not an ocean value:  i=312, j=399, k_upper=23,Lat=49.028717, Lon=-123.10333,dtUTC=2023-05-06 00:00:00\n",
      "Warning: upper limit is not an ocean value:  i=312, j=399, k_upper=9,Lat=49.028717, Lon=-123.10333,dtUTC=2023-05-06 00:00:00\n",
      "Warning: upper limit is not an ocean value:  i=312, j=399, k_upper=4,Lat=49.028717, Lon=-123.10333,dtUTC=2023-05-06 00:00:00\n",
      "Warning: upper limit is not an ocean value:  i=312, j=399, k_upper=32,Lat=49.028717, Lon=-123.10333,dtUTC=2023-05-06 00:00:00\n",
      "Warning: upper limit is not an ocean value:  i=312, j=399, k_upper=18,Lat=49.028717, Lon=-123.10333,dtUTC=2023-05-14 00:00:00\n",
      "Warning: upper limit is not an ocean value:  i=312, j=399, k_upper=23,Lat=49.028717, Lon=-123.10333,dtUTC=2023-05-14 00:00:00\n",
      "Warning: upper limit is not an ocean value:  i=312, j=399, k_upper=28,Lat=49.028717, Lon=-123.10333,dtUTC=2023-05-14 00:00:00\n",
      "Warning: upper limit is not an ocean value:  i=312, j=399, k_upper=32,Lat=49.028717, Lon=-123.10333,dtUTC=2023-05-14 00:00:00\n",
      "Warning: upper limit is not an ocean value:  i=312, j=399, k_upper=9,Lat=49.028717, Lon=-123.10333,dtUTC=2023-05-14 00:00:00\n",
      "Warning: upper limit is not an ocean value:  i=312, j=399, k_upper=4,Lat=49.028717, Lon=-123.10333,dtUTC=2023-05-14 00:00:00\n",
      "Warning: upper limit is not an ocean value:  i=312, j=399, k_upper=4,Lat=49.028717, Lon=-123.10333,dtUTC=2023-06-03 00:00:00\n",
      "Warning: upper limit is not an ocean value:  i=312, j=399, k_upper=9,Lat=49.028717, Lon=-123.10333,dtUTC=2023-06-03 00:00:00\n",
      "Warning: upper limit is not an ocean value:  i=312, j=399, k_upper=18,Lat=49.028717, Lon=-123.10333,dtUTC=2023-06-03 00:00:00\n",
      "Warning: upper limit is not an ocean value:  i=312, j=399, k_upper=23,Lat=49.028717, Lon=-123.10333,dtUTC=2023-06-03 00:00:00\n",
      "Warning: upper limit is not an ocean value:  i=312, j=399, k_upper=28,Lat=49.028717, Lon=-123.10333,dtUTC=2023-06-03 00:00:00\n",
      "Warning: upper limit is not an ocean value:  i=312, j=399, k_upper=32,Lat=49.028717, Lon=-123.10333,dtUTC=2023-06-03 00:00:00\n",
      "Warning: upper limit is not an ocean value:  i=312, j=399, k_upper=23,Lat=49.028717, Lon=-123.10333,dtUTC=2023-06-28 00:00:00\n",
      "Warning: upper limit is not an ocean value:  i=312, j=399, k_upper=28,Lat=49.028717, Lon=-123.10333,dtUTC=2023-06-28 00:00:00\n",
      "Warning: upper limit is not an ocean value:  i=312, j=399, k_upper=18,Lat=49.028717, Lon=-123.10333,dtUTC=2023-06-28 00:00:00\n",
      "Warning: upper limit is not an ocean value:  i=312, j=399, k_upper=9,Lat=49.028717, Lon=-123.10333,dtUTC=2023-06-28 00:00:00\n",
      "Warning: upper limit is not an ocean value:  i=312, j=399, k_upper=4,Lat=49.028717, Lon=-123.10333,dtUTC=2023-06-28 00:00:00\n",
      "Warning: upper limit is not an ocean value:  i=312, j=399, k_upper=32,Lat=49.028717, Lon=-123.10333,dtUTC=2023-06-28 00:00:00\n",
      "Warning: upper limit is not an ocean value:  i=312, j=399, k_upper=28,Lat=49.028717, Lon=-123.10333,dtUTC=2023-07-25 00:00:00\n",
      "Warning: upper limit is not an ocean value:  i=312, j=399, k_upper=4,Lat=49.028717, Lon=-123.10333,dtUTC=2023-07-25 00:00:00\n",
      "Warning: upper limit is not an ocean value:  i=312, j=399, k_upper=9,Lat=49.028717, Lon=-123.10333,dtUTC=2023-07-25 00:00:00\n",
      "Warning: upper limit is not an ocean value:  i=312, j=399, k_upper=18,Lat=49.028717, Lon=-123.10333,dtUTC=2023-07-25 00:00:00\n",
      "Warning: upper limit is not an ocean value:  i=312, j=399, k_upper=23,Lat=49.028717, Lon=-123.10333,dtUTC=2023-07-25 00:00:00\n",
      "Warning: upper limit is not an ocean value:  i=312, j=399, k_upper=32,Lat=49.028717, Lon=-123.10333,dtUTC=2023-07-25 00:00:00\n",
      "Warning: upper limit is not an ocean value:  i=312, j=399, k_upper=28,Lat=49.028717, Lon=-123.10333,dtUTC=2023-09-03 00:00:00\n",
      "Warning: upper limit is not an ocean value:  i=312, j=399, k_upper=18,Lat=49.028717, Lon=-123.10333,dtUTC=2023-09-03 00:00:00\n",
      "Warning: upper limit is not an ocean value:  i=312, j=399, k_upper=4,Lat=49.028717, Lon=-123.10333,dtUTC=2023-09-03 00:00:00\n",
      "Warning: upper limit is not an ocean value:  i=312, j=399, k_upper=32,Lat=49.028717, Lon=-123.10333,dtUTC=2023-09-03 00:00:00\n",
      "Warning: upper limit is not an ocean value:  i=312, j=399, k_upper=9,Lat=49.028717, Lon=-123.10333,dtUTC=2023-09-03 00:00:00\n",
      "Warning: upper limit is not an ocean value:  i=312, j=399, k_upper=23,Lat=49.028717, Lon=-123.10333,dtUTC=2023-09-03 00:00:00\n",
      "Warning: upper limit is not an ocean value:  i=312, j=399, k_upper=23,Lat=49.028717, Lon=-123.10333,dtUTC=2023-10-11 00:00:00\n",
      "Warning: upper limit is not an ocean value:  i=312, j=399, k_upper=28,Lat=49.028717, Lon=-123.10333,dtUTC=2023-10-11 00:00:00\n",
      "Warning: upper limit is not an ocean value:  i=312, j=399, k_upper=32,Lat=49.028717, Lon=-123.10333,dtUTC=2023-10-11 00:00:00\n",
      "Warning: upper limit is not an ocean value:  i=312, j=399, k_upper=4,Lat=49.028717, Lon=-123.10333,dtUTC=2023-10-11 00:00:00\n",
      "Warning: upper limit is not an ocean value:  i=312, j=399, k_upper=18,Lat=49.028717, Lon=-123.10333,dtUTC=2023-10-11 00:00:00\n",
      "Warning: upper limit is not an ocean value:  i=312, j=399, k_upper=9,Lat=49.028717, Lon=-123.10333,dtUTC=2023-10-11 00:00:00\n"
     ]
    }
   ],
   "source": [
    "data=et.matchData(df2,filemap,fdict,start_date,end_date,namfmt,PATH,flen,quiet=False,method='vertNet');"
   ]
  },
  {
   "cell_type": "code",
   "execution_count": 18,
   "metadata": {},
   "outputs": [
    {
     "data": {
      "text/html": [
       "<div>\n",
       "<style scoped>\n",
       "    .dataframe tbody tr th:only-of-type {\n",
       "        vertical-align: middle;\n",
       "    }\n",
       "\n",
       "    .dataframe tbody tr th {\n",
       "        vertical-align: top;\n",
       "    }\n",
       "\n",
       "    .dataframe thead th {\n",
       "        text-align: right;\n",
       "    }\n",
       "</style>\n",
       "<table border=\"1\" class=\"dataframe\">\n",
       "  <thead>\n",
       "    <tr style=\"text-align: right;\">\n",
       "      <th></th>\n",
       "      <th>Cruise</th>\n",
       "      <th>dtUTC</th>\n",
       "      <th>Station</th>\n",
       "      <th>STN_TIME</th>\n",
       "      <th>Z_lower</th>\n",
       "      <th>Z_upper</th>\n",
       "      <th>Lat</th>\n",
       "      <th>Lon</th>\n",
       "      <th>BPR (mgC m-3 day-1)</th>\n",
       "      <th>daily P:B</th>\n",
       "      <th>j</th>\n",
       "      <th>i</th>\n",
       "      <th>mod_GRMESZDIAT</th>\n",
       "      <th>mod_GRMESZPHY</th>\n",
       "      <th>mod_GRMESZMICZ</th>\n",
       "      <th>mod_GRMESZPON</th>\n",
       "      <th>k_upper</th>\n",
       "      <th>k_lower</th>\n",
       "    </tr>\n",
       "  </thead>\n",
       "  <tbody>\n",
       "    <tr>\n",
       "      <th>0</th>\n",
       "      <td>2023-003</td>\n",
       "      <td>2023-03-15</td>\n",
       "      <td>Stn 42</td>\n",
       "      <td>12:00</td>\n",
       "      <td>5</td>\n",
       "      <td>5</td>\n",
       "      <td>49.028717</td>\n",
       "      <td>-123.103330</td>\n",
       "      <td>0.849489</td>\n",
       "      <td>0.067893</td>\n",
       "      <td>399</td>\n",
       "      <td>312</td>\n",
       "      <td>NaN</td>\n",
       "      <td>NaN</td>\n",
       "      <td>NaN</td>\n",
       "      <td>NaN</td>\n",
       "      <td>-1</td>\n",
       "      <td>-1</td>\n",
       "    </tr>\n",
       "    <tr>\n",
       "      <th>1</th>\n",
       "      <td>2023-003</td>\n",
       "      <td>2023-03-15</td>\n",
       "      <td>Stn 42</td>\n",
       "      <td>12:00</td>\n",
       "      <td>10</td>\n",
       "      <td>10</td>\n",
       "      <td>49.028717</td>\n",
       "      <td>-123.103330</td>\n",
       "      <td>3.473540</td>\n",
       "      <td>0.177075</td>\n",
       "      <td>399</td>\n",
       "      <td>312</td>\n",
       "      <td>NaN</td>\n",
       "      <td>NaN</td>\n",
       "      <td>NaN</td>\n",
       "      <td>NaN</td>\n",
       "      <td>-1</td>\n",
       "      <td>-1</td>\n",
       "    </tr>\n",
       "    <tr>\n",
       "      <th>2</th>\n",
       "      <td>2023-003</td>\n",
       "      <td>2023-03-15</td>\n",
       "      <td>Stn 42</td>\n",
       "      <td>12:00</td>\n",
       "      <td>20</td>\n",
       "      <td>20</td>\n",
       "      <td>49.028717</td>\n",
       "      <td>-123.103330</td>\n",
       "      <td>8.605914</td>\n",
       "      <td>0.474847</td>\n",
       "      <td>399</td>\n",
       "      <td>312</td>\n",
       "      <td>NaN</td>\n",
       "      <td>NaN</td>\n",
       "      <td>NaN</td>\n",
       "      <td>NaN</td>\n",
       "      <td>-1</td>\n",
       "      <td>-1</td>\n",
       "    </tr>\n",
       "    <tr>\n",
       "      <th>3</th>\n",
       "      <td>2023-003</td>\n",
       "      <td>2023-03-15</td>\n",
       "      <td>Stn 42</td>\n",
       "      <td>12:00</td>\n",
       "      <td>50</td>\n",
       "      <td>50</td>\n",
       "      <td>49.028717</td>\n",
       "      <td>-123.103330</td>\n",
       "      <td>9.166827</td>\n",
       "      <td>0.382759</td>\n",
       "      <td>399</td>\n",
       "      <td>312</td>\n",
       "      <td>NaN</td>\n",
       "      <td>NaN</td>\n",
       "      <td>NaN</td>\n",
       "      <td>NaN</td>\n",
       "      <td>-1</td>\n",
       "      <td>-1</td>\n",
       "    </tr>\n",
       "    <tr>\n",
       "      <th>4</th>\n",
       "      <td>2023-003</td>\n",
       "      <td>2023-03-15</td>\n",
       "      <td>Stn 42</td>\n",
       "      <td>12:00</td>\n",
       "      <td>150</td>\n",
       "      <td>150</td>\n",
       "      <td>49.028717</td>\n",
       "      <td>-123.103330</td>\n",
       "      <td>0.000000</td>\n",
       "      <td>0.000000</td>\n",
       "      <td>399</td>\n",
       "      <td>312</td>\n",
       "      <td>NaN</td>\n",
       "      <td>NaN</td>\n",
       "      <td>NaN</td>\n",
       "      <td>NaN</td>\n",
       "      <td>-1</td>\n",
       "      <td>-1</td>\n",
       "    </tr>\n",
       "    <tr>\n",
       "      <th>...</th>\n",
       "      <td>...</td>\n",
       "      <td>...</td>\n",
       "      <td>...</td>\n",
       "      <td>...</td>\n",
       "      <td>...</td>\n",
       "      <td>...</td>\n",
       "      <td>...</td>\n",
       "      <td>...</td>\n",
       "      <td>...</td>\n",
       "      <td>...</td>\n",
       "      <td>...</td>\n",
       "      <td>...</td>\n",
       "      <td>...</td>\n",
       "      <td>...</td>\n",
       "      <td>...</td>\n",
       "      <td>...</td>\n",
       "      <td>...</td>\n",
       "      <td>...</td>\n",
       "    </tr>\n",
       "    <tr>\n",
       "      <th>168</th>\n",
       "      <td>2023-029</td>\n",
       "      <td>2023-10-12</td>\n",
       "      <td>Stn 12</td>\n",
       "      <td>12:00</td>\n",
       "      <td>250</td>\n",
       "      <td>250</td>\n",
       "      <td>49.726133</td>\n",
       "      <td>-124.680567</td>\n",
       "      <td>0.000000</td>\n",
       "      <td>0.000000</td>\n",
       "      <td>646</td>\n",
       "      <td>168</td>\n",
       "      <td>0.000000e+00</td>\n",
       "      <td>0.000000e+00</td>\n",
       "      <td>0.0</td>\n",
       "      <td>0.000000e+00</td>\n",
       "      <td>32</td>\n",
       "      <td>32</td>\n",
       "    </tr>\n",
       "    <tr>\n",
       "      <th>169</th>\n",
       "      <td>2023-029</td>\n",
       "      <td>2023-10-12</td>\n",
       "      <td>Stn 12</td>\n",
       "      <td>12:00</td>\n",
       "      <td>150</td>\n",
       "      <td>150</td>\n",
       "      <td>49.726133</td>\n",
       "      <td>-124.680567</td>\n",
       "      <td>0.000000</td>\n",
       "      <td>0.000000</td>\n",
       "      <td>646</td>\n",
       "      <td>168</td>\n",
       "      <td>0.000000e+00</td>\n",
       "      <td>0.000000e+00</td>\n",
       "      <td>0.0</td>\n",
       "      <td>0.000000e+00</td>\n",
       "      <td>28</td>\n",
       "      <td>28</td>\n",
       "    </tr>\n",
       "    <tr>\n",
       "      <th>170</th>\n",
       "      <td>2023-029</td>\n",
       "      <td>2023-10-12</td>\n",
       "      <td>Stn 12</td>\n",
       "      <td>12:00</td>\n",
       "      <td>50</td>\n",
       "      <td>50</td>\n",
       "      <td>49.726133</td>\n",
       "      <td>-124.680567</td>\n",
       "      <td>0.164719</td>\n",
       "      <td>0.006107</td>\n",
       "      <td>646</td>\n",
       "      <td>168</td>\n",
       "      <td>1.331532e-07</td>\n",
       "      <td>5.788735e-08</td>\n",
       "      <td>0.0</td>\n",
       "      <td>1.447629e-07</td>\n",
       "      <td>23</td>\n",
       "      <td>23</td>\n",
       "    </tr>\n",
       "    <tr>\n",
       "      <th>171</th>\n",
       "      <td>2023-029</td>\n",
       "      <td>2023-10-12</td>\n",
       "      <td>Stn 12</td>\n",
       "      <td>12:00</td>\n",
       "      <td>10</td>\n",
       "      <td>10</td>\n",
       "      <td>49.726133</td>\n",
       "      <td>-124.680567</td>\n",
       "      <td>0.000000</td>\n",
       "      <td>0.000000</td>\n",
       "      <td>646</td>\n",
       "      <td>168</td>\n",
       "      <td>1.084052e-06</td>\n",
       "      <td>2.239624e-07</td>\n",
       "      <td>0.0</td>\n",
       "      <td>5.093685e-07</td>\n",
       "      <td>9</td>\n",
       "      <td>9</td>\n",
       "    </tr>\n",
       "    <tr>\n",
       "      <th>172</th>\n",
       "      <td>2023-029</td>\n",
       "      <td>2023-10-12</td>\n",
       "      <td>Stn 12</td>\n",
       "      <td>12:00</td>\n",
       "      <td>5</td>\n",
       "      <td>5</td>\n",
       "      <td>49.726133</td>\n",
       "      <td>-124.680567</td>\n",
       "      <td>0.000000</td>\n",
       "      <td>0.000000</td>\n",
       "      <td>646</td>\n",
       "      <td>168</td>\n",
       "      <td>1.819465e-06</td>\n",
       "      <td>2.440828e-07</td>\n",
       "      <td>0.0</td>\n",
       "      <td>4.315360e-07</td>\n",
       "      <td>4</td>\n",
       "      <td>4</td>\n",
       "    </tr>\n",
       "  </tbody>\n",
       "</table>\n",
       "<p>173 rows × 18 columns</p>\n",
       "</div>"
      ],
      "text/plain": [
       "       Cruise      dtUTC Station STN_TIME  Z_lower  Z_upper        Lat  \\\n",
       "0    2023-003 2023-03-15  Stn 42    12:00        5        5  49.028717   \n",
       "1    2023-003 2023-03-15  Stn 42    12:00       10       10  49.028717   \n",
       "2    2023-003 2023-03-15  Stn 42    12:00       20       20  49.028717   \n",
       "3    2023-003 2023-03-15  Stn 42    12:00       50       50  49.028717   \n",
       "4    2023-003 2023-03-15  Stn 42    12:00      150      150  49.028717   \n",
       "..        ...        ...     ...      ...      ...      ...        ...   \n",
       "168  2023-029 2023-10-12  Stn 12    12:00      250      250  49.726133   \n",
       "169  2023-029 2023-10-12  Stn 12    12:00      150      150  49.726133   \n",
       "170  2023-029 2023-10-12  Stn 12    12:00       50       50  49.726133   \n",
       "171  2023-029 2023-10-12  Stn 12    12:00       10       10  49.726133   \n",
       "172  2023-029 2023-10-12  Stn 12    12:00        5        5  49.726133   \n",
       "\n",
       "            Lon  BPR (mgC m-3 day-1)  daily P:B    j    i  mod_GRMESZDIAT  \\\n",
       "0   -123.103330             0.849489   0.067893  399  312             NaN   \n",
       "1   -123.103330             3.473540   0.177075  399  312             NaN   \n",
       "2   -123.103330             8.605914   0.474847  399  312             NaN   \n",
       "3   -123.103330             9.166827   0.382759  399  312             NaN   \n",
       "4   -123.103330             0.000000   0.000000  399  312             NaN   \n",
       "..          ...                  ...        ...  ...  ...             ...   \n",
       "168 -124.680567             0.000000   0.000000  646  168    0.000000e+00   \n",
       "169 -124.680567             0.000000   0.000000  646  168    0.000000e+00   \n",
       "170 -124.680567             0.164719   0.006107  646  168    1.331532e-07   \n",
       "171 -124.680567             0.000000   0.000000  646  168    1.084052e-06   \n",
       "172 -124.680567             0.000000   0.000000  646  168    1.819465e-06   \n",
       "\n",
       "     mod_GRMESZPHY  mod_GRMESZMICZ  mod_GRMESZPON  k_upper  k_lower  \n",
       "0              NaN             NaN            NaN       -1       -1  \n",
       "1              NaN             NaN            NaN       -1       -1  \n",
       "2              NaN             NaN            NaN       -1       -1  \n",
       "3              NaN             NaN            NaN       -1       -1  \n",
       "4              NaN             NaN            NaN       -1       -1  \n",
       "..             ...             ...            ...      ...      ...  \n",
       "168   0.000000e+00             0.0   0.000000e+00       32       32  \n",
       "169   0.000000e+00             0.0   0.000000e+00       28       28  \n",
       "170   5.788735e-08             0.0   1.447629e-07       23       23  \n",
       "171   2.239624e-07             0.0   5.093685e-07        9        9  \n",
       "172   2.440828e-07             0.0   4.315360e-07        4        4  \n",
       "\n",
       "[173 rows x 18 columns]"
      ]
     },
     "execution_count": 18,
     "metadata": {},
     "output_type": "execute_result"
    }
   ],
   "source": [
    "data"
   ]
  },
  {
   "cell_type": "code",
   "execution_count": 19,
   "metadata": {},
   "outputs": [
    {
     "data": {
      "text/plain": [
       "Index(['Cruise', 'dtUTC', 'Station', 'STN_TIME', 'Z_lower', 'Z_upper', 'Lat',\n",
       "       'Lon', 'BPR (mgC m-3 day-1)', 'daily P:B', 'j', 'i', 'mod_GRMESZDIAT',\n",
       "       'mod_GRMESZPHY', 'mod_GRMESZMICZ', 'mod_GRMESZPON', 'k_upper',\n",
       "       'k_lower'],\n",
       "      dtype='object')"
      ]
     },
     "execution_count": 19,
     "metadata": {},
     "output_type": "execute_result"
    }
   ],
   "source": [
    "data.keys()"
   ]
  },
  {
   "cell_type": "code",
   "execution_count": 20,
   "metadata": {},
   "outputs": [],
   "source": [
    "cm1=cmocean.cm.thermal\n",
    "with nc.Dataset('/ocean/ksuchy/MOAD/NEMO-forcing/grid/bathymetry_202108.nc') as bathy:\n",
    "    bathylon=np.copy(bathy.variables['nav_lon'][:,:])\n",
    "    bathylat=np.copy(bathy.variables['nav_lat'][:,:])\n",
    "    bathyZ=np.copy(bathy.variables['Bathymetry'][:,:])"
   ]
  },
  {
   "cell_type": "code",
   "execution_count": 21,
   "metadata": {},
   "outputs": [
    {
     "data": {
      "text/plain": [
       "Index(['Cruise', 'dtUTC', 'Station', 'STN_TIME', 'Z_lower', 'Z_upper', 'Lat',\n",
       "       'Lon', 'BPR (mgC m-3 day-1)', 'daily P:B', 'j', 'i', 'mod_GRMESZDIAT',\n",
       "       'mod_GRMESZPHY', 'mod_GRMESZMICZ', 'mod_GRMESZPON', 'k_upper',\n",
       "       'k_lower'],\n",
       "      dtype='object')"
      ]
     },
     "execution_count": 21,
     "metadata": {},
     "output_type": "execute_result"
    }
   ],
   "source": [
    "data.keys()"
   ]
  },
  {
   "cell_type": "code",
   "execution_count": 22,
   "metadata": {},
   "outputs": [],
   "source": [
    "data['mod_prod']=(data['mod_GRMESZDIAT']+data['mod_GRMESZPHY']+data['mod_GRMESZMICZ']+data['mod_GRMESZPON'])*86400*0.3*5.7*12"
   ]
  },
  {
   "cell_type": "code",
   "execution_count": 23,
   "metadata": {},
   "outputs": [
    {
     "data": {
      "text/html": [
       "<div>\n",
       "<style scoped>\n",
       "    .dataframe tbody tr th:only-of-type {\n",
       "        vertical-align: middle;\n",
       "    }\n",
       "\n",
       "    .dataframe tbody tr th {\n",
       "        vertical-align: top;\n",
       "    }\n",
       "\n",
       "    .dataframe thead th {\n",
       "        text-align: right;\n",
       "    }\n",
       "</style>\n",
       "<table border=\"1\" class=\"dataframe\">\n",
       "  <thead>\n",
       "    <tr style=\"text-align: right;\">\n",
       "      <th></th>\n",
       "      <th>Cruise</th>\n",
       "      <th>dtUTC</th>\n",
       "      <th>Station</th>\n",
       "      <th>STN_TIME</th>\n",
       "      <th>Z_lower</th>\n",
       "      <th>Z_upper</th>\n",
       "      <th>Lat</th>\n",
       "      <th>Lon</th>\n",
       "      <th>BPR (mgC m-3 day-1)</th>\n",
       "      <th>daily P:B</th>\n",
       "      <th>j</th>\n",
       "      <th>i</th>\n",
       "      <th>mod_GRMESZDIAT</th>\n",
       "      <th>mod_GRMESZPHY</th>\n",
       "      <th>mod_GRMESZMICZ</th>\n",
       "      <th>mod_GRMESZPON</th>\n",
       "      <th>k_upper</th>\n",
       "      <th>k_lower</th>\n",
       "      <th>mod_prod</th>\n",
       "    </tr>\n",
       "  </thead>\n",
       "  <tbody>\n",
       "    <tr>\n",
       "      <th>0</th>\n",
       "      <td>2023-003</td>\n",
       "      <td>2023-03-15</td>\n",
       "      <td>Stn 42</td>\n",
       "      <td>12:00</td>\n",
       "      <td>5</td>\n",
       "      <td>5</td>\n",
       "      <td>49.028717</td>\n",
       "      <td>-123.103330</td>\n",
       "      <td>0.849489</td>\n",
       "      <td>0.067893</td>\n",
       "      <td>399</td>\n",
       "      <td>312</td>\n",
       "      <td>NaN</td>\n",
       "      <td>NaN</td>\n",
       "      <td>NaN</td>\n",
       "      <td>NaN</td>\n",
       "      <td>-1</td>\n",
       "      <td>-1</td>\n",
       "      <td>NaN</td>\n",
       "    </tr>\n",
       "    <tr>\n",
       "      <th>1</th>\n",
       "      <td>2023-003</td>\n",
       "      <td>2023-03-15</td>\n",
       "      <td>Stn 42</td>\n",
       "      <td>12:00</td>\n",
       "      <td>10</td>\n",
       "      <td>10</td>\n",
       "      <td>49.028717</td>\n",
       "      <td>-123.103330</td>\n",
       "      <td>3.473540</td>\n",
       "      <td>0.177075</td>\n",
       "      <td>399</td>\n",
       "      <td>312</td>\n",
       "      <td>NaN</td>\n",
       "      <td>NaN</td>\n",
       "      <td>NaN</td>\n",
       "      <td>NaN</td>\n",
       "      <td>-1</td>\n",
       "      <td>-1</td>\n",
       "      <td>NaN</td>\n",
       "    </tr>\n",
       "    <tr>\n",
       "      <th>2</th>\n",
       "      <td>2023-003</td>\n",
       "      <td>2023-03-15</td>\n",
       "      <td>Stn 42</td>\n",
       "      <td>12:00</td>\n",
       "      <td>20</td>\n",
       "      <td>20</td>\n",
       "      <td>49.028717</td>\n",
       "      <td>-123.103330</td>\n",
       "      <td>8.605914</td>\n",
       "      <td>0.474847</td>\n",
       "      <td>399</td>\n",
       "      <td>312</td>\n",
       "      <td>NaN</td>\n",
       "      <td>NaN</td>\n",
       "      <td>NaN</td>\n",
       "      <td>NaN</td>\n",
       "      <td>-1</td>\n",
       "      <td>-1</td>\n",
       "      <td>NaN</td>\n",
       "    </tr>\n",
       "    <tr>\n",
       "      <th>3</th>\n",
       "      <td>2023-003</td>\n",
       "      <td>2023-03-15</td>\n",
       "      <td>Stn 42</td>\n",
       "      <td>12:00</td>\n",
       "      <td>50</td>\n",
       "      <td>50</td>\n",
       "      <td>49.028717</td>\n",
       "      <td>-123.103330</td>\n",
       "      <td>9.166827</td>\n",
       "      <td>0.382759</td>\n",
       "      <td>399</td>\n",
       "      <td>312</td>\n",
       "      <td>NaN</td>\n",
       "      <td>NaN</td>\n",
       "      <td>NaN</td>\n",
       "      <td>NaN</td>\n",
       "      <td>-1</td>\n",
       "      <td>-1</td>\n",
       "      <td>NaN</td>\n",
       "    </tr>\n",
       "    <tr>\n",
       "      <th>4</th>\n",
       "      <td>2023-003</td>\n",
       "      <td>2023-03-15</td>\n",
       "      <td>Stn 42</td>\n",
       "      <td>12:00</td>\n",
       "      <td>150</td>\n",
       "      <td>150</td>\n",
       "      <td>49.028717</td>\n",
       "      <td>-123.103330</td>\n",
       "      <td>0.000000</td>\n",
       "      <td>0.000000</td>\n",
       "      <td>399</td>\n",
       "      <td>312</td>\n",
       "      <td>NaN</td>\n",
       "      <td>NaN</td>\n",
       "      <td>NaN</td>\n",
       "      <td>NaN</td>\n",
       "      <td>-1</td>\n",
       "      <td>-1</td>\n",
       "      <td>NaN</td>\n",
       "    </tr>\n",
       "    <tr>\n",
       "      <th>...</th>\n",
       "      <td>...</td>\n",
       "      <td>...</td>\n",
       "      <td>...</td>\n",
       "      <td>...</td>\n",
       "      <td>...</td>\n",
       "      <td>...</td>\n",
       "      <td>...</td>\n",
       "      <td>...</td>\n",
       "      <td>...</td>\n",
       "      <td>...</td>\n",
       "      <td>...</td>\n",
       "      <td>...</td>\n",
       "      <td>...</td>\n",
       "      <td>...</td>\n",
       "      <td>...</td>\n",
       "      <td>...</td>\n",
       "      <td>...</td>\n",
       "      <td>...</td>\n",
       "      <td>...</td>\n",
       "    </tr>\n",
       "    <tr>\n",
       "      <th>168</th>\n",
       "      <td>2023-029</td>\n",
       "      <td>2023-10-12</td>\n",
       "      <td>Stn 12</td>\n",
       "      <td>12:00</td>\n",
       "      <td>250</td>\n",
       "      <td>250</td>\n",
       "      <td>49.726133</td>\n",
       "      <td>-124.680567</td>\n",
       "      <td>0.000000</td>\n",
       "      <td>0.000000</td>\n",
       "      <td>646</td>\n",
       "      <td>168</td>\n",
       "      <td>0.000000e+00</td>\n",
       "      <td>0.000000e+00</td>\n",
       "      <td>0.0</td>\n",
       "      <td>0.000000e+00</td>\n",
       "      <td>32</td>\n",
       "      <td>32</td>\n",
       "      <td>0.000000</td>\n",
       "    </tr>\n",
       "    <tr>\n",
       "      <th>169</th>\n",
       "      <td>2023-029</td>\n",
       "      <td>2023-10-12</td>\n",
       "      <td>Stn 12</td>\n",
       "      <td>12:00</td>\n",
       "      <td>150</td>\n",
       "      <td>150</td>\n",
       "      <td>49.726133</td>\n",
       "      <td>-124.680567</td>\n",
       "      <td>0.000000</td>\n",
       "      <td>0.000000</td>\n",
       "      <td>646</td>\n",
       "      <td>168</td>\n",
       "      <td>0.000000e+00</td>\n",
       "      <td>0.000000e+00</td>\n",
       "      <td>0.0</td>\n",
       "      <td>0.000000e+00</td>\n",
       "      <td>28</td>\n",
       "      <td>28</td>\n",
       "      <td>0.000000</td>\n",
       "    </tr>\n",
       "    <tr>\n",
       "      <th>170</th>\n",
       "      <td>2023-029</td>\n",
       "      <td>2023-10-12</td>\n",
       "      <td>Stn 12</td>\n",
       "      <td>12:00</td>\n",
       "      <td>50</td>\n",
       "      <td>50</td>\n",
       "      <td>49.726133</td>\n",
       "      <td>-124.680567</td>\n",
       "      <td>0.164719</td>\n",
       "      <td>0.006107</td>\n",
       "      <td>646</td>\n",
       "      <td>168</td>\n",
       "      <td>1.331532e-07</td>\n",
       "      <td>5.788735e-08</td>\n",
       "      <td>0.0</td>\n",
       "      <td>1.447629e-07</td>\n",
       "      <td>23</td>\n",
       "      <td>23</td>\n",
       "      <td>0.595355</td>\n",
       "    </tr>\n",
       "    <tr>\n",
       "      <th>171</th>\n",
       "      <td>2023-029</td>\n",
       "      <td>2023-10-12</td>\n",
       "      <td>Stn 12</td>\n",
       "      <td>12:00</td>\n",
       "      <td>10</td>\n",
       "      <td>10</td>\n",
       "      <td>49.726133</td>\n",
       "      <td>-124.680567</td>\n",
       "      <td>0.000000</td>\n",
       "      <td>0.000000</td>\n",
       "      <td>646</td>\n",
       "      <td>168</td>\n",
       "      <td>1.084052e-06</td>\n",
       "      <td>2.239624e-07</td>\n",
       "      <td>0.0</td>\n",
       "      <td>5.093685e-07</td>\n",
       "      <td>9</td>\n",
       "      <td>9</td>\n",
       "      <td>3.222089</td>\n",
       "    </tr>\n",
       "    <tr>\n",
       "      <th>172</th>\n",
       "      <td>2023-029</td>\n",
       "      <td>2023-10-12</td>\n",
       "      <td>Stn 12</td>\n",
       "      <td>12:00</td>\n",
       "      <td>5</td>\n",
       "      <td>5</td>\n",
       "      <td>49.726133</td>\n",
       "      <td>-124.680567</td>\n",
       "      <td>0.000000</td>\n",
       "      <td>0.000000</td>\n",
       "      <td>646</td>\n",
       "      <td>168</td>\n",
       "      <td>1.819465e-06</td>\n",
       "      <td>2.440828e-07</td>\n",
       "      <td>0.0</td>\n",
       "      <td>4.315360e-07</td>\n",
       "      <td>4</td>\n",
       "      <td>4</td>\n",
       "      <td>4.423604</td>\n",
       "    </tr>\n",
       "  </tbody>\n",
       "</table>\n",
       "<p>173 rows × 19 columns</p>\n",
       "</div>"
      ],
      "text/plain": [
       "       Cruise      dtUTC Station STN_TIME  Z_lower  Z_upper        Lat  \\\n",
       "0    2023-003 2023-03-15  Stn 42    12:00        5        5  49.028717   \n",
       "1    2023-003 2023-03-15  Stn 42    12:00       10       10  49.028717   \n",
       "2    2023-003 2023-03-15  Stn 42    12:00       20       20  49.028717   \n",
       "3    2023-003 2023-03-15  Stn 42    12:00       50       50  49.028717   \n",
       "4    2023-003 2023-03-15  Stn 42    12:00      150      150  49.028717   \n",
       "..        ...        ...     ...      ...      ...      ...        ...   \n",
       "168  2023-029 2023-10-12  Stn 12    12:00      250      250  49.726133   \n",
       "169  2023-029 2023-10-12  Stn 12    12:00      150      150  49.726133   \n",
       "170  2023-029 2023-10-12  Stn 12    12:00       50       50  49.726133   \n",
       "171  2023-029 2023-10-12  Stn 12    12:00       10       10  49.726133   \n",
       "172  2023-029 2023-10-12  Stn 12    12:00        5        5  49.726133   \n",
       "\n",
       "            Lon  BPR (mgC m-3 day-1)  daily P:B    j    i  mod_GRMESZDIAT  \\\n",
       "0   -123.103330             0.849489   0.067893  399  312             NaN   \n",
       "1   -123.103330             3.473540   0.177075  399  312             NaN   \n",
       "2   -123.103330             8.605914   0.474847  399  312             NaN   \n",
       "3   -123.103330             9.166827   0.382759  399  312             NaN   \n",
       "4   -123.103330             0.000000   0.000000  399  312             NaN   \n",
       "..          ...                  ...        ...  ...  ...             ...   \n",
       "168 -124.680567             0.000000   0.000000  646  168    0.000000e+00   \n",
       "169 -124.680567             0.000000   0.000000  646  168    0.000000e+00   \n",
       "170 -124.680567             0.164719   0.006107  646  168    1.331532e-07   \n",
       "171 -124.680567             0.000000   0.000000  646  168    1.084052e-06   \n",
       "172 -124.680567             0.000000   0.000000  646  168    1.819465e-06   \n",
       "\n",
       "     mod_GRMESZPHY  mod_GRMESZMICZ  mod_GRMESZPON  k_upper  k_lower  mod_prod  \n",
       "0              NaN             NaN            NaN       -1       -1       NaN  \n",
       "1              NaN             NaN            NaN       -1       -1       NaN  \n",
       "2              NaN             NaN            NaN       -1       -1       NaN  \n",
       "3              NaN             NaN            NaN       -1       -1       NaN  \n",
       "4              NaN             NaN            NaN       -1       -1       NaN  \n",
       "..             ...             ...            ...      ...      ...       ...  \n",
       "168   0.000000e+00             0.0   0.000000e+00       32       32  0.000000  \n",
       "169   0.000000e+00             0.0   0.000000e+00       28       28  0.000000  \n",
       "170   5.788735e-08             0.0   1.447629e-07       23       23  0.595355  \n",
       "171   2.239624e-07             0.0   5.093685e-07        9        9  3.222089  \n",
       "172   2.440828e-07             0.0   4.315360e-07        4        4  4.423604  \n",
       "\n",
       "[173 rows x 19 columns]"
      ]
     },
     "execution_count": 23,
     "metadata": {},
     "output_type": "execute_result"
    }
   ],
   "source": [
    "data"
   ]
  },
  {
   "cell_type": "code",
   "execution_count": 24,
   "metadata": {},
   "outputs": [
    {
     "data": {
      "text/plain": [
       "Index(['Cruise', 'dtUTC', 'Station', 'STN_TIME', 'Z_lower', 'Z_upper', 'Lat',\n",
       "       'Lon', 'BPR (mgC m-3 day-1)', 'daily P:B', 'j', 'i', 'mod_GRMESZDIAT',\n",
       "       'mod_GRMESZPHY', 'mod_GRMESZMICZ', 'mod_GRMESZPON', 'k_upper',\n",
       "       'k_lower', 'mod_prod'],\n",
       "      dtype='object')"
      ]
     },
     "execution_count": 24,
     "metadata": {},
     "output_type": "execute_result"
    }
   ],
   "source": [
    "data.keys()"
   ]
  },
  {
   "cell_type": "code",
   "execution_count": 25,
   "metadata": {},
   "outputs": [
    {
     "name": "stdout",
     "output_type": "stream",
     "text": [
      "0.0\n",
      "30.09486754\n"
     ]
    }
   ],
   "source": [
    "print(data['BPR (mgC m-3 day-1)'].min())\n",
    "print(data['BPR (mgC m-3 day-1)'].max())\n"
   ]
  },
  {
   "cell_type": "code",
   "execution_count": 26,
   "metadata": {},
   "outputs": [
    {
     "name": "stdout",
     "output_type": "stream",
     "text": [
      "0.0\n",
      "44.07050287569291\n"
     ]
    }
   ],
   "source": [
    "print(data['mod_prod'].min())\n",
    "print(data['mod_prod'].max())"
   ]
  },
  {
   "cell_type": "code",
   "execution_count": 27,
   "metadata": {},
   "outputs": [],
   "source": [
    "def byDepth(ax,obsvar,modvar,lims):\n",
    "    SI=et.varvarPlot(ax,data,obsvar,modvar,'Z_lower',(15,25),'z','m',('orange','darkturquoise','navy'))\n",
    "    l=ax.legend(handles=SI)\n",
    "    ax.set_xlabel('Log10 Observations (mg C m$^{-3}$ d$^{-1}$)+0.001')\n",
    "    ax.set_ylabel('Log10 Z2 Model (mg C m$^{-3}$ d$^{-1}$)+0.001')\n",
    "    ax.plot(lims,lims,'k-',alpha=.5)\n",
    "    ax.set_xlim(lims)\n",
    "    ax.set_ylim(lims)\n",
    "    ax.set_aspect(1)\n",
    "    return SI,l"
   ]
  },
  {
   "cell_type": "code",
   "execution_count": 28,
   "metadata": {},
   "outputs": [
    {
     "data": {
      "text/plain": [
       "(0.0, 40.0)"
      ]
     },
     "execution_count": 28,
     "metadata": {},
     "output_type": "execute_result"
    },
    {
     "data": {
      "image/png": "[encoded data removed]",
      "text/plain": [
       "<Figure size 400x400 with 1 Axes>"
      ]
     },
     "metadata": {},
     "output_type": "display_data"
    }
   ],
   "source": [
    "fig,ax=plt.subplots(1,1,figsize=(4,4))\n",
    "fig.subplots_adjust(hspace=1)\n",
    "ax.plot(data['BPR (mgC m-3 day-1)'],data['mod_prod'],'k.')\n",
    "ax.set_title('Mesozooplankton Productivity mg C m-3 d-1')\n",
    "ax.set_xlabel('Obs')\n",
    "ax.set_ylabel('Model')\n",
    "ax.plot((0,40),(0,40),'r-',alpha=.3)\n",
    "ax.set_xlim(0,40)\n",
    "ax.set_ylim(0,40)"
   ]
  },
  {
   "cell_type": "code",
   "execution_count": 29,
   "metadata": {},
   "outputs": [
    {
     "data": {
      "text/plain": [
       "Text(0.5, 1.0, 'Mesozooplankton Productivity mg C m-3 d-1 By Depth')"
      ]
     },
     "execution_count": 29,
     "metadata": {},
     "output_type": "execute_result"
    },
    {
     "data": {
      "image/png": "[encoded data removed]",
      "text/plain": [
       "<Figure size 400x400 with 1 Axes>"
      ]
     },
     "metadata": {},
     "output_type": "display_data"
    }
   ],
   "source": [
    "obsvar='BPR (mgC m-3 day-1)'\n",
    "modvar='mod_prod'\n",
    "\n",
    "fig, ax = plt.subplots(1,1,figsize = (4,4))\n",
    "SI,l=byDepth(ax,obsvar,modvar,(0,40))\n",
    "ax.set_title('Mesozooplankton Productivity mg C m-3 d-1 By Depth')"
   ]
  },
  {
   "cell_type": "code",
   "execution_count": 30,
   "metadata": {},
   "outputs": [],
   "source": [
    "# define log transform function with slight shift to accommodate zero values\n",
    "def logt(x):\n",
    "    return np.log10(x+.001)"
   ]
  },
  {
   "cell_type": "code",
   "execution_count": 31,
   "metadata": {},
   "outputs": [],
   "source": [
    "data['L10Productivity']=logt(data['BPR (mgC m-3 day-1)'])\n",
    "data['L10mod_prod']=logt(data['mod_prod'])"
   ]
  },
  {
   "cell_type": "markdown",
   "metadata": {},
   "source": [
    "### Depth-specific Point by Point comparisions of model vs obs"
   ]
  },
  {
   "cell_type": "code",
   "execution_count": 32,
   "metadata": {},
   "outputs": [
    {
     "data": {
      "text/plain": [
       "<matplotlib.legend.Legend at 0x7f2794479700>"
      ]
     },
     "execution_count": 32,
     "metadata": {},
     "output_type": "execute_result"
    },
    {
     "data": {
      "image/png": "[encoded data removed]",
      "text/plain": [
       "<Figure size 600x600 with 1 Axes>"
      ]
     },
     "metadata": {},
     "output_type": "display_data"
    }
   ],
   "source": [
    "obsvar2='L10Productivity'\n",
    "modvar2='L10mod_prod'\n",
    "\n",
    "fig, ax = plt.subplots(1,1,figsize = (6,6))\n",
    "SI,l=byDepth(ax,obsvar2,modvar2,(-3,3))\n",
    "ax.set_title('Z2 Productivity (mg C m$^{-3}$ d$^{-1}$) By Depth',fontsize=12)\n",
    "ax.legend(frameon=True,fontsize=12)\n",
    "#fig.savefig('SaanichLog10ModelvsObsProductivity.jpg',bbox_inches='tight')"
   ]
  },
  {
   "cell_type": "code",
   "execution_count": 33,
   "metadata": {},
   "outputs": [
    {
     "data": {
      "text/plain": [
       "(-126.0, -121.0, 47.0, 51.0)"
      ]
     },
     "execution_count": 33,
     "metadata": {},
     "output_type": "execute_result"
    },
    {
     "data": {
      "image/png": "[encoded data removed]",
      "text/plain": [
       "<Figure size 400x400 with 1 Axes>"
      ]
     },
     "metadata": {},
     "output_type": "display_data"
    }
   ],
   "source": [
    "fig, ax = plt.subplots(1,1,figsize = (4,4))\n",
    "with nc.Dataset('/ocean/ksuchy/MOAD/NEMO-forcing/grid/bathymetry_202108.nc') as grid:\n",
    "    viz_tools.plot_coastline(ax, grid, coords = 'map',isobath=.1,color='darkgrey')\n",
    "colors=('royalblue',\n",
    "'green',\n",
    "'orange',\n",
    "'mediumspringgreen',\n",
    "'black',\n",
    "'darkviolet',\n",
    " 'lightblue',\n",
    "'fuchsia',\n",
    "'firebrick','lime','darkgoldenrod','darkorange','deepskyblue','teal','darkgreen','darkblue','slateblue','purple')\n",
    "datreg=dict()\n",
    "for ind, iregion in enumerate(data.Station.unique()):\n",
    "    datreg[iregion] = data.loc[data.Station==iregion]\n",
    "    ax.plot(datreg[iregion]['Lon'], datreg[iregion]['Lat'],'o',\n",
    "            color = colors[ind], label=iregion,markersize=4)\n",
    "ax.set_ylim(47, 51)\n",
    "ax.xaxis.set_tick_params(labelsize=14)\n",
    "ax.yaxis.set_tick_params(labelsize=14)\n",
    "ax.legend(bbox_to_anchor=(1.1, 1),frameon=False,markerscale=3.)\n",
    "ax.set_xlim(-126, -121);\n",
    "ax.set_title('Observation Locations');\n",
    "#ax.legend(bbox_to_anchor=(1.05, 1), loc='upper left',frameon=False,markerscale=3.,fontsize=11)\n",
    "ax.axis(\"off\")\n",
    "#fig.savefig('SalishSeaObservationLocations_noframe.jpg',bbox_inches='tight')"
   ]
  },
  {
   "cell_type": "code",
   "execution_count": 34,
   "metadata": {},
   "outputs": [],
   "source": [
    "data['Month'] = data['dtUTC'].dt.month"
   ]
  },
  {
   "cell_type": "code",
   "execution_count": 35,
   "metadata": {},
   "outputs": [],
   "source": [
    "def byRegion(ax,obsvar,modvar,lims):\n",
    "    SS=[]\n",
    "    for ind, iregion in enumerate(data.Station.unique()):\n",
    "        #ax.plot(datreg[iregion]['Lon'], datreg[iregion]['Lat'],'.',\n",
    "                #color = colors[ind], label=iregion)\n",
    "        SS0=et.varvarPlot(ax,datreg[iregion],obsvar,modvar,\n",
    "                          cols=(colors[ind],),lname=iregion)\n",
    "        SS.append(SS0)\n",
    "    l=ax.legend(handles=[ip[0][0] for ip in SS])\n",
    "    ax.set_xlabel('Log10 Observations (mg C m$^{-3}$ d$^{-1}$)+0.001')\n",
    "    ax.set_ylabel('Log10 Model (mg C m$^{-3}$ d$^{-1}$)+0.001')\n",
    "    ax.plot(lims,lims,'k-',alpha=.5)\n",
    "    ax.set_xlim(lims)\n",
    "    ax.set_ylim(lims)\n",
    "    ax.set_aspect(1)\n",
    "    return SS,l"
   ]
  },
  {
   "cell_type": "code",
   "execution_count": 36,
   "metadata": {},
   "outputs": [],
   "source": [
    "#data['Month']=[ii.month for ii in data['dtUTC']]\n",
    "DJF=data.loc[(data.Month==12)|(data.Month==1)|(data.Month==2)]\n",
    "MAM=data.loc[(data.Month==3)|(data.Month==4)|(data.Month==5)]\n",
    "JJA=data.loc[(data.Month==6)|(data.Month==7)|(data.Month==8)]\n",
    "SON=data.loc[(data.Month==9)|(data.Month==10)|(data.Month==11)]"
   ]
  },
  {
   "cell_type": "code",
   "execution_count": 37,
   "metadata": {},
   "outputs": [],
   "source": [
    "def bySeason(ax,obsvar,modvar,lims):\n",
    "    for axi in ax:\n",
    "        axi.plot(lims,lims,'k-')\n",
    "        axi.set_xlim(lims)\n",
    "        axi.set_ylim(lims)\n",
    "        axi.set_aspect(1)\n",
    "        axi.set_xlabel('Obs')\n",
    "        axi.set_ylabel('Model')\n",
    "    SS=et.varvarPlot(ax[0],DJF,obsvar,modvar,cols=('crimson','darkturquoise','navy'))\n",
    "    ax[0].set_title('Winter')\n",
    "    SS=et.varvarPlot(ax[1],MAM,obsvar,modvar,cols=('crimson','darkturquoise','navy'))\n",
    "    ax[1].set_title('Spring')\n",
    "    SS=et.varvarPlot(ax[2],JJA,obsvar,modvar,cols=('crimson','darkturquoise','navy'))\n",
    "    ax[2].set_title('Summer')\n",
    "    SS=et.varvarPlot(ax[3],SON,obsvar,modvar,cols=('crimson','darkturquoise','navy'))\n",
    "    ax[3].set_title('Autumn')\n",
    "    return "
   ]
  },
  {
   "cell_type": "code",
   "execution_count": 38,
   "metadata": {},
   "outputs": [
    {
     "data": {
      "image/png": "[encoded data removed]",
      "text/plain": [
       "<Figure size 500x400 with 1 Axes>"
      ]
     },
     "metadata": {},
     "output_type": "display_data"
    },
    {
     "data": {
      "image/png": "[encoded data removed]",
      "text/plain": [
       "<Figure size 1600x330 with 4 Axes>"
      ]
     },
     "metadata": {},
     "output_type": "display_data"
    }
   ],
   "source": [
    "fig, ax = plt.subplots(1,1,figsize = (5,4))     \n",
    "SS,l=byRegion(ax,'L10Productivity','L10mod_prod',(-3,3))\n",
    "ax.set_title('Z2 Productivity - By Region',fontsize=18)\n",
    "ax.legend(bbox_to_anchor=(1.1, 1.05),frameon=False,markerscale=2.5)\n",
    "#fig.savefig('SalishSeaDIMicroZoopEval_byregion_noLegend.jpg',bbox_inches='tight')\n",
    "\n",
    "\n",
    "\n",
    "\n",
    "\n",
    "fig, ax = plt.subplots(1,4,figsize = (16,3.3))\n",
    "bySeason(ax,'L10Productivity','L10mod_prod',(-3,3))"
   ]
  },
  {
   "cell_type": "code",
   "execution_count": 39,
   "metadata": {},
   "outputs": [
    {
     "data": {
      "text/plain": [
       "odict_keys(['All', 'Winter', 'Spring', 'Summer', 'Autumn', 'Stn 42', 'GEO 1', 'Stn 12'])"
      ]
     },
     "execution_count": 39,
     "metadata": {},
     "output_type": "execute_result"
    }
   ],
   "source": [
    "### These groupings will be used to calculate statistics. The keys are labels and\n",
    "### the values are corresponding dataframe views\n",
    "statsubs=OrderedDict({\n",
    "                      'All':data,\n",
    "                      'Winter':DJF,\n",
    "                      'Spring':MAM,\n",
    "                      'Summer':JJA,\n",
    "                      'Autumn': SON,})\n",
    "for iregion in data.Station.unique():\n",
    "    statsubs[iregion]=datreg[iregion]\n",
    "statsubs.keys()"
   ]
  },
  {
   "cell_type": "code",
   "execution_count": 40,
   "metadata": {},
   "outputs": [],
   "source": [
    "# Defining variables needed for mesozooplankton evaluations\n",
    "obsvar4='L10Productivity'\n",
    "modvar4='L10mod_prod'\n",
    "year=2023 #how do I calculate for all years?\n",
    "\n"
   ]
  },
  {
   "cell_type": "code",
   "execution_count": null,
   "metadata": {},
   "outputs": [],
   "source": []
  },
  {
   "cell_type": "code",
   "execution_count": 41,
   "metadata": {},
   "outputs": [
    {
     "name": "stdout",
     "output_type": "stream",
     "text": [
      "All\n",
      "Winter\n",
      "Spring\n",
      "Summer\n",
      "Autumn\n",
      "Stn 42\n",
      "GEO 1\n",
      "Stn 12\n"
     ]
    },
    {
     "data": {
      "text/html": [
       "<style  type=\"text/css\" >\n",
       "</style><table id=\"T_0a00fa3e_ca98_11ee_aaa9_f832e49a9a7a\" ><thead>    <tr>        <th class=\"blank\" ></th>        <th class=\"blank level0\" ></th>        <th class=\"col_heading level0 col0\" colspan=6></th>    </tr>    <tr>        <th class=\"blank\" ></th>        <th class=\"blank level1\" ></th>        <th class=\"col_heading level1 col0\" >Bias</th>        <th class=\"col_heading level1 col1\" >N</th>        <th class=\"col_heading level1 col2\" >RMSE</th>        <th class=\"col_heading level1 col3\" >WSS</th>        <th class=\"col_heading level1 col4\" >mmean</th>        <th class=\"col_heading level1 col5\" >omean</th>    </tr>    <tr>        <th class=\"index_name level0\" ></th>        <th class=\"index_name level1\" >Subset</th>        <th class=\"blank\" ></th>        <th class=\"blank\" ></th>        <th class=\"blank\" ></th>        <th class=\"blank\" ></th>        <th class=\"blank\" ></th>        <th class=\"blank\" ></th>    </tr></thead><tbody>\n",
       "                <tr>\n",
       "                        <th id=\"T_0a00fa3e_ca98_11ee_aaa9_f832e49a9a7alevel0_row0\" class=\"row_heading level0 row0\" >0</th>\n",
       "                        <th id=\"T_0a00fa3e_ca98_11ee_aaa9_f832e49a9a7alevel1_row0\" class=\"row_heading level1 row0\" >All</th>\n",
       "                        <td id=\"T_0a00fa3e_ca98_11ee_aaa9_f832e49a9a7arow0_col0\" class=\"data row0 col0\" >-0.462154</td>\n",
       "                        <td id=\"T_0a00fa3e_ca98_11ee_aaa9_f832e49a9a7arow0_col1\" class=\"data row0 col1\" >119.000000</td>\n",
       "                        <td id=\"T_0a00fa3e_ca98_11ee_aaa9_f832e49a9a7arow0_col2\" class=\"data row0 col2\" >1.868351</td>\n",
       "                        <td id=\"T_0a00fa3e_ca98_11ee_aaa9_f832e49a9a7arow0_col3\" class=\"data row0 col3\" >0.644678</td>\n",
       "                        <td id=\"T_0a00fa3e_ca98_11ee_aaa9_f832e49a9a7arow0_col4\" class=\"data row0 col4\" >-0.975715</td>\n",
       "                        <td id=\"T_0a00fa3e_ca98_11ee_aaa9_f832e49a9a7arow0_col5\" class=\"data row0 col5\" >-0.513561</td>\n",
       "            </tr>\n",
       "            <tr>\n",
       "                        <th id=\"T_0a00fa3e_ca98_11ee_aaa9_f832e49a9a7alevel0_row1\" class=\"row_heading level0 row1\" >1</th>\n",
       "                        <th id=\"T_0a00fa3e_ca98_11ee_aaa9_f832e49a9a7alevel1_row1\" class=\"row_heading level1 row1\" >Winter</th>\n",
       "                        <td id=\"T_0a00fa3e_ca98_11ee_aaa9_f832e49a9a7arow1_col0\" class=\"data row1 col0\" >nan</td>\n",
       "                        <td id=\"T_0a00fa3e_ca98_11ee_aaa9_f832e49a9a7arow1_col1\" class=\"data row1 col1\" >0.000000</td>\n",
       "                        <td id=\"T_0a00fa3e_ca98_11ee_aaa9_f832e49a9a7arow1_col2\" class=\"data row1 col2\" >nan</td>\n",
       "                        <td id=\"T_0a00fa3e_ca98_11ee_aaa9_f832e49a9a7arow1_col3\" class=\"data row1 col3\" >nan</td>\n",
       "                        <td id=\"T_0a00fa3e_ca98_11ee_aaa9_f832e49a9a7arow1_col4\" class=\"data row1 col4\" >nan</td>\n",
       "                        <td id=\"T_0a00fa3e_ca98_11ee_aaa9_f832e49a9a7arow1_col5\" class=\"data row1 col5\" >nan</td>\n",
       "            </tr>\n",
       "            <tr>\n",
       "                        <th id=\"T_0a00fa3e_ca98_11ee_aaa9_f832e49a9a7alevel0_row2\" class=\"row_heading level0 row2\" >2</th>\n",
       "                        <th id=\"T_0a00fa3e_ca98_11ee_aaa9_f832e49a9a7alevel1_row2\" class=\"row_heading level1 row2\" >Spring</th>\n",
       "                        <td id=\"T_0a00fa3e_ca98_11ee_aaa9_f832e49a9a7arow2_col0\" class=\"data row2 col0\" >-0.585880</td>\n",
       "                        <td id=\"T_0a00fa3e_ca98_11ee_aaa9_f832e49a9a7arow2_col1\" class=\"data row2 col1\" >49.000000</td>\n",
       "                        <td id=\"T_0a00fa3e_ca98_11ee_aaa9_f832e49a9a7arow2_col2\" class=\"data row2 col2\" >2.011300</td>\n",
       "                        <td id=\"T_0a00fa3e_ca98_11ee_aaa9_f832e49a9a7arow2_col3\" class=\"data row2 col3\" >0.550854</td>\n",
       "                        <td id=\"T_0a00fa3e_ca98_11ee_aaa9_f832e49a9a7arow2_col4\" class=\"data row2 col4\" >-1.015963</td>\n",
       "                        <td id=\"T_0a00fa3e_ca98_11ee_aaa9_f832e49a9a7arow2_col5\" class=\"data row2 col5\" >-0.430083</td>\n",
       "            </tr>\n",
       "            <tr>\n",
       "                        <th id=\"T_0a00fa3e_ca98_11ee_aaa9_f832e49a9a7alevel0_row3\" class=\"row_heading level0 row3\" >3</th>\n",
       "                        <th id=\"T_0a00fa3e_ca98_11ee_aaa9_f832e49a9a7alevel1_row3\" class=\"row_heading level1 row3\" >Summer</th>\n",
       "                        <td id=\"T_0a00fa3e_ca98_11ee_aaa9_f832e49a9a7arow3_col0\" class=\"data row3 col0\" >-0.411235</td>\n",
       "                        <td id=\"T_0a00fa3e_ca98_11ee_aaa9_f832e49a9a7arow3_col1\" class=\"data row3 col1\" >42.000000</td>\n",
       "                        <td id=\"T_0a00fa3e_ca98_11ee_aaa9_f832e49a9a7arow3_col2\" class=\"data row3 col2\" >1.626772</td>\n",
       "                        <td id=\"T_0a00fa3e_ca98_11ee_aaa9_f832e49a9a7arow3_col3\" class=\"data row3 col3\" >0.751693</td>\n",
       "                        <td id=\"T_0a00fa3e_ca98_11ee_aaa9_f832e49a9a7arow3_col4\" class=\"data row3 col4\" >-0.839595</td>\n",
       "                        <td id=\"T_0a00fa3e_ca98_11ee_aaa9_f832e49a9a7arow3_col5\" class=\"data row3 col5\" >-0.428360</td>\n",
       "            </tr>\n",
       "            <tr>\n",
       "                        <th id=\"T_0a00fa3e_ca98_11ee_aaa9_f832e49a9a7alevel0_row4\" class=\"row_heading level0 row4\" >4</th>\n",
       "                        <th id=\"T_0a00fa3e_ca98_11ee_aaa9_f832e49a9a7alevel1_row4\" class=\"row_heading level1 row4\" >Autumn</th>\n",
       "                        <td id=\"T_0a00fa3e_ca98_11ee_aaa9_f832e49a9a7arow4_col0\" class=\"data row4 col0\" >-0.322012</td>\n",
       "                        <td id=\"T_0a00fa3e_ca98_11ee_aaa9_f832e49a9a7arow4_col1\" class=\"data row4 col1\" >28.000000</td>\n",
       "                        <td id=\"T_0a00fa3e_ca98_11ee_aaa9_f832e49a9a7arow4_col2\" class=\"data row4 col2\" >1.945951</td>\n",
       "                        <td id=\"T_0a00fa3e_ca98_11ee_aaa9_f832e49a9a7arow4_col3\" class=\"data row4 col3\" >0.620624</td>\n",
       "                        <td id=\"T_0a00fa3e_ca98_11ee_aaa9_f832e49a9a7arow4_col4\" class=\"data row4 col4\" >-1.109463</td>\n",
       "                        <td id=\"T_0a00fa3e_ca98_11ee_aaa9_f832e49a9a7arow4_col5\" class=\"data row4 col5\" >-0.787451</td>\n",
       "            </tr>\n",
       "            <tr>\n",
       "                        <th id=\"T_0a00fa3e_ca98_11ee_aaa9_f832e49a9a7alevel0_row5\" class=\"row_heading level0 row5\" >5</th>\n",
       "                        <th id=\"T_0a00fa3e_ca98_11ee_aaa9_f832e49a9a7alevel1_row5\" class=\"row_heading level1 row5\" >Stn 42</th>\n",
       "                        <td id=\"T_0a00fa3e_ca98_11ee_aaa9_f832e49a9a7arow5_col0\" class=\"data row5 col0\" >nan</td>\n",
       "                        <td id=\"T_0a00fa3e_ca98_11ee_aaa9_f832e49a9a7arow5_col1\" class=\"data row5 col1\" >0.000000</td>\n",
       "                        <td id=\"T_0a00fa3e_ca98_11ee_aaa9_f832e49a9a7arow5_col2\" class=\"data row5 col2\" >nan</td>\n",
       "                        <td id=\"T_0a00fa3e_ca98_11ee_aaa9_f832e49a9a7arow5_col3\" class=\"data row5 col3\" >nan</td>\n",
       "                        <td id=\"T_0a00fa3e_ca98_11ee_aaa9_f832e49a9a7arow5_col4\" class=\"data row5 col4\" >nan</td>\n",
       "                        <td id=\"T_0a00fa3e_ca98_11ee_aaa9_f832e49a9a7arow5_col5\" class=\"data row5 col5\" >nan</td>\n",
       "            </tr>\n",
       "            <tr>\n",
       "                        <th id=\"T_0a00fa3e_ca98_11ee_aaa9_f832e49a9a7alevel0_row6\" class=\"row_heading level0 row6\" >6</th>\n",
       "                        <th id=\"T_0a00fa3e_ca98_11ee_aaa9_f832e49a9a7alevel1_row6\" class=\"row_heading level1 row6\" >GEO 1</th>\n",
       "                        <td id=\"T_0a00fa3e_ca98_11ee_aaa9_f832e49a9a7arow6_col0\" class=\"data row6 col0\" >-0.877746</td>\n",
       "                        <td id=\"T_0a00fa3e_ca98_11ee_aaa9_f832e49a9a7arow6_col1\" class=\"data row6 col1\" >63.000000</td>\n",
       "                        <td id=\"T_0a00fa3e_ca98_11ee_aaa9_f832e49a9a7arow6_col2\" class=\"data row6 col2\" >1.978442</td>\n",
       "                        <td id=\"T_0a00fa3e_ca98_11ee_aaa9_f832e49a9a7arow6_col3\" class=\"data row6 col3\" >0.556616</td>\n",
       "                        <td id=\"T_0a00fa3e_ca98_11ee_aaa9_f832e49a9a7arow6_col4\" class=\"data row6 col4\" >-1.028209</td>\n",
       "                        <td id=\"T_0a00fa3e_ca98_11ee_aaa9_f832e49a9a7arow6_col5\" class=\"data row6 col5\" >-0.150464</td>\n",
       "            </tr>\n",
       "            <tr>\n",
       "                        <th id=\"T_0a00fa3e_ca98_11ee_aaa9_f832e49a9a7alevel0_row7\" class=\"row_heading level0 row7\" >7</th>\n",
       "                        <th id=\"T_0a00fa3e_ca98_11ee_aaa9_f832e49a9a7alevel1_row7\" class=\"row_heading level1 row7\" >Stn 12</th>\n",
       "                        <td id=\"T_0a00fa3e_ca98_11ee_aaa9_f832e49a9a7arow7_col0\" class=\"data row7 col0\" >0.005387</td>\n",
       "                        <td id=\"T_0a00fa3e_ca98_11ee_aaa9_f832e49a9a7arow7_col1\" class=\"data row7 col1\" >56.000000</td>\n",
       "                        <td id=\"T_0a00fa3e_ca98_11ee_aaa9_f832e49a9a7arow7_col2\" class=\"data row7 col2\" >1.736175</td>\n",
       "                        <td id=\"T_0a00fa3e_ca98_11ee_aaa9_f832e49a9a7arow7_col3\" class=\"data row7 col3\" >0.715142</td>\n",
       "                        <td id=\"T_0a00fa3e_ca98_11ee_aaa9_f832e49a9a7arow7_col4\" class=\"data row7 col4\" >-0.916660</td>\n",
       "                        <td id=\"T_0a00fa3e_ca98_11ee_aaa9_f832e49a9a7arow7_col5\" class=\"data row7 col5\" >-0.922047</td>\n",
       "            </tr>\n",
       "    </tbody></table>"
      ],
      "text/plain": [
       "<pandas.io.formats.style.Styler at 0x7f27940b8b20>"
      ]
     },
     "execution_count": 41,
     "metadata": {},
     "output_type": "execute_result"
    }
   ],
   "source": [
    "statsDict={year:dict()}\n",
    "statsDict[year]['MicroZ']=OrderedDict()\n",
    "for isub in statsubs:\n",
    "    print(isub)\n",
    "    statsDict[year]['MicroZ'][isub]=dict()\n",
    "    var=statsDict[year]['MicroZ'][isub]\n",
    "    var['N'],var['mmean'],var['omean'],var['Bias'],var['RMSE'],var['WSS']=et.stats(statsubs[isub].loc[:,[obsvar4]],\n",
    "                                                                     statsubs[isub].loc[:,[modvar4]])\n",
    "tbl,tdf=et.displayStats(statsDict[year]['MicroZ'],level='Subset',suborder=list(statsubs.keys()))\n",
    "tbl\n",
    "\n",
    "#tbl.to_excel(\"SalishSeaMicrozoopEvalStats.xlsx\")"
   ]
  },
  {
   "cell_type": "code",
   "execution_count": null,
   "metadata": {},
   "outputs": [],
   "source": []
  }
 ],
 "metadata": {
  "anaconda-cloud": {},
  "kernelspec": {
   "display_name": "Python (py39)",
   "language": "python",
   "name": "py39"
  },
  "language_info": {
   "codemirror_mode": {
    "name": "ipython",
    "version": 3
   },
   "file_extension": ".py",
   "mimetype": "text/x-python",
   "name": "python",
   "nbconvert_exporter": "python",
   "pygments_lexer": "ipython3",
   "version": "3.9.15"
  }
 },
 "nbformat": 4,
 "nbformat_minor": 4
}
