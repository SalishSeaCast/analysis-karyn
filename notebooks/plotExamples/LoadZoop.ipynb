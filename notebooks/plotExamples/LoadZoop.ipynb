{
 "cells": [
  {
   "cell_type": "code",
   "execution_count": 150,
   "metadata": {},
   "outputs": [],
   "source": [
    "import numpy as np\n",
    "import pandas as pd\n",
    "import matplotlib.pyplot as plt\n",
    "import datetime as dt\n",
    "import matplotlib.dates as mdates\n",
    "\n",
    "%matplotlib inline"
   ]
  },
  {
   "cell_type": "code",
   "execution_count": 151,
   "metadata": {},
   "outputs": [],
   "source": [
    "df=pd.read_csv('/ocean/ksuchy/MOAD/observe/Data and Code files for KS 2020dec11/2020_05_21 2012-2015 SoG VNH.csv',\n",
    "               encoding = \"ISO-8859-1\")"
   ]
  },
  {
   "cell_type": "code",
   "execution_count": 152,
   "metadata": {},
   "outputs": [
    {
     "data": {
      "text/html": [
       "<div>\n",
       "<style scoped>\n",
       "    .dataframe tbody tr th:only-of-type {\n",
       "        vertical-align: middle;\n",
       "    }\n",
       "\n",
       "    .dataframe tbody tr th {\n",
       "        vertical-align: top;\n",
       "    }\n",
       "\n",
       "    .dataframe thead th {\n",
       "        text-align: right;\n",
       "    }\n",
       "</style>\n",
       "<table border=\"1\" class=\"dataframe\">\n",
       "  <thead>\n",
       "    <tr style=\"text-align: right;\">\n",
       "      <th></th>\n",
       "      <th>Key</th>\n",
       "      <th>region_name</th>\n",
       "      <th>Station</th>\n",
       "      <th>PROJECT</th>\n",
       "      <th>lon</th>\n",
       "      <th>lat</th>\n",
       "      <th>Date</th>\n",
       "      <th>STN_TIME</th>\n",
       "      <th>Twilight</th>\n",
       "      <th>Net_Type</th>\n",
       "      <th>...</th>\n",
       "      <th>Phylum:</th>\n",
       "      <th>Class:</th>\n",
       "      <th>Order:</th>\n",
       "      <th>Family:</th>\n",
       "      <th>Name</th>\n",
       "      <th>Abundance(#/m3)</th>\n",
       "      <th>Biomass(mg/m3)</th>\n",
       "      <th>NumberOfSpecies</th>\n",
       "      <th>Station Diversity</th>\n",
       "      <th>Station Equitability</th>\n",
       "    </tr>\n",
       "  </thead>\n",
       "  <tbody>\n",
       "    <tr>\n",
       "      <th>0</th>\n",
       "      <td>IOS2012005000901</td>\n",
       "      <td>Northern Strait of Georgia</td>\n",
       "      <td>22</td>\n",
       "      <td>Str. Geo.</td>\n",
       "      <td>-124.272</td>\n",
       "      <td>49.670</td>\n",
       "      <td>6/14/2012</td>\n",
       "      <td>7:32</td>\n",
       "      <td>Daylight</td>\n",
       "      <td>SCOR VNH</td>\n",
       "      <td>...</td>\n",
       "      <td>Arthropoda</td>\n",
       "      <td>Branchiopoda</td>\n",
       "      <td>Diplostraca</td>\n",
       "      <td>Podonidae</td>\n",
       "      <td>Podon *sp.  s1</td>\n",
       "      <td>12.22541</td>\n",
       "      <td>0.06113</td>\n",
       "      <td>51</td>\n",
       "      <td>2.63</td>\n",
       "      <td>0.67</td>\n",
       "    </tr>\n",
       "    <tr>\n",
       "      <th>1</th>\n",
       "      <td>IOS2012005000901</td>\n",
       "      <td>Northern Strait of Georgia</td>\n",
       "      <td>22</td>\n",
       "      <td>Str. Geo.</td>\n",
       "      <td>-124.272</td>\n",
       "      <td>49.670</td>\n",
       "      <td>6/14/2012</td>\n",
       "      <td>7:32</td>\n",
       "      <td>Daylight</td>\n",
       "      <td>SCOR VNH</td>\n",
       "      <td>...</td>\n",
       "      <td>Arthropoda</td>\n",
       "      <td>Cirripedia</td>\n",
       "      <td>Thecostraca</td>\n",
       "      <td>NaN</td>\n",
       "      <td>Cirripedia *sp. nauplii s1</td>\n",
       "      <td>30.56351</td>\n",
       "      <td>1.22254</td>\n",
       "      <td>51</td>\n",
       "      <td>2.63</td>\n",
       "      <td>0.67</td>\n",
       "    </tr>\n",
       "    <tr>\n",
       "      <th>2</th>\n",
       "      <td>IOS2012005000901</td>\n",
       "      <td>Northern Strait of Georgia</td>\n",
       "      <td>22</td>\n",
       "      <td>Str. Geo.</td>\n",
       "      <td>-124.272</td>\n",
       "      <td>49.670</td>\n",
       "      <td>6/14/2012</td>\n",
       "      <td>7:32</td>\n",
       "      <td>Daylight</td>\n",
       "      <td>SCOR VNH</td>\n",
       "      <td>...</td>\n",
       "      <td>Arthropoda</td>\n",
       "      <td>Malacostraca</td>\n",
       "      <td>Amphipoda</td>\n",
       "      <td>Hyperiidae</td>\n",
       "      <td>Themisto pacifica juvenile s1</td>\n",
       "      <td>6.11270</td>\n",
       "      <td>1.44871</td>\n",
       "      <td>51</td>\n",
       "      <td>2.63</td>\n",
       "      <td>0.67</td>\n",
       "    </tr>\n",
       "    <tr>\n",
       "      <th>3</th>\n",
       "      <td>IOS2012005000901</td>\n",
       "      <td>Northern Strait of Georgia</td>\n",
       "      <td>22</td>\n",
       "      <td>Str. Geo.</td>\n",
       "      <td>-124.272</td>\n",
       "      <td>49.670</td>\n",
       "      <td>6/14/2012</td>\n",
       "      <td>7:32</td>\n",
       "      <td>Daylight</td>\n",
       "      <td>SCOR VNH</td>\n",
       "      <td>...</td>\n",
       "      <td>Arthropoda</td>\n",
       "      <td>Malacostraca</td>\n",
       "      <td>Decapoda</td>\n",
       "      <td>NaN</td>\n",
       "      <td>Caridea *sp. zoea s1</td>\n",
       "      <td>3.05635</td>\n",
       "      <td>0.07030</td>\n",
       "      <td>51</td>\n",
       "      <td>2.63</td>\n",
       "      <td>0.67</td>\n",
       "    </tr>\n",
       "    <tr>\n",
       "      <th>4</th>\n",
       "      <td>IOS2012005000901</td>\n",
       "      <td>Northern Strait of Georgia</td>\n",
       "      <td>22</td>\n",
       "      <td>Str. Geo.</td>\n",
       "      <td>-124.272</td>\n",
       "      <td>49.670</td>\n",
       "      <td>6/14/2012</td>\n",
       "      <td>7:32</td>\n",
       "      <td>Daylight</td>\n",
       "      <td>SCOR VNH</td>\n",
       "      <td>...</td>\n",
       "      <td>Arthropoda</td>\n",
       "      <td>Malacostraca</td>\n",
       "      <td>Decapoda</td>\n",
       "      <td>Hippolytidae</td>\n",
       "      <td>Hippolytidae *sp. mysis s2</td>\n",
       "      <td>0.09551</td>\n",
       "      <td>0.06017</td>\n",
       "      <td>51</td>\n",
       "      <td>2.63</td>\n",
       "      <td>0.67</td>\n",
       "    </tr>\n",
       "    <tr>\n",
       "      <th>...</th>\n",
       "      <td>...</td>\n",
       "      <td>...</td>\n",
       "      <td>...</td>\n",
       "      <td>...</td>\n",
       "      <td>...</td>\n",
       "      <td>...</td>\n",
       "      <td>...</td>\n",
       "      <td>...</td>\n",
       "      <td>...</td>\n",
       "      <td>...</td>\n",
       "      <td>...</td>\n",
       "      <td>...</td>\n",
       "      <td>...</td>\n",
       "      <td>...</td>\n",
       "      <td>...</td>\n",
       "      <td>...</td>\n",
       "      <td>...</td>\n",
       "      <td>...</td>\n",
       "      <td>...</td>\n",
       "      <td>...</td>\n",
       "      <td>...</td>\n",
       "    </tr>\n",
       "    <tr>\n",
       "      <th>60225</th>\n",
       "      <td>SOO2015095000801</td>\n",
       "      <td>Tidal Mixed</td>\n",
       "      <td>MAC41</td>\n",
       "      <td>Citizen Science</td>\n",
       "      <td>-123.409</td>\n",
       "      <td>48.402</td>\n",
       "      <td>7/27/2015</td>\n",
       "      <td>13:00</td>\n",
       "      <td>Daylight</td>\n",
       "      <td>SCOR VNH</td>\n",
       "      <td>...</td>\n",
       "      <td>Ctenophora</td>\n",
       "      <td>Tentaculata</td>\n",
       "      <td>Cydippida</td>\n",
       "      <td>Pleurobrachiidae</td>\n",
       "      <td>Pleurobrachia bachei  s2</td>\n",
       "      <td>0.25316</td>\n",
       "      <td>0.31797</td>\n",
       "      <td>44</td>\n",
       "      <td>2.56</td>\n",
       "      <td>0.67</td>\n",
       "    </tr>\n",
       "    <tr>\n",
       "      <th>60226</th>\n",
       "      <td>SOO2015095000801</td>\n",
       "      <td>Tidal Mixed</td>\n",
       "      <td>MAC41</td>\n",
       "      <td>Citizen Science</td>\n",
       "      <td>-123.409</td>\n",
       "      <td>48.402</td>\n",
       "      <td>7/27/2015</td>\n",
       "      <td>13:00</td>\n",
       "      <td>Daylight</td>\n",
       "      <td>SCOR VNH</td>\n",
       "      <td>...</td>\n",
       "      <td>Ectoprocta</td>\n",
       "      <td>Gymnolaemata</td>\n",
       "      <td>NaN</td>\n",
       "      <td>NaN</td>\n",
       "      <td>Bryozoa *sp. cyphonautes s1</td>\n",
       "      <td>48.60759</td>\n",
       "      <td>0.06319</td>\n",
       "      <td>44</td>\n",
       "      <td>2.56</td>\n",
       "      <td>0.67</td>\n",
       "    </tr>\n",
       "    <tr>\n",
       "      <th>60227</th>\n",
       "      <td>SOO2015095000801</td>\n",
       "      <td>Tidal Mixed</td>\n",
       "      <td>MAC41</td>\n",
       "      <td>Citizen Science</td>\n",
       "      <td>-123.409</td>\n",
       "      <td>48.402</td>\n",
       "      <td>7/27/2015</td>\n",
       "      <td>13:00</td>\n",
       "      <td>Daylight</td>\n",
       "      <td>SCOR VNH</td>\n",
       "      <td>...</td>\n",
       "      <td>Mollusca</td>\n",
       "      <td>Bivalvia</td>\n",
       "      <td>Pholadomyoida</td>\n",
       "      <td>NaN</td>\n",
       "      <td>Bivalvia *sp. veligers s1</td>\n",
       "      <td>21.60338</td>\n",
       "      <td>0.01296</td>\n",
       "      <td>44</td>\n",
       "      <td>2.56</td>\n",
       "      <td>0.67</td>\n",
       "    </tr>\n",
       "    <tr>\n",
       "      <th>60228</th>\n",
       "      <td>SOO2015095000801</td>\n",
       "      <td>Tidal Mixed</td>\n",
       "      <td>MAC41</td>\n",
       "      <td>Citizen Science</td>\n",
       "      <td>-123.409</td>\n",
       "      <td>48.402</td>\n",
       "      <td>7/27/2015</td>\n",
       "      <td>13:00</td>\n",
       "      <td>Daylight</td>\n",
       "      <td>SCOR VNH</td>\n",
       "      <td>...</td>\n",
       "      <td>Mollusca</td>\n",
       "      <td>Cephalopoda</td>\n",
       "      <td>Teuthida</td>\n",
       "      <td>Gonatidae</td>\n",
       "      <td>Berryteuthis magister  s2</td>\n",
       "      <td>0.08439</td>\n",
       "      <td>0.46414</td>\n",
       "      <td>44</td>\n",
       "      <td>2.56</td>\n",
       "      <td>0.67</td>\n",
       "    </tr>\n",
       "    <tr>\n",
       "      <th>60229</th>\n",
       "      <td>SOO2015095000801</td>\n",
       "      <td>Tidal Mixed</td>\n",
       "      <td>MAC41</td>\n",
       "      <td>Citizen Science</td>\n",
       "      <td>-123.409</td>\n",
       "      <td>48.402</td>\n",
       "      <td>7/27/2015</td>\n",
       "      <td>13:00</td>\n",
       "      <td>Daylight</td>\n",
       "      <td>SCOR VNH</td>\n",
       "      <td>...</td>\n",
       "      <td>Mollusca</td>\n",
       "      <td>Gastropoda</td>\n",
       "      <td>NaN</td>\n",
       "      <td>NaN</td>\n",
       "      <td>Gastropoda *sp. veligers s1</td>\n",
       "      <td>10.80169</td>\n",
       "      <td>0.02808</td>\n",
       "      <td>44</td>\n",
       "      <td>2.56</td>\n",
       "      <td>0.67</td>\n",
       "    </tr>\n",
       "  </tbody>\n",
       "</table>\n",
       "<p>60230 rows × 29 columns</p>\n",
       "</div>"
      ],
      "text/plain": [
       "                    Key                 region_name Station          PROJECT  \\\n",
       "0      IOS2012005000901  Northern Strait of Georgia      22        Str. Geo.   \n",
       "1      IOS2012005000901  Northern Strait of Georgia      22        Str. Geo.   \n",
       "2      IOS2012005000901  Northern Strait of Georgia      22        Str. Geo.   \n",
       "3      IOS2012005000901  Northern Strait of Georgia      22        Str. Geo.   \n",
       "4      IOS2012005000901  Northern Strait of Georgia      22        Str. Geo.   \n",
       "...                 ...                         ...     ...              ...   \n",
       "60225  SOO2015095000801                 Tidal Mixed   MAC41  Citizen Science   \n",
       "60226  SOO2015095000801                 Tidal Mixed   MAC41  Citizen Science   \n",
       "60227  SOO2015095000801                 Tidal Mixed   MAC41  Citizen Science   \n",
       "60228  SOO2015095000801                 Tidal Mixed   MAC41  Citizen Science   \n",
       "60229  SOO2015095000801                 Tidal Mixed   MAC41  Citizen Science   \n",
       "\n",
       "           lon     lat       Date STN_TIME  Twilight  Net_Type  ...  \\\n",
       "0     -124.272  49.670  6/14/2012     7:32  Daylight  SCOR VNH  ...   \n",
       "1     -124.272  49.670  6/14/2012     7:32  Daylight  SCOR VNH  ...   \n",
       "2     -124.272  49.670  6/14/2012     7:32  Daylight  SCOR VNH  ...   \n",
       "3     -124.272  49.670  6/14/2012     7:32  Daylight  SCOR VNH  ...   \n",
       "4     -124.272  49.670  6/14/2012     7:32  Daylight  SCOR VNH  ...   \n",
       "...        ...     ...        ...      ...       ...       ...  ...   \n",
       "60225 -123.409  48.402  7/27/2015    13:00  Daylight  SCOR VNH  ...   \n",
       "60226 -123.409  48.402  7/27/2015    13:00  Daylight  SCOR VNH  ...   \n",
       "60227 -123.409  48.402  7/27/2015    13:00  Daylight  SCOR VNH  ...   \n",
       "60228 -123.409  48.402  7/27/2015    13:00  Daylight  SCOR VNH  ...   \n",
       "60229 -123.409  48.402  7/27/2015    13:00  Daylight  SCOR VNH  ...   \n",
       "\n",
       "          Phylum:        Class:         Order:           Family:  \\\n",
       "0      Arthropoda  Branchiopoda    Diplostraca         Podonidae   \n",
       "1      Arthropoda    Cirripedia    Thecostraca               NaN   \n",
       "2      Arthropoda  Malacostraca      Amphipoda        Hyperiidae   \n",
       "3      Arthropoda  Malacostraca       Decapoda               NaN   \n",
       "4      Arthropoda  Malacostraca       Decapoda      Hippolytidae   \n",
       "...           ...           ...            ...               ...   \n",
       "60225  Ctenophora   Tentaculata      Cydippida  Pleurobrachiidae   \n",
       "60226  Ectoprocta  Gymnolaemata            NaN               NaN   \n",
       "60227    Mollusca      Bivalvia  Pholadomyoida               NaN   \n",
       "60228    Mollusca   Cephalopoda       Teuthida         Gonatidae   \n",
       "60229    Mollusca    Gastropoda            NaN               NaN   \n",
       "\n",
       "                                Name  Abundance(#/m3)  Biomass(mg/m3)  \\\n",
       "0                     Podon *sp.  s1         12.22541         0.06113   \n",
       "1         Cirripedia *sp. nauplii s1         30.56351         1.22254   \n",
       "2      Themisto pacifica juvenile s1          6.11270         1.44871   \n",
       "3               Caridea *sp. zoea s1          3.05635         0.07030   \n",
       "4         Hippolytidae *sp. mysis s2          0.09551         0.06017   \n",
       "...                              ...              ...             ...   \n",
       "60225       Pleurobrachia bachei  s2          0.25316         0.31797   \n",
       "60226    Bryozoa *sp. cyphonautes s1         48.60759         0.06319   \n",
       "60227      Bivalvia *sp. veligers s1         21.60338         0.01296   \n",
       "60228      Berryteuthis magister  s2          0.08439         0.46414   \n",
       "60229    Gastropoda *sp. veligers s1         10.80169         0.02808   \n",
       "\n",
       "      NumberOfSpecies Station Diversity Station Equitability  \n",
       "0                  51              2.63                 0.67  \n",
       "1                  51              2.63                 0.67  \n",
       "2                  51              2.63                 0.67  \n",
       "3                  51              2.63                 0.67  \n",
       "4                  51              2.63                 0.67  \n",
       "...               ...               ...                  ...  \n",
       "60225              44              2.56                 0.67  \n",
       "60226              44              2.56                 0.67  \n",
       "60227              44              2.56                 0.67  \n",
       "60228              44              2.56                 0.67  \n",
       "60229              44              2.56                 0.67  \n",
       "\n",
       "[60230 rows x 29 columns]"
      ]
     },
     "execution_count": 152,
     "metadata": {},
     "output_type": "execute_result"
    }
   ],
   "source": [
    "df"
   ]
  },
  {
   "cell_type": "code",
   "execution_count": 153,
   "metadata": {},
   "outputs": [
    {
     "data": {
      "text/plain": [
       "Index(['Key', 'region_name', 'Station', 'PROJECT', 'lon', 'lat', 'Date',\n",
       "       'STN_TIME', 'Twilight', 'Net_Type', 'Mesh_Size(um)', 'Net_Mouth_Dia(m)',\n",
       "       'DEPTH_STRT1', 'DEPTH_END1', 'Bottom Depth(m)', 'Volume Filtered(m3)',\n",
       "       'CTD', 'NOTES', 'PI', 'Phylum:', 'Class:', 'Order:', 'Family:', 'Name',\n",
       "       'Abundance(#/m3)', 'Biomass(mg/m3)', 'NumberOfSpecies',\n",
       "       'Station Diversity', 'Station Equitability'],\n",
       "      dtype='object')"
      ]
     },
     "execution_count": 153,
     "metadata": {},
     "output_type": "execute_result"
    }
   ],
   "source": [
    "df.keys()"
   ]
  },
  {
   "cell_type": "code",
   "execution_count": 154,
   "metadata": {},
   "outputs": [
    {
     "data": {
      "text/plain": [
       "0        0.06113\n",
       "1        1.22254\n",
       "2        1.44871\n",
       "3        0.07030\n",
       "4        0.06017\n",
       "          ...   \n",
       "60225    0.31797\n",
       "60226    0.06319\n",
       "60227    0.01296\n",
       "60228    0.46414\n",
       "60229    0.02808\n",
       "Name: Biomass(mg/m3), Length: 60230, dtype: float64"
      ]
     },
     "execution_count": 154,
     "metadata": {},
     "output_type": "execute_result"
    }
   ],
   "source": [
    "df['Biomass(mg/m3)']"
   ]
  },
  {
   "cell_type": "code",
   "execution_count": 155,
   "metadata": {},
   "outputs": [
    {
     "data": {
      "text/plain": [
       "0               Podonidae\n",
       "1                     NaN\n",
       "2              Hyperiidae\n",
       "3                     NaN\n",
       "4            Hippolytidae\n",
       "               ...       \n",
       "60225    Pleurobrachiidae\n",
       "60226                 NaN\n",
       "60227                 NaN\n",
       "60228           Gonatidae\n",
       "60229                 NaN\n",
       "Name: Family:, Length: 60230, dtype: object"
      ]
     },
     "execution_count": 155,
     "metadata": {},
     "output_type": "execute_result"
    }
   ],
   "source": [
    "df['Family:']"
   ]
  },
  {
   "cell_type": "code",
   "execution_count": 156,
   "metadata": {},
   "outputs": [
    {
     "data": {
      "text/plain": [
       "('6/14/2012', '7:32')"
      ]
     },
     "execution_count": 156,
     "metadata": {},
     "output_type": "execute_result"
    }
   ],
   "source": [
    "df['Date'][0],df['STN_TIME'][0]"
   ]
  },
  {
   "cell_type": "code",
   "execution_count": 157,
   "metadata": {},
   "outputs": [
    {
     "data": {
      "text/plain": [
       "60230"
      ]
     },
     "execution_count": 157,
     "metadata": {},
     "output_type": "execute_result"
    }
   ],
   "source": [
    "len(df)"
   ]
  },
  {
   "cell_type": "code",
   "execution_count": 158,
   "metadata": {},
   "outputs": [
    {
     "data": {
      "text/plain": [
       "500    6/15/2012\n",
       "501    6/15/2012\n",
       "502    6/15/2012\n",
       "503    6/15/2012\n",
       "504    6/15/2012\n",
       "505    6/15/2012\n",
       "506    6/15/2012\n",
       "507    6/15/2012\n",
       "508    6/15/2012\n",
       "509    6/15/2012\n",
       "510    6/15/2012\n",
       "511    6/15/2012\n",
       "512    6/15/2012\n",
       "513    6/15/2012\n",
       "514    6/15/2012\n",
       "515    6/15/2012\n",
       "516    6/15/2012\n",
       "517    6/15/2012\n",
       "518    6/15/2012\n",
       "519    6/15/2012\n",
       "Name: Date, dtype: object"
      ]
     },
     "execution_count": 158,
     "metadata": {},
     "output_type": "execute_result"
    }
   ],
   "source": [
    "df['Date'][500:520]"
   ]
  },
  {
   "cell_type": "code",
   "execution_count": 159,
   "metadata": {},
   "outputs": [
    {
     "data": {
      "text/plain": [
       "['6', '14', '2012']"
      ]
     },
     "execution_count": 159,
     "metadata": {},
     "output_type": "execute_result"
    }
   ],
   "source": [
    "df['Date'][0].split('/')"
   ]
  },
  {
   "cell_type": "code",
   "execution_count": 160,
   "metadata": {},
   "outputs": [],
   "source": [
    "dateslist=list()"
   ]
  },
  {
   "cell_type": "code",
   "execution_count": 161,
   "metadata": {},
   "outputs": [],
   "source": [
    "for el in df['Date']:\n",
    "    dateslist.append(el.split('/'))"
   ]
  },
  {
   "cell_type": "code",
   "execution_count": 162,
   "metadata": {},
   "outputs": [
    {
     "data": {
      "text/plain": [
       "(60230, 3)"
      ]
     },
     "execution_count": 162,
     "metadata": {},
     "output_type": "execute_result"
    }
   ],
   "source": [
    "np.shape(dateslist)"
   ]
  },
  {
   "cell_type": "code",
   "execution_count": 163,
   "metadata": {},
   "outputs": [],
   "source": [
    "timeslist=list()\n",
    "for el in df['STN_TIME']:\n",
    "    timeslist.append(el.split(':'))"
   ]
  },
  {
   "cell_type": "code",
   "execution_count": 172,
   "metadata": {},
   "outputs": [],
   "source": [
    "dts=list()\n",
    "for ii,jj in zip(dateslist,timeslist):\n",
    "    dts.append(dt.datetime(int(ii[2]),int(ii[0]),int(ii[1]),int(jj[0]),int(jj[1])))"
   ]
  },
  {
   "cell_type": "code",
   "execution_count": 173,
   "metadata": {},
   "outputs": [],
   "source": [
    "df['dt']=dts"
   ]
  },
  {
   "cell_type": "code",
   "execution_count": 174,
   "metadata": {},
   "outputs": [],
   "source": [
    "df['month']=[ii.month for ii in df['dt']]"
   ]
  },
  {
   "cell_type": "code",
   "execution_count": 178,
   "metadata": {},
   "outputs": [
    {
     "name": "stdout",
     "output_type": "stream",
     "text": [
      "60230 data points\n",
      "Number of data points in each order:\n"
     ]
    },
    {
     "data": {
      "text/plain": [
       "Order:       month\n",
       "Acariformes  4         2\n",
       "             6         3\n",
       "             9         1\n",
       "             10        1\n",
       "Aciculata    2        14\n",
       "                      ..\n",
       "Trachylina   7        47\n",
       "             8        59\n",
       "             9        95\n",
       "             10       46\n",
       "Tricladida   5         4\n",
       "Name: Biomass(mg/m3), Length: 371, dtype: int64"
      ]
     },
     "execution_count": 178,
     "metadata": {},
     "output_type": "execute_result"
    }
   ],
   "source": [
    "print(len(df),'data points')\n",
    "print('Number of data points in each order:')\n",
    "df.groupby(['Order:','month'])['Biomass(mg/m3)'].count()"
   ]
  },
  {
   "cell_type": "code",
   "execution_count": 179,
   "metadata": {},
   "outputs": [
    {
     "name": "stdout",
     "output_type": "stream",
     "text": [
      "60230 data points\n",
      "Number of data points in each order:\n"
     ]
    },
    {
     "data": {
      "text/plain": [
       "Order:       month\n",
       "Acariformes  4        0.884690\n",
       "             6        0.406117\n",
       "             9        1.110920\n",
       "             10       0.577620\n",
       "Aciculata    2        0.227439\n",
       "                        ...   \n",
       "Trachylina   7        1.067422\n",
       "             8        0.819478\n",
       "             9        0.515662\n",
       "             10       0.473501\n",
       "Tricladida   5        0.075445\n",
       "Name: Biomass(mg/m3), Length: 371, dtype: float64"
      ]
     },
     "execution_count": 179,
     "metadata": {},
     "output_type": "execute_result"
    }
   ],
   "source": [
    "print(len(df),'data points')\n",
    "print('Number of data points in each order:')\n",
    "df.groupby(['Order:','month'])['Biomass(mg/m3)'].mean()"
   ]
  },
  {
   "cell_type": "code",
   "execution_count": 200,
   "metadata": {},
   "outputs": [
    {
     "name": "stdout",
     "output_type": "stream",
     "text": [
      "60230 data points\n",
      "Number of data points in each order:\n"
     ]
    },
    {
     "data": {
      "text/plain": [
       "Order:       month  region_name               \n",
       "Acariformes  4      Baynes Sound                  1.74292\n",
       "                    Gulf Islands                  0.02646\n",
       "             6      Gulf Islands                  0.89873\n",
       "                    Northern Strait of Georgia    0.31962\n",
       "             9      Northern Strait of Georgia    1.11092\n",
       "                                                   ...   \n",
       "Trachylina   10     Southern Strait of Georgia    0.20326\n",
       "                    Tidal Mixed                   1.79722\n",
       "Tricladida   5      Central Strait of Georgia     0.00170\n",
       "                    Gulf Islands                  0.26955\n",
       "                    Northern Strait of Georgia    0.03053\n",
       "Name: Biomass(mg/m3), Length: 1724, dtype: float64"
      ]
     },
     "execution_count": 200,
     "metadata": {},
     "output_type": "execute_result"
    }
   ],
   "source": [
    "print(len(df),'data points')\n",
    "print('Number of data points in each order:')\n",
    "df.groupby(['Order:','month','region_name'])['Biomass(mg/m3)'].sum()"
   ]
  },
  {
   "cell_type": "code",
   "execution_count": 182,
   "metadata": {},
   "outputs": [],
   "source": [
    "deca=df.loc[df['Order:']=='Decapoda']\n",
    "euph=df.loc[df['Order:']=='Euphausiacea']\n",
    "cala=df.loc[df['Order:']=='Calanoida']\n",
    "amph=df.loc[df['Order:']=='Amphipoda']"
   ]
  },
  {
   "cell_type": "code",
   "execution_count": 214,
   "metadata": {},
   "outputs": [],
   "source": [
    "monthdeca=deca.groupby(['month'], as_index=False).mean()\n",
    "montheuph=euph.groupby(['month'], as_index=False).mean()\n",
    "monthcala=cala.groupby(['month'], as_index=False).mean()\n",
    "monthamph=amph.groupby(['month'], as_index=False).mean()"
   ]
  },
  {
   "cell_type": "code",
   "execution_count": 216,
   "metadata": {},
   "outputs": [],
   "source": [
    "regiondeca=deca.groupby(['region_name'], as_index=False).mean()\n",
    "regioneuph=euph.groupby(['region_name'], as_index=False).mean()\n",
    "regioncala=cala.groupby(['region_name'], as_index=False).mean()\n",
    "regionamph=amph.groupby(['region_name'], as_index=False).mean()"
   ]
  },
  {
   "cell_type": "code",
   "execution_count": 217,
   "metadata": {},
   "outputs": [
    {
     "data": {
      "text/html": [
       "<div>\n",
       "<style scoped>\n",
       "    .dataframe tbody tr th:only-of-type {\n",
       "        vertical-align: middle;\n",
       "    }\n",
       "\n",
       "    .dataframe tbody tr th {\n",
       "        vertical-align: top;\n",
       "    }\n",
       "\n",
       "    .dataframe thead th {\n",
       "        text-align: right;\n",
       "    }\n",
       "</style>\n",
       "<table border=\"1\" class=\"dataframe\">\n",
       "  <thead>\n",
       "    <tr style=\"text-align: right;\">\n",
       "      <th></th>\n",
       "      <th>month</th>\n",
       "      <th>lon</th>\n",
       "      <th>lat</th>\n",
       "      <th>Mesh_Size(um)</th>\n",
       "      <th>Net_Mouth_Dia(m)</th>\n",
       "      <th>DEPTH_STRT1</th>\n",
       "      <th>DEPTH_END1</th>\n",
       "      <th>Bottom Depth(m)</th>\n",
       "      <th>Volume Filtered(m3)</th>\n",
       "      <th>CTD</th>\n",
       "      <th>Abundance(#/m3)</th>\n",
       "      <th>Biomass(mg/m3)</th>\n",
       "      <th>NumberOfSpecies</th>\n",
       "      <th>Station Diversity</th>\n",
       "      <th>Station Equitability</th>\n",
       "    </tr>\n",
       "  </thead>\n",
       "  <tbody>\n",
       "    <tr>\n",
       "      <th>0</th>\n",
       "      <td>2</td>\n",
       "      <td>-124.084974</td>\n",
       "      <td>49.156897</td>\n",
       "      <td>223.692308</td>\n",
       "      <td>0.513846</td>\n",
       "      <td>93.256410</td>\n",
       "      <td>0.000000</td>\n",
       "      <td>1638.897436</td>\n",
       "      <td>18.382051</td>\n",
       "      <td>7.541667</td>\n",
       "      <td>2.600685</td>\n",
       "      <td>1.413956</td>\n",
       "      <td>47.564103</td>\n",
       "      <td>2.234615</td>\n",
       "      <td>0.585641</td>\n",
       "    </tr>\n",
       "    <tr>\n",
       "      <th>1</th>\n",
       "      <td>3</td>\n",
       "      <td>-123.830861</td>\n",
       "      <td>49.105247</td>\n",
       "      <td>230.846442</td>\n",
       "      <td>0.537303</td>\n",
       "      <td>140.674157</td>\n",
       "      <td>0.000000</td>\n",
       "      <td>165.359551</td>\n",
       "      <td>31.529738</td>\n",
       "      <td>42.714286</td>\n",
       "      <td>4.527149</td>\n",
       "      <td>2.559136</td>\n",
       "      <td>59.951311</td>\n",
       "      <td>2.792772</td>\n",
       "      <td>0.683970</td>\n",
       "    </tr>\n",
       "    <tr>\n",
       "      <th>2</th>\n",
       "      <td>4</td>\n",
       "      <td>-123.819860</td>\n",
       "      <td>49.035565</td>\n",
       "      <td>244.057441</td>\n",
       "      <td>0.519817</td>\n",
       "      <td>124.023499</td>\n",
       "      <td>0.000000</td>\n",
       "      <td>159.731070</td>\n",
       "      <td>27.591358</td>\n",
       "      <td>49.507389</td>\n",
       "      <td>4.737637</td>\n",
       "      <td>2.151057</td>\n",
       "      <td>61.497389</td>\n",
       "      <td>2.549282</td>\n",
       "      <td>0.620548</td>\n",
       "    </tr>\n",
       "    <tr>\n",
       "      <th>3</th>\n",
       "      <td>5</td>\n",
       "      <td>-123.889216</td>\n",
       "      <td>49.089176</td>\n",
       "      <td>250.592543</td>\n",
       "      <td>0.493356</td>\n",
       "      <td>113.472703</td>\n",
       "      <td>3.894807</td>\n",
       "      <td>149.249001</td>\n",
       "      <td>22.246458</td>\n",
       "      <td>113.620521</td>\n",
       "      <td>4.251441</td>\n",
       "      <td>2.437520</td>\n",
       "      <td>59.222370</td>\n",
       "      <td>2.596045</td>\n",
       "      <td>0.637856</td>\n",
       "    </tr>\n",
       "    <tr>\n",
       "      <th>4</th>\n",
       "      <td>6</td>\n",
       "      <td>-124.050126</td>\n",
       "      <td>49.218085</td>\n",
       "      <td>253.889503</td>\n",
       "      <td>0.519604</td>\n",
       "      <td>108.133517</td>\n",
       "      <td>1.611418</td>\n",
       "      <td>158.265193</td>\n",
       "      <td>22.245368</td>\n",
       "      <td>126.183420</td>\n",
       "      <td>3.410663</td>\n",
       "      <td>1.701640</td>\n",
       "      <td>52.976059</td>\n",
       "      <td>2.439392</td>\n",
       "      <td>0.617615</td>\n",
       "    </tr>\n",
       "    <tr>\n",
       "      <th>5</th>\n",
       "      <td>7</td>\n",
       "      <td>-123.913649</td>\n",
       "      <td>49.183195</td>\n",
       "      <td>239.632432</td>\n",
       "      <td>0.544432</td>\n",
       "      <td>142.156757</td>\n",
       "      <td>0.000000</td>\n",
       "      <td>169.091892</td>\n",
       "      <td>31.449622</td>\n",
       "      <td>185.542373</td>\n",
       "      <td>2.062061</td>\n",
       "      <td>0.870363</td>\n",
       "      <td>55.610811</td>\n",
       "      <td>2.552108</td>\n",
       "      <td>0.639135</td>\n",
       "    </tr>\n",
       "    <tr>\n",
       "      <th>6</th>\n",
       "      <td>8</td>\n",
       "      <td>-123.997026</td>\n",
       "      <td>49.121295</td>\n",
       "      <td>241.685897</td>\n",
       "      <td>0.542179</td>\n",
       "      <td>127.288462</td>\n",
       "      <td>0.000000</td>\n",
       "      <td>144.224359</td>\n",
       "      <td>29.843205</td>\n",
       "      <td>173.952830</td>\n",
       "      <td>2.200056</td>\n",
       "      <td>0.929791</td>\n",
       "      <td>50.974359</td>\n",
       "      <td>2.542051</td>\n",
       "      <td>0.647372</td>\n",
       "    </tr>\n",
       "    <tr>\n",
       "      <th>7</th>\n",
       "      <td>9</td>\n",
       "      <td>-124.106376</td>\n",
       "      <td>49.357174</td>\n",
       "      <td>237.935780</td>\n",
       "      <td>0.512385</td>\n",
       "      <td>222.018349</td>\n",
       "      <td>15.596330</td>\n",
       "      <td>267.440367</td>\n",
       "      <td>42.523670</td>\n",
       "      <td>106.513158</td>\n",
       "      <td>0.434084</td>\n",
       "      <td>0.509758</td>\n",
       "      <td>50.055046</td>\n",
       "      <td>2.434862</td>\n",
       "      <td>0.626972</td>\n",
       "    </tr>\n",
       "    <tr>\n",
       "      <th>8</th>\n",
       "      <td>10</td>\n",
       "      <td>-124.036310</td>\n",
       "      <td>49.249028</td>\n",
       "      <td>240.239437</td>\n",
       "      <td>0.545352</td>\n",
       "      <td>170.295775</td>\n",
       "      <td>0.000000</td>\n",
       "      <td>190.563380</td>\n",
       "      <td>37.396338</td>\n",
       "      <td>79.404255</td>\n",
       "      <td>1.517792</td>\n",
       "      <td>0.591005</td>\n",
       "      <td>47.492958</td>\n",
       "      <td>2.399859</td>\n",
       "      <td>0.625493</td>\n",
       "    </tr>\n",
       "  </tbody>\n",
       "</table>\n",
       "</div>"
      ],
      "text/plain": [
       "   month         lon        lat  Mesh_Size(um)  Net_Mouth_Dia(m)  DEPTH_STRT1  \\\n",
       "0      2 -124.084974  49.156897     223.692308          0.513846    93.256410   \n",
       "1      3 -123.830861  49.105247     230.846442          0.537303   140.674157   \n",
       "2      4 -123.819860  49.035565     244.057441          0.519817   124.023499   \n",
       "3      5 -123.889216  49.089176     250.592543          0.493356   113.472703   \n",
       "4      6 -124.050126  49.218085     253.889503          0.519604   108.133517   \n",
       "5      7 -123.913649  49.183195     239.632432          0.544432   142.156757   \n",
       "6      8 -123.997026  49.121295     241.685897          0.542179   127.288462   \n",
       "7      9 -124.106376  49.357174     237.935780          0.512385   222.018349   \n",
       "8     10 -124.036310  49.249028     240.239437          0.545352   170.295775   \n",
       "\n",
       "   DEPTH_END1  Bottom Depth(m)  Volume Filtered(m3)         CTD  \\\n",
       "0    0.000000      1638.897436            18.382051    7.541667   \n",
       "1    0.000000       165.359551            31.529738   42.714286   \n",
       "2    0.000000       159.731070            27.591358   49.507389   \n",
       "3    3.894807       149.249001            22.246458  113.620521   \n",
       "4    1.611418       158.265193            22.245368  126.183420   \n",
       "5    0.000000       169.091892            31.449622  185.542373   \n",
       "6    0.000000       144.224359            29.843205  173.952830   \n",
       "7   15.596330       267.440367            42.523670  106.513158   \n",
       "8    0.000000       190.563380            37.396338   79.404255   \n",
       "\n",
       "   Abundance(#/m3)  Biomass(mg/m3)  NumberOfSpecies  Station Diversity  \\\n",
       "0         2.600685        1.413956        47.564103           2.234615   \n",
       "1         4.527149        2.559136        59.951311           2.792772   \n",
       "2         4.737637        2.151057        61.497389           2.549282   \n",
       "3         4.251441        2.437520        59.222370           2.596045   \n",
       "4         3.410663        1.701640        52.976059           2.439392   \n",
       "5         2.062061        0.870363        55.610811           2.552108   \n",
       "6         2.200056        0.929791        50.974359           2.542051   \n",
       "7         0.434084        0.509758        50.055046           2.434862   \n",
       "8         1.517792        0.591005        47.492958           2.399859   \n",
       "\n",
       "   Station Equitability  \n",
       "0              0.585641  \n",
       "1              0.683970  \n",
       "2              0.620548  \n",
       "3              0.637856  \n",
       "4              0.617615  \n",
       "5              0.639135  \n",
       "6              0.647372  \n",
       "7              0.626972  \n",
       "8              0.625493  "
      ]
     },
     "execution_count": 217,
     "metadata": {},
     "output_type": "execute_result"
    }
   ],
   "source": [
    "meandeca"
   ]
  },
  {
   "cell_type": "code",
   "execution_count": 218,
   "metadata": {},
   "outputs": [],
   "source": [
    "yearsFmt = mdates.DateFormatter('%d %b')"
   ]
  },
  {
   "cell_type": "code",
   "execution_count": 219,
   "metadata": {},
   "outputs": [
    {
     "data": {
      "text/plain": [
       "Text(0.5, 1.0, 'Amphipods')"
      ]
     },
     "execution_count": 219,
     "metadata": {},
     "output_type": "execute_result"
    },
    {
     "data": {
      "image/png": "[encoded data removed]",
      "text/plain": [
       "<Figure size 1440x360 with 4 Axes>"
      ]
     },
     "metadata": {
      "needs_background": "light"
     },
     "output_type": "display_data"
    }
   ],
   "source": [
    "fig,ax=plt.subplots(1,4,figsize=(20,5))\n",
    "ax[0].plot(monthdeca['month'],monthdeca['Biomass(mg/m3)'],'r.')\n",
    "ax[1].plot(montheuph['month'],montheuph['Biomass(mg/m3)'],'r.')\n",
    "ax[2].plot(monthcala['month'],monthcala['Biomass(mg/m3)'],'r.')\n",
    "ax[3].plot(monthamph['month'],monthamph['Biomass(mg/m3)'],'r.')\n",
    "#ax[0].set_xlim((dt.datetime(2015,1,1),dt.datetime(2015,12,1)))\n",
    "#ax[1].set_xlim((dt.datetime(2015,1,1),dt.datetime(2015,12,1)))\n",
    "#ax[2].set_xlim((dt.datetime(2015,1,1),dt.datetime(2015,12,1)))\n",
    "#ax[3].set_xlim((dt.datetime(2015,1,1),dt.datetime(2015,12,1)))\n",
    "ax[0].set_ylim(0,5)\n",
    "ax[1].set_ylim(0,5)\n",
    "ax[2].set_ylim(0,5)\n",
    "ax[3].set_ylim(0,5)\n",
    "ax[0].set_ylabel('Biomass (mg/m3)')\n",
    "ax[1].set_ylabel('Biomass (mg/m3)')\n",
    "ax[2].set_ylabel('Biomass (mg/m3)')\n",
    "ax[3].set_ylabel('Biomass (mg/m3)')\n",
    "ax[0].set_title('Decapods')\n",
    "ax[1].set_title('Euphausiids')\n",
    "ax[2].set_title('Calanoids')\n",
    "ax[3].set_title('Amphipods')\n",
    "#ax[0].xaxis.set_major_locator(plt.MaxNLocator(4))\n",
    "#ax[1].xaxis.set_major_locator(plt.MaxNLocator(4))\n",
    "#ax[2].xaxis.set_major_locator(plt.MaxNLocator(4))\n",
    "#ax[3].xaxis.set_major_locator(plt.MaxNLocator(4))\n",
    "#ax[0].xaxis.set_major_formatter(yearsFmt)\n",
    "#ax[1].xaxis.set_major_formatter(yearsFmt)\n",
    "#ax[2].xaxis.set_major_formatter(yearsFmt)\n",
    "#ax[3].xaxis.set_major_formatter(yearsFmt)\n",
    "#ax.xaxis.set_ticks(np.arange(start, end, 2))\n",
    "#ax[0].set_yscale('log')\n",
    "#ax[1].set_yscale('log')\n",
    "#ax[2].set_yscale('log')\n",
    "#ax[3].set_yscale('log')"
   ]
  },
  {
   "cell_type": "code",
   "execution_count": 220,
   "metadata": {},
   "outputs": [
    {
     "data": {
      "text/plain": [
       "Text(0.5, 1.0, 'Amphipods')"
      ]
     },
     "execution_count": 220,
     "metadata": {},
     "output_type": "execute_result"
    },
    {
     "data": {
      "image/png": "[encoded data removed]",
      "text/plain": [
       "<Figure size 1440x360 with 4 Axes>"
      ]
     },
     "metadata": {
      "needs_background": "light"
     },
     "output_type": "display_data"
    }
   ],
   "source": [
    "fig,ax=plt.subplots(1,4,figsize=(20,5))\n",
    "ax[0].plot(regiondeca['month'],regiondeca['Biomass(mg/m3)'],'r.')\n",
    "ax[1].plot(regioneuph['month'],regioneuph['Biomass(mg/m3)'],'r.')\n",
    "ax[2].plot(regioncala['month'],regioncala['Biomass(mg/m3)'],'r.')\n",
    "ax[3].plot(regionamph['month'],regionamph['Biomass(mg/m3)'],'r.')\n",
    "#ax[0].set_xlim((dt.datetime(2015,1,1),dt.datetime(2015,12,1)))\n",
    "#ax[1].set_xlim((dt.datetime(2015,1,1),dt.datetime(2015,12,1)))\n",
    "#ax[2].set_xlim((dt.datetime(2015,1,1),dt.datetime(2015,12,1)))\n",
    "#ax[3].set_xlim((dt.datetime(2015,1,1),dt.datetime(2015,12,1)))\n",
    "ax[0].set_ylim(0,5)\n",
    "ax[1].set_ylim(0,5)\n",
    "ax[2].set_ylim(0,5)\n",
    "ax[3].set_ylim(0,5)\n",
    "ax[0].set_ylabel('Biomass (mg/m3)')\n",
    "ax[1].set_ylabel('Biomass (mg/m3)')\n",
    "ax[2].set_ylabel('Biomass (mg/m3)')\n",
    "ax[3].set_ylabel('Biomass (mg/m3)')\n",
    "ax[0].set_title('Decapods')\n",
    "ax[1].set_title('Euphausiids')\n",
    "ax[2].set_title('Calanoids')\n",
    "ax[3].set_title('Amphipods')"
   ]
  },
  {
   "cell_type": "code",
   "execution_count": 78,
   "metadata": {},
   "outputs": [
    {
     "data": {
      "text/plain": [
       "[<matplotlib.lines.Line2D at 0x7fdbfa7570a0>]"
      ]
     },
     "execution_count": 78,
     "metadata": {},
     "output_type": "execute_result"
    },
    {
     "data": {
      "image/png": "[encoded data removed]",
      "text/plain": [
       "<Figure size 864x360 with 1 Axes>"
      ]
     },
     "metadata": {
      "needs_background": "light"
     },
     "output_type": "display_data"
    }
   ],
   "source": [
    "fig,ax=plt.subplots(1,1,figsize=(12,5))\n",
    "ind=(df['dt']>=dt.datetime(2015,1,1))&(df['dt']<dt.datetime(2016,1,1))\n",
    "ax.plot(df.loc[ind,['dt']],df.loc[ind,['Biomass(mg/m3)']],'r.')\n",
    "#ax.set_yscale('log')"
   ]
  },
  {
   "cell_type": "code",
   "execution_count": 86,
   "metadata": {},
   "outputs": [
    {
     "data": {
      "text/plain": [
       "[<matplotlib.lines.Line2D at 0x7fdbfaaa72e0>]"
      ]
     },
     "execution_count": 86,
     "metadata": {},
     "output_type": "execute_result"
    },
    {
     "data": {
      "image/png": "[encoded data removed]",
      "text/plain": [
       "<Figure size 864x360 with 1 Axes>"
      ]
     },
     "metadata": {
      "needs_background": "light"
     },
     "output_type": "display_data"
    }
   ],
   "source": [
    "fig,ax=plt.subplots(1,1,figsize=(12,5))\n",
    "ind=(df['dt']>=dt.datetime(2015,1,1))&(df['dt']<dt.datetime(2016,1,1))\n",
    "ax.plot(df.loc[ind,['dt']],df.loc[ind,['Biomass(mg/m3)']],'r.')\n",
    "#ax.set_yscale('log')"
   ]
  },
  {
   "cell_type": "code",
   "execution_count": null,
   "metadata": {},
   "outputs": [],
   "source": [
    "fig,ax=plt.subplots(1,1,figsize=(12,5))\n",
    "ind=(df['dt']>=dt.datetime(2015,1,1))&(df['dt']<dt.datetime(2016,1,1))\n",
    "ax.plot(df.loc[ind,['dt']],df.loc[ind,['Abundance(#/m3)']],'b.')\n",
    "ax.set_ylim(0,5000)\n",
    "#ax.set_yscale('log')"
   ]
  },
  {
   "cell_type": "code",
   "execution_count": null,
   "metadata": {},
   "outputs": [],
   "source": [
    "fig,ax=plt.subplots(1,1,figsize=(12,5))\n",
    "ind=(df['dt']>=dt.datetime(2015,1,1))&(df['dt']<dt.datetime(2016,1,1))\n",
    "ax.plot(df.loc[ind,['dt']],df.loc[ind,['Bottom Depth(m)']],'b.')\n"
   ]
  },
  {
   "cell_type": "code",
   "execution_count": null,
   "metadata": {},
   "outputs": [],
   "source": []
  }
 ],
 "metadata": {
  "kernelspec": {
   "display_name": "Python (py39)",
   "language": "python",
   "name": "py39"
  },
  "language_info": {
   "codemirror_mode": {
    "name": "ipython",
    "version": 3
   },
   "file_extension": ".py",
   "mimetype": "text/x-python",
   "name": "python",
   "nbconvert_exporter": "python",
   "pygments_lexer": "ipython3",
   "version": "3.9.1"
  }
 },
 "nbformat": 4,
 "nbformat_minor": 4
}
