{
 "cells": [
  {
   "cell_type": "code",
   "execution_count": 1,
   "metadata": {},
   "outputs": [],
   "source": [
    "import netCDF4 as nc\n",
    "import datetime as dt\n",
    "import subprocess\n",
    "import requests\n",
    "import matplotlib.pyplot as plt\n",
    "import cmocean\n",
    "import numpy as np\n",
    "import os\n",
    "import glob\n",
    "import dateutil as dutil\n",
    "from salishsea_tools import viz_tools, places\n",
    "%matplotlib inline"
   ]
  },
  {
   "cell_type": "code",
   "execution_count": 2,
   "metadata": {},
   "outputs": [],
   "source": [
    "jS3,iS3=places.PLACES['S3']['NEMO grid ji']"
   ]
  },
  {
   "cell_type": "code",
   "execution_count": 3,
   "metadata": {},
   "outputs": [],
   "source": [
    "jSI,iSI=[343,198]"
   ]
  },
  {
   "cell_type": "code",
   "execution_count": 4,
   "metadata": {
    "collapsed": false,
    "jupyter": {
     "outputs_hidden": false
    }
   },
   "outputs": [],
   "source": [
    "with nc.Dataset('/ocean/eolson/MEOPAR/NEMO-forcing/grid/mesh_mask201702_noLPE.nc') as fm:\n",
    "    tmask=np.copy(fm.variables['tmask'])\n",
    "    umask=np.copy(fm.variables['umask'])\n",
    "    vmask=np.copy(fm.variables['vmask'])\n",
    "    navlon=np.copy(fm.variables['nav_lon'])\n",
    "    navlat=np.copy(fm.variables['nav_lat'])\n",
    "    dept=np.copy(fm.variables['gdept_1d'])\n",
    "    e3t_0=np.copy(fm.variables['e3t_0'])\n",
    "    e3u_0=np.copy(fm.variables['e3u_0'])\n",
    "    e3v_0=np.copy(fm.variables['e3v_0'])\n",
    "    e1t=np.copy(fm.variables['e1t'])\n",
    "    e2t=np.copy(fm.variables['e2t'])\n",
    "    e1v=np.copy(fm.variables['e1v'])\n",
    "    e2u=np.copy(fm.variables['e2u'])\n",
    "    A=fm.variables['e1t'][0,:,:]*fm.variables['e2t'][0,:,:]*tmask[0,0,:,:]"
   ]
  },
  {
   "cell_type": "code",
   "execution_count": null,
   "metadata": {},
   "outputs": [],
   "source": []
  },
  {
   "cell_type": "code",
   "execution_count": 5,
   "metadata": {},
   "outputs": [
    {
     "data": {
      "image/png": "[encoded data removed]",
      "text/plain": [
       "<Figure size 288x432 with 1 Axes>"
      ]
     },
     "metadata": {
      "needs_background": "light"
     },
     "output_type": "display_data"
    }
   ],
   "source": [
    "fig,ax=plt.subplots(1,1,figsize=(4,6))\n",
    "ax.pcolormesh(tmask[0,0,:,:])\n",
    "ax.plot(iS3,jS3,'r*')\n",
    "ax.plot(iSI,jSI,'r*')\n",
    "ax.set_aspect(1)"
   ]
  },
  {
   "cell_type": "code",
   "execution_count": 6,
   "metadata": {},
   "outputs": [
    {
     "name": "stdout",
     "output_type": "stream",
     "text": [
      "14\n",
      "15\n"
     ]
    }
   ],
   "source": [
    "jpkup=0\n",
    "for i in range(0,40):\n",
    "    if dept[0][i]<=15:\n",
    "        jpkup=i\n",
    "print(jpkup)\n",
    "jpkup=jpkup+1\n",
    "print(jpkup)"
   ]
  },
  {
   "cell_type": "code",
   "execution_count": 7,
   "metadata": {},
   "outputs": [
    {
     "name": "stdout",
     "output_type": "stream",
     "text": [
      "39\n",
      "40\n"
     ]
    }
   ],
   "source": [
    "jpkmid=0\n",
    "for i in range(0,40):\n",
    "    if dept[0][i]>=15<=50:\n",
    "        jpkmid=i\n",
    "print(jpkmid)\n",
    "jpkmid=jpkmid+1\n",
    "print(jpkmid)"
   ]
  },
  {
   "cell_type": "code",
   "execution_count": 8,
   "metadata": {},
   "outputs": [
    {
     "name": "stdout",
     "output_type": "stream",
     "text": [
      "39\n",
      "40\n"
     ]
    }
   ],
   "source": [
    "jpklo=0\n",
    "for i in range(0,40):\n",
    "    if dept[0][i]>=50<=100:\n",
    "        jpklo=i\n",
    "print(jpklo)\n",
    "jpklo=jpklo+1\n",
    "print(jpklo)"
   ]
  },
  {
   "cell_type": "code",
   "execution_count": 9,
   "metadata": {},
   "outputs": [],
   "source": [
    "koff=jpkup \n",
    "koff2=jpkmid\n",
    "koff3=jpklo"
   ]
  },
  {
   "cell_type": "code",
   "execution_count": 10,
   "metadata": {
    "collapsed": false,
    "jupyter": {
     "outputs_hidden": false
    }
   },
   "outputs": [],
   "source": [
    "t0=dt.datetime(2010,1,1) # 1st start date of run\n",
    "#te=dt.datetime(2011,12,31)# last start date of runfnum=18\n",
    "stm=np.shape(tmask)\n",
    "#nlen=36*2\n",
    "nlen=730\n",
    "dlist=[t0+dt.timedelta(days=ii) for ii in range(0,nlen)]"
   ]
  },
  {
   "cell_type": "code",
   "execution_count": 11,
   "metadata": {},
   "outputs": [],
   "source": [
    "#sdir0='/results/SalishSea/nowcast-green/'\n",
    "#sdir1='/results/SalishSea/hindcast/'\n",
    "#sdir3='/data/eolson/MEOPAR/SS36runs/CedarRuns/spring2015_HCMZ/'\n",
    "#sdir1='/results2/SalishSea/nowcast-green.201905/'\n",
    "sdir1='/results2/SalishSea/nowcast-green.201905/'"
   ]
  },
  {
   "cell_type": "code",
   "execution_count": 12,
   "metadata": {},
   "outputs": [],
   "source": [
    "tmaskC=np.copy(tmask)\n",
    "tmaskC[:,koff:,:,:]=0"
   ]
  },
  {
   "cell_type": "code",
   "execution_count": 13,
   "metadata": {},
   "outputs": [],
   "source": [
    "tmaskD=np.copy(tmask)\n",
    "tmaskD[:,koff2:,:,:]=0"
   ]
  },
  {
   "cell_type": "code",
   "execution_count": 14,
   "metadata": {},
   "outputs": [],
   "source": [
    "tmaskE=np.copy(tmask)\n",
    "tmaskE[:,koff3:,:,:]=0"
   ]
  },
  {
   "cell_type": "code",
   "execution_count": 15,
   "metadata": {
    "collapsed": false,
    "jupyter": {
     "outputs_hidden": false
    }
   },
   "outputs": [
    {
     "name": "stdout",
     "output_type": "stream",
     "text": [
      "/results2/SalishSea/nowcast-green.201905/01jan10/SalishSea_1d_20100101_20100101_ptrc_T.nc\n",
      "/results2/SalishSea/nowcast-green.201905/16jan10/SalishSea_1d_20100116_20100116_ptrc_T.nc\n",
      "/results2/SalishSea/nowcast-green.201905/31jan10/SalishSea_1d_20100131_20100131_ptrc_T.nc\n",
      "/results2/SalishSea/nowcast-green.201905/15feb10/SalishSea_1d_20100215_20100215_ptrc_T.nc\n",
      "/results2/SalishSea/nowcast-green.201905/02mar10/SalishSea_1d_20100302_20100302_ptrc_T.nc\n",
      "/results2/SalishSea/nowcast-green.201905/17mar10/SalishSea_1d_20100317_20100317_ptrc_T.nc\n",
      "/results2/SalishSea/nowcast-green.201905/01apr10/SalishSea_1d_20100401_20100401_ptrc_T.nc\n",
      "/results2/SalishSea/nowcast-green.201905/16apr10/SalishSea_1d_20100416_20100416_ptrc_T.nc\n",
      "/results2/SalishSea/nowcast-green.201905/01may10/SalishSea_1d_20100501_20100501_ptrc_T.nc\n",
      "/results2/SalishSea/nowcast-green.201905/16may10/SalishSea_1d_20100516_20100516_ptrc_T.nc\n",
      "/results2/SalishSea/nowcast-green.201905/31may10/SalishSea_1d_20100531_20100531_ptrc_T.nc\n",
      "/results2/SalishSea/nowcast-green.201905/15jun10/SalishSea_1d_20100615_20100615_ptrc_T.nc\n",
      "/results2/SalishSea/nowcast-green.201905/30jun10/SalishSea_1d_20100630_20100630_ptrc_T.nc\n",
      "/results2/SalishSea/nowcast-green.201905/15jul10/SalishSea_1d_20100715_20100715_ptrc_T.nc\n",
      "/results2/SalishSea/nowcast-green.201905/30jul10/SalishSea_1d_20100730_20100730_ptrc_T.nc\n",
      "/results2/SalishSea/nowcast-green.201905/14aug10/SalishSea_1d_20100814_20100814_ptrc_T.nc\n",
      "/results2/SalishSea/nowcast-green.201905/29aug10/SalishSea_1d_20100829_20100829_ptrc_T.nc\n",
      "/results2/SalishSea/nowcast-green.201905/13sep10/SalishSea_1d_20100913_20100913_ptrc_T.nc\n",
      "/results2/SalishSea/nowcast-green.201905/28sep10/SalishSea_1d_20100928_20100928_ptrc_T.nc\n",
      "/results2/SalishSea/nowcast-green.201905/13oct10/SalishSea_1d_20101013_20101013_ptrc_T.nc\n",
      "/results2/SalishSea/nowcast-green.201905/28oct10/SalishSea_1d_20101028_20101028_ptrc_T.nc\n",
      "/results2/SalishSea/nowcast-green.201905/12nov10/SalishSea_1d_20101112_20101112_ptrc_T.nc\n",
      "/results2/SalishSea/nowcast-green.201905/27nov10/SalishSea_1d_20101127_20101127_ptrc_T.nc\n",
      "/results2/SalishSea/nowcast-green.201905/12dec10/SalishSea_1d_20101212_20101212_ptrc_T.nc\n",
      "/results2/SalishSea/nowcast-green.201905/27dec10/SalishSea_1d_20101227_20101227_ptrc_T.nc\n",
      "/results2/SalishSea/nowcast-green.201905/11jan11/SalishSea_1d_20110111_20110111_ptrc_T.nc\n",
      "/results2/SalishSea/nowcast-green.201905/26jan11/SalishSea_1d_20110126_20110126_ptrc_T.nc\n",
      "/results2/SalishSea/nowcast-green.201905/10feb11/SalishSea_1d_20110210_20110210_ptrc_T.nc\n",
      "/results2/SalishSea/nowcast-green.201905/25feb11/SalishSea_1d_20110225_20110225_ptrc_T.nc\n",
      "/results2/SalishSea/nowcast-green.201905/12mar11/SalishSea_1d_20110312_20110312_ptrc_T.nc\n",
      "/results2/SalishSea/nowcast-green.201905/27mar11/SalishSea_1d_20110327_20110327_ptrc_T.nc\n",
      "/results2/SalishSea/nowcast-green.201905/11apr11/SalishSea_1d_20110411_20110411_ptrc_T.nc\n",
      "/results2/SalishSea/nowcast-green.201905/26apr11/SalishSea_1d_20110426_20110426_ptrc_T.nc\n",
      "/results2/SalishSea/nowcast-green.201905/11may11/SalishSea_1d_20110511_20110511_ptrc_T.nc\n",
      "/results2/SalishSea/nowcast-green.201905/26may11/SalishSea_1d_20110526_20110526_ptrc_T.nc\n",
      "/results2/SalishSea/nowcast-green.201905/10jun11/SalishSea_1d_20110610_20110610_ptrc_T.nc\n",
      "/results2/SalishSea/nowcast-green.201905/25jun11/SalishSea_1d_20110625_20110625_ptrc_T.nc\n",
      "/results2/SalishSea/nowcast-green.201905/10jul11/SalishSea_1d_20110710_20110710_ptrc_T.nc\n",
      "/results2/SalishSea/nowcast-green.201905/25jul11/SalishSea_1d_20110725_20110725_ptrc_T.nc\n",
      "/results2/SalishSea/nowcast-green.201905/09aug11/SalishSea_1d_20110809_20110809_ptrc_T.nc\n",
      "/results2/SalishSea/nowcast-green.201905/24aug11/SalishSea_1d_20110824_20110824_ptrc_T.nc\n",
      "/results2/SalishSea/nowcast-green.201905/08sep11/SalishSea_1d_20110908_20110908_ptrc_T.nc\n",
      "/results2/SalishSea/nowcast-green.201905/23sep11/SalishSea_1d_20110923_20110923_ptrc_T.nc\n",
      "/results2/SalishSea/nowcast-green.201905/08oct11/SalishSea_1d_20111008_20111008_ptrc_T.nc\n",
      "/results2/SalishSea/nowcast-green.201905/23oct11/SalishSea_1d_20111023_20111023_ptrc_T.nc\n",
      "/results2/SalishSea/nowcast-green.201905/07nov11/SalishSea_1d_20111107_20111107_ptrc_T.nc\n",
      "/results2/SalishSea/nowcast-green.201905/22nov11/SalishSea_1d_20111122_20111122_ptrc_T.nc\n",
      "/results2/SalishSea/nowcast-green.201905/07dec11/SalishSea_1d_20111207_20111207_ptrc_T.nc\n",
      "/results2/SalishSea/nowcast-green.201905/22dec11/SalishSea_1d_20111222_20111222_ptrc_T.nc\n"
     ]
    }
   ],
   "source": [
    "tlist=dlist\n",
    "idir=sdir1\n",
    "fformat1='%d%b%y/'\n",
    "fformatT='SalishSea_1d_%Y%m%d_%Y%m%d_ptrc_T.nc'\n",
    "fformatP='SalishSea_1d_%Y%m%d_%Y%m%d_carp_T.nc'\n",
    "meanMESZDS3up=np.zeros((len(tlist),))\n",
    "meanMESZDS3mid=np.zeros((len(tlist),))\n",
    "meanMESZDS3lo=np.zeros((len(tlist),))\n",
    "meanMESZDSIup=np.zeros((len(tlist),))\n",
    "meanMESZDSImid=np.zeros((len(tlist),))\n",
    "meanMESZDSIlo=np.zeros((len(tlist),))\n",
    "ind=-1\n",
    "for idt0 in tlist:\n",
    "    ind=ind+1\n",
    "    cdir=idt0.strftime(fformat1).lower()\n",
    "    iffT=idt0.strftime(fformatT)\n",
    "    iffP=idt0.strftime(fformatP)\n",
    "    sffT=idir+cdir+iffT\n",
    "    sffP=idir+cdir+iffP\n",
    "    f=nc.Dataset(glob.glob(sffT)[0])\n",
    "    if ind%15==0: print(sffT) \n",
    "    fP=nc.Dataset(glob.glob(sffP)[0])\n",
    "    #e3t=fP.variables['e3t'][:2,:,:,:]\n",
    "    Vol=A*e3t_0\n",
    "    meanMESZDS3up[ind]=np.sum(tmaskC[0,:,jS3,iS3]*Vol[0,:,jS3,iS3]*f.variables['diatoms'][0,:,jS3,iS3])/\\\n",
    "            np.sum(tmaskC[0,:,jS3,iS3]*Vol[0,:,jS3,iS3])#mmol/m3\n",
    "    meanMESZDS3mid[ind]=np.sum(tmaskD[0,:,jS3,iS3]*Vol[0,:,jS3,iS3]*f.variables['diatoms'][0,:,jS3,iS3])/\\\n",
    "            np.sum(tmaskD[0,:,jS3,iS3]*Vol[0,:,jS3,iS3])#mmol/m3\n",
    "    meanMESZDS3lo[ind]=np.sum(tmaskE[0,:,jS3,iS3]*Vol[0,:,jS3,iS3]*f.variables['diatoms'][0,:,jS3,iS3])/\\\n",
    "            np.sum(tmaskE[0,:,jS3,iS3]*Vol[0,:,jS3,iS3])#mmol/m3\n",
    "    meanMESZDSIup[ind]=np.sum(tmaskC[0,:,jSI,iSI]*Vol[0,:,jSI,iSI]*f.variables['diatoms'][0,:,jSI,iSI])/\\\n",
    "            np.sum(tmaskC[0,:,jSI,iSI]*Vol[0,:,jSI,iSI])#mmol/m3\n",
    "    meanMESZDSImid[ind]=np.sum(tmaskD[0,:,jSI,iSI]*Vol[0,:,jSI,iSI]*f.variables['diatoms'][0,:,jSI,iSI])/\\\n",
    "            np.sum(tmaskD[0,:,jSI,iSI]*Vol[0,:,jSI,iSI])#mmol/m3\n",
    "    meanMESZDSIlo[ind]=np.sum(tmaskE[0,:,jSI,iSI]*Vol[0,:,jSI,iSI]*f.variables['diatoms'][0,:,jSI,iSI])/\\\n",
    "            np.sum(tmaskE[0,:,jSI,iSI]*Vol[0,:,jSI,iSI])#mmol/m3\n",
    "\n",
    "    \n",
    "    f.close()\n",
    "    fP.close()"
   ]
  },
  {
   "cell_type": "code",
   "execution_count": 16,
   "metadata": {},
   "outputs": [
    {
     "name": "stdout",
     "output_type": "stream",
     "text": [
      "/results2/SalishSea/nowcast-green.201905/01jan10/SalishSea_1d_20100101_20100101_ptrc_T.nc\n",
      "/results2/SalishSea/nowcast-green.201905/16jan10/SalishSea_1d_20100116_20100116_ptrc_T.nc\n",
      "/results2/SalishSea/nowcast-green.201905/31jan10/SalishSea_1d_20100131_20100131_ptrc_T.nc\n",
      "/results2/SalishSea/nowcast-green.201905/15feb10/SalishSea_1d_20100215_20100215_ptrc_T.nc\n",
      "/results2/SalishSea/nowcast-green.201905/02mar10/SalishSea_1d_20100302_20100302_ptrc_T.nc\n",
      "/results2/SalishSea/nowcast-green.201905/17mar10/SalishSea_1d_20100317_20100317_ptrc_T.nc\n",
      "/results2/SalishSea/nowcast-green.201905/01apr10/SalishSea_1d_20100401_20100401_ptrc_T.nc\n",
      "/results2/SalishSea/nowcast-green.201905/16apr10/SalishSea_1d_20100416_20100416_ptrc_T.nc\n",
      "/results2/SalishSea/nowcast-green.201905/01may10/SalishSea_1d_20100501_20100501_ptrc_T.nc\n",
      "/results2/SalishSea/nowcast-green.201905/16may10/SalishSea_1d_20100516_20100516_ptrc_T.nc\n",
      "/results2/SalishSea/nowcast-green.201905/31may10/SalishSea_1d_20100531_20100531_ptrc_T.nc\n",
      "/results2/SalishSea/nowcast-green.201905/15jun10/SalishSea_1d_20100615_20100615_ptrc_T.nc\n",
      "/results2/SalishSea/nowcast-green.201905/30jun10/SalishSea_1d_20100630_20100630_ptrc_T.nc\n",
      "/results2/SalishSea/nowcast-green.201905/15jul10/SalishSea_1d_20100715_20100715_ptrc_T.nc\n",
      "/results2/SalishSea/nowcast-green.201905/30jul10/SalishSea_1d_20100730_20100730_ptrc_T.nc\n",
      "/results2/SalishSea/nowcast-green.201905/14aug10/SalishSea_1d_20100814_20100814_ptrc_T.nc\n",
      "/results2/SalishSea/nowcast-green.201905/29aug10/SalishSea_1d_20100829_20100829_ptrc_T.nc\n",
      "/results2/SalishSea/nowcast-green.201905/13sep10/SalishSea_1d_20100913_20100913_ptrc_T.nc\n",
      "/results2/SalishSea/nowcast-green.201905/28sep10/SalishSea_1d_20100928_20100928_ptrc_T.nc\n",
      "/results2/SalishSea/nowcast-green.201905/13oct10/SalishSea_1d_20101013_20101013_ptrc_T.nc\n",
      "/results2/SalishSea/nowcast-green.201905/28oct10/SalishSea_1d_20101028_20101028_ptrc_T.nc\n",
      "/results2/SalishSea/nowcast-green.201905/12nov10/SalishSea_1d_20101112_20101112_ptrc_T.nc\n",
      "/results2/SalishSea/nowcast-green.201905/27nov10/SalishSea_1d_20101127_20101127_ptrc_T.nc\n",
      "/results2/SalishSea/nowcast-green.201905/12dec10/SalishSea_1d_20101212_20101212_ptrc_T.nc\n",
      "/results2/SalishSea/nowcast-green.201905/27dec10/SalishSea_1d_20101227_20101227_ptrc_T.nc\n",
      "/results2/SalishSea/nowcast-green.201905/11jan11/SalishSea_1d_20110111_20110111_ptrc_T.nc\n",
      "/results2/SalishSea/nowcast-green.201905/26jan11/SalishSea_1d_20110126_20110126_ptrc_T.nc\n",
      "/results2/SalishSea/nowcast-green.201905/10feb11/SalishSea_1d_20110210_20110210_ptrc_T.nc\n",
      "/results2/SalishSea/nowcast-green.201905/25feb11/SalishSea_1d_20110225_20110225_ptrc_T.nc\n",
      "/results2/SalishSea/nowcast-green.201905/12mar11/SalishSea_1d_20110312_20110312_ptrc_T.nc\n",
      "/results2/SalishSea/nowcast-green.201905/27mar11/SalishSea_1d_20110327_20110327_ptrc_T.nc\n",
      "/results2/SalishSea/nowcast-green.201905/11apr11/SalishSea_1d_20110411_20110411_ptrc_T.nc\n",
      "/results2/SalishSea/nowcast-green.201905/26apr11/SalishSea_1d_20110426_20110426_ptrc_T.nc\n",
      "/results2/SalishSea/nowcast-green.201905/11may11/SalishSea_1d_20110511_20110511_ptrc_T.nc\n",
      "/results2/SalishSea/nowcast-green.201905/26may11/SalishSea_1d_20110526_20110526_ptrc_T.nc\n",
      "/results2/SalishSea/nowcast-green.201905/10jun11/SalishSea_1d_20110610_20110610_ptrc_T.nc\n",
      "/results2/SalishSea/nowcast-green.201905/25jun11/SalishSea_1d_20110625_20110625_ptrc_T.nc\n",
      "/results2/SalishSea/nowcast-green.201905/10jul11/SalishSea_1d_20110710_20110710_ptrc_T.nc\n",
      "/results2/SalishSea/nowcast-green.201905/25jul11/SalishSea_1d_20110725_20110725_ptrc_T.nc\n",
      "/results2/SalishSea/nowcast-green.201905/09aug11/SalishSea_1d_20110809_20110809_ptrc_T.nc\n",
      "/results2/SalishSea/nowcast-green.201905/24aug11/SalishSea_1d_20110824_20110824_ptrc_T.nc\n",
      "/results2/SalishSea/nowcast-green.201905/08sep11/SalishSea_1d_20110908_20110908_ptrc_T.nc\n",
      "/results2/SalishSea/nowcast-green.201905/23sep11/SalishSea_1d_20110923_20110923_ptrc_T.nc\n",
      "/results2/SalishSea/nowcast-green.201905/08oct11/SalishSea_1d_20111008_20111008_ptrc_T.nc\n",
      "/results2/SalishSea/nowcast-green.201905/23oct11/SalishSea_1d_20111023_20111023_ptrc_T.nc\n",
      "/results2/SalishSea/nowcast-green.201905/07nov11/SalishSea_1d_20111107_20111107_ptrc_T.nc\n",
      "/results2/SalishSea/nowcast-green.201905/22nov11/SalishSea_1d_20111122_20111122_ptrc_T.nc\n",
      "/results2/SalishSea/nowcast-green.201905/07dec11/SalishSea_1d_20111207_20111207_ptrc_T.nc\n",
      "/results2/SalishSea/nowcast-green.201905/22dec11/SalishSea_1d_20111222_20111222_ptrc_T.nc\n"
     ]
    }
   ],
   "source": [
    "tlist=dlist\n",
    "idir=sdir1\n",
    "fformat1='%d%b%y/'\n",
    "fformatT='SalishSea_1d_%Y%m%d_%Y%m%d_ptrc_T.nc'\n",
    "fformatP='SalishSea_1d_%Y%m%d_%Y%m%d_carp_T.nc'\n",
    "meanMESZFS3up=np.zeros((len(tlist),))\n",
    "meanMESZFS3mid=np.zeros((len(tlist),))\n",
    "meanMESZFS3lo=np.zeros((len(tlist),))\n",
    "meanMESZFSIup=np.zeros((len(tlist),))\n",
    "meanMESZFSImid=np.zeros((len(tlist),))\n",
    "meanMESZFSIlo=np.zeros((len(tlist),))\n",
    "ind=-1\n",
    "for idt0 in tlist:\n",
    "    ind=ind+1\n",
    "    cdir=idt0.strftime(fformat1).lower()\n",
    "    iffT=idt0.strftime(fformatT)\n",
    "    iffP=idt0.strftime(fformatP)\n",
    "    sffT=idir+cdir+iffT\n",
    "    sffP=idir+cdir+iffP\n",
    "    f=nc.Dataset(glob.glob(sffT)[0])\n",
    "    if ind%15==0: print(sffT) \n",
    "    fP=nc.Dataset(glob.glob(sffP)[0])\n",
    "    #e3t=fP.variables['e3t'][:2,:,:,:]\n",
    "    Vol=A*e3t_0\n",
    "    meanMESZFS3up[ind]=np.sum(tmaskC[0,:,jS3,iS3]*Vol[0,:,jS3,iS3]*f.variables['flagellates'][0,:,jS3,iS3])/\\\n",
    "            np.sum(tmaskC[0,:,jS3,iS3]*Vol[0,:,jS3,iS3])#mmol/m3\n",
    "    meanMESZFS3mid[ind]=np.sum(tmaskD[0,:,jS3,iS3]*Vol[0,:,jS3,iS3]*f.variables['flagellates'][0,:,jS3,iS3])/\\\n",
    "            np.sum(tmaskD[0,:,jS3,iS3]*Vol[0,:,jS3,iS3])#mmol/m3\n",
    "    meanMESZFS3lo[ind]=np.sum(tmaskE[0,:,jS3,iS3]*Vol[0,:,jS3,iS3]*f.variables['flagellates'][0,:,jS3,iS3])/\\\n",
    "            np.sum(tmaskE[0,:,jS3,iS3]*Vol[0,:,jS3,iS3])#mmol/m3\n",
    "    meanMESZFSIup[ind]=np.sum(tmaskC[0,:,jSI,iSI]*Vol[0,:,jSI,iSI]*f.variables['flagellates'][0,:,jSI,iSI])/\\\n",
    "            np.sum(tmaskC[0,:,jSI,iSI]*Vol[0,:,jSI,iSI])#mmol/m3\n",
    "    meanMESZFSImid[ind]=np.sum(tmaskD[0,:,jSI,iSI]*Vol[0,:,jSI,iSI]*f.variables['flagellates'][0,:,jSI,iSI])/\\\n",
    "            np.sum(tmaskD[0,:,jSI,iSI]*Vol[0,:,jSI,iSI])#mmol/m3\n",
    "    meanMESZFSIlo[ind]=np.sum(tmaskE[0,:,jSI,iSI]*Vol[0,:,jSI,iSI]*f.variables['flagellates'][0,:,jSI,iSI])/\\\n",
    "            np.sum(tmaskE[0,:,jSI,iSI]*Vol[0,:,jSI,iSI])#mmol/m3\n",
    "    \n",
    "    f.close()\n",
    "    fP.close()"
   ]
  },
  {
   "cell_type": "code",
   "execution_count": 17,
   "metadata": {},
   "outputs": [
    {
     "name": "stdout",
     "output_type": "stream",
     "text": [
      "/results2/SalishSea/nowcast-green.201905/01jan10/SalishSea_1d_20100101_20100101_ptrc_T.nc\n",
      "/results2/SalishSea/nowcast-green.201905/16jan10/SalishSea_1d_20100116_20100116_ptrc_T.nc\n",
      "/results2/SalishSea/nowcast-green.201905/31jan10/SalishSea_1d_20100131_20100131_ptrc_T.nc\n",
      "/results2/SalishSea/nowcast-green.201905/15feb10/SalishSea_1d_20100215_20100215_ptrc_T.nc\n",
      "/results2/SalishSea/nowcast-green.201905/02mar10/SalishSea_1d_20100302_20100302_ptrc_T.nc\n",
      "/results2/SalishSea/nowcast-green.201905/17mar10/SalishSea_1d_20100317_20100317_ptrc_T.nc\n",
      "/results2/SalishSea/nowcast-green.201905/01apr10/SalishSea_1d_20100401_20100401_ptrc_T.nc\n",
      "/results2/SalishSea/nowcast-green.201905/16apr10/SalishSea_1d_20100416_20100416_ptrc_T.nc\n",
      "/results2/SalishSea/nowcast-green.201905/01may10/SalishSea_1d_20100501_20100501_ptrc_T.nc\n",
      "/results2/SalishSea/nowcast-green.201905/16may10/SalishSea_1d_20100516_20100516_ptrc_T.nc\n",
      "/results2/SalishSea/nowcast-green.201905/31may10/SalishSea_1d_20100531_20100531_ptrc_T.nc\n",
      "/results2/SalishSea/nowcast-green.201905/15jun10/SalishSea_1d_20100615_20100615_ptrc_T.nc\n",
      "/results2/SalishSea/nowcast-green.201905/30jun10/SalishSea_1d_20100630_20100630_ptrc_T.nc\n",
      "/results2/SalishSea/nowcast-green.201905/15jul10/SalishSea_1d_20100715_20100715_ptrc_T.nc\n",
      "/results2/SalishSea/nowcast-green.201905/30jul10/SalishSea_1d_20100730_20100730_ptrc_T.nc\n",
      "/results2/SalishSea/nowcast-green.201905/14aug10/SalishSea_1d_20100814_20100814_ptrc_T.nc\n",
      "/results2/SalishSea/nowcast-green.201905/29aug10/SalishSea_1d_20100829_20100829_ptrc_T.nc\n",
      "/results2/SalishSea/nowcast-green.201905/13sep10/SalishSea_1d_20100913_20100913_ptrc_T.nc\n",
      "/results2/SalishSea/nowcast-green.201905/28sep10/SalishSea_1d_20100928_20100928_ptrc_T.nc\n",
      "/results2/SalishSea/nowcast-green.201905/13oct10/SalishSea_1d_20101013_20101013_ptrc_T.nc\n",
      "/results2/SalishSea/nowcast-green.201905/28oct10/SalishSea_1d_20101028_20101028_ptrc_T.nc\n",
      "/results2/SalishSea/nowcast-green.201905/12nov10/SalishSea_1d_20101112_20101112_ptrc_T.nc\n",
      "/results2/SalishSea/nowcast-green.201905/27nov10/SalishSea_1d_20101127_20101127_ptrc_T.nc\n",
      "/results2/SalishSea/nowcast-green.201905/12dec10/SalishSea_1d_20101212_20101212_ptrc_T.nc\n",
      "/results2/SalishSea/nowcast-green.201905/27dec10/SalishSea_1d_20101227_20101227_ptrc_T.nc\n",
      "/results2/SalishSea/nowcast-green.201905/11jan11/SalishSea_1d_20110111_20110111_ptrc_T.nc\n",
      "/results2/SalishSea/nowcast-green.201905/26jan11/SalishSea_1d_20110126_20110126_ptrc_T.nc\n",
      "/results2/SalishSea/nowcast-green.201905/10feb11/SalishSea_1d_20110210_20110210_ptrc_T.nc\n",
      "/results2/SalishSea/nowcast-green.201905/25feb11/SalishSea_1d_20110225_20110225_ptrc_T.nc\n",
      "/results2/SalishSea/nowcast-green.201905/12mar11/SalishSea_1d_20110312_20110312_ptrc_T.nc\n",
      "/results2/SalishSea/nowcast-green.201905/27mar11/SalishSea_1d_20110327_20110327_ptrc_T.nc\n",
      "/results2/SalishSea/nowcast-green.201905/11apr11/SalishSea_1d_20110411_20110411_ptrc_T.nc\n",
      "/results2/SalishSea/nowcast-green.201905/26apr11/SalishSea_1d_20110426_20110426_ptrc_T.nc\n",
      "/results2/SalishSea/nowcast-green.201905/11may11/SalishSea_1d_20110511_20110511_ptrc_T.nc\n",
      "/results2/SalishSea/nowcast-green.201905/26may11/SalishSea_1d_20110526_20110526_ptrc_T.nc\n",
      "/results2/SalishSea/nowcast-green.201905/10jun11/SalishSea_1d_20110610_20110610_ptrc_T.nc\n",
      "/results2/SalishSea/nowcast-green.201905/25jun11/SalishSea_1d_20110625_20110625_ptrc_T.nc\n",
      "/results2/SalishSea/nowcast-green.201905/10jul11/SalishSea_1d_20110710_20110710_ptrc_T.nc\n",
      "/results2/SalishSea/nowcast-green.201905/25jul11/SalishSea_1d_20110725_20110725_ptrc_T.nc\n",
      "/results2/SalishSea/nowcast-green.201905/09aug11/SalishSea_1d_20110809_20110809_ptrc_T.nc\n",
      "/results2/SalishSea/nowcast-green.201905/24aug11/SalishSea_1d_20110824_20110824_ptrc_T.nc\n",
      "/results2/SalishSea/nowcast-green.201905/08sep11/SalishSea_1d_20110908_20110908_ptrc_T.nc\n",
      "/results2/SalishSea/nowcast-green.201905/23sep11/SalishSea_1d_20110923_20110923_ptrc_T.nc\n",
      "/results2/SalishSea/nowcast-green.201905/08oct11/SalishSea_1d_20111008_20111008_ptrc_T.nc\n",
      "/results2/SalishSea/nowcast-green.201905/23oct11/SalishSea_1d_20111023_20111023_ptrc_T.nc\n",
      "/results2/SalishSea/nowcast-green.201905/07nov11/SalishSea_1d_20111107_20111107_ptrc_T.nc\n",
      "/results2/SalishSea/nowcast-green.201905/22nov11/SalishSea_1d_20111122_20111122_ptrc_T.nc\n",
      "/results2/SalishSea/nowcast-green.201905/07dec11/SalishSea_1d_20111207_20111207_ptrc_T.nc\n",
      "/results2/SalishSea/nowcast-green.201905/22dec11/SalishSea_1d_20111222_20111222_ptrc_T.nc\n"
     ]
    }
   ],
   "source": [
    "tlist=dlist\n",
    "idir=sdir1\n",
    "fformat1='%d%b%y/'\n",
    "fformatT='SalishSea_1d_%Y%m%d_%Y%m%d_ptrc_T.nc'\n",
    "fformatP='SalishSea_1d_%Y%m%d_%Y%m%d_carp_T.nc'\n",
    "meanMESZMS3up=np.zeros((len(tlist),))\n",
    "meanMESZMS3mid=np.zeros((len(tlist),))\n",
    "meanMESZMS3lo=np.zeros((len(tlist),))\n",
    "meanMESZMSIup=np.zeros((len(tlist),))\n",
    "meanMESZMSImid=np.zeros((len(tlist),))\n",
    "meanMESZMSIlo=np.zeros((len(tlist),))\n",
    "ind=-1\n",
    "for idt0 in tlist:\n",
    "    ind=ind+1\n",
    "    cdir=idt0.strftime(fformat1).lower()\n",
    "    iffT=idt0.strftime(fformatT)\n",
    "    iffP=idt0.strftime(fformatP)\n",
    "    sffT=idir+cdir+iffT\n",
    "    sffP=idir+cdir+iffP\n",
    "    f=nc.Dataset(glob.glob(sffT)[0])\n",
    "    if ind%15==0: print(sffT) \n",
    "    fP=nc.Dataset(glob.glob(sffP)[0])\n",
    "    #e3t=fP.variables['e3t'][:2,:,:,:]\n",
    "    Vol=A*e3t_0\n",
    "    meanMESZMS3up[ind]=np.sum(tmaskC[0,:,jS3,iS3]*Vol[0,:,jS3,iS3]*f.variables['microzooplankton'][0,:,jS3,iS3])/\\\n",
    "            np.sum(tmaskC[0,:,jS3,iS3]*Vol[0,:,jS3,iS3])#mmol/m3\n",
    "    meanMESZMS3mid[ind]=np.sum(tmaskD[0,:,jS3,iS3]*Vol[0,:,jS3,iS3]*f.variables['microzooplankton'][0,:,jS3,iS3])/\\\n",
    "            np.sum(tmaskD[0,:,jS3,iS3]*Vol[0,:,jS3,iS3])#mmol/m3\n",
    "    meanMESZMS3lo[ind]=np.sum(tmaskE[0,:,jS3,iS3]*Vol[0,:,jS3,iS3]*f.variables['microzooplankton'][0,:,jS3,iS3])/\\\n",
    "            np.sum(tmaskE[0,:,jS3,iS3]*Vol[0,:,jS3,iS3])#mmol/m3\n",
    "    meanMESZMSIup[ind]=np.sum(tmaskC[0,:,jSI,iSI]*Vol[0,:,jSI,iSI]*f.variables['microzooplankton'][0,:,jSI,iSI])/\\\n",
    "            np.sum(tmaskC[0,:,jSI,iSI]*Vol[0,:,jSI,iSI])#mmol/m3\n",
    "    meanMESZMSImid[ind]=np.sum(tmaskD[0,:,jSI,iSI]*Vol[0,:,jSI,iSI]*f.variables['microzooplankton'][0,:,jSI,iSI])/\\\n",
    "            np.sum(tmaskD[0,:,jSI,iSI]*Vol[0,:,jSI,iSI])#mmol/m3\n",
    "    meanMESZMSIlo[ind]=np.sum(tmaskE[0,:,jSI,iSI]*Vol[0,:,jSI,iSI]*f.variables['microzooplankton'][0,:,jSI,iSI])/\\\n",
    "            np.sum(tmaskE[0,:,jSI,iSI]*Vol[0,:,jSI,iSI])#mmol/m3\n",
    "    \n",
    "    f.close()\n",
    "    fP.close()"
   ]
  },
  {
   "cell_type": "code",
   "execution_count": 18,
   "metadata": {},
   "outputs": [
    {
     "name": "stdout",
     "output_type": "stream",
     "text": [
      "/results2/SalishSea/nowcast-green.201905/01jan10/SalishSea_1d_20100101_20100101_ptrc_T.nc\n",
      "/results2/SalishSea/nowcast-green.201905/16jan10/SalishSea_1d_20100116_20100116_ptrc_T.nc\n",
      "/results2/SalishSea/nowcast-green.201905/31jan10/SalishSea_1d_20100131_20100131_ptrc_T.nc\n",
      "/results2/SalishSea/nowcast-green.201905/15feb10/SalishSea_1d_20100215_20100215_ptrc_T.nc\n",
      "/results2/SalishSea/nowcast-green.201905/02mar10/SalishSea_1d_20100302_20100302_ptrc_T.nc\n",
      "/results2/SalishSea/nowcast-green.201905/17mar10/SalishSea_1d_20100317_20100317_ptrc_T.nc\n",
      "/results2/SalishSea/nowcast-green.201905/01apr10/SalishSea_1d_20100401_20100401_ptrc_T.nc\n",
      "/results2/SalishSea/nowcast-green.201905/16apr10/SalishSea_1d_20100416_20100416_ptrc_T.nc\n",
      "/results2/SalishSea/nowcast-green.201905/01may10/SalishSea_1d_20100501_20100501_ptrc_T.nc\n",
      "/results2/SalishSea/nowcast-green.201905/16may10/SalishSea_1d_20100516_20100516_ptrc_T.nc\n",
      "/results2/SalishSea/nowcast-green.201905/31may10/SalishSea_1d_20100531_20100531_ptrc_T.nc\n",
      "/results2/SalishSea/nowcast-green.201905/15jun10/SalishSea_1d_20100615_20100615_ptrc_T.nc\n",
      "/results2/SalishSea/nowcast-green.201905/30jun10/SalishSea_1d_20100630_20100630_ptrc_T.nc\n",
      "/results2/SalishSea/nowcast-green.201905/15jul10/SalishSea_1d_20100715_20100715_ptrc_T.nc\n",
      "/results2/SalishSea/nowcast-green.201905/30jul10/SalishSea_1d_20100730_20100730_ptrc_T.nc\n",
      "/results2/SalishSea/nowcast-green.201905/14aug10/SalishSea_1d_20100814_20100814_ptrc_T.nc\n",
      "/results2/SalishSea/nowcast-green.201905/29aug10/SalishSea_1d_20100829_20100829_ptrc_T.nc\n",
      "/results2/SalishSea/nowcast-green.201905/13sep10/SalishSea_1d_20100913_20100913_ptrc_T.nc\n",
      "/results2/SalishSea/nowcast-green.201905/28sep10/SalishSea_1d_20100928_20100928_ptrc_T.nc\n",
      "/results2/SalishSea/nowcast-green.201905/13oct10/SalishSea_1d_20101013_20101013_ptrc_T.nc\n",
      "/results2/SalishSea/nowcast-green.201905/28oct10/SalishSea_1d_20101028_20101028_ptrc_T.nc\n",
      "/results2/SalishSea/nowcast-green.201905/12nov10/SalishSea_1d_20101112_20101112_ptrc_T.nc\n",
      "/results2/SalishSea/nowcast-green.201905/27nov10/SalishSea_1d_20101127_20101127_ptrc_T.nc\n",
      "/results2/SalishSea/nowcast-green.201905/12dec10/SalishSea_1d_20101212_20101212_ptrc_T.nc\n",
      "/results2/SalishSea/nowcast-green.201905/27dec10/SalishSea_1d_20101227_20101227_ptrc_T.nc\n",
      "/results2/SalishSea/nowcast-green.201905/11jan11/SalishSea_1d_20110111_20110111_ptrc_T.nc\n",
      "/results2/SalishSea/nowcast-green.201905/26jan11/SalishSea_1d_20110126_20110126_ptrc_T.nc\n",
      "/results2/SalishSea/nowcast-green.201905/10feb11/SalishSea_1d_20110210_20110210_ptrc_T.nc\n",
      "/results2/SalishSea/nowcast-green.201905/25feb11/SalishSea_1d_20110225_20110225_ptrc_T.nc\n",
      "/results2/SalishSea/nowcast-green.201905/12mar11/SalishSea_1d_20110312_20110312_ptrc_T.nc\n",
      "/results2/SalishSea/nowcast-green.201905/27mar11/SalishSea_1d_20110327_20110327_ptrc_T.nc\n",
      "/results2/SalishSea/nowcast-green.201905/11apr11/SalishSea_1d_20110411_20110411_ptrc_T.nc\n",
      "/results2/SalishSea/nowcast-green.201905/26apr11/SalishSea_1d_20110426_20110426_ptrc_T.nc\n",
      "/results2/SalishSea/nowcast-green.201905/11may11/SalishSea_1d_20110511_20110511_ptrc_T.nc\n",
      "/results2/SalishSea/nowcast-green.201905/26may11/SalishSea_1d_20110526_20110526_ptrc_T.nc\n",
      "/results2/SalishSea/nowcast-green.201905/10jun11/SalishSea_1d_20110610_20110610_ptrc_T.nc\n",
      "/results2/SalishSea/nowcast-green.201905/25jun11/SalishSea_1d_20110625_20110625_ptrc_T.nc\n",
      "/results2/SalishSea/nowcast-green.201905/10jul11/SalishSea_1d_20110710_20110710_ptrc_T.nc\n",
      "/results2/SalishSea/nowcast-green.201905/25jul11/SalishSea_1d_20110725_20110725_ptrc_T.nc\n",
      "/results2/SalishSea/nowcast-green.201905/09aug11/SalishSea_1d_20110809_20110809_ptrc_T.nc\n",
      "/results2/SalishSea/nowcast-green.201905/24aug11/SalishSea_1d_20110824_20110824_ptrc_T.nc\n",
      "/results2/SalishSea/nowcast-green.201905/08sep11/SalishSea_1d_20110908_20110908_ptrc_T.nc\n",
      "/results2/SalishSea/nowcast-green.201905/23sep11/SalishSea_1d_20110923_20110923_ptrc_T.nc\n",
      "/results2/SalishSea/nowcast-green.201905/08oct11/SalishSea_1d_20111008_20111008_ptrc_T.nc\n",
      "/results2/SalishSea/nowcast-green.201905/23oct11/SalishSea_1d_20111023_20111023_ptrc_T.nc\n",
      "/results2/SalishSea/nowcast-green.201905/07nov11/SalishSea_1d_20111107_20111107_ptrc_T.nc\n",
      "/results2/SalishSea/nowcast-green.201905/22nov11/SalishSea_1d_20111122_20111122_ptrc_T.nc\n",
      "/results2/SalishSea/nowcast-green.201905/07dec11/SalishSea_1d_20111207_20111207_ptrc_T.nc\n",
      "/results2/SalishSea/nowcast-green.201905/22dec11/SalishSea_1d_20111222_20111222_ptrc_T.nc\n"
     ]
    }
   ],
   "source": [
    "tlist=dlist\n",
    "idir=sdir1\n",
    "fformat1='%d%b%y/'\n",
    "fformatT='SalishSea_1d_%Y%m%d_%Y%m%d_ptrc_T.nc'\n",
    "fformatP='SalishSea_1d_%Y%m%d_%Y%m%d_carp_T.nc'\n",
    "meanMESZCS3up=np.zeros((len(tlist),))\n",
    "meanMESZCS3mid=np.zeros((len(tlist),))\n",
    "meanMESZCS3lo=np.zeros((len(tlist),))\n",
    "meanMESZCSIup=np.zeros((len(tlist),))\n",
    "meanMESZCSImid=np.zeros((len(tlist),))\n",
    "meanMESZCSIlo=np.zeros((len(tlist),))\n",
    "ind=-1\n",
    "for idt0 in tlist:\n",
    "    ind=ind+1\n",
    "    cdir=idt0.strftime(fformat1).lower()\n",
    "    iffT=idt0.strftime(fformatT)\n",
    "    iffP=idt0.strftime(fformatP)\n",
    "    sffT=idir+cdir+iffT\n",
    "    sffP=idir+cdir+iffP\n",
    "    f=nc.Dataset(glob.glob(sffT)[0])\n",
    "    if ind%15==0: print(sffT) \n",
    "    fP=nc.Dataset(glob.glob(sffP)[0])\n",
    "    #e3t=fP.variables['e3t'][:2,:,:,:]\n",
    "    Vol=A*e3t_0\n",
    "    meanMESZCS3up[ind]=np.sum(tmaskC[0,:,jS3,iS3]*Vol[0,:,jS3,iS3]*f.variables['ciliates'][0,:,jS3,iS3])/\\\n",
    "            np.sum(tmaskC[0,:,jS3,iS3]*Vol[0,:,jS3,iS3])#mmol/m3\n",
    "    meanMESZCS3mid[ind]=np.sum(tmaskD[0,:,jS3,iS3]*Vol[0,:,jS3,iS3]*f.variables['ciliates'][0,:,jS3,iS3])/\\\n",
    "            np.sum(tmaskD[0,:,jS3,iS3]*Vol[0,:,jS3,iS3])#mmol/m3\n",
    "    meanMESZCS3lo[ind]=np.sum(tmaskE[0,:,jS3,iS3]*Vol[0,:,jS3,iS3]*f.variables['ciliates'][0,:,jS3,iS3])/\\\n",
    "            np.sum(tmaskE[0,:,jS3,iS3]*Vol[0,:,jS3,iS3])#mmol/m3\n",
    "    meanMESZCSIup[ind]=np.sum(tmaskC[0,:,jSI,iSI]*Vol[0,:,jSI,iSI]*f.variables['ciliates'][0,:,jSI,iSI])/\\\n",
    "            np.sum(tmaskC[0,:,jSI,iSI]*Vol[0,:,jSI,iSI])#mmol/m3\n",
    "    meanMESZCSImid[ind]=np.sum(tmaskD[0,:,jSI,iSI]*Vol[0,:,jSI,iSI]*f.variables['ciliates'][0,:,jSI,iSI])/\\\n",
    "            np.sum(tmaskD[0,:,jSI,iSI]*Vol[0,:,jSI,iSI])#mmol/m3\n",
    "    meanMESZCSIlo[ind]=np.sum(tmaskE[0,:,jSI,iSI]*Vol[0,:,jSI,iSI]*f.variables['ciliates'][0,:,jSI,iSI])/\\\n",
    "            np.sum(tmaskE[0,:,jSI,iSI]*Vol[0,:,jSI,iSI])#mmol/m3\n",
    "    \n",
    "    f.close()\n",
    "    fP.close()"
   ]
  },
  {
   "cell_type": "code",
   "execution_count": 19,
   "metadata": {},
   "outputs": [
    {
     "name": "stdout",
     "output_type": "stream",
     "text": [
      "/results2/SalishSea/nowcast-green.201905/01jan10/SalishSea_1d_20100101_20100101_ptrc_T.nc\n",
      "/results2/SalishSea/nowcast-green.201905/16jan10/SalishSea_1d_20100116_20100116_ptrc_T.nc\n",
      "/results2/SalishSea/nowcast-green.201905/31jan10/SalishSea_1d_20100131_20100131_ptrc_T.nc\n",
      "/results2/SalishSea/nowcast-green.201905/15feb10/SalishSea_1d_20100215_20100215_ptrc_T.nc\n",
      "/results2/SalishSea/nowcast-green.201905/02mar10/SalishSea_1d_20100302_20100302_ptrc_T.nc\n",
      "/results2/SalishSea/nowcast-green.201905/17mar10/SalishSea_1d_20100317_20100317_ptrc_T.nc\n",
      "/results2/SalishSea/nowcast-green.201905/01apr10/SalishSea_1d_20100401_20100401_ptrc_T.nc\n",
      "/results2/SalishSea/nowcast-green.201905/16apr10/SalishSea_1d_20100416_20100416_ptrc_T.nc\n",
      "/results2/SalishSea/nowcast-green.201905/01may10/SalishSea_1d_20100501_20100501_ptrc_T.nc\n",
      "/results2/SalishSea/nowcast-green.201905/16may10/SalishSea_1d_20100516_20100516_ptrc_T.nc\n",
      "/results2/SalishSea/nowcast-green.201905/31may10/SalishSea_1d_20100531_20100531_ptrc_T.nc\n",
      "/results2/SalishSea/nowcast-green.201905/15jun10/SalishSea_1d_20100615_20100615_ptrc_T.nc\n",
      "/results2/SalishSea/nowcast-green.201905/30jun10/SalishSea_1d_20100630_20100630_ptrc_T.nc\n",
      "/results2/SalishSea/nowcast-green.201905/15jul10/SalishSea_1d_20100715_20100715_ptrc_T.nc\n",
      "/results2/SalishSea/nowcast-green.201905/30jul10/SalishSea_1d_20100730_20100730_ptrc_T.nc\n",
      "/results2/SalishSea/nowcast-green.201905/14aug10/SalishSea_1d_20100814_20100814_ptrc_T.nc\n",
      "/results2/SalishSea/nowcast-green.201905/29aug10/SalishSea_1d_20100829_20100829_ptrc_T.nc\n",
      "/results2/SalishSea/nowcast-green.201905/13sep10/SalishSea_1d_20100913_20100913_ptrc_T.nc\n",
      "/results2/SalishSea/nowcast-green.201905/28sep10/SalishSea_1d_20100928_20100928_ptrc_T.nc\n",
      "/results2/SalishSea/nowcast-green.201905/13oct10/SalishSea_1d_20101013_20101013_ptrc_T.nc\n",
      "/results2/SalishSea/nowcast-green.201905/28oct10/SalishSea_1d_20101028_20101028_ptrc_T.nc\n",
      "/results2/SalishSea/nowcast-green.201905/12nov10/SalishSea_1d_20101112_20101112_ptrc_T.nc\n",
      "/results2/SalishSea/nowcast-green.201905/27nov10/SalishSea_1d_20101127_20101127_ptrc_T.nc\n",
      "/results2/SalishSea/nowcast-green.201905/12dec10/SalishSea_1d_20101212_20101212_ptrc_T.nc\n",
      "/results2/SalishSea/nowcast-green.201905/27dec10/SalishSea_1d_20101227_20101227_ptrc_T.nc\n",
      "/results2/SalishSea/nowcast-green.201905/11jan11/SalishSea_1d_20110111_20110111_ptrc_T.nc\n",
      "/results2/SalishSea/nowcast-green.201905/26jan11/SalishSea_1d_20110126_20110126_ptrc_T.nc\n",
      "/results2/SalishSea/nowcast-green.201905/10feb11/SalishSea_1d_20110210_20110210_ptrc_T.nc\n",
      "/results2/SalishSea/nowcast-green.201905/25feb11/SalishSea_1d_20110225_20110225_ptrc_T.nc\n",
      "/results2/SalishSea/nowcast-green.201905/12mar11/SalishSea_1d_20110312_20110312_ptrc_T.nc\n",
      "/results2/SalishSea/nowcast-green.201905/27mar11/SalishSea_1d_20110327_20110327_ptrc_T.nc\n",
      "/results2/SalishSea/nowcast-green.201905/11apr11/SalishSea_1d_20110411_20110411_ptrc_T.nc\n",
      "/results2/SalishSea/nowcast-green.201905/26apr11/SalishSea_1d_20110426_20110426_ptrc_T.nc\n",
      "/results2/SalishSea/nowcast-green.201905/11may11/SalishSea_1d_20110511_20110511_ptrc_T.nc\n",
      "/results2/SalishSea/nowcast-green.201905/26may11/SalishSea_1d_20110526_20110526_ptrc_T.nc\n",
      "/results2/SalishSea/nowcast-green.201905/10jun11/SalishSea_1d_20110610_20110610_ptrc_T.nc\n",
      "/results2/SalishSea/nowcast-green.201905/25jun11/SalishSea_1d_20110625_20110625_ptrc_T.nc\n",
      "/results2/SalishSea/nowcast-green.201905/10jul11/SalishSea_1d_20110710_20110710_ptrc_T.nc\n",
      "/results2/SalishSea/nowcast-green.201905/25jul11/SalishSea_1d_20110725_20110725_ptrc_T.nc\n",
      "/results2/SalishSea/nowcast-green.201905/09aug11/SalishSea_1d_20110809_20110809_ptrc_T.nc\n",
      "/results2/SalishSea/nowcast-green.201905/24aug11/SalishSea_1d_20110824_20110824_ptrc_T.nc\n",
      "/results2/SalishSea/nowcast-green.201905/08sep11/SalishSea_1d_20110908_20110908_ptrc_T.nc\n",
      "/results2/SalishSea/nowcast-green.201905/23sep11/SalishSea_1d_20110923_20110923_ptrc_T.nc\n",
      "/results2/SalishSea/nowcast-green.201905/08oct11/SalishSea_1d_20111008_20111008_ptrc_T.nc\n",
      "/results2/SalishSea/nowcast-green.201905/23oct11/SalishSea_1d_20111023_20111023_ptrc_T.nc\n",
      "/results2/SalishSea/nowcast-green.201905/07nov11/SalishSea_1d_20111107_20111107_ptrc_T.nc\n",
      "/results2/SalishSea/nowcast-green.201905/22nov11/SalishSea_1d_20111122_20111122_ptrc_T.nc\n",
      "/results2/SalishSea/nowcast-green.201905/07dec11/SalishSea_1d_20111207_20111207_ptrc_T.nc\n",
      "/results2/SalishSea/nowcast-green.201905/22dec11/SalishSea_1d_20111222_20111222_ptrc_T.nc\n"
     ]
    }
   ],
   "source": [
    "tlist=dlist\n",
    "idir=sdir1\n",
    "fformat1='%d%b%y/'\n",
    "fformatT='SalishSea_1d_%Y%m%d_%Y%m%d_ptrc_T.nc'\n",
    "fformatP='SalishSea_1d_%Y%m%d_%Y%m%d_carp_T.nc'\n",
    "meanMESZPS3up=np.zeros((len(tlist),))\n",
    "meanMESZPS3mid=np.zeros((len(tlist),))\n",
    "meanMESZPS3lo=np.zeros((len(tlist),))\n",
    "meanMESZPSIup=np.zeros((len(tlist),))\n",
    "meanMESZPSImid=np.zeros((len(tlist),))\n",
    "meanMESZPSIlo=np.zeros((len(tlist),))\n",
    "ind=-1\n",
    "for idt0 in tlist:\n",
    "    ind=ind+1\n",
    "    cdir=idt0.strftime(fformat1).lower()\n",
    "    iffT=idt0.strftime(fformatT)\n",
    "    iffP=idt0.strftime(fformatP)\n",
    "    sffT=idir+cdir+iffT\n",
    "    sffP=idir+cdir+iffP\n",
    "    f=nc.Dataset(glob.glob(sffT)[0])\n",
    "    if ind%15==0: print(sffT) \n",
    "    fP=nc.Dataset(glob.glob(sffP)[0])\n",
    "    #e3t=fP.variables['e3t'][:2,:,:,:]\n",
    "    Vol=A*e3t_0\n",
    "    meanMESZPS3up[ind]=np.sum(tmaskC[0,:,jS3,iS3]*Vol[0,:,jS3,iS3]*f.variables['particulate_organic_nitrogen'][0,:,jS3,iS3])/\\\n",
    "            np.sum(tmaskC[0,:,jS3,iS3]*Vol[0,:,jS3,iS3])#mmol/m3\n",
    "    meanMESZPS3mid[ind]=np.sum(tmaskD[0,:,jS3,iS3]*Vol[0,:,jS3,iS3]*f.variables['particulate_organic_nitrogen'][0,:,jS3,iS3])/\\\n",
    "            np.sum(tmaskD[0,:,jS3,iS3]*Vol[0,:,jS3,iS3])#mmol/m3\n",
    "    meanMESZPS3lo[ind]=np.sum(tmaskE[0,:,jS3,iS3]*Vol[0,:,jS3,iS3]*f.variables['particulate_organic_nitrogen'][0,:,jS3,iS3])/\\\n",
    "            np.sum(tmaskE[0,:,jS3,iS3]*Vol[0,:,jS3,iS3])#mmol/m3\n",
    "    meanMESZPSIup[ind]=np.sum(tmaskC[0,:,jSI,iSI]*Vol[0,:,jSI,iSI]*f.variables['particulate_organic_nitrogen'][0,:,jSI,iSI])/\\\n",
    "            np.sum(tmaskC[0,:,jSI,iSI]*Vol[0,:,jSI,iSI])#mmol/m3\n",
    "    meanMESZPSImid[ind]=np.sum(tmaskD[0,:,jSI,iSI]*Vol[0,:,jSI,iSI]*f.variables['particulate_organic_nitrogen'][0,:,jSI,iSI])/\\\n",
    "            np.sum(tmaskD[0,:,jSI,iSI]*Vol[0,:,jSI,iSI])#mmol/m3\n",
    "    meanMESZPSIlo[ind]=np.sum(tmaskE[0,:,jSI,iSI]*Vol[0,:,jSI,iSI]*f.variables['particulate_organic_nitrogen'][0,:,jSI,iSI])/\\\n",
    "            np.sum(tmaskE[0,:,jSI,iSI]*Vol[0,:,jSI,iSI])#mmol/m3\n",
    "    \n",
    "    f.close()\n",
    "    fP.close()"
   ]
  },
  {
   "cell_type": "code",
   "execution_count": 20,
   "metadata": {},
   "outputs": [],
   "source": [
    "meanMESZtotalS3up=meanMESZDS3up+meanMESZFS3up+meanMESZCS3up+meanMESZMS3up\n",
    "meanMESZtotalS3mid=meanMESZDS3mid+meanMESZFS3mid+meanMESZCS3mid+meanMESZMS3mid\n",
    "meanMESZtotalS3lo=meanMESZDS3lo+meanMESZFS3lo+meanMESZCS3lo+meanMESZMS3lo\n",
    "meanMESZtotalSIup=meanMESZDSIup+meanMESZFSIup+meanMESZCSIup+meanMESZMSIup\n",
    "meanMESZtotalSImid=meanMESZDSImid+meanMESZFSImid+meanMESZCSImid+meanMESZMSImid\n",
    "meanMESZtotalSIlo=meanMESZDSIlo+meanMESZFSIlo+meanMESZCSIlo+meanMESZMSIlo"
   ]
  },
  {
   "cell_type": "code",
   "execution_count": 24,
   "metadata": {},
   "outputs": [
    {
     "data": {
      "text/plain": [
       "Text(0.5, 1.0, 'Saanich Inlet Phytoplankton (50-100 m)')"
      ]
     },
     "execution_count": 24,
     "metadata": {},
     "output_type": "execute_result"
    },
    {
     "data": {
      "image/png": "[encoded data removed]",
      "text/plain": [
       "<Figure size 864x144 with 1 Axes>"
      ]
     },
     "metadata": {
      "needs_background": "light"
     },
     "output_type": "display_data"
    },
    {
     "data": {
      "image/png": "[encoded data removed]",
      "text/plain": [
       "<Figure size 864x144 with 1 Axes>"
      ]
     },
     "metadata": {
      "needs_background": "light"
     },
     "output_type": "display_data"
    },
    {
     "data": {
      "image/png": "[encoded data removed]",
      "text/plain": [
       "<Figure size 864x144 with 1 Axes>"
      ]
     },
     "metadata": {
      "needs_background": "light"
     },
     "output_type": "display_data"
    }
   ],
   "source": [
    "fig,ax=plt.subplots(1,1,figsize=(12,2))\n",
    "ax.plot(tlist,(meanMESZDSIup),'-',color='darkgreen',label='Diatoms')\n",
    "ax.plot(tlist,(meanMESZFSIup),':',color='red',label='Flagellates')\n",
    "ax.plot(tlist,(meanMESZCSIup),'-',color='orange',label='Ciliates')\n",
    "ax.plot(tlist,(meanMESZMSIup),'--',color='purple',label='Microzoop')\n",
    "ax.plot(tlist,(meanMESZPSIup),':',color='blue',label='PON')\n",
    "\n",
    "ax.legend(frameon=False)\n",
    "ax.set_ylim((0,5))\n",
    "ax.set_ylabel('Biomass ($\\mu$M N)')\n",
    "ax.set_title('Saanich Inlet Phytoplankton (upper 15 m)')\n",
    "\n",
    "fig,ax=plt.subplots(1,1,figsize=(12,2))\n",
    "ax.plot(tlist,(meanMESZDSImid),'-',color='darkgreen',label='Diatoms')\n",
    "ax.plot(tlist,(meanMESZFSImid),':',color='red',label='Flagellates')\n",
    "ax.plot(tlist,(meanMESZCSImid),'-',color='orange',label='Ciliates')\n",
    "ax.plot(tlist,(meanMESZMSImid),'--',color='purple',label='Microzoop')\n",
    "ax.plot(tlist,(meanMESZPSImid),':',color='blue',label='PON')\n",
    "ax.legend(frameon=False)\n",
    "ax.set_ylim((0,5))\n",
    "ax.set_ylabel('Biomass ($\\mu$M N)')\n",
    "ax.set_title('Saanich Inlet Phytoplankton (15-50 m)')\n",
    "\n",
    "fig,ax=plt.subplots(1,1,figsize=(12,2))\n",
    "ax.plot(tlist,(meanMESZDSIlo),'-',color='darkgreen',label='Diatoms')\n",
    "ax.plot(tlist,(meanMESZFSIlo),':',color='red',label='Flagellates')\n",
    "ax.plot(tlist,(meanMESZCSIlo),'-',color='orange',label='Ciliates')\n",
    "ax.plot(tlist,(meanMESZMSIlo),'--',color='purple',label='Microzoop')\n",
    "ax.plot(tlist,(meanMESZPSIlo),':',color='blue',label='PON')\n",
    "ax.legend(frameon=False)\n",
    "ax.set_ylim((0,5))\n",
    "ax.set_ylabel('Biomass ($\\mu$M N)')\n",
    "ax.set_title('Saanich Inlet Phytoplankton (50-100 m)')"
   ]
  },
  {
   "cell_type": "code",
   "execution_count": null,
   "metadata": {},
   "outputs": [],
   "source": []
  },
  {
   "cell_type": "code",
   "execution_count": null,
   "metadata": {},
   "outputs": [],
   "source": []
  },
  {
   "cell_type": "code",
   "execution_count": null,
   "metadata": {},
   "outputs": [],
   "source": []
  }
 ],
 "metadata": {
  "anaconda-cloud": {},
  "kernelspec": {
   "display_name": "Python (py39)",
   "language": "python",
   "name": "py39"
  },
  "language_info": {
   "codemirror_mode": {
    "name": "ipython",
    "version": 3
   },
   "file_extension": ".py",
   "mimetype": "text/x-python",
   "name": "python",
   "nbconvert_exporter": "python",
   "pygments_lexer": "ipython3",
   "version": "3.9.1"
  }
 },
 "nbformat": 4,
 "nbformat_minor": 4
}
