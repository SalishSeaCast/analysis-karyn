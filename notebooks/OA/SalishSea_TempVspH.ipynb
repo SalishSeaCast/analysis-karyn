{
 "cells": [
  {
   "cell_type": "code",
   "execution_count": 1,
   "metadata": {},
   "outputs": [],
   "source": [
    "import gsw\n",
    "import xarray as xr\n",
    "import numpy as np\n",
    "import pandas as pd\n",
    "import matplotlib.pyplot as plt\n",
    "from mocsy import mocsy"
   ]
  },
  {
   "cell_type": "markdown",
   "metadata": {},
   "source": [
    "### Central SoG Slice"
   ]
  },
  {
   "cell_type": "code",
   "execution_count": 2,
   "metadata": {},
   "outputs": [],
   "source": [
    "#years, months, data\n",
    "CSoG_array_Tinsitu_slice = np.zeros([1,12,50,50])\n",
    "CSoG_array_Spsu_slice = np.zeros([1,12,50,50])\n",
    "CSoG_array_TA_slice = np.zeros([1,12,50,50])\n",
    "CSoG_array_DIC_slice = np.zeros([1,12,50,50])\n",
    "\n",
    "# Load monthly averages\n",
    "mask = xr.open_dataset('/data/eolson/results/MEOPAR/NEMO-forcing-new/grid/mesh_mask201702.nc')\n",
    "slc = {'y': slice(450,500), 'x': slice(250,300)}\n",
    "e3t, tmask = [mask[var].isel(z=slice(0,5),**slc).values for var in ('e3t_0', 'tmask')]\n",
    "years, variables = range(2015, 2016), ['Tinsitu','Spsu','TA','DIC']\n",
    "# Temporary list dict\n",
    "data = {}\n",
    "# Permanent aggregate dict\n",
    "monthlydat = {var: {} for var in variables}\n",
    "# Loop through years\n",
    "for year in [2015, 2016]:\n",
    "    # Initialize lists\n",
    "    for var in variables: data[var] = []\n",
    "    # Load monthly averages\n",
    "    for month in range(1, 13):\n",
    "        datestr = f'{year}{month:02d}'\n",
    "        prefix = f'/data/sallen/results/MEOPAR/v201905r_wrap/SalishSea_1m_{datestr}_{datestr}'\n",
    "        # Load grid variables\n",
    "        with xr.open_dataset(prefix + '_grid_T.nc') as ds:\n",
    "            q = (gsw.t_from_CT(ds.vosaline.isel(deptht=slice(0,5), **slc).values,ds.votemper.isel(deptht=slice(0,5), **slc).values,0))\n",
    "            q2 = q[:,0,:,:]\n",
    "            CSoG_array_Tinsitu_slice[0,month-1,:,:] = q2 \n",
    "            for var in ['Tinsitu']:\n",
    "                data[var].append(gsw.t_from_CT(ds.vosaline.isel(deptht=slice(0,5), **slc).values,ds.votemper.isel(deptht=slice(0,5), **slc).values,0))\n",
    "                \n",
    "        \n",
    "        with xr.open_dataset(prefix + '_grid_T.nc') as ds:\n",
    "            q = (ds.vosaline.isel(deptht=slice(0,5), **slc).values)*35/35.16504\n",
    "            q2 = q[:,0,:,:]\n",
    "            CSoG_array_Spsu_slice[0,month-1,:,:] = q2 \n",
    "            for var in ['Spsu']:\n",
    "                data[var].append((ds.vosaline.isel(deptht=slice(0,5), **slc).values)*35/35.16504)\n",
    "        \n",
    "        with xr.open_dataset(prefix + '_carp_T.nc') as ds:\n",
    "            q = (ds.total_alkalinity.isel(deptht=slice(0,5), **slc).values)/1000\n",
    "            q2 = q[:,0,:,:]\n",
    "            CSoG_array_TA_slice[0,month-1,:,:] = q2 \n",
    "            for var in ['TA']:\n",
    "                data[var].append((ds.total_alkalinity.isel(deptht=slice(0,5), **slc).values)/1000)\n",
    "        \n",
    "        \n",
    "        with xr.open_dataset(prefix + '_carp_T.nc') as ds:\n",
    "            q = (ds.dissolved_inorganic_carbon.isel(deptht=slice(0,5), **slc).values)/1000\n",
    "            q2 = q[:,0,:,:]\n",
    "            CSoG_array_DIC_slice[0,month-1,:,:] = q2 \n",
    "            for var in ['DIC']:\n",
    "                data[var].append((ds.dissolved_inorganic_carbon.isel(deptht=slice(0,5), **slc).values)/1000)\n",
    "        "
   ]
  },
  {
   "cell_type": "code",
   "execution_count": 3,
   "metadata": {},
   "outputs": [
    {
     "name": "stdout",
     "output_type": "stream",
     "text": [
      "(1, 12)\n"
     ]
    }
   ],
   "source": [
    "CSoG_array_Tinsitu_slice[CSoG_array_Tinsitu_slice == 0 ] = np.nan\n",
    "CSoG_array_Tinsitu_slicemean = \\\n",
    "np.nanmean(np.nanmean(CSoG_array_Tinsitu_slice, axis = 2),axis = 2)\n",
    "print(np.shape(CSoG_array_Tinsitu_slicemean))"
   ]
  },
  {
   "cell_type": "code",
   "execution_count": 4,
   "metadata": {},
   "outputs": [
    {
     "name": "stdout",
     "output_type": "stream",
     "text": [
      "(1, 12)\n"
     ]
    }
   ],
   "source": [
    "CSoG_array_Spsu_slice[CSoG_array_Spsu_slice == 0 ] = np.nan\n",
    "CSoG_array_Spsu_slicemean = \\\n",
    "np.nanmean(np.nanmean(CSoG_array_Spsu_slice, axis = 2),axis = 2)\n",
    "print(np.shape(CSoG_array_Spsu_slicemean))"
   ]
  },
  {
   "cell_type": "code",
   "execution_count": 5,
   "metadata": {},
   "outputs": [
    {
     "name": "stdout",
     "output_type": "stream",
     "text": [
      "(1, 12)\n"
     ]
    }
   ],
   "source": [
    "CSoG_array_TA_slice[CSoG_array_TA_slice == 0 ] = np.nan\n",
    "CSoG_array_TA_slicemean = \\\n",
    "np.nanmean(np.nanmean(CSoG_array_TA_slice, axis = 2),axis = 2)\n",
    "print(np.shape(CSoG_array_TA_slicemean))"
   ]
  },
  {
   "cell_type": "code",
   "execution_count": 6,
   "metadata": {},
   "outputs": [
    {
     "name": "stdout",
     "output_type": "stream",
     "text": [
      "(1, 12)\n"
     ]
    }
   ],
   "source": [
    "CSoG_array_DIC_slice[CSoG_array_DIC_slice == 0 ] = np.nan\n",
    "CSoG_array_DIC_slicemean = \\\n",
    "np.nanmean(np.nanmean(CSoG_array_DIC_slice, axis = 2),axis = 2)\n",
    "print(np.shape(CSoG_array_DIC_slicemean))"
   ]
  },
  {
   "cell_type": "code",
   "execution_count": 7,
   "metadata": {},
   "outputs": [],
   "source": [
    "ones = np.ones_like(CSoG_array_Spsu_slicemean.flatten())"
   ]
  },
  {
   "cell_type": "code",
   "execution_count": 8,
   "metadata": {},
   "outputs": [],
   "source": [
    "CSoG_response_tup = mocsy.mvars(temp=CSoG_array_Tinsitu_slicemean.flatten(), sal=CSoG_array_Spsu_slicemean.flatten(), alk=CSoG_array_TA_slicemean.flatten(), \n",
    "                           dic=CSoG_array_DIC_slicemean.flatten(), \n",
    "                       sil=0.*ones, phos=0.*ones, patm=0.*ones, depth=0.*ones, lat=0.*ones, \n",
    "                        optcon='mol/m3', optt='Tinsitu', optp='m',\n",
    "                        optb = 'l10', optk1k2='m10', optkf = 'dg', optgas = 'Pinsitu')\n",
    "C_pH,C_pco2,C_fco2,C_co2,C_hco3,C_co3,C_OmegaA,C_OmegaC,C_BetaD,C_DENis,C_p,C_Tis = CSoG_response_tup"
   ]
  },
  {
   "cell_type": "code",
   "execution_count": null,
   "metadata": {},
   "outputs": [],
   "source": []
  },
  {
   "cell_type": "markdown",
   "metadata": {},
   "source": [
    "### Juan de Fuca Slice"
   ]
  },
  {
   "cell_type": "code",
   "execution_count": 9,
   "metadata": {},
   "outputs": [],
   "source": [
    "#years, months, data\n",
    "JdF_array_Tinsitu_slice = np.zeros([1,12,200,150])\n",
    "JdF_array_Spsu_slice = np.zeros([1,12,200,150])\n",
    "JdF_array_TA_slice = np.zeros([1,12,200,150])\n",
    "JdF_array_DIC_slice = np.zeros([1,12,200,150])\n",
    "\n",
    "# Load monthly averages\n",
    "mask = xr.open_dataset('/data/eolson/results/MEOPAR/NEMO-forcing-new/grid/mesh_mask201702.nc')\n",
    "slc = {'y': slice(250,450), 'x': slice(50,200)}\n",
    "e3t, tmask = [mask[var].isel(z=slice(0,5),**slc).values for var in ('e3t_0', 'tmask')]\n",
    "years, variables = range(2015, 2016), ['Tinsitu','Spsu','TA','DIC']\n",
    "# Temporary list dict\n",
    "data = {}\n",
    "# Permanent aggregate dict\n",
    "monthlydat = {var: {} for var in variables}\n",
    "# Loop through years\n",
    "for year in [2015, 2016]:\n",
    "    # Initialize lists\n",
    "    for var in variables: data[var] = []\n",
    "    # Load monthly averages\n",
    "    for month in range(1, 13):\n",
    "        datestr = f'{year}{month:02d}'\n",
    "        prefix = f'/data/sallen/results/MEOPAR/v201905r_wrap/SalishSea_1m_{datestr}_{datestr}'\n",
    "        # Load grid variables\n",
    "        with xr.open_dataset(prefix + '_grid_T.nc') as ds:\n",
    "            q = (gsw.t_from_CT(ds.vosaline.isel(deptht=slice(0,5), **slc).values,ds.votemper.isel(deptht=slice(0,5), **slc).values,0))\n",
    "            q2 = q[:,0,:,:]\n",
    "            JdF_array_Tinsitu_slice[0,month-1,:,:] = q2 \n",
    "            for var in ['Tinsitu']:\n",
    "                data[var].append(gsw.t_from_CT(ds.vosaline.isel(deptht=slice(0,5), **slc).values,ds.votemper.isel(deptht=slice(0,5), **slc).values,0))\n",
    "                \n",
    "        \n",
    "        with xr.open_dataset(prefix + '_grid_T.nc') as ds:\n",
    "            q = (ds.vosaline.isel(deptht=slice(0,5), **slc).values)*35/35.16504\n",
    "            q2 = q[:,0,:,:]\n",
    "            JdF_array_Spsu_slice[0,month-1,:,:] = q2 \n",
    "            for var in ['Spsu']:\n",
    "                data[var].append((ds.vosaline.isel(deptht=slice(0,5), **slc).values)*35/35.16504)\n",
    "        \n",
    "        with xr.open_dataset(prefix + '_carp_T.nc') as ds:\n",
    "            q = (ds.total_alkalinity.isel(deptht=slice(0,5), **slc).values)/1000\n",
    "            q2 = q[:,0,:,:]\n",
    "            JdF_array_TA_slice[0,month-1,:,:] = q2 \n",
    "            for var in ['TA']:\n",
    "                data[var].append((ds.total_alkalinity.isel(deptht=slice(0,5), **slc).values)/1000)\n",
    "        \n",
    "        \n",
    "        with xr.open_dataset(prefix + '_carp_T.nc') as ds:\n",
    "            q = (ds.dissolved_inorganic_carbon.isel(deptht=slice(0,5), **slc).values)/1000\n",
    "            q2 = q[:,0,:,:]\n",
    "            JdF_array_DIC_slice[0,month-1,:,:] = q2 \n",
    "            for var in ['DIC']:\n",
    "                data[var].append((ds.dissolved_inorganic_carbon.isel(deptht=slice(0,5), **slc).values)/1000)\n",
    "        "
   ]
  },
  {
   "cell_type": "code",
   "execution_count": 10,
   "metadata": {},
   "outputs": [
    {
     "name": "stdout",
     "output_type": "stream",
     "text": [
      "(1, 12)\n"
     ]
    }
   ],
   "source": [
    "JdF_array_Tinsitu_slice[JdF_array_Tinsitu_slice == 0 ] = np.nan\n",
    "JdF_array_Tinsitu_slicemean = \\\n",
    "np.nanmean(np.nanmean(JdF_array_Tinsitu_slice, axis = 2),axis = 2)\n",
    "print(np.shape(JdF_array_Tinsitu_slicemean))"
   ]
  },
  {
   "cell_type": "code",
   "execution_count": 11,
   "metadata": {},
   "outputs": [
    {
     "name": "stdout",
     "output_type": "stream",
     "text": [
      "(1, 12)\n"
     ]
    }
   ],
   "source": [
    "JdF_array_Spsu_slice[JdF_array_Spsu_slice == 0 ] = np.nan\n",
    "JdF_array_Spsu_slicemean = \\\n",
    "np.nanmean(np.nanmean(JdF_array_Spsu_slice, axis = 2),axis = 2)\n",
    "print(np.shape(JdF_array_Spsu_slicemean))"
   ]
  },
  {
   "cell_type": "code",
   "execution_count": 12,
   "metadata": {},
   "outputs": [
    {
     "name": "stdout",
     "output_type": "stream",
     "text": [
      "(1, 12)\n"
     ]
    }
   ],
   "source": [
    "JdF_array_TA_slice[JdF_array_TA_slice == 0 ] = np.nan\n",
    "JdF_array_TA_slicemean = \\\n",
    "np.nanmean(np.nanmean(JdF_array_TA_slice, axis = 2),axis = 2)\n",
    "print(np.shape(JdF_array_TA_slicemean))"
   ]
  },
  {
   "cell_type": "code",
   "execution_count": 13,
   "metadata": {},
   "outputs": [
    {
     "name": "stdout",
     "output_type": "stream",
     "text": [
      "(1, 12)\n"
     ]
    }
   ],
   "source": [
    "JdF_array_DIC_slice[JdF_array_DIC_slice == 0 ] = np.nan\n",
    "JdF_array_DIC_slicemean = \\\n",
    "np.nanmean(np.nanmean(JdF_array_DIC_slice, axis = 2),axis = 2)\n",
    "print(np.shape(JdF_array_DIC_slicemean))"
   ]
  },
  {
   "cell_type": "code",
   "execution_count": 14,
   "metadata": {},
   "outputs": [],
   "source": [
    "ones = np.ones_like(JdF_array_Spsu_slicemean.flatten())"
   ]
  },
  {
   "cell_type": "code",
   "execution_count": 15,
   "metadata": {},
   "outputs": [],
   "source": [
    "JdF_response_tup = mocsy.mvars(temp=JdF_array_Tinsitu_slicemean.flatten(), sal=JdF_array_Spsu_slicemean.flatten(), alk=JdF_array_TA_slicemean.flatten(), \n",
    "                           dic=JdF_array_DIC_slicemean.flatten(), \n",
    "                       sil=0.*ones, phos=0.*ones, patm=0.*ones, depth=0.*ones, lat=0.*ones, \n",
    "                        optcon='mol/m3', optt='Tinsitu', optp='m',\n",
    "                        optb = 'l10', optk1k2='m10', optkf = 'dg', optgas = 'Pinsitu')\n",
    "JdF_pH,JdF_pco2,JdF_fco2,JdF_co2,JdF_hco3,JdF_co3,JdF_OmegaA,JdF_OmegaC,JdF_BetaD,JdF_DENis,JdF_p,JdF_Tis = JdF_response_tup"
   ]
  },
  {
   "cell_type": "code",
   "execution_count": null,
   "metadata": {},
   "outputs": [],
   "source": []
  },
  {
   "cell_type": "markdown",
   "metadata": {},
   "source": [
    "### Northern SoG Slice"
   ]
  },
  {
   "cell_type": "code",
   "execution_count": 16,
   "metadata": {},
   "outputs": [],
   "source": [
    "#years, months, data\n",
    "NSoG_array_Tinsitu_slice = np.zeros([1,12,50,40])\n",
    "NSoG_array_Spsu_slice = np.zeros([1,12,50,40])\n",
    "NSoG_array_TA_slice = np.zeros([1,12,50,40])\n",
    "NSoG_array_DIC_slice = np.zeros([1,12,50,40])\n",
    "\n",
    "# Load monthly averages\n",
    "mask = xr.open_dataset('/data/eolson/results/MEOPAR/NEMO-forcing-new/grid/mesh_mask201702.nc')\n",
    "slc = {'y': slice(650,700), 'x': slice(140,180)}\n",
    "e3t, tmask = [mask[var].isel(z=slice(0,5),**slc).values for var in ('e3t_0', 'tmask')]\n",
    "years, variables = range(2015, 2016), ['Tinsitu','Spsu','TA','DIC']\n",
    "# Temporary list dict\n",
    "data = {}\n",
    "# Permanent aggregate dict\n",
    "monthlydat = {var: {} for var in variables}\n",
    "# Loop through years\n",
    "for year in [2015, 2016]:\n",
    "    # Initialize lists\n",
    "    for var in variables: data[var] = []\n",
    "    # Load monthly averages\n",
    "    for month in range(1, 13):\n",
    "        datestr = f'{year}{month:02d}'\n",
    "        prefix = f'/data/sallen/results/MEOPAR/v201905r_wrap/SalishSea_1m_{datestr}_{datestr}'\n",
    "        # Load grid variables\n",
    "        with xr.open_dataset(prefix + '_grid_T.nc') as ds:\n",
    "            q = (gsw.t_from_CT(ds.vosaline.isel(deptht=slice(0,5), **slc).values,ds.votemper.isel(deptht=slice(0,5), **slc).values,0))\n",
    "            q2 = q[:,0,:,:]\n",
    "            NSoG_array_Tinsitu_slice[0,month-1,:,:] = q2 \n",
    "            for var in ['Tinsitu']:\n",
    "                data[var].append(gsw.t_from_CT(ds.vosaline.isel(deptht=slice(0,5), **slc).values,ds.votemper.isel(deptht=slice(0,5), **slc).values,0))\n",
    "                \n",
    "        \n",
    "        with xr.open_dataset(prefix + '_grid_T.nc') as ds:\n",
    "            q = (ds.vosaline.isel(deptht=slice(0,5), **slc).values)*35/35.16504\n",
    "            q2 = q[:,0,:,:]\n",
    "            NSoG_array_Spsu_slice[0,month-1,:,:] = q2 \n",
    "            for var in ['Spsu']:\n",
    "                data[var].append((ds.vosaline.isel(deptht=slice(0,5), **slc).values)*35/35.16504)\n",
    "        \n",
    "        with xr.open_dataset(prefix + '_carp_T.nc') as ds:\n",
    "            q = (ds.total_alkalinity.isel(deptht=slice(0,5), **slc).values)/1000\n",
    "            q2 = q[:,0,:,:]\n",
    "            NSoG_array_TA_slice[0,month-1,:,:] = q2 \n",
    "            for var in ['TA']:\n",
    "                data[var].append((ds.total_alkalinity.isel(deptht=slice(0,5), **slc).values)/1000)\n",
    "        \n",
    "        \n",
    "        with xr.open_dataset(prefix + '_carp_T.nc') as ds:\n",
    "            q = (ds.dissolved_inorganic_carbon.isel(deptht=slice(0,5), **slc).values)/1000\n",
    "            q2 = q[:,0,:,:]\n",
    "            NSoG_array_DIC_slice[0,month-1,:,:] = q2 \n",
    "            for var in ['DIC']:\n",
    "                data[var].append((ds.dissolved_inorganic_carbon.isel(deptht=slice(0,5), **slc).values)/1000)\n",
    "        "
   ]
  },
  {
   "cell_type": "code",
   "execution_count": 17,
   "metadata": {},
   "outputs": [
    {
     "name": "stdout",
     "output_type": "stream",
     "text": [
      "(1, 12)\n"
     ]
    }
   ],
   "source": [
    "NSoG_array_Tinsitu_slice[NSoG_array_Tinsitu_slice == 0 ] = np.nan\n",
    "NSoG_array_Tinsitu_slicemean = \\\n",
    "np.nanmean(np.nanmean(NSoG_array_Tinsitu_slice, axis = 2),axis = 2)\n",
    "print(np.shape(NSoG_array_Tinsitu_slicemean))"
   ]
  },
  {
   "cell_type": "code",
   "execution_count": 18,
   "metadata": {},
   "outputs": [
    {
     "name": "stdout",
     "output_type": "stream",
     "text": [
      "(1, 12)\n"
     ]
    }
   ],
   "source": [
    "NSoG_array_Spsu_slice[NSoG_array_Spsu_slice == 0 ] = np.nan\n",
    "NSoG_array_Spsu_slicemean = \\\n",
    "np.nanmean(np.nanmean(NSoG_array_Spsu_slice, axis = 2),axis = 2)\n",
    "print(np.shape(NSoG_array_Spsu_slicemean))"
   ]
  },
  {
   "cell_type": "code",
   "execution_count": 19,
   "metadata": {},
   "outputs": [
    {
     "name": "stdout",
     "output_type": "stream",
     "text": [
      "(1, 12)\n"
     ]
    }
   ],
   "source": [
    "NSoG_array_TA_slice[NSoG_array_TA_slice == 0 ] = np.nan\n",
    "NSoG_array_TA_slicemean = \\\n",
    "np.nanmean(np.nanmean(NSoG_array_TA_slice, axis = 2),axis = 2)\n",
    "print(np.shape(NSoG_array_TA_slicemean))"
   ]
  },
  {
   "cell_type": "code",
   "execution_count": 20,
   "metadata": {},
   "outputs": [
    {
     "name": "stdout",
     "output_type": "stream",
     "text": [
      "(1, 12)\n"
     ]
    }
   ],
   "source": [
    "NSoG_array_DIC_slice[NSoG_array_DIC_slice == 0 ] = np.nan\n",
    "NSoG_array_DIC_slicemean = \\\n",
    "np.nanmean(np.nanmean(NSoG_array_DIC_slice, axis = 2),axis = 2)\n",
    "print(np.shape(NSoG_array_DIC_slicemean))"
   ]
  },
  {
   "cell_type": "code",
   "execution_count": 21,
   "metadata": {},
   "outputs": [],
   "source": [
    "ones = np.ones_like(NSoG_array_Spsu_slicemean.flatten())"
   ]
  },
  {
   "cell_type": "code",
   "execution_count": 22,
   "metadata": {},
   "outputs": [],
   "source": [
    "NSoG_response_tup = mocsy.mvars(temp=NSoG_array_Tinsitu_slicemean.flatten(), sal=NSoG_array_Spsu_slicemean.flatten(), alk=NSoG_array_TA_slicemean.flatten(), \n",
    "                           dic=NSoG_array_DIC_slicemean.flatten(), \n",
    "                       sil=0.*ones, phos=0.*ones, patm=0.*ones, depth=0.*ones, lat=0.*ones, \n",
    "                        optcon='mol/m3', optt='Tinsitu', optp='m',\n",
    "                        optb = 'l10', optk1k2='m10', optkf = 'dg', optgas = 'Pinsitu')\n",
    "NSoG_pH,NSoG_pco2,NSoG_fco2,NSoG_co2,NSoG_hco3,NSoG_co3,NSoG_OmegaA,NSoG_OmegaC,NSoG_BetaD,NSoG_DENis,NSoG_p,NSoG_Tis = NSoG_response_tup"
   ]
  },
  {
   "cell_type": "code",
   "execution_count": null,
   "metadata": {},
   "outputs": [],
   "source": []
  },
  {
   "cell_type": "markdown",
   "metadata": {},
   "source": [
    "### Southern SoG Slice"
   ]
  },
  {
   "cell_type": "code",
   "execution_count": 23,
   "metadata": {},
   "outputs": [],
   "source": [
    "#years, months, data\n",
    "SSoG_array_Tinsitu_slice = np.zeros([1,12,75,50])\n",
    "SSoG_array_Spsu_slice = np.zeros([1,12,75,50])\n",
    "SSoG_array_TA_slice = np.zeros([1,12,75,50])\n",
    "SSoG_array_DIC_slice = np.zeros([1,12,75,50])\n",
    "\n",
    "# Load monthly averages\n",
    "mask = xr.open_dataset('/data/eolson/results/MEOPAR/NEMO-forcing-new/grid/mesh_mask201702.nc')\n",
    "slc = {'y': slice(325,400), 'x': slice(275,325)}\n",
    "e3t, tmask = [mask[var].isel(z=slice(0,5),**slc).values for var in ('e3t_0', 'tmask')]\n",
    "years, variables = range(2015, 2016), ['Tinsitu','Spsu','TA','DIC']\n",
    "# Temporary list dict\n",
    "data = {}\n",
    "# Permanent aggregate dict\n",
    "monthlydat = {var: {} for var in variables}\n",
    "# Loop through years\n",
    "for year in [2015, 2016]:\n",
    "    # Initialize lists\n",
    "    for var in variables: data[var] = []\n",
    "    # Load monthly averages\n",
    "    for month in range(1, 13):\n",
    "        datestr = f'{year}{month:02d}'\n",
    "        prefix = f'/data/sallen/results/MEOPAR/v201905r_wrap/SalishSea_1m_{datestr}_{datestr}'\n",
    "        # Load grid variables\n",
    "        with xr.open_dataset(prefix + '_grid_T.nc') as ds:\n",
    "            q = (gsw.t_from_CT(ds.vosaline.isel(deptht=slice(0,5), **slc).values,ds.votemper.isel(deptht=slice(0,5), **slc).values,0))\n",
    "            q2 = q[:,0,:,:]\n",
    "            SSoG_array_Tinsitu_slice[0,month-1,:,:] = q2 \n",
    "            for var in ['Tinsitu']:\n",
    "                data[var].append(gsw.t_from_CT(ds.vosaline.isel(deptht=slice(0,5), **slc).values,ds.votemper.isel(deptht=slice(0,5), **slc).values,0))\n",
    "                \n",
    "        \n",
    "        with xr.open_dataset(prefix + '_grid_T.nc') as ds:\n",
    "            q = (ds.vosaline.isel(deptht=slice(0,5), **slc).values)*35/35.16504\n",
    "            q2 = q[:,0,:,:]\n",
    "            SSoG_array_Spsu_slice[0,month-1,:,:] = q2 \n",
    "            for var in ['Spsu']:\n",
    "                data[var].append((ds.vosaline.isel(deptht=slice(0,5), **slc).values)*35/35.16504)\n",
    "        \n",
    "        with xr.open_dataset(prefix + '_carp_T.nc') as ds:\n",
    "            q = (ds.total_alkalinity.isel(deptht=slice(0,5), **slc).values)/1000\n",
    "            q2 = q[:,0,:,:]\n",
    "            SSoG_array_TA_slice[0,month-1,:,:] = q2 \n",
    "            for var in ['TA']:\n",
    "                data[var].append((ds.total_alkalinity.isel(deptht=slice(0,5), **slc).values)/1000)\n",
    "        \n",
    "        \n",
    "        with xr.open_dataset(prefix + '_carp_T.nc') as ds:\n",
    "            q = (ds.dissolved_inorganic_carbon.isel(deptht=slice(0,5), **slc).values)/1000\n",
    "            q2 = q[:,0,:,:]\n",
    "            SSoG_array_DIC_slice[0,month-1,:,:] = q2 \n",
    "            for var in ['DIC']:\n",
    "                data[var].append((ds.dissolved_inorganic_carbon.isel(deptht=slice(0,5), **slc).values)/1000)\n",
    "        "
   ]
  },
  {
   "cell_type": "code",
   "execution_count": 24,
   "metadata": {},
   "outputs": [
    {
     "name": "stdout",
     "output_type": "stream",
     "text": [
      "(1, 12)\n"
     ]
    }
   ],
   "source": [
    "SSoG_array_Tinsitu_slice[SSoG_array_Tinsitu_slice == 0 ] = np.nan\n",
    "SSoG_array_Tinsitu_slicemean = \\\n",
    "np.nanmean(np.nanmean(SSoG_array_Tinsitu_slice, axis = 2),axis = 2)\n",
    "print(np.shape(SSoG_array_Tinsitu_slicemean))"
   ]
  },
  {
   "cell_type": "code",
   "execution_count": 25,
   "metadata": {},
   "outputs": [
    {
     "name": "stdout",
     "output_type": "stream",
     "text": [
      "(1, 12)\n"
     ]
    }
   ],
   "source": [
    "SSoG_array_Spsu_slice[SSoG_array_Spsu_slice == 0 ] = np.nan\n",
    "SSoG_array_Spsu_slicemean = \\\n",
    "np.nanmean(np.nanmean(SSoG_array_Spsu_slice, axis = 2),axis = 2)\n",
    "print(np.shape(SSoG_array_Spsu_slicemean))"
   ]
  },
  {
   "cell_type": "code",
   "execution_count": 26,
   "metadata": {},
   "outputs": [
    {
     "name": "stdout",
     "output_type": "stream",
     "text": [
      "(1, 12)\n"
     ]
    }
   ],
   "source": [
    "SSoG_array_TA_slice[SSoG_array_TA_slice == 0 ] = np.nan\n",
    "SSoG_array_TA_slicemean = \\\n",
    "np.nanmean(np.nanmean(SSoG_array_TA_slice, axis = 2),axis = 2)\n",
    "print(np.shape(SSoG_array_TA_slicemean))"
   ]
  },
  {
   "cell_type": "code",
   "execution_count": 27,
   "metadata": {},
   "outputs": [
    {
     "name": "stdout",
     "output_type": "stream",
     "text": [
      "(1, 12)\n"
     ]
    }
   ],
   "source": [
    "SSoG_array_DIC_slice[SSoG_array_DIC_slice == 0 ] = np.nan\n",
    "SSoG_array_DIC_slicemean = \\\n",
    "np.nanmean(np.nanmean(SSoG_array_DIC_slice, axis = 2),axis = 2)\n",
    "print(np.shape(SSoG_array_DIC_slicemean))"
   ]
  },
  {
   "cell_type": "code",
   "execution_count": 28,
   "metadata": {},
   "outputs": [],
   "source": [
    "ones = np.ones_like(SSoG_array_Spsu_slicemean.flatten())"
   ]
  },
  {
   "cell_type": "code",
   "execution_count": 29,
   "metadata": {},
   "outputs": [],
   "source": [
    "SSoG_response_tup = mocsy.mvars(temp=SSoG_array_Tinsitu_slicemean.flatten(), sal=SSoG_array_Spsu_slicemean.flatten(), alk=SSoG_array_TA_slicemean.flatten(), \n",
    "                           dic=SSoG_array_DIC_slicemean.flatten(), \n",
    "                       sil=0.*ones, phos=0.*ones, patm=0.*ones, depth=0.*ones, lat=0.*ones, \n",
    "                        optcon='mol/m3', optt='Tinsitu', optp='m',\n",
    "                        optb = 'l10', optk1k2='m10', optkf = 'dg', optgas = 'Pinsitu')\n",
    "SSoG_pH,SSoG_pco2,SSoG_fco2,SSoG_co2,SSoG_hco3,SSoG_co3,SSoG_OmegaA,SSoG_OmegaC,SSoG_BetaD,SSoG_DENis,SSoG_p,SSoG_Tis = SSoG_response_tup"
   ]
  },
  {
   "cell_type": "code",
   "execution_count": null,
   "metadata": {},
   "outputs": [],
   "source": []
  },
  {
   "cell_type": "markdown",
   "metadata": {},
   "source": [
    "### Haro Strait Slice"
   ]
  },
  {
   "cell_type": "code",
   "execution_count": 30,
   "metadata": {},
   "outputs": [],
   "source": [
    "#years, months, data\n",
    "HS_array_Tinsitu_slice = np.zeros([1,12,40,50])\n",
    "HS_array_Spsu_slice = np.zeros([1,12,40,50])\n",
    "HS_array_TA_slice = np.zeros([1,12,40,50])\n",
    "HS_array_DIC_slice = np.zeros([1,12,40,50])\n",
    "\n",
    "# Load monthly averages\n",
    "mask = xr.open_dataset('/data/eolson/results/MEOPAR/NEMO-forcing-new/grid/mesh_mask201702.nc')\n",
    "slc = {'y': slice(280,320), 'x': slice(200,250)}\n",
    "e3t, tmask = [mask[var].isel(z=slice(0,5),**slc).values for var in ('e3t_0', 'tmask')]\n",
    "years, variables = range(2015, 2016), ['Tinsitu','Spsu','TA','DIC']\n",
    "# Temporary list dict\n",
    "data = {}\n",
    "# Permanent aggregate dict\n",
    "monthlydat = {var: {} for var in variables}\n",
    "# Loop through years\n",
    "for year in [2015, 2016]:\n",
    "    # Initialize lists\n",
    "    for var in variables: data[var] = []\n",
    "    # Load monthly averages\n",
    "    for month in range(1, 13):\n",
    "        datestr = f'{year}{month:02d}'\n",
    "        prefix = f'/data/sallen/results/MEOPAR/v201905r_wrap/SalishSea_1m_{datestr}_{datestr}'\n",
    "        # Load grid variables\n",
    "        with xr.open_dataset(prefix + '_grid_T.nc') as ds:\n",
    "            q = (gsw.t_from_CT(ds.vosaline.isel(deptht=slice(0,5), **slc).values,ds.votemper.isel(deptht=slice(0,5), **slc).values,0))\n",
    "            q2 = q[:,0,:,:]\n",
    "            HS_array_Tinsitu_slice[0,month-1,:,:] = q2 \n",
    "            for var in ['Tinsitu']:\n",
    "                data[var].append(gsw.t_from_CT(ds.vosaline.isel(deptht=slice(0,5), **slc).values,ds.votemper.isel(deptht=slice(0,5), **slc).values,0))\n",
    "                \n",
    "        \n",
    "        with xr.open_dataset(prefix + '_grid_T.nc') as ds:\n",
    "            q = (ds.vosaline.isel(deptht=slice(0,5), **slc).values)*35/35.16504\n",
    "            q2 = q[:,0,:,:]\n",
    "            HS_array_Spsu_slice[0,month-1,:,:] = q2 \n",
    "            for var in ['Spsu']:\n",
    "                data[var].append((ds.vosaline.isel(deptht=slice(0,5), **slc).values)*35/35.16504)\n",
    "        \n",
    "        with xr.open_dataset(prefix + '_carp_T.nc') as ds:\n",
    "            q = (ds.total_alkalinity.isel(deptht=slice(0,5), **slc).values)/1000\n",
    "            q2 = q[:,0,:,:]\n",
    "            HS_array_TA_slice[0,month-1,:,:] = q2 \n",
    "            for var in ['TA']:\n",
    "                data[var].append((ds.total_alkalinity.isel(deptht=slice(0,5), **slc).values)/1000)\n",
    "        \n",
    "        \n",
    "        with xr.open_dataset(prefix + '_carp_T.nc') as ds:\n",
    "            q = (ds.dissolved_inorganic_carbon.isel(deptht=slice(0,5), **slc).values)/1000\n",
    "            q2 = q[:,0,:,:]\n",
    "            HS_array_DIC_slice[0,month-1,:,:] = q2 \n",
    "            for var in ['DIC']:\n",
    "                data[var].append((ds.dissolved_inorganic_carbon.isel(deptht=slice(0,5), **slc).values)/1000)\n",
    "        "
   ]
  },
  {
   "cell_type": "code",
   "execution_count": 31,
   "metadata": {},
   "outputs": [
    {
     "name": "stdout",
     "output_type": "stream",
     "text": [
      "(1, 12)\n"
     ]
    }
   ],
   "source": [
    "HS_array_Tinsitu_slice[HS_array_Tinsitu_slice == 0 ] = np.nan\n",
    "HS_array_Tinsitu_slicemean = \\\n",
    "np.nanmean(np.nanmean(HS_array_Tinsitu_slice, axis = 2),axis = 2)\n",
    "print(np.shape(HS_array_Tinsitu_slicemean))"
   ]
  },
  {
   "cell_type": "code",
   "execution_count": 32,
   "metadata": {},
   "outputs": [
    {
     "name": "stdout",
     "output_type": "stream",
     "text": [
      "(1, 12)\n"
     ]
    }
   ],
   "source": [
    "HS_array_Spsu_slice[HS_array_Spsu_slice == 0 ] = np.nan\n",
    "HS_array_Spsu_slicemean = \\\n",
    "np.nanmean(np.nanmean(HS_array_Spsu_slice, axis = 2),axis = 2)\n",
    "print(np.shape(HS_array_Spsu_slicemean))"
   ]
  },
  {
   "cell_type": "code",
   "execution_count": 33,
   "metadata": {},
   "outputs": [
    {
     "name": "stdout",
     "output_type": "stream",
     "text": [
      "(1, 12)\n"
     ]
    }
   ],
   "source": [
    "HS_array_TA_slice[HS_array_TA_slice == 0 ] = np.nan\n",
    "HS_array_TA_slicemean = \\\n",
    "np.nanmean(np.nanmean(HS_array_TA_slice, axis = 2),axis = 2)\n",
    "print(np.shape(HS_array_TA_slicemean))"
   ]
  },
  {
   "cell_type": "code",
   "execution_count": 34,
   "metadata": {},
   "outputs": [
    {
     "name": "stdout",
     "output_type": "stream",
     "text": [
      "(1, 12)\n"
     ]
    }
   ],
   "source": [
    "HS_array_DIC_slice[HS_array_DIC_slice == 0 ] = np.nan\n",
    "HS_array_DIC_slicemean = \\\n",
    "np.nanmean(np.nanmean(HS_array_DIC_slice, axis = 2),axis = 2)\n",
    "print(np.shape(HS_array_DIC_slicemean))"
   ]
  },
  {
   "cell_type": "code",
   "execution_count": 35,
   "metadata": {},
   "outputs": [],
   "source": [
    "ones = np.ones_like(HS_array_Spsu_slicemean.flatten())"
   ]
  },
  {
   "cell_type": "code",
   "execution_count": 36,
   "metadata": {},
   "outputs": [],
   "source": [
    "HS_response_tup = mocsy.mvars(temp=HS_array_Tinsitu_slicemean.flatten(), sal=HS_array_Spsu_slicemean.flatten(), alk=HS_array_TA_slicemean.flatten(), \n",
    "                           dic=HS_array_DIC_slicemean.flatten(), \n",
    "                       sil=0.*ones, phos=0.*ones, patm=0.*ones, depth=0.*ones, lat=0.*ones, \n",
    "                        optcon='mol/m3', optt='Tinsitu', optp='m',\n",
    "                        optb = 'l10', optk1k2='m10', optkf = 'dg', optgas = 'Pinsitu')\n",
    "HS_pH,HS_pco2,HS_fco2,HS_co2,HS_hco3,HS_co3,HS_OmegaA,HS_OmegaC,HS_BetaD,HS_DENis,HS_p,HS_Tis = HS_response_tup"
   ]
  },
  {
   "cell_type": "code",
   "execution_count": null,
   "metadata": {},
   "outputs": [],
   "source": []
  },
  {
   "cell_type": "markdown",
   "metadata": {},
   "source": [
    "### Central Basin Puget Sound Slice"
   ]
  },
  {
   "cell_type": "code",
   "execution_count": 37,
   "metadata": {},
   "outputs": [],
   "source": [
    "#years, months, data\n",
    "PS_array_Tinsitu_slice = np.zeros([1,12,50,55])\n",
    "PS_array_Spsu_slice = np.zeros([1,12,50,55])\n",
    "PS_array_TA_slice = np.zeros([1,12,50,55])\n",
    "PS_array_DIC_slice = np.zeros([1,12,50,55])\n",
    "\n",
    "# Load monthly averages\n",
    "mask = xr.open_dataset('/data/eolson/results/MEOPAR/NEMO-forcing-new/grid/mesh_mask201702.nc')\n",
    "slc = {'y': slice(75,125), 'x': slice(225,280)}\n",
    "e3t, tmask = [mask[var].isel(z=slice(0,5),**slc).values for var in ('e3t_0', 'tmask')]\n",
    "years, variables = range(2015, 2016), ['Tinsitu','Spsu','TA','DIC']\n",
    "# Temporary list dict\n",
    "data = {}\n",
    "# Permanent aggregate dict\n",
    "monthlydat = {var: {} for var in variables}\n",
    "# Loop through years\n",
    "for year in [2015, 2016]:\n",
    "    # Initialize lists\n",
    "    for var in variables: data[var] = []\n",
    "    # Load monthly averages\n",
    "    for month in range(1, 13):\n",
    "        datestr = f'{year}{month:02d}'\n",
    "        prefix = f'/data/sallen/results/MEOPAR/v201905r_wrap/SalishSea_1m_{datestr}_{datestr}'\n",
    "        # Load grid variables\n",
    "        with xr.open_dataset(prefix + '_grid_T.nc') as ds:\n",
    "            q = (gsw.t_from_CT(ds.vosaline.isel(deptht=slice(0,5), **slc).values,ds.votemper.isel(deptht=slice(0,5), **slc).values,0))\n",
    "            q2 = q[:,0,:,:]\n",
    "            PS_array_Tinsitu_slice[0,month-1,:,:] = q2 \n",
    "            for var in ['Tinsitu']:\n",
    "                data[var].append(gsw.t_from_CT(ds.vosaline.isel(deptht=slice(0,5), **slc).values,ds.votemper.isel(deptht=slice(0,5), **slc).values,0))\n",
    "                \n",
    "        \n",
    "        with xr.open_dataset(prefix + '_grid_T.nc') as ds:\n",
    "            q = (ds.vosaline.isel(deptht=slice(0,5), **slc).values)*35/35.16504\n",
    "            q2 = q[:,0,:,:]\n",
    "            PS_array_Spsu_slice[0,month-1,:,:] = q2 \n",
    "            for var in ['Spsu']:\n",
    "                data[var].append((ds.vosaline.isel(deptht=slice(0,5), **slc).values)*35/35.16504)\n",
    "        \n",
    "        with xr.open_dataset(prefix + '_carp_T.nc') as ds:\n",
    "            q = (ds.total_alkalinity.isel(deptht=slice(0,5), **slc).values)/1000\n",
    "            q2 = q[:,0,:,:]\n",
    "            PS_array_TA_slice[0,month-1,:,:] = q2 \n",
    "            for var in ['TA']:\n",
    "                data[var].append((ds.total_alkalinity.isel(deptht=slice(0,5), **slc).values)/1000)\n",
    "        \n",
    "        \n",
    "        with xr.open_dataset(prefix + '_carp_T.nc') as ds:\n",
    "            q = (ds.dissolved_inorganic_carbon.isel(deptht=slice(0,5), **slc).values)/1000\n",
    "            q2 = q[:,0,:,:]\n",
    "            PS_array_DIC_slice[0,month-1,:,:] = q2 \n",
    "            for var in ['DIC']:\n",
    "                data[var].append((ds.dissolved_inorganic_carbon.isel(deptht=slice(0,5), **slc).values)/1000)\n",
    "        "
   ]
  },
  {
   "cell_type": "code",
   "execution_count": 38,
   "metadata": {},
   "outputs": [
    {
     "name": "stdout",
     "output_type": "stream",
     "text": [
      "(1, 12)\n"
     ]
    }
   ],
   "source": [
    "PS_array_Tinsitu_slice[PS_array_Tinsitu_slice == 0 ] = np.nan\n",
    "PS_array_Tinsitu_slicemean = \\\n",
    "np.nanmean(np.nanmean(PS_array_Tinsitu_slice, axis = 2),axis = 2)\n",
    "print(np.shape(PS_array_Tinsitu_slicemean))"
   ]
  },
  {
   "cell_type": "code",
   "execution_count": 39,
   "metadata": {},
   "outputs": [
    {
     "name": "stdout",
     "output_type": "stream",
     "text": [
      "(1, 12)\n"
     ]
    }
   ],
   "source": [
    "PS_array_Spsu_slice[PS_array_Spsu_slice == 0 ] = np.nan\n",
    "PS_array_Spsu_slicemean = \\\n",
    "np.nanmean(np.nanmean(PS_array_Spsu_slice, axis = 2),axis = 2)\n",
    "print(np.shape(PS_array_Spsu_slicemean))"
   ]
  },
  {
   "cell_type": "code",
   "execution_count": 40,
   "metadata": {},
   "outputs": [
    {
     "name": "stdout",
     "output_type": "stream",
     "text": [
      "(1, 12)\n"
     ]
    }
   ],
   "source": [
    "PS_array_TA_slice[PS_array_TA_slice == 0 ] = np.nan\n",
    "PS_array_TA_slicemean = \\\n",
    "np.nanmean(np.nanmean(PS_array_TA_slice, axis = 2),axis = 2)\n",
    "print(np.shape(PS_array_TA_slicemean))"
   ]
  },
  {
   "cell_type": "code",
   "execution_count": 41,
   "metadata": {},
   "outputs": [
    {
     "name": "stdout",
     "output_type": "stream",
     "text": [
      "(1, 12)\n"
     ]
    }
   ],
   "source": [
    "PS_array_DIC_slice[PS_array_DIC_slice == 0 ] = np.nan\n",
    "PS_array_DIC_slicemean = \\\n",
    "np.nanmean(np.nanmean(PS_array_DIC_slice, axis = 2),axis = 2)\n",
    "print(np.shape(PS_array_DIC_slicemean))"
   ]
  },
  {
   "cell_type": "code",
   "execution_count": 42,
   "metadata": {},
   "outputs": [],
   "source": [
    "ones = np.ones_like(PS_array_Spsu_slicemean.flatten())"
   ]
  },
  {
   "cell_type": "code",
   "execution_count": 43,
   "metadata": {},
   "outputs": [],
   "source": [
    "PS_response_tup = mocsy.mvars(temp=PS_array_Tinsitu_slicemean.flatten(), sal=PS_array_Spsu_slicemean.flatten(), alk=PS_array_TA_slicemean.flatten(), \n",
    "                           dic=PS_array_DIC_slicemean.flatten(), \n",
    "                       sil=0.*ones, phos=0.*ones, patm=0.*ones, depth=0.*ones, lat=0.*ones, \n",
    "                        optcon='mol/m3', optt='Tinsitu', optp='m',\n",
    "                        optb = 'l10', optk1k2='m10', optkf = 'dg', optgas = 'Pinsitu')\n",
    "PS_pH,PS_pco2,PS_fco2,PS_co2,PS_hco3,PS_co3,PS_OmegaA,PS_OmegaC,PS_BetaD,PS_DENis,PS_p,PS_Tis = PS_response_tup"
   ]
  },
  {
   "cell_type": "code",
   "execution_count": null,
   "metadata": {},
   "outputs": [],
   "source": []
  },
  {
   "cell_type": "code",
   "execution_count": 72,
   "metadata": {},
   "outputs": [
    {
     "data": {
      "text/plain": [
       "<matplotlib.legend.Legend at 0x7fa2af70f580>"
      ]
     },
     "execution_count": 72,
     "metadata": {},
     "output_type": "execute_result"
    },
    {
     "data": {
      "image/png": "[encoded data removed]",
      "text/plain": [
       "<Figure size 500x500 with 1 Axes>"
      ]
     },
     "metadata": {},
     "output_type": "display_data"
    }
   ],
   "source": [
    "\n",
    "fig, ax = plt.subplots(figsize=(5,5))\n",
    "bbox = {'boxstyle': 'round', 'facecolor': 'w', 'alpha': 0.9}\n",
    "cmap = plt.get_cmap('tab10')\n",
    "palette = [cmap(0), cmap(0.2), 'k', cmap(0.1), cmap(0.3)]\n",
    "ax.scatter(C_Tis, C_pH,label='Central SoG',color='skyblue')\n",
    "ax.scatter(NSoG_Tis, NSoG_pH,label='Northern SoG',color='darkcyan',marker='^')\n",
    "ax.scatter(SSoG_Tis, SSoG_pH,label='Southern SoG',marker='s')\n",
    "ax.scatter(HS_Tis, HS_pH,label='Haro Strait',color='fuchsia',marker='v')\n",
    "ax.scatter(JdF_Tis, JdF_pH,label='Juan de Fuca Strait',color='salmon',marker='D')\n",
    "ax.scatter(PS_Tis, PS_pH,label='Puget Sound',color='darkviolet',marker='*')\n",
    "ax.set_xlim(0,20)\n",
    "ax.set_ylim(7.5,8.5)\n",
    "ax.set_xlabel('Temperature')\n",
    "ax.set_ylabel('pH')\n",
    "ax.set_title('Salish Sea 2015')\n",
    "ax.legend(frameon=False,loc='center left',bbox_to_anchor=(1, 0.5))    "
   ]
  },
  {
   "cell_type": "code",
   "execution_count": 73,
   "metadata": {},
   "outputs": [
    {
     "data": {
      "image/png": "[encoded data removed]",
      "text/plain": [
       "<Figure size 700x500 with 4 Axes>"
      ]
     },
     "metadata": {},
     "output_type": "display_data"
    }
   ],
   "source": [
    "fig, ax = plt.subplots(2,2,figsize=(7,5))\n",
    "bbox = {'boxstyle': 'round', 'facecolor': 'w', 'alpha': 0.9}\n",
    "cmap = plt.get_cmap('tab10')\n",
    "palette = [cmap(0), cmap(0.2), 'k', cmap(0.1), cmap(0.3)]\n",
    "plt.subplots_adjust(left=0.2,\n",
    "                    bottom=0.2,\n",
    "                    right=0.9,\n",
    "                    top=1,\n",
    "                    wspace=0.4,\n",
    "                    hspace=0.6)\n",
    "\n",
    "for i in range (0,3):\n",
    "    ax[0,0].scatter(C_Tis[i], C_pH[i],label='Central SoG',color='skyblue')\n",
    "    ax[0,0].scatter(NSoG_Tis[i], NSoG_pH[i],label='Northern SoG',color='darkcyan',marker='^')\n",
    "    ax[0,0].scatter(SSoG_Tis[i], SSoG_pH[i],label='Southern SoG',marker='s')\n",
    "    ax[0,0].scatter(HS_Tis[i], HS_pH[i],label='Haro Strait',color='fuchsia',marker='v')\n",
    "    ax[0,0].scatter(JdF_Tis[i], JdF_pH[i],label='Juan de Fuca Strait',color='salmon',marker='D')\n",
    "    ax[0,0].scatter(PS_Tis[i], PS_pH[i],label='Puget Sound',color='darkviolet',marker='*')\n",
    "    ax[0,0].set_xlim(0,20)\n",
    "    ax[0,0].set_ylim(7.5,8.5)\n",
    "    ax[0,0].set_xlabel('Temperature')\n",
    "    ax[0,0].set_ylabel('pH')\n",
    "    ax[0,0].set_title('January - March')\n",
    "    ax[0,0].legend((),frameon=False,loc='center left',bbox_to_anchor=(1, 0.5))  \n",
    "\n",
    "for i in range (3,6):\n",
    "    ax[0,1].scatter(C_Tis[i], C_pH[i],label='Central SoG',color='skyblue')\n",
    "    ax[0,1].scatter(NSoG_Tis[i], NSoG_pH[i],label='Northern SoG',color='darkcyan',marker='^')\n",
    "    ax[0,1].scatter(SSoG_Tis[i], SSoG_pH[i],label='Southern SoG',marker='s')\n",
    "    ax[0,1].scatter(HS_Tis[i], HS_pH[i],label='Haro Strait',color='fuchsia',marker='v')\n",
    "    ax[0,1].scatter(JdF_Tis[i], JdF_pH[i],label='Juan de Fuca Strait',color='salmon',marker='D')\n",
    "    ax[0,1].scatter(PS_Tis[i], PS_pH[i],label='Puget Sound',color='darkviolet',marker='*')\n",
    "    ax[0,1].set_xlim(0,20)\n",
    "    ax[0,1].set_ylim(7.5,8.5)\n",
    "    ax[0,1].set_xlabel('Temperature')\n",
    "    ax[0,1].set_ylabel('pH')\n",
    "    ax[0,1].set_title('April - June')\n",
    "    ax[0,1].legend((),frameon=False,loc='center left',bbox_to_anchor=(1, 0.5)) \n",
    "    \n",
    "\n",
    "for i in range (6,8):\n",
    "    ax[1,0].scatter(C_Tis[i], C_pH[i],label='Central SoG',color='skyblue')\n",
    "    ax[1,0].scatter(NSoG_Tis[i], NSoG_pH[i],label='Northern SoG',color='darkcyan',marker='^')\n",
    "    ax[1,0].scatter(SSoG_Tis[i], SSoG_pH[i],label='Southern SoG',marker='s')\n",
    "    ax[1,0].scatter(HS_Tis[i], HS_pH[i],label='Haro Strait',color='fuchsia',marker='v')\n",
    "    ax[1,0].scatter(JdF_Tis[i], JdF_pH[i],label='Juan de Fuca Strait',color='salmon',marker='D')\n",
    "    ax[1,0].scatter(PS_Tis[i], PS_pH[i],label='Puget Sound',color='darkviolet',marker='*')\n",
    "    ax[1,0].set_xlim(0,20)\n",
    "    ax[1,0].set_ylim(7.5,8.5)\n",
    "    ax[1,0].set_xlabel('Temperature')\n",
    "    ax[1,0].set_ylabel('pH')\n",
    "    ax[1,0].set_title('July - September')\n",
    "    ax[1,0].legend((),frameon=False,loc='center left',bbox_to_anchor=(1, 0.5)) \n",
    "\n",
    "for i in range (8,12):\n",
    "    ax[1,1].scatter(C_Tis[i], C_pH[i],label='Central SoG',color='skyblue')\n",
    "    ax[1,1].scatter(NSoG_Tis[i], NSoG_pH[i],label='Northern SoG',color='darkcyan',marker='^')\n",
    "    ax[1,1].scatter(SSoG_Tis[i], SSoG_pH[i],label='Southern SoG',marker='s')\n",
    "    ax[1,1].scatter(HS_Tis[i], HS_pH[i],label='Haro Strait',color='fuchsia',marker='v')\n",
    "    ax[1,1].scatter(JdF_Tis[i], JdF_pH[i],label='Juan de Fuca Strait',color='salmon',marker='D')\n",
    "    ax[1,1].scatter(PS_Tis[i], PS_pH[i],label='Puget Sound',color='darkviolet',marker='*')\n",
    "    ax[1,1].set_xlim(0,20)\n",
    "    ax[1,1].set_ylim(7.5,8.5)\n",
    "    ax[1,1].set_xlabel('Temperature')\n",
    "    ax[1,1].set_ylabel('pH')\n",
    "    ax[1,1].set_title('October - December')\n",
    "    ax[1,1].legend((),frameon=False,loc='center left',bbox_to_anchor=(1, 0.5))\n",
    "\n"
   ]
  },
  {
   "cell_type": "code",
   "execution_count": 74,
   "metadata": {},
   "outputs": [
    {
     "data": {
      "text/plain": [
       "<matplotlib.legend.Legend at 0x7fa2b40ad040>"
      ]
     },
     "execution_count": 74,
     "metadata": {},
     "output_type": "execute_result"
    },
    {
     "data": {
      "image/png": "[encoded data removed]",
      "text/plain": [
       "<Figure size 500x500 with 1 Axes>"
      ]
     },
     "metadata": {},
     "output_type": "display_data"
    }
   ],
   "source": [
    "fig, ax = plt.subplots(figsize=(5,5))\n",
    "bbox = {'boxstyle': 'round', 'facecolor': 'w', 'alpha': 0.9}\n",
    "cmap = plt.get_cmap('tab10')\n",
    "palette = [cmap(0), cmap(0.2), 'k', cmap(0.1), cmap(0.3)]\n",
    "\n",
    "Li_x=[20,20,20,20,20,20,20]\n",
    "Li_y=[9.02,8.83,8.63,8.44,8.16,7.93,7.63]\n",
    "\n",
    "Her_x=[19,19,19,19,19,19]\n",
    "Her_y=[6.4,6.8,7.3,7.8,8.2,8.5]\n",
    "\n",
    "TM_x=[13,13,13,13,13,13,13]\n",
    "TM_y=[6.5,7,7.5,8,8.5,9,9.4]\n",
    "\n",
    "Th_x=[20,20,20,20]\n",
    "Th_y=[6.8,7.4,7.9,8.2]\n",
    "\n",
    "\n",
    "ax.scatter(C_Tis, C_pH,label='Central SoG',color='skyblue')\n",
    "ax.scatter(NSoG_Tis, NSoG_pH,label='Northern SoG',color='darkcyan',marker='^')\n",
    "ax.scatter(SSoG_Tis, SSoG_pH,label='Southern SoG',marker='s')\n",
    "ax.scatter(HS_Tis, HS_pH,label='Haro Strait',color='fuchsia',marker='v')\n",
    "ax.scatter(JdF_Tis, JdF_pH,label='Juan de Fuca Strait',color='salmon',marker='D')\n",
    "ax.scatter(PS_Tis, PS_pH,label='Puget Sound',color='darkviolet',marker='*')\n",
    "\n",
    "ax.scatter(Li_x, Li_y,label='Li et al. 2019',color='k',marker='*')\n",
    "ax.scatter(Her_x, Her_y,label='Herve et al. 2012',color='k',marker='s')\n",
    "ax.scatter(TM_x, TM_y,label='Taraldsvik & Myklestand 2000',color='k',marker='D')\n",
    "ax.scatter(Th_x, Th_y,label='Thornton 2009',color='k',marker='^')\n",
    "\n",
    "ax.set_xlim(0,25)\n",
    "ax.set_ylim(6,9.5)\n",
    "ax.set_xlabel('Temperature')\n",
    "ax.set_ylabel('pH')\n",
    "ax.legend(frameon=False,loc='center left',bbox_to_anchor=(1, 0.5))    "
   ]
  },
  {
   "cell_type": "code",
   "execution_count": null,
   "metadata": {},
   "outputs": [],
   "source": []
  }
 ],
 "metadata": {
  "kernelspec": {
   "display_name": "Python (py39)",
   "language": "python",
   "name": "py39"
  },
  "language_info": {
   "codemirror_mode": {
    "name": "ipython",
    "version": 3
   },
   "file_extension": ".py",
   "mimetype": "text/x-python",
   "name": "python",
   "nbconvert_exporter": "python",
   "pygments_lexer": "ipython3",
   "version": "3.9.15"
  }
 },
 "nbformat": 4,
 "nbformat_minor": 4
}
